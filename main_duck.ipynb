{
 "cells": [
  {
   "cell_type": "markdown",
   "metadata": {},
   "source": [
    "# **Are company providing sufficient mental health support?**\n"
   ]
  },
  {
   "cell_type": "markdown",
   "metadata": {},
   "source": [
    "![Mental Health](src/pic/pic.png)\n"
   ]
  },
  {
   "cell_type": "markdown",
   "metadata": {},
   "source": [
    "Mental health is essential because it affects every aspect of our lives, from how we think and feel to how we interact with others and handle challenges. Good mental health enables us to cope with stress, build healthy relationships, and make meaningful contributions to our communities. Prioritizing mental health promotes overall well-being, boosts productivity, and enhances quality of life. Ignoring it can lead to serious emotional, physical, and social consequences. Taking care of our mental health is not just self-care; it’s a foundation for living a balanced and fulfilling life.\n"
   ]
  },
  {
   "cell_type": "markdown",
   "metadata": {},
   "source": [
    "---\n"
   ]
  },
  {
   "cell_type": "code",
   "execution_count": 1,
   "metadata": {},
   "outputs": [],
   "source": [
    "import sqlite3\n",
    "from math import sqrt\n",
    "import duckdb\n",
    "import pandas as pd\n",
    "import plotly.express as px\n",
    "import plotly.graph_objects as go"
   ]
  },
  {
   "cell_type": "code",
   "execution_count": 2,
   "metadata": {},
   "outputs": [],
   "source": [
    "from src.func.chart_functions import bar_chart, histogram_chart, histogram_chart_color"
   ]
  },
  {
   "cell_type": "markdown",
   "metadata": {},
   "source": [
    "# **Connect to DB**\n"
   ]
  },
  {
   "cell_type": "code",
   "execution_count": 3,
   "metadata": {},
   "outputs": [],
   "source": [
    "conn = sqlite3.connect(\"src/db/mental_health.sqlite\")\n",
    "df = pd.read_sql(\n",
    "    \"\"\"\n",
    "                SELECT \n",
    "                    a.UserID\n",
    "                    , a.SurveyID AS 'Year'\n",
    "                    , a.QuestionID \n",
    "                    , q.questiontext \n",
    "                    , a.AnswerText \n",
    "\n",
    "                FROM Answer AS a \n",
    "                    LEFT JOIN Question AS q \n",
    "                    ON a.questionid = q.questionid;\"\"\",\n",
    "    conn,\n",
    ")"
   ]
  },
  {
   "cell_type": "markdown",
   "metadata": {},
   "source": [
    "# **EDA**\n"
   ]
  },
  {
   "cell_type": "markdown",
   "metadata": {},
   "source": [
    "## **Explore Dataset**\n"
   ]
  },
  {
   "cell_type": "code",
   "execution_count": 4,
   "metadata": {},
   "outputs": [
    {
     "data": {
      "text/plain": [
       "(236898, 5)"
      ]
     },
     "execution_count": 4,
     "metadata": {},
     "output_type": "execute_result"
    }
   ],
   "source": [
    "df.shape"
   ]
  },
  {
   "cell_type": "code",
   "execution_count": 5,
   "metadata": {},
   "outputs": [
    {
     "data": {
      "text/plain": [
       "Index(['UserID', 'Year', 'QuestionID', 'questiontext', 'AnswerText'], dtype='object')"
      ]
     },
     "execution_count": 5,
     "metadata": {},
     "output_type": "execute_result"
    }
   ],
   "source": [
    "df.columns"
   ]
  },
  {
   "cell_type": "code",
   "execution_count": 6,
   "metadata": {},
   "outputs": [
    {
     "name": "stdout",
     "output_type": "stream",
     "text": [
      "<class 'pandas.core.frame.DataFrame'>\n",
      "RangeIndex: 236898 entries, 0 to 236897\n",
      "Data columns (total 5 columns):\n",
      " #   Column        Non-Null Count   Dtype \n",
      "---  ------        --------------   ----- \n",
      " 0   UserID        236898 non-null  int64 \n",
      " 1   Year          236898 non-null  int64 \n",
      " 2   QuestionID    236898 non-null  int64 \n",
      " 3   questiontext  236898 non-null  object\n",
      " 4   AnswerText    236898 non-null  object\n",
      "dtypes: int64(3), object(2)\n",
      "memory usage: 9.0+ MB\n"
     ]
    }
   ],
   "source": [
    "df.info()"
   ]
  },
  {
   "cell_type": "code",
   "execution_count": 7,
   "metadata": {},
   "outputs": [
    {
     "data": {
      "text/html": [
       "<div>\n",
       "<style scoped>\n",
       "    .dataframe tbody tr th:only-of-type {\n",
       "        vertical-align: middle;\n",
       "    }\n",
       "\n",
       "    .dataframe tbody tr th {\n",
       "        vertical-align: top;\n",
       "    }\n",
       "\n",
       "    .dataframe thead th {\n",
       "        text-align: right;\n",
       "    }\n",
       "</style>\n",
       "<table border=\"1\" class=\"dataframe\">\n",
       "  <thead>\n",
       "    <tr style=\"text-align: right;\">\n",
       "      <th></th>\n",
       "      <th>UserID</th>\n",
       "      <th>Year</th>\n",
       "      <th>QuestionID</th>\n",
       "    </tr>\n",
       "  </thead>\n",
       "  <tbody>\n",
       "    <tr>\n",
       "      <th>count</th>\n",
       "      <td>236898.00</td>\n",
       "      <td>236898.00</td>\n",
       "      <td>236898.00</td>\n",
       "    </tr>\n",
       "    <tr>\n",
       "      <th>mean</th>\n",
       "      <td>2514.52</td>\n",
       "      <td>2016.57</td>\n",
       "      <td>48.66</td>\n",
       "    </tr>\n",
       "    <tr>\n",
       "      <th>std</th>\n",
       "      <td>1099.46</td>\n",
       "      <td>1.42</td>\n",
       "      <td>36.13</td>\n",
       "    </tr>\n",
       "    <tr>\n",
       "      <th>min</th>\n",
       "      <td>1.00</td>\n",
       "      <td>2014.00</td>\n",
       "      <td>1.00</td>\n",
       "    </tr>\n",
       "    <tr>\n",
       "      <th>25%</th>\n",
       "      <td>1691.00</td>\n",
       "      <td>2016.00</td>\n",
       "      <td>15.00</td>\n",
       "    </tr>\n",
       "    <tr>\n",
       "      <th>50%</th>\n",
       "      <td>2652.00</td>\n",
       "      <td>2016.00</td>\n",
       "      <td>48.00</td>\n",
       "    </tr>\n",
       "    <tr>\n",
       "      <th>75%</th>\n",
       "      <td>3439.00</td>\n",
       "      <td>2017.00</td>\n",
       "      <td>80.00</td>\n",
       "    </tr>\n",
       "    <tr>\n",
       "      <th>max</th>\n",
       "      <td>4218.00</td>\n",
       "      <td>2019.00</td>\n",
       "      <td>118.00</td>\n",
       "    </tr>\n",
       "  </tbody>\n",
       "</table>\n",
       "</div>"
      ],
      "text/plain": [
       "          UserID       Year  QuestionID\n",
       "count  236898.00  236898.00   236898.00\n",
       "mean     2514.52    2016.57       48.66\n",
       "std      1099.46       1.42       36.13\n",
       "min         1.00    2014.00        1.00\n",
       "25%      1691.00    2016.00       15.00\n",
       "50%      2652.00    2016.00       48.00\n",
       "75%      3439.00    2017.00       80.00\n",
       "max      4218.00    2019.00      118.00"
      ]
     },
     "execution_count": 7,
     "metadata": {},
     "output_type": "execute_result"
    }
   ],
   "source": [
    "df.describe().round(2)"
   ]
  },
  {
   "cell_type": "code",
   "execution_count": 8,
   "metadata": {},
   "outputs": [
    {
     "data": {
      "text/plain": [
       "UserID          0\n",
       "Year            0\n",
       "QuestionID      0\n",
       "questiontext    0\n",
       "AnswerText      0\n",
       "dtype: int64"
      ]
     },
     "execution_count": 8,
     "metadata": {},
     "output_type": "execute_result"
    }
   ],
   "source": [
    "df.isna().sum()"
   ]
  },
  {
   "cell_type": "code",
   "execution_count": 9,
   "metadata": {},
   "outputs": [
    {
     "data": {
      "text/plain": [
       "0"
      ]
     },
     "execution_count": 9,
     "metadata": {},
     "output_type": "execute_result"
    }
   ],
   "source": [
    "df.duplicated().sum()"
   ]
  },
  {
   "cell_type": "markdown",
   "metadata": {},
   "source": [
    "## **Understanding the Respondents**\n"
   ]
  },
  {
   "cell_type": "markdown",
   "metadata": {},
   "source": [
    "### **How many users was in each year**\n"
   ]
  },
  {
   "cell_type": "code",
   "execution_count": 10,
   "metadata": {},
   "outputs": [],
   "source": [
    "users_df = duckdb.sql(\n",
    "    \"\"\"\n",
    "    SELECT \n",
    "        DISTINCT Year, \n",
    "        count(DISTINCT UserID) AS 'Qty Users'\n",
    "    FROM df\n",
    "    GROUP BY Year\n",
    "\"\"\"\n",
    ").to_df()"
   ]
  },
  {
   "cell_type": "code",
   "execution_count": 11,
   "metadata": {},
   "outputs": [
    {
     "data": {
      "application/vnd.plotly.v1+json": {
       "config": {
        "plotlyServerURL": "https://plot.ly"
       },
       "data": [
        {
         "alignmentgroup": "True",
         "hovertemplate": "Year=%{x}<br>Qty Users=%{y}<extra></extra>",
         "legendgroup": "",
         "marker": {
          "color": "#e6cea0",
          "pattern": {
           "shape": ""
          }
         },
         "name": "",
         "offsetgroup": "",
         "orientation": "v",
         "showlegend": false,
         "textposition": "auto",
         "texttemplate": "%{y}",
         "type": "bar",
         "x": [
          2018,
          2016,
          2014,
          2019,
          2017
         ],
         "xaxis": "x",
         "y": [
          417,
          1433,
          1260,
          352,
          756
         ],
         "yaxis": "y"
        }
       ],
       "layout": {
        "barmode": "relative",
        "height": 300,
        "legend": {
         "tracegroupgap": 0
        },
        "template": {
         "data": {
          "bar": [
           {
            "error_x": {
             "color": "#2a3f5f"
            },
            "error_y": {
             "color": "#2a3f5f"
            },
            "marker": {
             "line": {
              "color": "white",
              "width": 0.5
             },
             "pattern": {
              "fillmode": "overlay",
              "size": 10,
              "solidity": 0.2
             }
            },
            "type": "bar"
           }
          ],
          "barpolar": [
           {
            "marker": {
             "line": {
              "color": "white",
              "width": 0.5
             },
             "pattern": {
              "fillmode": "overlay",
              "size": 10,
              "solidity": 0.2
             }
            },
            "type": "barpolar"
           }
          ],
          "carpet": [
           {
            "aaxis": {
             "endlinecolor": "#2a3f5f",
             "gridcolor": "#C8D4E3",
             "linecolor": "#C8D4E3",
             "minorgridcolor": "#C8D4E3",
             "startlinecolor": "#2a3f5f"
            },
            "baxis": {
             "endlinecolor": "#2a3f5f",
             "gridcolor": "#C8D4E3",
             "linecolor": "#C8D4E3",
             "minorgridcolor": "#C8D4E3",
             "startlinecolor": "#2a3f5f"
            },
            "type": "carpet"
           }
          ],
          "choropleth": [
           {
            "colorbar": {
             "outlinewidth": 0,
             "ticks": ""
            },
            "type": "choropleth"
           }
          ],
          "contour": [
           {
            "colorbar": {
             "outlinewidth": 0,
             "ticks": ""
            },
            "colorscale": [
             [
              0,
              "#0d0887"
             ],
             [
              0.1111111111111111,
              "#46039f"
             ],
             [
              0.2222222222222222,
              "#7201a8"
             ],
             [
              0.3333333333333333,
              "#9c179e"
             ],
             [
              0.4444444444444444,
              "#bd3786"
             ],
             [
              0.5555555555555556,
              "#d8576b"
             ],
             [
              0.6666666666666666,
              "#ed7953"
             ],
             [
              0.7777777777777778,
              "#fb9f3a"
             ],
             [
              0.8888888888888888,
              "#fdca26"
             ],
             [
              1,
              "#f0f921"
             ]
            ],
            "type": "contour"
           }
          ],
          "contourcarpet": [
           {
            "colorbar": {
             "outlinewidth": 0,
             "ticks": ""
            },
            "type": "contourcarpet"
           }
          ],
          "heatmap": [
           {
            "colorbar": {
             "outlinewidth": 0,
             "ticks": ""
            },
            "colorscale": [
             [
              0,
              "#0d0887"
             ],
             [
              0.1111111111111111,
              "#46039f"
             ],
             [
              0.2222222222222222,
              "#7201a8"
             ],
             [
              0.3333333333333333,
              "#9c179e"
             ],
             [
              0.4444444444444444,
              "#bd3786"
             ],
             [
              0.5555555555555556,
              "#d8576b"
             ],
             [
              0.6666666666666666,
              "#ed7953"
             ],
             [
              0.7777777777777778,
              "#fb9f3a"
             ],
             [
              0.8888888888888888,
              "#fdca26"
             ],
             [
              1,
              "#f0f921"
             ]
            ],
            "type": "heatmap"
           }
          ],
          "heatmapgl": [
           {
            "colorbar": {
             "outlinewidth": 0,
             "ticks": ""
            },
            "colorscale": [
             [
              0,
              "#0d0887"
             ],
             [
              0.1111111111111111,
              "#46039f"
             ],
             [
              0.2222222222222222,
              "#7201a8"
             ],
             [
              0.3333333333333333,
              "#9c179e"
             ],
             [
              0.4444444444444444,
              "#bd3786"
             ],
             [
              0.5555555555555556,
              "#d8576b"
             ],
             [
              0.6666666666666666,
              "#ed7953"
             ],
             [
              0.7777777777777778,
              "#fb9f3a"
             ],
             [
              0.8888888888888888,
              "#fdca26"
             ],
             [
              1,
              "#f0f921"
             ]
            ],
            "type": "heatmapgl"
           }
          ],
          "histogram": [
           {
            "marker": {
             "pattern": {
              "fillmode": "overlay",
              "size": 10,
              "solidity": 0.2
             }
            },
            "type": "histogram"
           }
          ],
          "histogram2d": [
           {
            "colorbar": {
             "outlinewidth": 0,
             "ticks": ""
            },
            "colorscale": [
             [
              0,
              "#0d0887"
             ],
             [
              0.1111111111111111,
              "#46039f"
             ],
             [
              0.2222222222222222,
              "#7201a8"
             ],
             [
              0.3333333333333333,
              "#9c179e"
             ],
             [
              0.4444444444444444,
              "#bd3786"
             ],
             [
              0.5555555555555556,
              "#d8576b"
             ],
             [
              0.6666666666666666,
              "#ed7953"
             ],
             [
              0.7777777777777778,
              "#fb9f3a"
             ],
             [
              0.8888888888888888,
              "#fdca26"
             ],
             [
              1,
              "#f0f921"
             ]
            ],
            "type": "histogram2d"
           }
          ],
          "histogram2dcontour": [
           {
            "colorbar": {
             "outlinewidth": 0,
             "ticks": ""
            },
            "colorscale": [
             [
              0,
              "#0d0887"
             ],
             [
              0.1111111111111111,
              "#46039f"
             ],
             [
              0.2222222222222222,
              "#7201a8"
             ],
             [
              0.3333333333333333,
              "#9c179e"
             ],
             [
              0.4444444444444444,
              "#bd3786"
             ],
             [
              0.5555555555555556,
              "#d8576b"
             ],
             [
              0.6666666666666666,
              "#ed7953"
             ],
             [
              0.7777777777777778,
              "#fb9f3a"
             ],
             [
              0.8888888888888888,
              "#fdca26"
             ],
             [
              1,
              "#f0f921"
             ]
            ],
            "type": "histogram2dcontour"
           }
          ],
          "mesh3d": [
           {
            "colorbar": {
             "outlinewidth": 0,
             "ticks": ""
            },
            "type": "mesh3d"
           }
          ],
          "parcoords": [
           {
            "line": {
             "colorbar": {
              "outlinewidth": 0,
              "ticks": ""
             }
            },
            "type": "parcoords"
           }
          ],
          "pie": [
           {
            "automargin": true,
            "type": "pie"
           }
          ],
          "scatter": [
           {
            "fillpattern": {
             "fillmode": "overlay",
             "size": 10,
             "solidity": 0.2
            },
            "type": "scatter"
           }
          ],
          "scatter3d": [
           {
            "line": {
             "colorbar": {
              "outlinewidth": 0,
              "ticks": ""
             }
            },
            "marker": {
             "colorbar": {
              "outlinewidth": 0,
              "ticks": ""
             }
            },
            "type": "scatter3d"
           }
          ],
          "scattercarpet": [
           {
            "marker": {
             "colorbar": {
              "outlinewidth": 0,
              "ticks": ""
             }
            },
            "type": "scattercarpet"
           }
          ],
          "scattergeo": [
           {
            "marker": {
             "colorbar": {
              "outlinewidth": 0,
              "ticks": ""
             }
            },
            "type": "scattergeo"
           }
          ],
          "scattergl": [
           {
            "marker": {
             "colorbar": {
              "outlinewidth": 0,
              "ticks": ""
             }
            },
            "type": "scattergl"
           }
          ],
          "scattermapbox": [
           {
            "marker": {
             "colorbar": {
              "outlinewidth": 0,
              "ticks": ""
             }
            },
            "type": "scattermapbox"
           }
          ],
          "scatterpolar": [
           {
            "marker": {
             "colorbar": {
              "outlinewidth": 0,
              "ticks": ""
             }
            },
            "type": "scatterpolar"
           }
          ],
          "scatterpolargl": [
           {
            "marker": {
             "colorbar": {
              "outlinewidth": 0,
              "ticks": ""
             }
            },
            "type": "scatterpolargl"
           }
          ],
          "scatterternary": [
           {
            "marker": {
             "colorbar": {
              "outlinewidth": 0,
              "ticks": ""
             }
            },
            "type": "scatterternary"
           }
          ],
          "surface": [
           {
            "colorbar": {
             "outlinewidth": 0,
             "ticks": ""
            },
            "colorscale": [
             [
              0,
              "#0d0887"
             ],
             [
              0.1111111111111111,
              "#46039f"
             ],
             [
              0.2222222222222222,
              "#7201a8"
             ],
             [
              0.3333333333333333,
              "#9c179e"
             ],
             [
              0.4444444444444444,
              "#bd3786"
             ],
             [
              0.5555555555555556,
              "#d8576b"
             ],
             [
              0.6666666666666666,
              "#ed7953"
             ],
             [
              0.7777777777777778,
              "#fb9f3a"
             ],
             [
              0.8888888888888888,
              "#fdca26"
             ],
             [
              1,
              "#f0f921"
             ]
            ],
            "type": "surface"
           }
          ],
          "table": [
           {
            "cells": {
             "fill": {
              "color": "#EBF0F8"
             },
             "line": {
              "color": "white"
             }
            },
            "header": {
             "fill": {
              "color": "#C8D4E3"
             },
             "line": {
              "color": "white"
             }
            },
            "type": "table"
           }
          ]
         },
         "layout": {
          "annotationdefaults": {
           "arrowcolor": "#2a3f5f",
           "arrowhead": 0,
           "arrowwidth": 1
          },
          "autotypenumbers": "strict",
          "coloraxis": {
           "colorbar": {
            "outlinewidth": 0,
            "ticks": ""
           }
          },
          "colorscale": {
           "diverging": [
            [
             0,
             "#8e0152"
            ],
            [
             0.1,
             "#c51b7d"
            ],
            [
             0.2,
             "#de77ae"
            ],
            [
             0.3,
             "#f1b6da"
            ],
            [
             0.4,
             "#fde0ef"
            ],
            [
             0.5,
             "#f7f7f7"
            ],
            [
             0.6,
             "#e6f5d0"
            ],
            [
             0.7,
             "#b8e186"
            ],
            [
             0.8,
             "#7fbc41"
            ],
            [
             0.9,
             "#4d9221"
            ],
            [
             1,
             "#276419"
            ]
           ],
           "sequential": [
            [
             0,
             "#0d0887"
            ],
            [
             0.1111111111111111,
             "#46039f"
            ],
            [
             0.2222222222222222,
             "#7201a8"
            ],
            [
             0.3333333333333333,
             "#9c179e"
            ],
            [
             0.4444444444444444,
             "#bd3786"
            ],
            [
             0.5555555555555556,
             "#d8576b"
            ],
            [
             0.6666666666666666,
             "#ed7953"
            ],
            [
             0.7777777777777778,
             "#fb9f3a"
            ],
            [
             0.8888888888888888,
             "#fdca26"
            ],
            [
             1,
             "#f0f921"
            ]
           ],
           "sequentialminus": [
            [
             0,
             "#0d0887"
            ],
            [
             0.1111111111111111,
             "#46039f"
            ],
            [
             0.2222222222222222,
             "#7201a8"
            ],
            [
             0.3333333333333333,
             "#9c179e"
            ],
            [
             0.4444444444444444,
             "#bd3786"
            ],
            [
             0.5555555555555556,
             "#d8576b"
            ],
            [
             0.6666666666666666,
             "#ed7953"
            ],
            [
             0.7777777777777778,
             "#fb9f3a"
            ],
            [
             0.8888888888888888,
             "#fdca26"
            ],
            [
             1,
             "#f0f921"
            ]
           ]
          },
          "colorway": [
           "#636efa",
           "#EF553B",
           "#00cc96",
           "#ab63fa",
           "#FFA15A",
           "#19d3f3",
           "#FF6692",
           "#B6E880",
           "#FF97FF",
           "#FECB52"
          ],
          "font": {
           "color": "#2a3f5f"
          },
          "geo": {
           "bgcolor": "white",
           "lakecolor": "white",
           "landcolor": "white",
           "showlakes": true,
           "showland": true,
           "subunitcolor": "#C8D4E3"
          },
          "hoverlabel": {
           "align": "left"
          },
          "hovermode": "closest",
          "mapbox": {
           "style": "light"
          },
          "paper_bgcolor": "white",
          "plot_bgcolor": "white",
          "polar": {
           "angularaxis": {
            "gridcolor": "#EBF0F8",
            "linecolor": "#EBF0F8",
            "ticks": ""
           },
           "bgcolor": "white",
           "radialaxis": {
            "gridcolor": "#EBF0F8",
            "linecolor": "#EBF0F8",
            "ticks": ""
           }
          },
          "scene": {
           "xaxis": {
            "backgroundcolor": "white",
            "gridcolor": "#DFE8F3",
            "gridwidth": 2,
            "linecolor": "#EBF0F8",
            "showbackground": true,
            "ticks": "",
            "zerolinecolor": "#EBF0F8"
           },
           "yaxis": {
            "backgroundcolor": "white",
            "gridcolor": "#DFE8F3",
            "gridwidth": 2,
            "linecolor": "#EBF0F8",
            "showbackground": true,
            "ticks": "",
            "zerolinecolor": "#EBF0F8"
           },
           "zaxis": {
            "backgroundcolor": "white",
            "gridcolor": "#DFE8F3",
            "gridwidth": 2,
            "linecolor": "#EBF0F8",
            "showbackground": true,
            "ticks": "",
            "zerolinecolor": "#EBF0F8"
           }
          },
          "shapedefaults": {
           "line": {
            "color": "#2a3f5f"
           }
          },
          "ternary": {
           "aaxis": {
            "gridcolor": "#DFE8F3",
            "linecolor": "#A2B1C6",
            "ticks": ""
           },
           "baxis": {
            "gridcolor": "#DFE8F3",
            "linecolor": "#A2B1C6",
            "ticks": ""
           },
           "bgcolor": "white",
           "caxis": {
            "gridcolor": "#DFE8F3",
            "linecolor": "#A2B1C6",
            "ticks": ""
           }
          },
          "title": {
           "x": 0.05
          },
          "xaxis": {
           "automargin": true,
           "gridcolor": "#EBF0F8",
           "linecolor": "#EBF0F8",
           "ticks": "",
           "title": {
            "standoff": 15
           },
           "zerolinecolor": "#EBF0F8",
           "zerolinewidth": 2
          },
          "yaxis": {
           "automargin": true,
           "gridcolor": "#EBF0F8",
           "linecolor": "#EBF0F8",
           "ticks": "",
           "title": {
            "standoff": 15
           },
           "zerolinecolor": "#EBF0F8",
           "zerolinewidth": 2
          }
         }
        },
        "title": {
         "text": "Unique Users by Year"
        },
        "width": 1200,
        "xaxis": {
         "anchor": "y",
         "domain": [
          0,
          1
         ],
         "title": {
          "text": "Year"
         }
        },
        "yaxis": {
         "anchor": "x",
         "domain": [
          0,
          1
         ],
         "title": {
          "text": "Qty Users"
         }
        }
       }
      }
     },
     "metadata": {},
     "output_type": "display_data"
    }
   ],
   "source": [
    "bar_chart(df=users_df, xaxis=\"Year\", yaxis=\"Qty Users\", title=\"Unique Users by Year\")"
   ]
  },
  {
   "cell_type": "markdown",
   "metadata": {},
   "source": [
    "Survey participation peaked in **2016** with 1 433 users, followed by strong engagement in **2014** with 1 260 users.\\\n",
    "However, participation steadily declined in later years, with only 352 users in **2019**.\\\n",
    "This decrease could reflect reduced survey visibility, participant fatigue, or shifts in interest.\\\n",
    "The high participation in earlier years might skew overall results, emphasizing the importance of considering temporal biases in the analysis.\\\n",
    "Future surveys should explore strategies to reengage participants and ensure consistent representation.\n"
   ]
  },
  {
   "cell_type": "markdown",
   "metadata": {},
   "source": [
    "### **Users Sociodemographics**\n"
   ]
  },
  {
   "cell_type": "code",
   "execution_count": 12,
   "metadata": {},
   "outputs": [],
   "source": [
    "# Create table with age, gender and living location\n",
    "demografic_df = duckdb.sql(\n",
    "    \"\"\"\n",
    "WITH\n",
    "    age AS (\n",
    "        SELECT UserID, Year, CAST(AnswerText AS INT64) AS Age\n",
    "        FROM df\n",
    "        WHERE QuestionID = 1\n",
    "        ),\n",
    "    gender AS (\n",
    "        SELECT UserID, Year, AnswerText AS Gender\n",
    "        FROM df\n",
    "        WHERE QuestionID = 2\n",
    "        ),\n",
    "    location AS (\n",
    "        SELECT UserID, Year, AnswerText AS Location\n",
    "        FROM df\n",
    "        WHERE QuestionID = 3\n",
    "        ),\n",
    "    final AS (\n",
    "        SELECT age.UserID, age.Year, age.Age, gender.Gender, location.Location\n",
    "        FROM age\n",
    "            LEFT JOIN gender\n",
    "            ON age.UserID = gender.UserID\n",
    "\n",
    "            LEFT JOIN location\n",
    "            ON age.UserID = location.UserID \n",
    "    )\n",
    "\n",
    "SELECT * FROM final;\n",
    "\"\"\"\n",
    ").to_df()"
   ]
  },
  {
   "cell_type": "markdown",
   "metadata": {},
   "source": [
    "#### **Age Data Cleaning**\n"
   ]
  },
  {
   "cell_type": "code",
   "execution_count": 13,
   "metadata": {},
   "outputs": [
    {
     "data": {
      "application/vnd.plotly.v1+json": {
       "config": {
        "plotlyServerURL": "https://plot.ly"
       },
       "data": [
        {
         "alignmentgroup": "True",
         "bingroup": "x",
         "hovertemplate": "Age=%{x}<br>count=%{y}<extra></extra>",
         "legendgroup": "",
         "marker": {
          "color": "#e6cea0",
          "pattern": {
           "shape": ""
          }
         },
         "name": "",
         "offsetgroup": "",
         "orientation": "v",
         "showlegend": false,
         "type": "histogram",
         "x": [
          37,
          44,
          32,
          31,
          31,
          33,
          35,
          39,
          42,
          23,
          31,
          29,
          42,
          36,
          27,
          29,
          23,
          32,
          46,
          36,
          29,
          31,
          46,
          41,
          33,
          35,
          33,
          35,
          34,
          37,
          32,
          31,
          30,
          42,
          40,
          27,
          29,
          38,
          50,
          35,
          24,
          35,
          27,
          18,
          30,
          38,
          28,
          34,
          26,
          30,
          22,
          33,
          31,
          32,
          28,
          27,
          32,
          24,
          26,
          33,
          44,
          26,
          27,
          26,
          35,
          40,
          23,
          36,
          31,
          34,
          28,
          34,
          23,
          38,
          33,
          19,
          25,
          31,
          32,
          28,
          38,
          23,
          30,
          27,
          33,
          31,
          39,
          34,
          29,
          32,
          31,
          40,
          34,
          18,
          25,
          29,
          24,
          31,
          33,
          30,
          26,
          44,
          25,
          33,
          29,
          35,
          35,
          28,
          34,
          32,
          22,
          28,
          45,
          32,
          28,
          26,
          21,
          27,
          18,
          35,
          29,
          25,
          33,
          36,
          27,
          27,
          27,
          32,
          31,
          19,
          33,
          32,
          27,
          38,
          24,
          39,
          28,
          39,
          29,
          22,
          38,
          37,
          35,
          -29,
          30,
          37,
          24,
          23,
          30,
          29,
          19,
          32,
          28,
          36,
          37,
          25,
          27,
          26,
          27,
          25,
          36,
          25,
          31,
          26,
          33,
          27,
          34,
          42,
          23,
          24,
          26,
          31,
          22,
          23,
          34,
          31,
          28,
          32,
          45,
          33,
          29,
          26,
          28,
          45,
          43,
          37,
          24,
          26,
          23,
          35,
          38,
          28,
          28,
          35,
          32,
          31,
          35,
          26,
          27,
          28,
          27,
          34,
          41,
          37,
          34,
          32,
          21,
          30,
          24,
          26,
          40,
          37,
          26,
          32,
          32,
          27,
          30,
          31,
          29,
          41,
          34,
          33,
          28,
          28,
          23,
          24,
          32,
          34,
          24,
          26,
          36,
          41,
          38,
          38,
          30,
          25,
          37,
          34,
          37,
          28,
          22,
          34,
          33,
          25,
          27,
          40,
          21,
          29,
          32,
          29,
          23,
          28,
          31,
          27,
          24,
          29,
          23,
          42,
          24,
          25,
          27,
          27,
          30,
          29,
          43,
          32,
          41,
          32,
          37,
          32,
          30,
          23,
          30,
          34,
          38,
          33,
          34,
          28,
          28,
          23,
          22,
          27,
          18,
          35,
          25,
          27,
          26,
          18,
          38,
          26,
          30,
          35,
          45,
          32,
          56,
          24,
          30,
          60,
          33,
          37,
          23,
          31,
          26,
          28,
          37,
          26,
          30,
          26,
          25,
          27,
          25,
          35,
          36,
          26,
          27,
          30,
          29,
          25,
          22,
          29,
          41,
          29,
          32,
          24,
          25,
          25,
          30,
          25,
          30,
          33,
          24,
          25,
          31,
          45,
          29,
          46,
          30,
          29,
          24,
          29,
          35,
          33,
          27,
          36,
          33,
          25,
          23,
          54,
          22,
          25,
          29,
          27,
          30,
          26,
          25,
          31,
          33,
          34,
          34,
          29,
          33,
          34,
          26,
          32,
          329,
          28,
          35,
          36,
          21,
          21,
          22,
          41,
          55,
          32,
          21,
          45,
          27,
          25,
          34,
          26,
          41,
          27,
          31,
          25,
          26,
          27,
          42,
          29,
          25,
          33,
          -1,
          40,
          31,
          26,
          24,
          29,
          48,
          35,
          32,
          29,
          26,
          28,
          23,
          35,
          29,
          26,
          33,
          33,
          22,
          30,
          33,
          31,
          21,
          31,
          26,
          30,
          30,
          23,
          34,
          55,
          28,
          26,
          28,
          32,
          28,
          21,
          24,
          26,
          23,
          24,
          28,
          24,
          33,
          34,
          27,
          28,
          26,
          20,
          23,
          29,
          26,
          36,
          41,
          33,
          23,
          39,
          34,
          26,
          24,
          37,
          43,
          40,
          30,
          34,
          27,
          36,
          27,
          35,
          32,
          37,
          29,
          33,
          28,
          26,
          27,
          38,
          57,
          28,
          26,
          42,
          31,
          58,
          29,
          39,
          34,
          57,
          27,
          23,
          18,
          30,
          23,
          43,
          18,
          29,
          48,
          43,
          28,
          30,
          26,
          33,
          31,
          30,
          27,
          24,
          25,
          23,
          36,
          25,
          54,
          34,
          38,
          40,
          32,
          25,
          35,
          46,
          42,
          32,
          47,
          22,
          33,
          25,
          29,
          39,
          38,
          43,
          46,
          38,
          33,
          34,
          62,
          23,
          35,
          25,
          36,
          41,
          24,
          51,
          29,
          31,
          27,
          31,
          27,
          23,
          21,
          27,
          39,
          26,
          27,
          22,
          26,
          31,
          32,
          28,
          28,
          23,
          30,
          36,
          21,
          30,
          25,
          32,
          29,
          21,
          27,
          32,
          34,
          33,
          22,
          24,
          65,
          27,
          33,
          36,
          40,
          28,
          39,
          32,
          31,
          38,
          23,
          42,
          27,
          26,
          50,
          37,
          23,
          33,
          29,
          34,
          41,
          50,
          29,
          35,
          27,
          40,
          27,
          29,
          31,
          43,
          34,
          29,
          19,
          41,
          29,
          23,
          24,
          31,
          43,
          31,
          29,
          35,
          33,
          30,
          27,
          32,
          50,
          24,
          27,
          27,
          32,
          42,
          37,
          30,
          29,
          30,
          35,
          35,
          38,
          22,
          24,
          22,
          31,
          23,
          31,
          28,
          37,
          34,
          32,
          28,
          24,
          56,
          31,
          34,
          35,
          28,
          36,
          30,
          35,
          49,
          36,
          35,
          29,
          57,
          31,
          37,
          25,
          30,
          26,
          22,
          39,
          29,
          54,
          34,
          32,
          25,
          29,
          32,
          30,
          31,
          20,
          27,
          32,
          26,
          30,
          30,
          22,
          24,
          26,
          43,
          26,
          23,
          26,
          26,
          35,
          28,
          22,
          29,
          29,
          45,
          33,
          38,
          19,
          29,
          21,
          23,
          33,
          49,
          28,
          27,
          23,
          29,
          30,
          28,
          32,
          32,
          37,
          39,
          31,
          29,
          30,
          33,
          37,
          23,
          43,
          32,
          26,
          32,
          37,
          29,
          34,
          27,
          30,
          29,
          32,
          -1,
          25,
          37,
          29,
          27,
          33,
          30,
          29,
          25,
          33,
          31,
          21,
          30,
          29,
          43,
          37,
          24,
          29,
          31,
          5,
          33,
          43,
          33,
          27,
          36,
          37,
          32,
          39,
          31,
          36,
          30,
          28,
          32,
          35,
          19,
          33,
          42,
          37,
          40,
          36,
          29,
          38,
          26,
          34,
          21,
          31,
          37,
          37,
          38,
          27,
          39,
          33,
          27,
          36,
          28,
          39,
          33,
          32,
          28,
          37,
          39,
          43,
          32,
          27,
          31,
          43,
          33,
          34,
          33,
          25,
          25,
          32,
          25,
          37,
          39,
          29,
          33,
          37,
          35,
          22,
          38,
          32,
          28,
          27,
          35,
          29,
          23,
          39,
          30,
          32,
          28,
          40,
          36,
          27,
          41,
          29,
          29,
          35,
          28,
          36,
          39,
          39,
          44,
          26,
          35,
          40,
          35,
          38,
          34,
          43,
          48,
          20,
          40,
          29,
          35,
          29,
          40,
          29,
          29,
          34,
          44,
          24,
          47,
          43,
          36,
          43,
          36,
          31,
          35,
          33,
          37,
          34,
          36,
          40,
          40,
          42,
          23,
          21,
          26,
          31,
          25,
          51,
          24,
          33,
          32,
          32,
          26,
          23,
          33,
          46,
          34,
          35,
          39,
          32,
          43,
          56,
          32,
          41,
          39,
          37,
          30,
          31,
          29,
          23,
          31,
          29,
          30,
          37,
          36,
          35,
          41,
          31,
          38,
          26,
          39,
          42,
          32,
          29,
          30,
          40,
          51,
          33,
          34,
          50,
          24,
          25,
          43,
          25,
          24,
          51,
          49,
          30,
          25,
          36,
          48,
          48,
          53,
          24,
          33,
          25,
          30,
          30,
          34,
          31,
          22,
          28,
          35,
          28,
          42,
          33,
          29,
          43,
          29,
          25,
          31,
          35,
          34,
          43,
          38,
          26,
          38,
          42,
          33,
          32,
          44,
          28,
          40,
          31,
          32,
          28,
          39,
          45,
          43,
          35,
          40,
          34,
          24,
          61,
          36,
          38,
          33,
          30,
          34,
          26,
          33,
          32,
          25,
          35,
          24,
          55,
          33,
          26,
          25,
          45,
          33,
          43,
          30,
          40,
          49,
          29,
          26,
          38,
          27,
          26,
          28,
          40,
          37,
          34,
          28,
          27,
          29,
          39,
          28,
          23,
          8,
          38,
          19,
          30,
          28,
          20,
          35,
          39,
          31,
          32,
          27,
          25,
          42,
          34,
          26,
          35,
          34,
          38,
          34,
          39,
          44,
          40,
          33,
          24,
          38,
          31,
          23,
          26,
          46,
          30,
          25,
          19,
          30,
          32,
          32,
          37,
          42,
          25,
          19,
          40,
          34,
          26,
          31,
          40,
          31,
          36,
          35,
          26,
          44,
          34,
          35,
          28,
          33,
          40,
          26,
          29,
          26,
          33,
          28,
          41,
          39,
          26,
          23,
          35,
          36,
          42,
          39,
          27,
          33,
          31,
          28,
          29,
          27,
          44,
          25,
          24,
          25,
          34,
          26,
          48,
          34,
          39,
          43,
          41,
          25,
          31,
          40,
          43,
          27,
          37,
          32,
          25,
          29,
          30,
          34,
          32,
          37,
          41,
          38,
          32,
          28,
          11,
          43,
          32,
          25,
          37,
          36,
          24,
          40,
          29,
          43,
          29,
          26,
          33,
          35,
          45,
          25,
          50,
          26,
          33,
          30,
          33,
          29,
          37,
          25,
          40,
          24,
          40,
          46,
          38,
          34,
          32,
          44,
          33,
          45,
          35,
          26,
          20,
          -1,
          37,
          28,
          42,
          32,
          36,
          27,
          27,
          27,
          25,
          41,
          23,
          21,
          26,
          29,
          28,
          27,
          23,
          26,
          38,
          39,
          35,
          32,
          32,
          26,
          38,
          34,
          39,
          32,
          37,
          31,
          30,
          51,
          29,
          31,
          31,
          26,
          46,
          32,
          29,
          34,
          26,
          32,
          29,
          30,
          40,
          23,
          20,
          38,
          26,
          29,
          40,
          25,
          32,
          38,
          72,
          35,
          28,
          27,
          56,
          38,
          31,
          40,
          44,
          34,
          37,
          38,
          27,
          34,
          35,
          34,
          32,
          25,
          28,
          28,
          31,
          24,
          34,
          32,
          34,
          23,
          33,
          29,
          24,
          45,
          34,
          31,
          33,
          28,
          27,
          42,
          28,
          38,
          46,
          46,
          41,
          23,
          24,
          23,
          39,
          32,
          25,
          39,
          23,
          24,
          25,
          23,
          24,
          23,
          60,
          28,
          28,
          30,
          31,
          31,
          28,
          43,
          32,
          22,
          32,
          36,
          41,
          30,
          30,
          36,
          29,
          36,
          26,
          32,
          34,
          46,
          25,
          41,
          39,
          29,
          38,
          43,
          43,
          42,
          30,
          37,
          44,
          30,
          28,
          34,
          30,
          44,
          35,
          52,
          32,
          34,
          25,
          31,
          26,
          35,
          25,
          33,
          38,
          42,
          27,
          35,
          34,
          32,
          32,
          30,
          31,
          37,
          36,
          33,
          44,
          29,
          29,
          44,
          34,
          40,
          46,
          28,
          41,
          33,
          32,
          45,
          43,
          37,
          37,
          27,
          31,
          36,
          34,
          31,
          30,
          32,
          40,
          40,
          41,
          27,
          30,
          29,
          38,
          35,
          35,
          29,
          28,
          27,
          39,
          28,
          46,
          40,
          37,
          41,
          19,
          38,
          33,
          33,
          21,
          36,
          39,
          35,
          36,
          45,
          41,
          35,
          30,
          24,
          33,
          35,
          26,
          17,
          29,
          26,
          36,
          46,
          39,
          28,
          40,
          23,
          30,
          28,
          27,
          31,
          39,
          34,
          30,
          30,
          31,
          30,
          32,
          22,
          37,
          51,
          26,
          41,
          39,
          43,
          30,
          24,
          30,
          28,
          48,
          55,
          36,
          38,
          34,
          44,
          45,
          45,
          30,
          34,
          37,
          38,
          31,
          33,
          29,
          35,
          42,
          26,
          36,
          21,
          34,
          40,
          35,
          44,
          35,
          45,
          42,
          40,
          50,
          36,
          31,
          29,
          37,
          31,
          42,
          25,
          27,
          41,
          41,
          55,
          21,
          37,
          34,
          40,
          25,
          36,
          25,
          35,
          37,
          45,
          26,
          23,
          22,
          46,
          31,
          27,
          37,
          37,
          26,
          23,
          40,
          29,
          37,
          34,
          40,
          39,
          28,
          28,
          27,
          48,
          49,
          35,
          35,
          38,
          32,
          42,
          33,
          35,
          24,
          29,
          29,
          24,
          30,
          30,
          44,
          37,
          28,
          42,
          30,
          36,
          30,
          29,
          25,
          25,
          24,
          25,
          31,
          37,
          35,
          26,
          31,
          29,
          33,
          30,
          30,
          29,
          25,
          27,
          26,
          38,
          49,
          30,
          34,
          31,
          29,
          31,
          34,
          28,
          35,
          27,
          33,
          37,
          45,
          31,
          36,
          30,
          33,
          45,
          30,
          30,
          29,
          36,
          28,
          36,
          37,
          29,
          25,
          34,
          37,
          40,
          32,
          38,
          31,
          28,
          27,
          28,
          26,
          40,
          42,
          36,
          44,
          24,
          44,
          31,
          49,
          27,
          27,
          28,
          20,
          41,
          38,
          29,
          44,
          31,
          54,
          33,
          29,
          26,
          26,
          34,
          38,
          30,
          34,
          47,
          33,
          22,
          28,
          31,
          24,
          56,
          57,
          39,
          21,
          31,
          63,
          46,
          32,
          35,
          34,
          35,
          31,
          35,
          36,
          50,
          31,
          47,
          32,
          23,
          43,
          26,
          26,
          55,
          27,
          34,
          25,
          35,
          37,
          38,
          29,
          28,
          29,
          40,
          25,
          29,
          29,
          35,
          25,
          43,
          26,
          31,
          31,
          45,
          23,
          39,
          27,
          28,
          36,
          22,
          51,
          39,
          36,
          28,
          40,
          35,
          38,
          29,
          43,
          31,
          45,
          26,
          42,
          28,
          28,
          39,
          34,
          28,
          35,
          42,
          99,
          29,
          34,
          28,
          22,
          28,
          26,
          21,
          38,
          33,
          28,
          32,
          24,
          35,
          41,
          38,
          24,
          30,
          47,
          26,
          32,
          32,
          37,
          33,
          28,
          22,
          30,
          42,
          34,
          32,
          37,
          31,
          31,
          26,
          30,
          36,
          38,
          24,
          26,
          37,
          27,
          32,
          32,
          30,
          26,
          27,
          27,
          29,
          26,
          23,
          30,
          40,
          46,
          26,
          30,
          27,
          35,
          26,
          35,
          29,
          34,
          27,
          39,
          27,
          31,
          26,
          44,
          27,
          57,
          34,
          38,
          55,
          28,
          35,
          26,
          22,
          31,
          31,
          40,
          26,
          36,
          33,
          24,
          22,
          33,
          37,
          29,
          38,
          33,
          44,
          23,
          30,
          30,
          28,
          39,
          24,
          27,
          35,
          23,
          37,
          35,
          27,
          27,
          27,
          42,
          32,
          26,
          28,
          28,
          32,
          43,
          34,
          61,
          50,
          38,
          51,
          38,
          34,
          43,
          43,
          44,
          35,
          50,
          29,
          29,
          36,
          33,
          50,
          46,
          44,
          23,
          41,
          31,
          55,
          34,
          28,
          33,
          29,
          33,
          28,
          28,
          32,
          36,
          45,
          29,
          23,
          54,
          61,
          29,
          31,
          37,
          29,
          28,
          30,
          55,
          38,
          20,
          25,
          22,
          35,
          27,
          24,
          39,
          29,
          40,
          30,
          32,
          34,
          35,
          30,
          36,
          26,
          31,
          33,
          30,
          46,
          32,
          34,
          41,
          32,
          47,
          29,
          36,
          32,
          29,
          22,
          32,
          19,
          30,
          32,
          22,
          30,
          323,
          33,
          48,
          45,
          28,
          44,
          31,
          31,
          29,
          26,
          35,
          44,
          45,
          22,
          34,
          35,
          39,
          26,
          41,
          24,
          24,
          34,
          36,
          41,
          21,
          33,
          32,
          62,
          37,
          32,
          31,
          28,
          48,
          40,
          29,
          33,
          27,
          24,
          28,
          42,
          28,
          40,
          32,
          33,
          40,
          26,
          39,
          38,
          34,
          44,
          54,
          24,
          31,
          47,
          30,
          34,
          29,
          27,
          29,
          43,
          31,
          27,
          29,
          29,
          42,
          26,
          26,
          34,
          24,
          25,
          22,
          33,
          53,
          32,
          32,
          55,
          27,
          34,
          26,
          25,
          39,
          32,
          46,
          52,
          33,
          58,
          30,
          46,
          45,
          26,
          22,
          21,
          3,
          34,
          25,
          27,
          25,
          33,
          26,
          36,
          26,
          34,
          34,
          25,
          33,
          27,
          24,
          47,
          37,
          35,
          30,
          42,
          36,
          31,
          28,
          36,
          36,
          32,
          42,
          41,
          36,
          23,
          54,
          34,
          36,
          27,
          32,
          21,
          44,
          33,
          38,
          38,
          38,
          22,
          33,
          27,
          55,
          66,
          25,
          22,
          29,
          33,
          27,
          44,
          38,
          32,
          59,
          43,
          55,
          32,
          41,
          38,
          46,
          43,
          29,
          42,
          25,
          49,
          36,
          30,
          28,
          37,
          23,
          37,
          42,
          32,
          28,
          28,
          29,
          35,
          31,
          46,
          19,
          35,
          31,
          31,
          37,
          34,
          39,
          29,
          29,
          63,
          45,
          35,
          32,
          44,
          28,
          39,
          55,
          33,
          19,
          40,
          49,
          27,
          39,
          35,
          35,
          42,
          35,
          31,
          44,
          39,
          32,
          45,
          31,
          47,
          29,
          20,
          34,
          33,
          56,
          35,
          31,
          36,
          30,
          44,
          23,
          46,
          33,
          32,
          45,
          26,
          32,
          28,
          44,
          42,
          30,
          28,
          31,
          29,
          33,
          43,
          28,
          42,
          38,
          30,
          51,
          48,
          39,
          28,
          37,
          33,
          21,
          25,
          15,
          40,
          30,
          27,
          25,
          38,
          24,
          23,
          39,
          26,
          43,
          30,
          35,
          40,
          33,
          35,
          22,
          28,
          39,
          33,
          25,
          37,
          41,
          30,
          42,
          52,
          30,
          35,
          24,
          39,
          34,
          32,
          25,
          43,
          39,
          35,
          34,
          38,
          26,
          24,
          27,
          25,
          37,
          33,
          34,
          27,
          33,
          50,
          54,
          32,
          39,
          36,
          34,
          31,
          36,
          48,
          31,
          32,
          32,
          31,
          28,
          28,
          33,
          33,
          59,
          33,
          37,
          27,
          39,
          50,
          34,
          50,
          31,
          39,
          46,
          28,
          32,
          65,
          37,
          41,
          38,
          51,
          29,
          37,
          31,
          32,
          31,
          52,
          31,
          38,
          35,
          29,
          63,
          47,
          43,
          38,
          27,
          40,
          32,
          43,
          28,
          46,
          42,
          31,
          37,
          35,
          30,
          35,
          24,
          23,
          39,
          38,
          28,
          30,
          38,
          33,
          35,
          54,
          30,
          32,
          28,
          39,
          21,
          31,
          30,
          25,
          26,
          30,
          30,
          31,
          32,
          45,
          29,
          27,
          28,
          38,
          38,
          34,
          36,
          23,
          40,
          39,
          28,
          33,
          32,
          32,
          27,
          33,
          34,
          38,
          35,
          39,
          35,
          34,
          44,
          42,
          30,
          55,
          46,
          33,
          30,
          30,
          31,
          38,
          30,
          32,
          32,
          47,
          39,
          35,
          36,
          38,
          30,
          33,
          22,
          35,
          26,
          34,
          40,
          37,
          43,
          20,
          30,
          32,
          35,
          29,
          29,
          30,
          30,
          38,
          30,
          26,
          27,
          24,
          35,
          38,
          36,
          34,
          35,
          25,
          32,
          32,
          37,
          28,
          34,
          40,
          45,
          31,
          30,
          47,
          48,
          44,
          29,
          52,
          34,
          34,
          27,
          30,
          40,
          26,
          36,
          35,
          43,
          36,
          32,
          36,
          38,
          35,
          35,
          45,
          47,
          27,
          26,
          51,
          25,
          41,
          34,
          43,
          33,
          37,
          27,
          54,
          38,
          42,
          30,
          43,
          33,
          37,
          25,
          27,
          27,
          27,
          35,
          24,
          31,
          31,
          32,
          33,
          56,
          43,
          49,
          35,
          53,
          45,
          40,
          52,
          30,
          41,
          31,
          31,
          24,
          44,
          37,
          22,
          31,
          36,
          28,
          25,
          49,
          22,
          43,
          33,
          36,
          26,
          43,
          21,
          39,
          46,
          32,
          31,
          39,
          44,
          36,
          31,
          30,
          36,
          31,
          23,
          23,
          30,
          34,
          49,
          25,
          39,
          37,
          26,
          41,
          28,
          33,
          74,
          28,
          47,
          25,
          51,
          26,
          24,
          33,
          32,
          57,
          39,
          26,
          38,
          33,
          30,
          25,
          40,
          26,
          34,
          46,
          31,
          42,
          30,
          26,
          29,
          31,
          40,
          39,
          37,
          27,
          45,
          29,
          47,
          33,
          32,
          29,
          36,
          35,
          40,
          36,
          39,
          38,
          23,
          29,
          38,
          34,
          28,
          38,
          25,
          36,
          57,
          46,
          49,
          34,
          43,
          35,
          32,
          24,
          33,
          28,
          48,
          33,
          40,
          22,
          22,
          23,
          33,
          29,
          32,
          43,
          49,
          44,
          29,
          27,
          30,
          43,
          30,
          33,
          27,
          26,
          47,
          30,
          39,
          36,
          34,
          25,
          28,
          38,
          39,
          32,
          27,
          31,
          30,
          34,
          26,
          27,
          29,
          37,
          49,
          39,
          42,
          28,
          33,
          30,
          70,
          25,
          45,
          63,
          40,
          39,
          31,
          34,
          44,
          45,
          43,
          29,
          27,
          37,
          41,
          30,
          28,
          28,
          39,
          22,
          31,
          29,
          33,
          37,
          42,
          31,
          34,
          49,
          29,
          40,
          46,
          31,
          43,
          45,
          32,
          38,
          40,
          38,
          32,
          37,
          24,
          25,
          24,
          34,
          55,
          32,
          29,
          20,
          41,
          33,
          25,
          29,
          24,
          39,
          39,
          44,
          30,
          31,
          37,
          42,
          35,
          30,
          30,
          33,
          31,
          39,
          27,
          34,
          31,
          30,
          34,
          20,
          39,
          50,
          22,
          41,
          37,
          32,
          26,
          38,
          21,
          27,
          37,
          45,
          26,
          30,
          21,
          21,
          29,
          46,
          28,
          26,
          37,
          44,
          45,
          35,
          39,
          37,
          35,
          29,
          49,
          21,
          26,
          35,
          56,
          53,
          48,
          24,
          37,
          27,
          39,
          31,
          34,
          33,
          22,
          25,
          34,
          30,
          37,
          26,
          29,
          29,
          27,
          27,
          23,
          24,
          22,
          28,
          22,
          32,
          35,
          26,
          31,
          32,
          37,
          24,
          33,
          28,
          22,
          46,
          30,
          29,
          22,
          24,
          29,
          30,
          25,
          39,
          31,
          25,
          39,
          31,
          35,
          31,
          23,
          30,
          28,
          23,
          26,
          24,
          32,
          35,
          30,
          32,
          35,
          26,
          30,
          29,
          39,
          37,
          35,
          25,
          22,
          33,
          23,
          29,
          28,
          30,
          28,
          28,
          37,
          30,
          27,
          29,
          28,
          26,
          29,
          34,
          36,
          38,
          22,
          24,
          24,
          36,
          24,
          24,
          31,
          39,
          41,
          29,
          37,
          30,
          24,
          22,
          24,
          26,
          38,
          34,
          56,
          52,
          30,
          25,
          27,
          31,
          36,
          22,
          52,
          30,
          36,
          38,
          35,
          36,
          40,
          35,
          23,
          22,
          34,
          28,
          38,
          53,
          21,
          35,
          22,
          18,
          37,
          25,
          40,
          33,
          66,
          31,
          32,
          46,
          30,
          31,
          46,
          29,
          28,
          34,
          25,
          35,
          25,
          40,
          32,
          39,
          33,
          40,
          42,
          32,
          27,
          43,
          30,
          39,
          42,
          37,
          38,
          47,
          64,
          28,
          45,
          37,
          30,
          25,
          25,
          54,
          61,
          26,
          44,
          26,
          26,
          35,
          45,
          23,
          44,
          38,
          46,
          27,
          39,
          33,
          38,
          35,
          32,
          26,
          50,
          31,
          46,
          30,
          30,
          34,
          42,
          24,
          30,
          23,
          31,
          31,
          27,
          26,
          52,
          28,
          37,
          37,
          38,
          57,
          34,
          38,
          30,
          52,
          31,
          29,
          26,
          29,
          44,
          18,
          42,
          30,
          29,
          27,
          39,
          40,
          36,
          48,
          43,
          38,
          42,
          46,
          30,
          25,
          28,
          24,
          26,
          43,
          25,
          34,
          28,
          27,
          22,
          24,
          33,
          41,
          26,
          39,
          24,
          54,
          47,
          33,
          30,
          48,
          35,
          34,
          31,
          25,
          48,
          34,
          42,
          27,
          33,
          27,
          48,
          32,
          29,
          36,
          29,
          23,
          50,
          24,
          29,
          42,
          35,
          22,
          39,
          29,
          20,
          36,
          30,
          36,
          31,
          28,
          28,
          25,
          30,
          45,
          31,
          36,
          37,
          37,
          28,
          37,
          37,
          64,
          34,
          34,
          36,
          26,
          33,
          47,
          24,
          26,
          37,
          29,
          33,
          44,
          34,
          35,
          32,
          23,
          31,
          30,
          42,
          26,
          29,
          35,
          31,
          26,
          30,
          39,
          29,
          27,
          29,
          43,
          31,
          27,
          36,
          44,
          44,
          27,
          42,
          28,
          43,
          28,
          49,
          32,
          33,
          45,
          25,
          42,
          25,
          25,
          31,
          22,
          33,
          40,
          28,
          37,
          35,
          47,
          20,
          27,
          62,
          42,
          35,
          29,
          37,
          51,
          60,
          30,
          36,
          38,
          30,
          35,
          50,
          41,
          58,
          27,
          53,
          42,
          33,
          25,
          40,
          25,
          49,
          44,
          30,
          28,
          26,
          31,
          32,
          24,
          34,
          31,
          47,
          59,
          44,
          26,
          43,
          39,
          43,
          40,
          22,
          24,
          35,
          40,
          26,
          23,
          30,
          37,
          27,
          42,
          49,
          40,
          26,
          29,
          39,
          40,
          23,
          50,
          35,
          24,
          35,
          36,
          50,
          47,
          30,
          30,
          32,
          38,
          38,
          38,
          26,
          45,
          37,
          24,
          33,
          35,
          44,
          27,
          33,
          28,
          35,
          23,
          53,
          32,
          24,
          31,
          33,
          37,
          27,
          31,
          32,
          40,
          32,
          31,
          33,
          21,
          67,
          35,
          46,
          36,
          44,
          57,
          38,
          27,
          26,
          36,
          30,
          35,
          30,
          32,
          35,
          33,
          48,
          32,
          45,
          31,
          40,
          37,
          29,
          26,
          51,
          29,
          30,
          33,
          27,
          42,
          47,
          31,
          32,
          60,
          58,
          38,
          42,
          41,
          25,
          31,
          42,
          42,
          41,
          35,
          24,
          37,
          32,
          34,
          37,
          38,
          30,
          27,
          41,
          41,
          39,
          42,
          28,
          29,
          41,
          46,
          38,
          34,
          28,
          28,
          38,
          33,
          38,
          48,
          44,
          34,
          29,
          39,
          41,
          33,
          31,
          44,
          33,
          26,
          28,
          32,
          35,
          40,
          30,
          34,
          21,
          37,
          27,
          37,
          33,
          28,
          41,
          34,
          37,
          28,
          52,
          39,
          45,
          50,
          27,
          31,
          44,
          31,
          23,
          23,
          38,
          37,
          33,
          34,
          47,
          29,
          38,
          29,
          37,
          39,
          29,
          57,
          27,
          38,
          39,
          29,
          24,
          30,
          32,
          37,
          34,
          52,
          36,
          52,
          49,
          30,
          41,
          29,
          37,
          29,
          39,
          30,
          23,
          29,
          38,
          41,
          47,
          56,
          22,
          32,
          30,
          31,
          36,
          32,
          37,
          29,
          31,
          39,
          36,
          27,
          38,
          37,
          33,
          38,
          36,
          30,
          38,
          35,
          26,
          25,
          40,
          31,
          49,
          30,
          35,
          46,
          29,
          22,
          50,
          39,
          40,
          31,
          38,
          45,
          31,
          25,
          28,
          37,
          54,
          45,
          36,
          34,
          28,
          32,
          40,
          52,
          33,
          41,
          25,
          33,
          36,
          40,
          23,
          37,
          42,
          35,
          32,
          23,
          35,
          34,
          24,
          38,
          42,
          23,
          39,
          30,
          35,
          29,
          24,
          35,
          30,
          28,
          32,
          34,
          33,
          32,
          27,
          23,
          30,
          24,
          34,
          32,
          41,
          37,
          27,
          26,
          24,
          44,
          40,
          42,
          27,
          40,
          38,
          34,
          27,
          34,
          26,
          33,
          39,
          33,
          37,
          30,
          22,
          29,
          51,
          24,
          37,
          46,
          43,
          50,
          30,
          27,
          31,
          32,
          34,
          49,
          37,
          35,
          33,
          32,
          31,
          33,
          40,
          40,
          56,
          28,
          25,
          48,
          43,
          29,
          36,
          34,
          31,
          33,
          49,
          38,
          30,
          36,
          32,
          36,
          40,
          28,
          21,
          46,
          20,
          30,
          44,
          34,
          38,
          35,
          45,
          35,
          30,
          22,
          33,
          30,
          41,
          32,
          48,
          32,
          30,
          45,
          31,
          32,
          30,
          32,
          37,
          30,
          31,
          30,
          35,
          37,
          26,
          50,
          32,
          32,
          23,
          40,
          36,
          24,
          29,
          28,
          51,
          36,
          40,
          39,
          32,
          45,
          39,
          33,
          46,
          34,
          30,
          31,
          28,
          31,
          32,
          39,
          45,
          26,
          36,
          26,
          55,
          32,
          40,
          27,
          45,
          34,
          31,
          29,
          31,
          40,
          41,
          39,
          39,
          35,
          37,
          32,
          24,
          40,
          25,
          49,
          28,
          22,
          41,
          36,
          32,
          23,
          53,
          34,
          30,
          23,
          30,
          22,
          27,
          47,
          33,
          28,
          36,
          25,
          30,
          39,
          31,
          48,
          43,
          35,
          31,
          28,
          27,
          28,
          43,
          31,
          37,
          36,
          42,
          29,
          41,
          37,
          53,
          43,
          44,
          37,
          57,
          47,
          34,
          29,
          38,
          41,
          40,
          -1,
          30,
          -1,
          57,
          29,
          46,
          34,
          29,
          55,
          29,
          35,
          33,
          37,
          45,
          31,
          38,
          26,
          27,
          35,
          47,
          37,
          32,
          46,
          37,
          36,
          29,
          45,
          30,
          46,
          29,
          26,
          26,
          44,
          32,
          34,
          19,
          38,
          61,
          44,
          32,
          31,
          30,
          52,
          44,
          39,
          36,
          30,
          39,
          33,
          37,
          34,
          28,
          43,
          42,
          35,
          28,
          37,
          35,
          31,
          24,
          27,
          36,
          33,
          26,
          26,
          24,
          34,
          25,
          19,
          28,
          26,
          32,
          23,
          46,
          28,
          38,
          30,
          26,
          37,
          35,
          26,
          29,
          57,
          38,
          20,
          41,
          43,
          35,
          40,
          28,
          42,
          39,
          28,
          22,
          29,
          45,
          27,
          32,
          28,
          31,
          28,
          24,
          27,
          36,
          37,
          27,
          53,
          32,
          25,
          29,
          47,
          36,
          61,
          28,
          31,
          35,
          40,
          32,
          41,
          34,
          31,
          35,
          27,
          42,
          67,
          56,
          27,
          37,
          40,
          30,
          39,
          30,
          31,
          36,
          46,
          45,
          25,
          38,
          41,
          37,
          33,
          28,
          34,
          29,
          28,
          41,
          38,
          37,
          42,
          28,
          30,
          25,
          54,
          24,
          32,
          44,
          28,
          41,
          38,
          37,
          36,
          33,
          35,
          31,
          43,
          34,
          44,
          38,
          55,
          25,
          37,
          39,
          23,
          34,
          43,
          29,
          25,
          36,
          33,
          34,
          28,
          54,
          39,
          37,
          29,
          31,
          49,
          43,
          38,
          35,
          23,
          42,
          36,
          38,
          41,
          37,
          25,
          33,
          35,
          32,
          45,
          25,
          40,
          34,
          28,
          49,
          33,
          41,
          36,
          37,
          39,
          49,
          33,
          29,
          34,
          29,
          25,
          35,
          32,
          21,
          43,
          31,
          27,
          23,
          28,
          37,
          30,
          30,
          30,
          32,
          35,
          45,
          31,
          34,
          30,
          33,
          32,
          28,
          28,
          33,
          28,
          28,
          43,
          31,
          40,
          42,
          38,
          39,
          21,
          32,
          32,
          40,
          35,
          28,
          25,
          37,
          40,
          31,
          47,
          26,
          27,
          46,
          22,
          37,
          27,
          28,
          32,
          33,
          27,
          38,
          31,
          28,
          32,
          30,
          26,
          41,
          39,
          37,
          21,
          38,
          35,
          33,
          38,
          29,
          25,
          41,
          37,
          29,
          45,
          45,
          45,
          30,
          27,
          36,
          44,
          35,
          42,
          26,
          33,
          25,
          36,
          32,
          29,
          29,
          43,
          37,
          26,
          46,
          35,
          37,
          30,
          36,
          31,
          42,
          41,
          33,
          26,
          37,
          36,
          35,
          45,
          23,
          26,
          23,
          26,
          34,
          22,
          42,
          40,
          42,
          35,
          36,
          37,
          31,
          27,
          38,
          32,
          23,
          51,
          26,
          19,
          44,
          42,
          26,
          38,
          26,
          40,
          32,
          39,
          44,
          33,
          38,
          42,
          57,
          28,
          31,
          34,
          35,
          30,
          30,
          35,
          40,
          39,
          24,
          42,
          35,
          34,
          33,
          37,
          36,
          47,
          42,
          29,
          38,
          30,
          30,
          36,
          24,
          41,
          48,
          31,
          65,
          34,
          55,
          33,
          41,
          24,
          27,
          30,
          37,
          61,
          45,
          29,
          41,
          39,
          30,
          46,
          42,
          29,
          34,
          52,
          36,
          34,
          50,
          51,
          35,
          34,
          24,
          37,
          24,
          46,
          31,
          35,
          40,
          28,
          28,
          39,
          31,
          27,
          35,
          25,
          51,
          27,
          37,
          46,
          36,
          39,
          35,
          49,
          45,
          40,
          37,
          31,
          37,
          26,
          43,
          35,
          31,
          32,
          37,
          41,
          40,
          37,
          53,
          29,
          37,
          45,
          26,
          28,
          24,
          27,
          42,
          53,
          34,
          23,
          34,
          27,
          31,
          30,
          58,
          50,
          41,
          40,
          28,
          49,
          37,
          36,
          52,
          33,
          54,
          38,
          64,
          40,
          37,
          53,
          55,
          30,
          35,
          60,
          34,
          35,
          34,
          28,
          28,
          36,
          24,
          50,
          55,
          32,
          33,
          30,
          30,
          34,
          36,
          30,
          29,
          34,
          40,
          31,
          27,
          47,
          24,
          36,
          28,
          34,
          28,
          36,
          24,
          32,
          33,
          39,
          26,
          32,
          42,
          41,
          32,
          32,
          31,
          34,
          36,
          33,
          30,
          45,
          30,
          48,
          29,
          35,
          41,
          27,
          42,
          32,
          32,
          20,
          24,
          0,
          38,
          31,
          26,
          40,
          30,
          38,
          28,
          28,
          30,
          23,
          30,
          33,
          53,
          38,
          34,
          40,
          42,
          42,
          38,
          33,
          35,
          27,
          28,
          42,
          35,
          40,
          54,
          37,
          26,
          37,
          49,
          23,
          42,
          49,
          38,
          41,
          33,
          27,
          47,
          28,
          49,
          23,
          23,
          38,
          45,
          35,
          51,
          34,
          29,
          40,
          38,
          32,
          22,
          28,
          29,
          32,
          38,
          30,
          37,
          38,
          51,
          39,
          22,
          26,
          42,
          49,
          48,
          25,
          31,
          63,
          30,
          34,
          41,
          31,
          29,
          29,
          44,
          32,
          28,
          36,
          28,
          30,
          36,
          40,
          27,
          28,
          34,
          34,
          34,
          27,
          44,
          36,
          31,
          26,
          39,
          36,
          25,
          47,
          38,
          33,
          59,
          39,
          19,
          35,
          38,
          23,
          32,
          39,
          33,
          38,
          42,
          39,
          30,
          39,
          50,
          43,
          59,
          53,
          35,
          27,
          24,
          29,
          40,
          27,
          46,
          39,
          19,
          28,
          30,
          29,
          24,
          25,
          45,
          37,
          22,
          35,
          50,
          45,
          49,
          40,
          32,
          38,
          37,
          28,
          25,
          28,
          38,
          25,
          49,
          19,
          43,
          31,
          30,
          39,
          22,
          29,
          30,
          32,
          41,
          27,
          19,
          27,
          31,
          25,
          36,
          28,
          27,
          47,
          25,
          30,
          45,
          41,
          24,
          26,
          32,
          43,
          37,
          51,
          56,
          30,
          48,
          28,
          26,
          45,
          37,
          42,
          34,
          35,
          28,
          26,
          34,
          28,
          34,
          45,
          59,
          41,
          38,
          42,
          21,
          30,
          46,
          36,
          41,
          33,
          41,
          25,
          27,
          47,
          24,
          40,
          37,
          38,
          47,
          30,
          24,
          38,
          42,
          39,
          42,
          47,
          29,
          55,
          34,
          45,
          46,
          23,
          22,
          30,
          27,
          42,
          26,
          31,
          27,
          48,
          50,
          30,
          24
         ],
         "xaxis": "x",
         "yaxis": "y"
        }
       ],
       "layout": {
        "barmode": "relative",
        "height": 500,
        "legend": {
         "tracegroupgap": 0
        },
        "template": {
         "data": {
          "bar": [
           {
            "error_x": {
             "color": "#2a3f5f"
            },
            "error_y": {
             "color": "#2a3f5f"
            },
            "marker": {
             "line": {
              "color": "white",
              "width": 0.5
             },
             "pattern": {
              "fillmode": "overlay",
              "size": 10,
              "solidity": 0.2
             }
            },
            "type": "bar"
           }
          ],
          "barpolar": [
           {
            "marker": {
             "line": {
              "color": "white",
              "width": 0.5
             },
             "pattern": {
              "fillmode": "overlay",
              "size": 10,
              "solidity": 0.2
             }
            },
            "type": "barpolar"
           }
          ],
          "carpet": [
           {
            "aaxis": {
             "endlinecolor": "#2a3f5f",
             "gridcolor": "#C8D4E3",
             "linecolor": "#C8D4E3",
             "minorgridcolor": "#C8D4E3",
             "startlinecolor": "#2a3f5f"
            },
            "baxis": {
             "endlinecolor": "#2a3f5f",
             "gridcolor": "#C8D4E3",
             "linecolor": "#C8D4E3",
             "minorgridcolor": "#C8D4E3",
             "startlinecolor": "#2a3f5f"
            },
            "type": "carpet"
           }
          ],
          "choropleth": [
           {
            "colorbar": {
             "outlinewidth": 0,
             "ticks": ""
            },
            "type": "choropleth"
           }
          ],
          "contour": [
           {
            "colorbar": {
             "outlinewidth": 0,
             "ticks": ""
            },
            "colorscale": [
             [
              0,
              "#0d0887"
             ],
             [
              0.1111111111111111,
              "#46039f"
             ],
             [
              0.2222222222222222,
              "#7201a8"
             ],
             [
              0.3333333333333333,
              "#9c179e"
             ],
             [
              0.4444444444444444,
              "#bd3786"
             ],
             [
              0.5555555555555556,
              "#d8576b"
             ],
             [
              0.6666666666666666,
              "#ed7953"
             ],
             [
              0.7777777777777778,
              "#fb9f3a"
             ],
             [
              0.8888888888888888,
              "#fdca26"
             ],
             [
              1,
              "#f0f921"
             ]
            ],
            "type": "contour"
           }
          ],
          "contourcarpet": [
           {
            "colorbar": {
             "outlinewidth": 0,
             "ticks": ""
            },
            "type": "contourcarpet"
           }
          ],
          "heatmap": [
           {
            "colorbar": {
             "outlinewidth": 0,
             "ticks": ""
            },
            "colorscale": [
             [
              0,
              "#0d0887"
             ],
             [
              0.1111111111111111,
              "#46039f"
             ],
             [
              0.2222222222222222,
              "#7201a8"
             ],
             [
              0.3333333333333333,
              "#9c179e"
             ],
             [
              0.4444444444444444,
              "#bd3786"
             ],
             [
              0.5555555555555556,
              "#d8576b"
             ],
             [
              0.6666666666666666,
              "#ed7953"
             ],
             [
              0.7777777777777778,
              "#fb9f3a"
             ],
             [
              0.8888888888888888,
              "#fdca26"
             ],
             [
              1,
              "#f0f921"
             ]
            ],
            "type": "heatmap"
           }
          ],
          "heatmapgl": [
           {
            "colorbar": {
             "outlinewidth": 0,
             "ticks": ""
            },
            "colorscale": [
             [
              0,
              "#0d0887"
             ],
             [
              0.1111111111111111,
              "#46039f"
             ],
             [
              0.2222222222222222,
              "#7201a8"
             ],
             [
              0.3333333333333333,
              "#9c179e"
             ],
             [
              0.4444444444444444,
              "#bd3786"
             ],
             [
              0.5555555555555556,
              "#d8576b"
             ],
             [
              0.6666666666666666,
              "#ed7953"
             ],
             [
              0.7777777777777778,
              "#fb9f3a"
             ],
             [
              0.8888888888888888,
              "#fdca26"
             ],
             [
              1,
              "#f0f921"
             ]
            ],
            "type": "heatmapgl"
           }
          ],
          "histogram": [
           {
            "marker": {
             "pattern": {
              "fillmode": "overlay",
              "size": 10,
              "solidity": 0.2
             }
            },
            "type": "histogram"
           }
          ],
          "histogram2d": [
           {
            "colorbar": {
             "outlinewidth": 0,
             "ticks": ""
            },
            "colorscale": [
             [
              0,
              "#0d0887"
             ],
             [
              0.1111111111111111,
              "#46039f"
             ],
             [
              0.2222222222222222,
              "#7201a8"
             ],
             [
              0.3333333333333333,
              "#9c179e"
             ],
             [
              0.4444444444444444,
              "#bd3786"
             ],
             [
              0.5555555555555556,
              "#d8576b"
             ],
             [
              0.6666666666666666,
              "#ed7953"
             ],
             [
              0.7777777777777778,
              "#fb9f3a"
             ],
             [
              0.8888888888888888,
              "#fdca26"
             ],
             [
              1,
              "#f0f921"
             ]
            ],
            "type": "histogram2d"
           }
          ],
          "histogram2dcontour": [
           {
            "colorbar": {
             "outlinewidth": 0,
             "ticks": ""
            },
            "colorscale": [
             [
              0,
              "#0d0887"
             ],
             [
              0.1111111111111111,
              "#46039f"
             ],
             [
              0.2222222222222222,
              "#7201a8"
             ],
             [
              0.3333333333333333,
              "#9c179e"
             ],
             [
              0.4444444444444444,
              "#bd3786"
             ],
             [
              0.5555555555555556,
              "#d8576b"
             ],
             [
              0.6666666666666666,
              "#ed7953"
             ],
             [
              0.7777777777777778,
              "#fb9f3a"
             ],
             [
              0.8888888888888888,
              "#fdca26"
             ],
             [
              1,
              "#f0f921"
             ]
            ],
            "type": "histogram2dcontour"
           }
          ],
          "mesh3d": [
           {
            "colorbar": {
             "outlinewidth": 0,
             "ticks": ""
            },
            "type": "mesh3d"
           }
          ],
          "parcoords": [
           {
            "line": {
             "colorbar": {
              "outlinewidth": 0,
              "ticks": ""
             }
            },
            "type": "parcoords"
           }
          ],
          "pie": [
           {
            "automargin": true,
            "type": "pie"
           }
          ],
          "scatter": [
           {
            "fillpattern": {
             "fillmode": "overlay",
             "size": 10,
             "solidity": 0.2
            },
            "type": "scatter"
           }
          ],
          "scatter3d": [
           {
            "line": {
             "colorbar": {
              "outlinewidth": 0,
              "ticks": ""
             }
            },
            "marker": {
             "colorbar": {
              "outlinewidth": 0,
              "ticks": ""
             }
            },
            "type": "scatter3d"
           }
          ],
          "scattercarpet": [
           {
            "marker": {
             "colorbar": {
              "outlinewidth": 0,
              "ticks": ""
             }
            },
            "type": "scattercarpet"
           }
          ],
          "scattergeo": [
           {
            "marker": {
             "colorbar": {
              "outlinewidth": 0,
              "ticks": ""
             }
            },
            "type": "scattergeo"
           }
          ],
          "scattergl": [
           {
            "marker": {
             "colorbar": {
              "outlinewidth": 0,
              "ticks": ""
             }
            },
            "type": "scattergl"
           }
          ],
          "scattermapbox": [
           {
            "marker": {
             "colorbar": {
              "outlinewidth": 0,
              "ticks": ""
             }
            },
            "type": "scattermapbox"
           }
          ],
          "scatterpolar": [
           {
            "marker": {
             "colorbar": {
              "outlinewidth": 0,
              "ticks": ""
             }
            },
            "type": "scatterpolar"
           }
          ],
          "scatterpolargl": [
           {
            "marker": {
             "colorbar": {
              "outlinewidth": 0,
              "ticks": ""
             }
            },
            "type": "scatterpolargl"
           }
          ],
          "scatterternary": [
           {
            "marker": {
             "colorbar": {
              "outlinewidth": 0,
              "ticks": ""
             }
            },
            "type": "scatterternary"
           }
          ],
          "surface": [
           {
            "colorbar": {
             "outlinewidth": 0,
             "ticks": ""
            },
            "colorscale": [
             [
              0,
              "#0d0887"
             ],
             [
              0.1111111111111111,
              "#46039f"
             ],
             [
              0.2222222222222222,
              "#7201a8"
             ],
             [
              0.3333333333333333,
              "#9c179e"
             ],
             [
              0.4444444444444444,
              "#bd3786"
             ],
             [
              0.5555555555555556,
              "#d8576b"
             ],
             [
              0.6666666666666666,
              "#ed7953"
             ],
             [
              0.7777777777777778,
              "#fb9f3a"
             ],
             [
              0.8888888888888888,
              "#fdca26"
             ],
             [
              1,
              "#f0f921"
             ]
            ],
            "type": "surface"
           }
          ],
          "table": [
           {
            "cells": {
             "fill": {
              "color": "#EBF0F8"
             },
             "line": {
              "color": "white"
             }
            },
            "header": {
             "fill": {
              "color": "#C8D4E3"
             },
             "line": {
              "color": "white"
             }
            },
            "type": "table"
           }
          ]
         },
         "layout": {
          "annotationdefaults": {
           "arrowcolor": "#2a3f5f",
           "arrowhead": 0,
           "arrowwidth": 1
          },
          "autotypenumbers": "strict",
          "coloraxis": {
           "colorbar": {
            "outlinewidth": 0,
            "ticks": ""
           }
          },
          "colorscale": {
           "diverging": [
            [
             0,
             "#8e0152"
            ],
            [
             0.1,
             "#c51b7d"
            ],
            [
             0.2,
             "#de77ae"
            ],
            [
             0.3,
             "#f1b6da"
            ],
            [
             0.4,
             "#fde0ef"
            ],
            [
             0.5,
             "#f7f7f7"
            ],
            [
             0.6,
             "#e6f5d0"
            ],
            [
             0.7,
             "#b8e186"
            ],
            [
             0.8,
             "#7fbc41"
            ],
            [
             0.9,
             "#4d9221"
            ],
            [
             1,
             "#276419"
            ]
           ],
           "sequential": [
            [
             0,
             "#0d0887"
            ],
            [
             0.1111111111111111,
             "#46039f"
            ],
            [
             0.2222222222222222,
             "#7201a8"
            ],
            [
             0.3333333333333333,
             "#9c179e"
            ],
            [
             0.4444444444444444,
             "#bd3786"
            ],
            [
             0.5555555555555556,
             "#d8576b"
            ],
            [
             0.6666666666666666,
             "#ed7953"
            ],
            [
             0.7777777777777778,
             "#fb9f3a"
            ],
            [
             0.8888888888888888,
             "#fdca26"
            ],
            [
             1,
             "#f0f921"
            ]
           ],
           "sequentialminus": [
            [
             0,
             "#0d0887"
            ],
            [
             0.1111111111111111,
             "#46039f"
            ],
            [
             0.2222222222222222,
             "#7201a8"
            ],
            [
             0.3333333333333333,
             "#9c179e"
            ],
            [
             0.4444444444444444,
             "#bd3786"
            ],
            [
             0.5555555555555556,
             "#d8576b"
            ],
            [
             0.6666666666666666,
             "#ed7953"
            ],
            [
             0.7777777777777778,
             "#fb9f3a"
            ],
            [
             0.8888888888888888,
             "#fdca26"
            ],
            [
             1,
             "#f0f921"
            ]
           ]
          },
          "colorway": [
           "#636efa",
           "#EF553B",
           "#00cc96",
           "#ab63fa",
           "#FFA15A",
           "#19d3f3",
           "#FF6692",
           "#B6E880",
           "#FF97FF",
           "#FECB52"
          ],
          "font": {
           "color": "#2a3f5f"
          },
          "geo": {
           "bgcolor": "white",
           "lakecolor": "white",
           "landcolor": "white",
           "showlakes": true,
           "showland": true,
           "subunitcolor": "#C8D4E3"
          },
          "hoverlabel": {
           "align": "left"
          },
          "hovermode": "closest",
          "mapbox": {
           "style": "light"
          },
          "paper_bgcolor": "white",
          "plot_bgcolor": "white",
          "polar": {
           "angularaxis": {
            "gridcolor": "#EBF0F8",
            "linecolor": "#EBF0F8",
            "ticks": ""
           },
           "bgcolor": "white",
           "radialaxis": {
            "gridcolor": "#EBF0F8",
            "linecolor": "#EBF0F8",
            "ticks": ""
           }
          },
          "scene": {
           "xaxis": {
            "backgroundcolor": "white",
            "gridcolor": "#DFE8F3",
            "gridwidth": 2,
            "linecolor": "#EBF0F8",
            "showbackground": true,
            "ticks": "",
            "zerolinecolor": "#EBF0F8"
           },
           "yaxis": {
            "backgroundcolor": "white",
            "gridcolor": "#DFE8F3",
            "gridwidth": 2,
            "linecolor": "#EBF0F8",
            "showbackground": true,
            "ticks": "",
            "zerolinecolor": "#EBF0F8"
           },
           "zaxis": {
            "backgroundcolor": "white",
            "gridcolor": "#DFE8F3",
            "gridwidth": 2,
            "linecolor": "#EBF0F8",
            "showbackground": true,
            "ticks": "",
            "zerolinecolor": "#EBF0F8"
           }
          },
          "shapedefaults": {
           "line": {
            "color": "#2a3f5f"
           }
          },
          "ternary": {
           "aaxis": {
            "gridcolor": "#DFE8F3",
            "linecolor": "#A2B1C6",
            "ticks": ""
           },
           "baxis": {
            "gridcolor": "#DFE8F3",
            "linecolor": "#A2B1C6",
            "ticks": ""
           },
           "bgcolor": "white",
           "caxis": {
            "gridcolor": "#DFE8F3",
            "linecolor": "#A2B1C6",
            "ticks": ""
           }
          },
          "title": {
           "x": 0.05
          },
          "xaxis": {
           "automargin": true,
           "gridcolor": "#EBF0F8",
           "linecolor": "#EBF0F8",
           "ticks": "",
           "title": {
            "standoff": 15
           },
           "zerolinecolor": "#EBF0F8",
           "zerolinewidth": 2
          },
          "yaxis": {
           "automargin": true,
           "gridcolor": "#EBF0F8",
           "linecolor": "#EBF0F8",
           "ticks": "",
           "title": {
            "standoff": 15
           },
           "zerolinecolor": "#EBF0F8",
           "zerolinewidth": 2
          }
         }
        },
        "title": {
         "text": "Age distribution"
        },
        "width": 1200,
        "xaxis": {
         "anchor": "y",
         "domain": [
          0,
          1
         ],
         "title": {
          "text": "Age"
         }
        },
        "yaxis": {
         "anchor": "x",
         "domain": [
          0,
          1
         ],
         "title": {
          "text": "count"
         }
        }
       }
      }
     },
     "metadata": {},
     "output_type": "display_data"
    }
   ],
   "source": [
    "histogram_chart(\n",
    "    df=demografic_df,\n",
    "    xaxis=\"Age\",\n",
    "    title=\"Age distribution\",\n",
    ")"
   ]
  },
  {
   "cell_type": "markdown",
   "metadata": {},
   "source": [
    "The age histogram shows that the largest portion of respondents falls within the working-age group, specifically 25 to 40 years.\\\n",
    "Outliers are observed at both extremes: respondents younger than 18 years and older than 100 years.\\\n",
    "Since the number of outliers is minimal, they will be excluded from the analysis. The age range will be restricted to 18 to 67 years, based on the following rationale:\n",
    "\n",
    "- 18 years: The minimum age at which individuals can fully enter the workforce.\n",
    "- 67 years: The average retirement age for most employees.\n",
    "\n",
    "This adjustment ensures that the analysis focuses on a realistic and relevant working-age demographic.\n"
   ]
  },
  {
   "cell_type": "code",
   "execution_count": 14,
   "metadata": {},
   "outputs": [],
   "source": [
    "demografic_df = duckdb.sql(\n",
    "    \"\"\"\n",
    "    SELECT *\n",
    "\n",
    "    FROM demografic_df \n",
    "\n",
    "    WHERE\n",
    "        Age BETWEEN 18 AND 67 \n",
    "    \"\"\"\n",
    ").to_df()"
   ]
  },
  {
   "cell_type": "markdown",
   "metadata": {},
   "source": [
    "#### **Gender Data Cleaning**\n"
   ]
  },
  {
   "cell_type": "code",
   "execution_count": 15,
   "metadata": {},
   "outputs": [],
   "source": [
    "gender_df = duckdb.sql(\n",
    "    \"\"\"\n",
    "    SELECT\n",
    "        Gender,\n",
    "        COUNT(Gender) AS 'Qty' \n",
    "\n",
    "    FROM demografic_df\n",
    "\n",
    "    GROUP BY Gender \n",
    "    ORDER BY Qty DESC\n",
    "\"\"\"\n",
    ").to_df()"
   ]
  },
  {
   "cell_type": "code",
   "execution_count": 16,
   "metadata": {},
   "outputs": [
    {
     "data": {
      "application/vnd.plotly.v1+json": {
       "config": {
        "plotlyServerURL": "https://plot.ly"
       },
       "data": [
        {
         "alignmentgroup": "True",
         "hovertemplate": "Gender=%{x}<br>Qty=%{y}<extra></extra>",
         "legendgroup": "",
         "marker": {
          "color": "#e6cea0",
          "pattern": {
           "shape": ""
          }
         },
         "name": "",
         "offsetgroup": "",
         "orientation": "v",
         "showlegend": false,
         "textposition": "auto",
         "texttemplate": "%{y}",
         "type": "bar",
         "x": [
          "Male",
          "Female",
          "male",
          "female",
          "-1",
          "Nonbinary",
          "non-binary",
          "Genderqueer",
          "Agender",
          "Non-binary",
          "None",
          "Genderfluid",
          "Trans woman",
          "agender",
          "Non binary",
          "Male-ish",
          "Enby",
          "Female (trans)",
          "Trans man",
          "Nah",
          "fluid",
          "Androgyne",
          "Female assigned at birth",
          "fm",
          "Other/Transfeminine",
          "genderqueer",
          "Human",
          "mtf",
          "Genderqueer demigirl",
          "Transfeminine",
          "MALE",
          "Female/gender non-binary.",
          "Demiguy",
          "Transitioned, M2F",
          "Genderfluid (born female)",
          "none of your business",
          "AFAB",
          "Female-ish",
          "trans woman",
          "femmina",
          "Trans non-binary/genderfluid",
          "Neuter",
          "Female or Multi-Gender Femme",
          "male 9:1 female, roughly",
          "genderqueer woman",
          "human",
          "sometimes",
          "Ostensibly Male",
          "I am a Wookie",
          "queer/she/they",
          "something kinda male?",
          "Queer",
          "Unicorn",
          "nonbinary",
          "NB",
          "Masculine",
          "Cishet male",
          "I have a penis",
          "43",
          "Nonbinary/femme",
          "Questioning",
          "Non-binary and gender fluid",
          "ostensibly male, unsure what that really means",
          "Genderflux demi-girl",
          "She/her/they/them",
          "Female-identified",
          "Trans-female",
          "Androgynous",
          "Transgender woman",
          "male leaning androgynous",
          "queer",
          "Bigender",
          "Male/genderqueer",
          "female-bodied; no feelings about gender",
          "male/androgynous",
          "God King of the Valajar",
          "\\-",
          "Trans female",
          "SWM",
          "Guy (-ish) ^_^",
          "nb masculine",
          "Fluid",
          "Male (trans, FtM)",
          "Agender/genderfluid",
          "Genderqueer/non-binary",
          "Male (or female, or both)",
          "non binary",
          "genderfluid",
          "none",
          "masculino",
          "uhhhhhhhhh fem genderqueer?",
          "Woman-identified",
          "Contextual",
          "transgender",
          "Other",
          "gender non-conforming woman",
          "rr",
          "Agender trans woman"
         ],
         "xaxis": "x",
         "y": [
          2820,
          912,
          211,
          110,
          22,
          8,
          6,
          4,
          4,
          3,
          3,
          3,
          2,
          2,
          2,
          2,
          2,
          2,
          2,
          1,
          1,
          1,
          1,
          1,
          1,
          1,
          1,
          1,
          1,
          1,
          1,
          1,
          1,
          1,
          1,
          1,
          1,
          1,
          1,
          1,
          1,
          1,
          1,
          1,
          1,
          1,
          1,
          1,
          1,
          1,
          1,
          1,
          1,
          1,
          1,
          1,
          1,
          1,
          1,
          1,
          1,
          1,
          1,
          1,
          1,
          1,
          1,
          1,
          1,
          1,
          1,
          1,
          1,
          1,
          1,
          1,
          1,
          1,
          1,
          1,
          1,
          1,
          1,
          1,
          1,
          1,
          1,
          1,
          1,
          1,
          1,
          1,
          1,
          1,
          1,
          1,
          1,
          1
         ],
         "yaxis": "y"
        }
       ],
       "layout": {
        "barmode": "relative",
        "height": 300,
        "legend": {
         "tracegroupgap": 0
        },
        "template": {
         "data": {
          "bar": [
           {
            "error_x": {
             "color": "#2a3f5f"
            },
            "error_y": {
             "color": "#2a3f5f"
            },
            "marker": {
             "line": {
              "color": "white",
              "width": 0.5
             },
             "pattern": {
              "fillmode": "overlay",
              "size": 10,
              "solidity": 0.2
             }
            },
            "type": "bar"
           }
          ],
          "barpolar": [
           {
            "marker": {
             "line": {
              "color": "white",
              "width": 0.5
             },
             "pattern": {
              "fillmode": "overlay",
              "size": 10,
              "solidity": 0.2
             }
            },
            "type": "barpolar"
           }
          ],
          "carpet": [
           {
            "aaxis": {
             "endlinecolor": "#2a3f5f",
             "gridcolor": "#C8D4E3",
             "linecolor": "#C8D4E3",
             "minorgridcolor": "#C8D4E3",
             "startlinecolor": "#2a3f5f"
            },
            "baxis": {
             "endlinecolor": "#2a3f5f",
             "gridcolor": "#C8D4E3",
             "linecolor": "#C8D4E3",
             "minorgridcolor": "#C8D4E3",
             "startlinecolor": "#2a3f5f"
            },
            "type": "carpet"
           }
          ],
          "choropleth": [
           {
            "colorbar": {
             "outlinewidth": 0,
             "ticks": ""
            },
            "type": "choropleth"
           }
          ],
          "contour": [
           {
            "colorbar": {
             "outlinewidth": 0,
             "ticks": ""
            },
            "colorscale": [
             [
              0,
              "#0d0887"
             ],
             [
              0.1111111111111111,
              "#46039f"
             ],
             [
              0.2222222222222222,
              "#7201a8"
             ],
             [
              0.3333333333333333,
              "#9c179e"
             ],
             [
              0.4444444444444444,
              "#bd3786"
             ],
             [
              0.5555555555555556,
              "#d8576b"
             ],
             [
              0.6666666666666666,
              "#ed7953"
             ],
             [
              0.7777777777777778,
              "#fb9f3a"
             ],
             [
              0.8888888888888888,
              "#fdca26"
             ],
             [
              1,
              "#f0f921"
             ]
            ],
            "type": "contour"
           }
          ],
          "contourcarpet": [
           {
            "colorbar": {
             "outlinewidth": 0,
             "ticks": ""
            },
            "type": "contourcarpet"
           }
          ],
          "heatmap": [
           {
            "colorbar": {
             "outlinewidth": 0,
             "ticks": ""
            },
            "colorscale": [
             [
              0,
              "#0d0887"
             ],
             [
              0.1111111111111111,
              "#46039f"
             ],
             [
              0.2222222222222222,
              "#7201a8"
             ],
             [
              0.3333333333333333,
              "#9c179e"
             ],
             [
              0.4444444444444444,
              "#bd3786"
             ],
             [
              0.5555555555555556,
              "#d8576b"
             ],
             [
              0.6666666666666666,
              "#ed7953"
             ],
             [
              0.7777777777777778,
              "#fb9f3a"
             ],
             [
              0.8888888888888888,
              "#fdca26"
             ],
             [
              1,
              "#f0f921"
             ]
            ],
            "type": "heatmap"
           }
          ],
          "heatmapgl": [
           {
            "colorbar": {
             "outlinewidth": 0,
             "ticks": ""
            },
            "colorscale": [
             [
              0,
              "#0d0887"
             ],
             [
              0.1111111111111111,
              "#46039f"
             ],
             [
              0.2222222222222222,
              "#7201a8"
             ],
             [
              0.3333333333333333,
              "#9c179e"
             ],
             [
              0.4444444444444444,
              "#bd3786"
             ],
             [
              0.5555555555555556,
              "#d8576b"
             ],
             [
              0.6666666666666666,
              "#ed7953"
             ],
             [
              0.7777777777777778,
              "#fb9f3a"
             ],
             [
              0.8888888888888888,
              "#fdca26"
             ],
             [
              1,
              "#f0f921"
             ]
            ],
            "type": "heatmapgl"
           }
          ],
          "histogram": [
           {
            "marker": {
             "pattern": {
              "fillmode": "overlay",
              "size": 10,
              "solidity": 0.2
             }
            },
            "type": "histogram"
           }
          ],
          "histogram2d": [
           {
            "colorbar": {
             "outlinewidth": 0,
             "ticks": ""
            },
            "colorscale": [
             [
              0,
              "#0d0887"
             ],
             [
              0.1111111111111111,
              "#46039f"
             ],
             [
              0.2222222222222222,
              "#7201a8"
             ],
             [
              0.3333333333333333,
              "#9c179e"
             ],
             [
              0.4444444444444444,
              "#bd3786"
             ],
             [
              0.5555555555555556,
              "#d8576b"
             ],
             [
              0.6666666666666666,
              "#ed7953"
             ],
             [
              0.7777777777777778,
              "#fb9f3a"
             ],
             [
              0.8888888888888888,
              "#fdca26"
             ],
             [
              1,
              "#f0f921"
             ]
            ],
            "type": "histogram2d"
           }
          ],
          "histogram2dcontour": [
           {
            "colorbar": {
             "outlinewidth": 0,
             "ticks": ""
            },
            "colorscale": [
             [
              0,
              "#0d0887"
             ],
             [
              0.1111111111111111,
              "#46039f"
             ],
             [
              0.2222222222222222,
              "#7201a8"
             ],
             [
              0.3333333333333333,
              "#9c179e"
             ],
             [
              0.4444444444444444,
              "#bd3786"
             ],
             [
              0.5555555555555556,
              "#d8576b"
             ],
             [
              0.6666666666666666,
              "#ed7953"
             ],
             [
              0.7777777777777778,
              "#fb9f3a"
             ],
             [
              0.8888888888888888,
              "#fdca26"
             ],
             [
              1,
              "#f0f921"
             ]
            ],
            "type": "histogram2dcontour"
           }
          ],
          "mesh3d": [
           {
            "colorbar": {
             "outlinewidth": 0,
             "ticks": ""
            },
            "type": "mesh3d"
           }
          ],
          "parcoords": [
           {
            "line": {
             "colorbar": {
              "outlinewidth": 0,
              "ticks": ""
             }
            },
            "type": "parcoords"
           }
          ],
          "pie": [
           {
            "automargin": true,
            "type": "pie"
           }
          ],
          "scatter": [
           {
            "fillpattern": {
             "fillmode": "overlay",
             "size": 10,
             "solidity": 0.2
            },
            "type": "scatter"
           }
          ],
          "scatter3d": [
           {
            "line": {
             "colorbar": {
              "outlinewidth": 0,
              "ticks": ""
             }
            },
            "marker": {
             "colorbar": {
              "outlinewidth": 0,
              "ticks": ""
             }
            },
            "type": "scatter3d"
           }
          ],
          "scattercarpet": [
           {
            "marker": {
             "colorbar": {
              "outlinewidth": 0,
              "ticks": ""
             }
            },
            "type": "scattercarpet"
           }
          ],
          "scattergeo": [
           {
            "marker": {
             "colorbar": {
              "outlinewidth": 0,
              "ticks": ""
             }
            },
            "type": "scattergeo"
           }
          ],
          "scattergl": [
           {
            "marker": {
             "colorbar": {
              "outlinewidth": 0,
              "ticks": ""
             }
            },
            "type": "scattergl"
           }
          ],
          "scattermapbox": [
           {
            "marker": {
             "colorbar": {
              "outlinewidth": 0,
              "ticks": ""
             }
            },
            "type": "scattermapbox"
           }
          ],
          "scatterpolar": [
           {
            "marker": {
             "colorbar": {
              "outlinewidth": 0,
              "ticks": ""
             }
            },
            "type": "scatterpolar"
           }
          ],
          "scatterpolargl": [
           {
            "marker": {
             "colorbar": {
              "outlinewidth": 0,
              "ticks": ""
             }
            },
            "type": "scatterpolargl"
           }
          ],
          "scatterternary": [
           {
            "marker": {
             "colorbar": {
              "outlinewidth": 0,
              "ticks": ""
             }
            },
            "type": "scatterternary"
           }
          ],
          "surface": [
           {
            "colorbar": {
             "outlinewidth": 0,
             "ticks": ""
            },
            "colorscale": [
             [
              0,
              "#0d0887"
             ],
             [
              0.1111111111111111,
              "#46039f"
             ],
             [
              0.2222222222222222,
              "#7201a8"
             ],
             [
              0.3333333333333333,
              "#9c179e"
             ],
             [
              0.4444444444444444,
              "#bd3786"
             ],
             [
              0.5555555555555556,
              "#d8576b"
             ],
             [
              0.6666666666666666,
              "#ed7953"
             ],
             [
              0.7777777777777778,
              "#fb9f3a"
             ],
             [
              0.8888888888888888,
              "#fdca26"
             ],
             [
              1,
              "#f0f921"
             ]
            ],
            "type": "surface"
           }
          ],
          "table": [
           {
            "cells": {
             "fill": {
              "color": "#EBF0F8"
             },
             "line": {
              "color": "white"
             }
            },
            "header": {
             "fill": {
              "color": "#C8D4E3"
             },
             "line": {
              "color": "white"
             }
            },
            "type": "table"
           }
          ]
         },
         "layout": {
          "annotationdefaults": {
           "arrowcolor": "#2a3f5f",
           "arrowhead": 0,
           "arrowwidth": 1
          },
          "autotypenumbers": "strict",
          "coloraxis": {
           "colorbar": {
            "outlinewidth": 0,
            "ticks": ""
           }
          },
          "colorscale": {
           "diverging": [
            [
             0,
             "#8e0152"
            ],
            [
             0.1,
             "#c51b7d"
            ],
            [
             0.2,
             "#de77ae"
            ],
            [
             0.3,
             "#f1b6da"
            ],
            [
             0.4,
             "#fde0ef"
            ],
            [
             0.5,
             "#f7f7f7"
            ],
            [
             0.6,
             "#e6f5d0"
            ],
            [
             0.7,
             "#b8e186"
            ],
            [
             0.8,
             "#7fbc41"
            ],
            [
             0.9,
             "#4d9221"
            ],
            [
             1,
             "#276419"
            ]
           ],
           "sequential": [
            [
             0,
             "#0d0887"
            ],
            [
             0.1111111111111111,
             "#46039f"
            ],
            [
             0.2222222222222222,
             "#7201a8"
            ],
            [
             0.3333333333333333,
             "#9c179e"
            ],
            [
             0.4444444444444444,
             "#bd3786"
            ],
            [
             0.5555555555555556,
             "#d8576b"
            ],
            [
             0.6666666666666666,
             "#ed7953"
            ],
            [
             0.7777777777777778,
             "#fb9f3a"
            ],
            [
             0.8888888888888888,
             "#fdca26"
            ],
            [
             1,
             "#f0f921"
            ]
           ],
           "sequentialminus": [
            [
             0,
             "#0d0887"
            ],
            [
             0.1111111111111111,
             "#46039f"
            ],
            [
             0.2222222222222222,
             "#7201a8"
            ],
            [
             0.3333333333333333,
             "#9c179e"
            ],
            [
             0.4444444444444444,
             "#bd3786"
            ],
            [
             0.5555555555555556,
             "#d8576b"
            ],
            [
             0.6666666666666666,
             "#ed7953"
            ],
            [
             0.7777777777777778,
             "#fb9f3a"
            ],
            [
             0.8888888888888888,
             "#fdca26"
            ],
            [
             1,
             "#f0f921"
            ]
           ]
          },
          "colorway": [
           "#636efa",
           "#EF553B",
           "#00cc96",
           "#ab63fa",
           "#FFA15A",
           "#19d3f3",
           "#FF6692",
           "#B6E880",
           "#FF97FF",
           "#FECB52"
          ],
          "font": {
           "color": "#2a3f5f"
          },
          "geo": {
           "bgcolor": "white",
           "lakecolor": "white",
           "landcolor": "white",
           "showlakes": true,
           "showland": true,
           "subunitcolor": "#C8D4E3"
          },
          "hoverlabel": {
           "align": "left"
          },
          "hovermode": "closest",
          "mapbox": {
           "style": "light"
          },
          "paper_bgcolor": "white",
          "plot_bgcolor": "white",
          "polar": {
           "angularaxis": {
            "gridcolor": "#EBF0F8",
            "linecolor": "#EBF0F8",
            "ticks": ""
           },
           "bgcolor": "white",
           "radialaxis": {
            "gridcolor": "#EBF0F8",
            "linecolor": "#EBF0F8",
            "ticks": ""
           }
          },
          "scene": {
           "xaxis": {
            "backgroundcolor": "white",
            "gridcolor": "#DFE8F3",
            "gridwidth": 2,
            "linecolor": "#EBF0F8",
            "showbackground": true,
            "ticks": "",
            "zerolinecolor": "#EBF0F8"
           },
           "yaxis": {
            "backgroundcolor": "white",
            "gridcolor": "#DFE8F3",
            "gridwidth": 2,
            "linecolor": "#EBF0F8",
            "showbackground": true,
            "ticks": "",
            "zerolinecolor": "#EBF0F8"
           },
           "zaxis": {
            "backgroundcolor": "white",
            "gridcolor": "#DFE8F3",
            "gridwidth": 2,
            "linecolor": "#EBF0F8",
            "showbackground": true,
            "ticks": "",
            "zerolinecolor": "#EBF0F8"
           }
          },
          "shapedefaults": {
           "line": {
            "color": "#2a3f5f"
           }
          },
          "ternary": {
           "aaxis": {
            "gridcolor": "#DFE8F3",
            "linecolor": "#A2B1C6",
            "ticks": ""
           },
           "baxis": {
            "gridcolor": "#DFE8F3",
            "linecolor": "#A2B1C6",
            "ticks": ""
           },
           "bgcolor": "white",
           "caxis": {
            "gridcolor": "#DFE8F3",
            "linecolor": "#A2B1C6",
            "ticks": ""
           }
          },
          "title": {
           "x": 0.05
          },
          "xaxis": {
           "automargin": true,
           "gridcolor": "#EBF0F8",
           "linecolor": "#EBF0F8",
           "ticks": "",
           "title": {
            "standoff": 15
           },
           "zerolinecolor": "#EBF0F8",
           "zerolinewidth": 2
          },
          "yaxis": {
           "automargin": true,
           "gridcolor": "#EBF0F8",
           "linecolor": "#EBF0F8",
           "ticks": "",
           "title": {
            "standoff": 15
           },
           "zerolinecolor": "#EBF0F8",
           "zerolinewidth": 2
          }
         }
        },
        "title": {
         "text": "Qty by Gender"
        },
        "width": 1200,
        "xaxis": {
         "anchor": "y",
         "domain": [
          0,
          1
         ],
         "title": {
          "text": "Gender"
         }
        },
        "yaxis": {
         "anchor": "x",
         "domain": [
          0,
          1
         ],
         "title": {
          "text": "Qty"
         }
        }
       }
      }
     },
     "metadata": {},
     "output_type": "display_data"
    }
   ],
   "source": [
    "bar_chart(df=gender_df, xaxis=\"Gender\", yaxis=\"Qty\", title=\"Qty by Gender\")"
   ]
  },
  {
   "cell_type": "code",
   "execution_count": 17,
   "metadata": {},
   "outputs": [
    {
     "name": "stdout",
     "output_type": "stream",
     "text": [
      "Qty of genders others than male and female: 146\n"
     ]
    }
   ],
   "source": [
    "print(\"Qty of genders others than male and female:\", gender_df[\"Qty\"][4:].sum())"
   ]
  },
  {
   "cell_type": "markdown",
   "metadata": {},
   "source": [
    "The gender labels Male and Female are inconsistently capitalized. To standardize the data, all gender labels will be converted to lowercase.\\\n",
    "Additionally, other gender labels will be eliminated for the following reasons:\n",
    "\n",
    "- The quantity is insignificant for further calculations.\n",
    "- Some labels raise concerns about insincere responses.\n",
    "\n",
    "This cleaning step ensures consistency and accuracy in the dataset, focusing on meaningful and reliable insights.\n"
   ]
  },
  {
   "cell_type": "code",
   "execution_count": 18,
   "metadata": {},
   "outputs": [],
   "source": [
    "demografic_df = duckdb.sql(\n",
    "    \"\"\"\n",
    "    SELECT\n",
    "        UserID,\n",
    "        Year,\n",
    "        Age,\n",
    "        LOWER(Gender) AS Gender,\n",
    "        Location\n",
    "\n",
    "    FROM demografic_df\n",
    "    \n",
    "    WHERE LOWER(Gender) IN ('male', 'female') \n",
    "\"\"\"\n",
    ").to_df()"
   ]
  },
  {
   "cell_type": "markdown",
   "metadata": {},
   "source": [
    "#### **Age Distribution by Gender**\n"
   ]
  },
  {
   "cell_type": "code",
   "execution_count": 19,
   "metadata": {},
   "outputs": [
    {
     "data": {
      "application/vnd.plotly.v1+json": {
       "config": {
        "plotlyServerURL": "https://plot.ly"
       },
       "data": [
        {
         "alignmentgroup": "True",
         "bingroup": "x",
         "hovertemplate": "Gender=male<br>Age=%{x}<br>count=%{y}<extra></extra>",
         "legendgroup": "male",
         "marker": {
          "color": "#095786",
          "pattern": {
           "shape": ""
          }
         },
         "name": "male",
         "offsetgroup": "male",
         "orientation": "v",
         "showlegend": true,
         "type": "histogram",
         "x": [
          44,
          32,
          31,
          31,
          33,
          39,
          23,
          31,
          29,
          36,
          27,
          23,
          32,
          46,
          36,
          29,
          31,
          46,
          41,
          33,
          35,
          33,
          34,
          37,
          32,
          31,
          30,
          42,
          27,
          29,
          38,
          50,
          35,
          24,
          35,
          27,
          18,
          30,
          28,
          34,
          26,
          30,
          22,
          33,
          31,
          32,
          28,
          32,
          24,
          26,
          33,
          44,
          27,
          26,
          35,
          40,
          36,
          34,
          28,
          34,
          38,
          33,
          19,
          25,
          31,
          32,
          28,
          38,
          23,
          30,
          33,
          31,
          39,
          32,
          31,
          40,
          34,
          29,
          24,
          31,
          33,
          30,
          25,
          33,
          29,
          35,
          35,
          28,
          34,
          32,
          22,
          28,
          45,
          32,
          28,
          26,
          21,
          27,
          18,
          35,
          29,
          25,
          33,
          36,
          27,
          27,
          27,
          32,
          31,
          19,
          33,
          32,
          27,
          38,
          24,
          39,
          28,
          39,
          22,
          38,
          37,
          35,
          37,
          24,
          23,
          30,
          19,
          32,
          28,
          36,
          37,
          25,
          27,
          26,
          27,
          25,
          36,
          31,
          26,
          34,
          42,
          23,
          24,
          26,
          31,
          22,
          31,
          28,
          33,
          29,
          45,
          43,
          37,
          24,
          26,
          23,
          28,
          28,
          35,
          31,
          26,
          27,
          28,
          41,
          37,
          34,
          32,
          21,
          30,
          24,
          26,
          37,
          26,
          30,
          31,
          41,
          33,
          28,
          28,
          23,
          24,
          32,
          34,
          24,
          26,
          36,
          41,
          38,
          38,
          30,
          25,
          37,
          34,
          22,
          34,
          33,
          25,
          27,
          40,
          21,
          29,
          32,
          23,
          28,
          31,
          27,
          24,
          29,
          42,
          24,
          25,
          27,
          30,
          29,
          43,
          32,
          41,
          32,
          32,
          30,
          30,
          34,
          38,
          33,
          34,
          28,
          28,
          23,
          22,
          27,
          18,
          35,
          25,
          27,
          18,
          30,
          35,
          45,
          32,
          56,
          60,
          33,
          37,
          26,
          26,
          26,
          25,
          27,
          25,
          35,
          36,
          26,
          27,
          30,
          29,
          25,
          29,
          41,
          29,
          32,
          25,
          25,
          25,
          30,
          33,
          24,
          25,
          31,
          45,
          29,
          46,
          30,
          24,
          29,
          35,
          27,
          36,
          33,
          23,
          54,
          22,
          29,
          27,
          30,
          26,
          31,
          33,
          34,
          34,
          29,
          34,
          26,
          32,
          28,
          35,
          36,
          21,
          21,
          41,
          55,
          45,
          41,
          27,
          31,
          25,
          26,
          42,
          31,
          26,
          29,
          48,
          35,
          29,
          26,
          28,
          23,
          35,
          29,
          26,
          33,
          33,
          22,
          33,
          21,
          30,
          23,
          34,
          55,
          28,
          26,
          28,
          32,
          21,
          24,
          23,
          28,
          33,
          34,
          28,
          26,
          20,
          29,
          26,
          36,
          41,
          23,
          39,
          34,
          24,
          37,
          43,
          30,
          34,
          27,
          36,
          27,
          35,
          32,
          37,
          29,
          28,
          27,
          38,
          57,
          28,
          26,
          31,
          58,
          29,
          34,
          57,
          27,
          23,
          18,
          23,
          43,
          29,
          48,
          43,
          30,
          26,
          33,
          31,
          30,
          27,
          25,
          36,
          54,
          34,
          40,
          32,
          25,
          46,
          42,
          32,
          47,
          22,
          29,
          39,
          38,
          43,
          46,
          33,
          34,
          62,
          35,
          25,
          36,
          24,
          51,
          29,
          27,
          31,
          23,
          21,
          39,
          26,
          27,
          32,
          30,
          36,
          21,
          30,
          32,
          34,
          33,
          22,
          24,
          65,
          27,
          33,
          36,
          40,
          28,
          39,
          32,
          31,
          38,
          23,
          42,
          50,
          37,
          23,
          33,
          29,
          34,
          41,
          50,
          29,
          35,
          27,
          27,
          31,
          43,
          34,
          29,
          19,
          41,
          29,
          23,
          31,
          43,
          31,
          29,
          35,
          33,
          27,
          32,
          50,
          24,
          27,
          27,
          32,
          42,
          37,
          30,
          29,
          30,
          35,
          35,
          38,
          22,
          24,
          22,
          34,
          28,
          56,
          31,
          35,
          28,
          36,
          30,
          35,
          49,
          36,
          35,
          57,
          37,
          25,
          30,
          39,
          29,
          54,
          32,
          25,
          29,
          32,
          30,
          31,
          27,
          32,
          26,
          30,
          30,
          22,
          24,
          26,
          43,
          26,
          23,
          26,
          35,
          28,
          22,
          29,
          45,
          33,
          38,
          49,
          28,
          23,
          29,
          30,
          32,
          32,
          37,
          31,
          29,
          30,
          33,
          37,
          23,
          43,
          32,
          26,
          32,
          29,
          34,
          27,
          30,
          29,
          32,
          25,
          37,
          29,
          27,
          33,
          30,
          29,
          25,
          33,
          31,
          21,
          30,
          29,
          43,
          37,
          24,
          29,
          31,
          33,
          43,
          33,
          27,
          36,
          37,
          32,
          39,
          31,
          36,
          30,
          28,
          32,
          35,
          19,
          33,
          42,
          37,
          40,
          36,
          26,
          34,
          21,
          31,
          37,
          38,
          39,
          27,
          28,
          39,
          33,
          32,
          28,
          37,
          39,
          43,
          43,
          33,
          34,
          33,
          25,
          25,
          32,
          25,
          37,
          39,
          29,
          33,
          38,
          28,
          27,
          29,
          23,
          39,
          32,
          27,
          41,
          29,
          29,
          35,
          28,
          39,
          44,
          35,
          35,
          38,
          34,
          43,
          20,
          40,
          35,
          29,
          40,
          29,
          34,
          44,
          43,
          36,
          43,
          36,
          35,
          33,
          37,
          34,
          36,
          40,
          40,
          42,
          23,
          21,
          26,
          31,
          25,
          51,
          24,
          33,
          32,
          32,
          26,
          23,
          33,
          46,
          34,
          35,
          39,
          32,
          43,
          56,
          41,
          39,
          37,
          30,
          31,
          29,
          31,
          29,
          30,
          37,
          36,
          35,
          41,
          31,
          38,
          26,
          39,
          42,
          32,
          29,
          30,
          40,
          51,
          33,
          34,
          50,
          24,
          25,
          43,
          24,
          51,
          49,
          30,
          36,
          48,
          48,
          53,
          33,
          30,
          30,
          34,
          31,
          28,
          35,
          28,
          42,
          33,
          29,
          43,
          29,
          25,
          31,
          34,
          43,
          38,
          26,
          38,
          42,
          33,
          32,
          44,
          28,
          40,
          32,
          28,
          39,
          45,
          43,
          35,
          40,
          34,
          24,
          61,
          38,
          33,
          30,
          34,
          26,
          33,
          32,
          25,
          35,
          24,
          55,
          33,
          25,
          45,
          43,
          30,
          40,
          49,
          29,
          26,
          38,
          27,
          26,
          28,
          40,
          28,
          27,
          29,
          28,
          23,
          38,
          19,
          28,
          20,
          35,
          39,
          32,
          27,
          25,
          42,
          34,
          35,
          34,
          38,
          34,
          39,
          40,
          31,
          23,
          30,
          25,
          19,
          32,
          32,
          37,
          42,
          19,
          34,
          26,
          31,
          40,
          36,
          35,
          26,
          44,
          35,
          33,
          40,
          26,
          33,
          28,
          41,
          39,
          35,
          36,
          42,
          39,
          27,
          33,
          31,
          27,
          44,
          25,
          24,
          25,
          34,
          26,
          48,
          34,
          43,
          41,
          25,
          31,
          40,
          43,
          32,
          25,
          29,
          32,
          37,
          41,
          38,
          32,
          43,
          32,
          25,
          37,
          36,
          24,
          40,
          29,
          43,
          29,
          26,
          45,
          25,
          50,
          26,
          30,
          33,
          29,
          37,
          25,
          40,
          24,
          40,
          46,
          38,
          34,
          32,
          44,
          35,
          26,
          37,
          28,
          32,
          27,
          27,
          27,
          25,
          41,
          23,
          21,
          26,
          29,
          28,
          23,
          38,
          39,
          35,
          32,
          32,
          26,
          38,
          39,
          32,
          37,
          31,
          30,
          51,
          29,
          31,
          31,
          26,
          32,
          29,
          34,
          26,
          29,
          30,
          23,
          20,
          38,
          29,
          40,
          38,
          38,
          40,
          44,
          34,
          37,
          38,
          27,
          34,
          32,
          25,
          28,
          31,
          24,
          34,
          32,
          34,
          23,
          33,
          29,
          24,
          45,
          31,
          33,
          28,
          27,
          42,
          28,
          38,
          46,
          46,
          23,
          24,
          39,
          25,
          39,
          24,
          25,
          23,
          23,
          60,
          28,
          28,
          30,
          31,
          31,
          28,
          22,
          32,
          36,
          30,
          30,
          36,
          29,
          36,
          26,
          32,
          34,
          25,
          41,
          39,
          29,
          38,
          43,
          42,
          30,
          30,
          28,
          34,
          44,
          35,
          52,
          34,
          31,
          26,
          35,
          25,
          33,
          38,
          42,
          27,
          35,
          30,
          31,
          37,
          36,
          33,
          44,
          29,
          29,
          44,
          34,
          40,
          28,
          41,
          33,
          32,
          45,
          43,
          37,
          27,
          31,
          36,
          34,
          30,
          32,
          40,
          41,
          27,
          30,
          29,
          38,
          35,
          29,
          28,
          27,
          39,
          28,
          46,
          40,
          37,
          41,
          19,
          33,
          33,
          21,
          36,
          39,
          35,
          36,
          45,
          41,
          35,
          30,
          33,
          35,
          26,
          26,
          46,
          39,
          40,
          23,
          30,
          27,
          31,
          30,
          30,
          31,
          30,
          32,
          22,
          51,
          26,
          43,
          30,
          30,
          38,
          34,
          45,
          45,
          30,
          34,
          37,
          38,
          31,
          33,
          35,
          21,
          40,
          35,
          44,
          45,
          42,
          40,
          36,
          29,
          37,
          31,
          42,
          25,
          27,
          21,
          37,
          40,
          25,
          36,
          25,
          35,
          37,
          45,
          26,
          23,
          31,
          27,
          37,
          37,
          23,
          40,
          29,
          37,
          40,
          39,
          28,
          28,
          27,
          48,
          35,
          35,
          38,
          32,
          42,
          35,
          24,
          29,
          24,
          30,
          30,
          44,
          37,
          28,
          42,
          36,
          30,
          29,
          25,
          25,
          24,
          25,
          31,
          37,
          35,
          31,
          33,
          30,
          30,
          27,
          26,
          49,
          30,
          34,
          31,
          29,
          31,
          34,
          28,
          27,
          33,
          45,
          36,
          30,
          30,
          29,
          36,
          28,
          36,
          29,
          25,
          37,
          32,
          38,
          26,
          40,
          42,
          36,
          44,
          24,
          44,
          31,
          49,
          27,
          28,
          41,
          38,
          29,
          31,
          54,
          33,
          29,
          26,
          34,
          30,
          34,
          22,
          31,
          56,
          39,
          21,
          63,
          46,
          35,
          34,
          35,
          31,
          36,
          50,
          31,
          47,
          27,
          34,
          25,
          35,
          37,
          29,
          28,
          29,
          40,
          29,
          35,
          25,
          43,
          26,
          31,
          23,
          39,
          28,
          36,
          22,
          51,
          39,
          36,
          28,
          40,
          38,
          29,
          43,
          45,
          26,
          42,
          28,
          34,
          42,
          29,
          34,
          28,
          38,
          33,
          32,
          35,
          41,
          30,
          32,
          32,
          37,
          33,
          22,
          30,
          34,
          32,
          37,
          31,
          26,
          30,
          36,
          38,
          24,
          26,
          37,
          32,
          32,
          30,
          27,
          29,
          30,
          40,
          46,
          26,
          30,
          35,
          35,
          29,
          34,
          27,
          39,
          27,
          31,
          26,
          44,
          27,
          34,
          38,
          55,
          28,
          35,
          26,
          31,
          31,
          40,
          26,
          36,
          33,
          22,
          33,
          29,
          38,
          33,
          23,
          30,
          30,
          28,
          39,
          27,
          35,
          23,
          37,
          35,
          27,
          42,
          32,
          26,
          28,
          28,
          32,
          43,
          34,
          50,
          38,
          51,
          38,
          34,
          43,
          44,
          35,
          50,
          29,
          29,
          36,
          33,
          50,
          46,
          41,
          31,
          55,
          34,
          33,
          29,
          28,
          28,
          32,
          45,
          29,
          23,
          31,
          37,
          29,
          28,
          30,
          55,
          20,
          25,
          22,
          35,
          27,
          24,
          39,
          29,
          30,
          32,
          34,
          30,
          36,
          26,
          33,
          30,
          46,
          32,
          34,
          41,
          32,
          47,
          29,
          36,
          32,
          29,
          22,
          30,
          22,
          30,
          33,
          45,
          28,
          44,
          31,
          29,
          26,
          44,
          45,
          34,
          35,
          39,
          26,
          41,
          24,
          24,
          34,
          36,
          41,
          21,
          33,
          32,
          37,
          32,
          31,
          28,
          40,
          29,
          33,
          27,
          24,
          28,
          42,
          28,
          40,
          33,
          40,
          26,
          38,
          34,
          44,
          54,
          24,
          31,
          47,
          30,
          34,
          27,
          29,
          27,
          29,
          29,
          42,
          26,
          34,
          24,
          25,
          22,
          33,
          53,
          32,
          32,
          55,
          27,
          34,
          26,
          39,
          32,
          46,
          58,
          30,
          46,
          45,
          22,
          21,
          34,
          27,
          33,
          26,
          34,
          34,
          25,
          37,
          30,
          42,
          31,
          32,
          42,
          36,
          23,
          36,
          27,
          32,
          21,
          44,
          33,
          38,
          38,
          66,
          25,
          22,
          29,
          33,
          27,
          44,
          38,
          32,
          43,
          32,
          41,
          46,
          43,
          42,
          49,
          36,
          30,
          28,
          37,
          37,
          42,
          32,
          28,
          28,
          29,
          35,
          19,
          35,
          31,
          31,
          37,
          63,
          45,
          35,
          32,
          44,
          39,
          19,
          40,
          39,
          35,
          35,
          35,
          44,
          39,
          32,
          45,
          31,
          29,
          20,
          34,
          35,
          31,
          36,
          30,
          46,
          45,
          26,
          28,
          44,
          42,
          30,
          31,
          29,
          33,
          28,
          38,
          30,
          39,
          28,
          37,
          33,
          21,
          25,
          40,
          27,
          25,
          38,
          24,
          23,
          26,
          43,
          30,
          35,
          40,
          35,
          22,
          28,
          39,
          33,
          37,
          42,
          52,
          30,
          35,
          24,
          39,
          34,
          32,
          25,
          43,
          39,
          35,
          34,
          38,
          24,
          25,
          37,
          33,
          34,
          27,
          33,
          50,
          39,
          36,
          34,
          36,
          48,
          31,
          32,
          32,
          31,
          28,
          33,
          59,
          33,
          37,
          39,
          50,
          50,
          39,
          46,
          28,
          32,
          37,
          38,
          51,
          29,
          37,
          31,
          32,
          31,
          52,
          31,
          35,
          29,
          63,
          43,
          38,
          27,
          32,
          46,
          42,
          31,
          35,
          35,
          24,
          23,
          38,
          28,
          30,
          38,
          33,
          35,
          54,
          28,
          39,
          31,
          30,
          26,
          30,
          30,
          31,
          32,
          29,
          27,
          38,
          38,
          34,
          36,
          23,
          39,
          28,
          33,
          32,
          32,
          27,
          33,
          34,
          35,
          39,
          35,
          34,
          42,
          30,
          55,
          46,
          33,
          30,
          30,
          38,
          32,
          32,
          47,
          39,
          35,
          36,
          30,
          33,
          22,
          35,
          26,
          34,
          40,
          37,
          43,
          20,
          32,
          35,
          29,
          29,
          30,
          30,
          38,
          30,
          26,
          27,
          24,
          35,
          38,
          34,
          35,
          25,
          37,
          28,
          45,
          31,
          30,
          48,
          44,
          29,
          52,
          34,
          27,
          30,
          40,
          26,
          36,
          35,
          38,
          35,
          45,
          47,
          27,
          26,
          51,
          25,
          41,
          34,
          43,
          33,
          37,
          38,
          42,
          30,
          43,
          33,
          25,
          27,
          27,
          27,
          35,
          24,
          31,
          32,
          33,
          56,
          43,
          49,
          35,
          53,
          45,
          40,
          52,
          30,
          41,
          31,
          31,
          44,
          37,
          22,
          28,
          49,
          43,
          33,
          43,
          21,
          39,
          46,
          32,
          31,
          44,
          36,
          36,
          31,
          23,
          23,
          34,
          25,
          39,
          37,
          26,
          41,
          28,
          33,
          28,
          47,
          25,
          51,
          26,
          24,
          57,
          39,
          38,
          33,
          30,
          40,
          34,
          42,
          30,
          29,
          31,
          40,
          39,
          37,
          27,
          45,
          29,
          33,
          32,
          29,
          36,
          40,
          36,
          38,
          23,
          29,
          38,
          28,
          38,
          46,
          49,
          34,
          43,
          35,
          32,
          33,
          28,
          48,
          40,
          22,
          33,
          29,
          32,
          43,
          49,
          44,
          29,
          27,
          30,
          47,
          30,
          39,
          36,
          34,
          28,
          38,
          39,
          32,
          34,
          26,
          29,
          39,
          42,
          28,
          33,
          25,
          45,
          40,
          39,
          34,
          44,
          45,
          43,
          29,
          37,
          28,
          28,
          39,
          22,
          31,
          29,
          33,
          37,
          42,
          31,
          34,
          29,
          40,
          43,
          45,
          32,
          38,
          40,
          38,
          32,
          37,
          24,
          24,
          55,
          32,
          29,
          20,
          41,
          25,
          29,
          39,
          39,
          44,
          31,
          37,
          42,
          35,
          30,
          30,
          33,
          31,
          27,
          34,
          31,
          34,
          39,
          22,
          41,
          37,
          32,
          26,
          38,
          21,
          27,
          45,
          26,
          21,
          21,
          29,
          46,
          28,
          44,
          39,
          35,
          21,
          35,
          56,
          24,
          37,
          31,
          34,
          33,
          22,
          34,
          30,
          37,
          26,
          29,
          27,
          23,
          22,
          28,
          22,
          32,
          26,
          32,
          37,
          24,
          33,
          28,
          46,
          30,
          29,
          22,
          30,
          25,
          39,
          31,
          25,
          39,
          35,
          23,
          30,
          28,
          32,
          35,
          30,
          32,
          35,
          29,
          39,
          37,
          35,
          33,
          23,
          29,
          28,
          30,
          28,
          37,
          30,
          27,
          29,
          28,
          29,
          34,
          36,
          38,
          24,
          24,
          31,
          39,
          41,
          29,
          37,
          30,
          24,
          24,
          56,
          52,
          31,
          36,
          22,
          30,
          35,
          36,
          40,
          35,
          23,
          28,
          38,
          53,
          21,
          22,
          18,
          25,
          40,
          33,
          32,
          46,
          31,
          46,
          25,
          35,
          40,
          32,
          39,
          33,
          40,
          42,
          32,
          39,
          47,
          64,
          28,
          45,
          37,
          25,
          61,
          26,
          26,
          45,
          23,
          44,
          38,
          46,
          35,
          32,
          50,
          31,
          46,
          30,
          30,
          34,
          42,
          30,
          23,
          31,
          26,
          28,
          37,
          37,
          38,
          34,
          30,
          52,
          29,
          44,
          42,
          30,
          29,
          39,
          43,
          38,
          42,
          46,
          30,
          25,
          26,
          43,
          34,
          27,
          22,
          41,
          39,
          24,
          54,
          47,
          33,
          48,
          35,
          34,
          31,
          25,
          48,
          34,
          42,
          27,
          48,
          29,
          35,
          22,
          20,
          36,
          31,
          28,
          28,
          30,
          45,
          31,
          36,
          37,
          37,
          28,
          37,
          37,
          64,
          34,
          36,
          26,
          33,
          26,
          37,
          29,
          44,
          35,
          31,
          30,
          42,
          35,
          31,
          30,
          39,
          29,
          27,
          29,
          43,
          31,
          36,
          44,
          28,
          43,
          32,
          33,
          45,
          42,
          25,
          40,
          28,
          37,
          35,
          47,
          20,
          42,
          35,
          29,
          37,
          51,
          60,
          38,
          35,
          41,
          27,
          53,
          33,
          40,
          30,
          28,
          26,
          31,
          32,
          24,
          34,
          47,
          59,
          44,
          26,
          43,
          39,
          43,
          40,
          22,
          24,
          35,
          40,
          26,
          23,
          30,
          37,
          27,
          42,
          49,
          40,
          29,
          40,
          23,
          50,
          35,
          24,
          36,
          30,
          30,
          32,
          38,
          38,
          44,
          33,
          35,
          23,
          53,
          32,
          24,
          31,
          33,
          37,
          27,
          31,
          32,
          40,
          32,
          31,
          33,
          35,
          46,
          36,
          57,
          26,
          36,
          30,
          35,
          30,
          32,
          35,
          33,
          48,
          32,
          45,
          31,
          40,
          37,
          29,
          26,
          29,
          30,
          27,
          42,
          47,
          32,
          60,
          58,
          38,
          41,
          25,
          42,
          42,
          41,
          24,
          37,
          32,
          34,
          37,
          38,
          30,
          27,
          41,
          39,
          42,
          29,
          41,
          46,
          38,
          34,
          28,
          38,
          33,
          48,
          34,
          39,
          41,
          33,
          31,
          44,
          28,
          40,
          30,
          34,
          21,
          37,
          27,
          37,
          33,
          28,
          41,
          34,
          37,
          28,
          52,
          39,
          45,
          50,
          27,
          44,
          31,
          23,
          38,
          37,
          33,
          34,
          47,
          38,
          29,
          37,
          39,
          39,
          29,
          24,
          32,
          37,
          34,
          52,
          36,
          52,
          30,
          41,
          29,
          38,
          47,
          22,
          36,
          32,
          29,
          39,
          36,
          38,
          37,
          38,
          38,
          26,
          25,
          40,
          31,
          49,
          30,
          35,
          46,
          22,
          39,
          40,
          31,
          38,
          45,
          37,
          54,
          36,
          28,
          32,
          40,
          33,
          40,
          37,
          42,
          23,
          38,
          42,
          30,
          35,
          30,
          34,
          33,
          32,
          30,
          24,
          32,
          37,
          27,
          26,
          24,
          44,
          40,
          42,
          40,
          34,
          34,
          26,
          39,
          30,
          22,
          29,
          24,
          37,
          46,
          43,
          50,
          30,
          27,
          31,
          32,
          34,
          49,
          37,
          32,
          31,
          33,
          40,
          56,
          25,
          48,
          29,
          34,
          33,
          49,
          38,
          36,
          36,
          28,
          46,
          20,
          30,
          34,
          35,
          35,
          30,
          33,
          30,
          41,
          32,
          48,
          32,
          30,
          30,
          32,
          30,
          30,
          37,
          26,
          50,
          32,
          32,
          23,
          36,
          28,
          51,
          36,
          40,
          39,
          45,
          39,
          33,
          46,
          34,
          30,
          31,
          28,
          31,
          32,
          39,
          26,
          26,
          31,
          31,
          40,
          41,
          39,
          39,
          37,
          32,
          24,
          25,
          49,
          28,
          22,
          41,
          36,
          32,
          23,
          53,
          34,
          30,
          23,
          30,
          28,
          36,
          39,
          48,
          43,
          35,
          28,
          27,
          28,
          37,
          36,
          37,
          53,
          43,
          44,
          47,
          34,
          29,
          38,
          41,
          40,
          30,
          29,
          46,
          34,
          55,
          35,
          33,
          37,
          45,
          31,
          26,
          35,
          47,
          37,
          32,
          46,
          37,
          36,
          29,
          45,
          30,
          46,
          29,
          26,
          26,
          44,
          32,
          34,
          19,
          38,
          61,
          44,
          31,
          52,
          44,
          39,
          36,
          39,
          33,
          37,
          34,
          28,
          42,
          35,
          37,
          31,
          24,
          36,
          33,
          26,
          26,
          24,
          34,
          25,
          28,
          26,
          32,
          23,
          46,
          28,
          38,
          26,
          35,
          57,
          38,
          41,
          43,
          35,
          28,
          42,
          39,
          28,
          22,
          45,
          28,
          31,
          28,
          37,
          32,
          47,
          36,
          61,
          28,
          31,
          35,
          40,
          32,
          41,
          34,
          56,
          40,
          39,
          31,
          36,
          46,
          25,
          41,
          37,
          41,
          38,
          42,
          30,
          54,
          24,
          32,
          44,
          38,
          37,
          36,
          33,
          31,
          43,
          34,
          38,
          55,
          25,
          37,
          39,
          23,
          43,
          29,
          25,
          36,
          33,
          34,
          28,
          39,
          37,
          29,
          31,
          49,
          43,
          23,
          42,
          36,
          38,
          41,
          25,
          33,
          34,
          28,
          49,
          41,
          36,
          37,
          39,
          33,
          34,
          29,
          25,
          35,
          32,
          21,
          43,
          23,
          28,
          30,
          30,
          35,
          30,
          32,
          28,
          33,
          43,
          38,
          39,
          21,
          32,
          40,
          35,
          28,
          37,
          46,
          27,
          33,
          31,
          38,
          38,
          29,
          27,
          36,
          26,
          43,
          37,
          26,
          46,
          37,
          36,
          42,
          41,
          26,
          37,
          35,
          45,
          23,
          26,
          23,
          26,
          34,
          22,
          40,
          42,
          35,
          36,
          37,
          27,
          38,
          32,
          51,
          44,
          42,
          26,
          38,
          40,
          32,
          39,
          38,
          42,
          57,
          28,
          31,
          34,
          35,
          30,
          30,
          35,
          39,
          24,
          42,
          35,
          34,
          37,
          36,
          42,
          30,
          36,
          41,
          31,
          65,
          30,
          37,
          61,
          45,
          29,
          41,
          39,
          30,
          46,
          42,
          52,
          36,
          34,
          50,
          51,
          35,
          34,
          37,
          46,
          31,
          35,
          40,
          28,
          28,
          39,
          31,
          27,
          35,
          25,
          51,
          27,
          37,
          46,
          35,
          45,
          40,
          37,
          31,
          37,
          43,
          35,
          31,
          37,
          41,
          37,
          53,
          29,
          37,
          26,
          28,
          27,
          42,
          34,
          34,
          27,
          31,
          30,
          58,
          50,
          41,
          40,
          28,
          49,
          37,
          36,
          52,
          38,
          64,
          40,
          37,
          55,
          30,
          35,
          60,
          35,
          34,
          28,
          24,
          50,
          55,
          32,
          33,
          30,
          34,
          30,
          29,
          34,
          40,
          47,
          36,
          28,
          34,
          28,
          36,
          24,
          33,
          39,
          42,
          41,
          32,
          33,
          30,
          30,
          48,
          29,
          41,
          42,
          32,
          32,
          38,
          31,
          26,
          40,
          30,
          38,
          28,
          30,
          30,
          38,
          34,
          40,
          42,
          42,
          38,
          35,
          42,
          40,
          37,
          37,
          23,
          49,
          38,
          33,
          27,
          47,
          28,
          23,
          38,
          45,
          35,
          51,
          29,
          40,
          38,
          32,
          28,
          30,
          39,
          22,
          26,
          42,
          49,
          48,
          25,
          31,
          63,
          34,
          41,
          31,
          29,
          32,
          28,
          36,
          36,
          40,
          27,
          34,
          34,
          36,
          39,
          47,
          38,
          33,
          39,
          35,
          38,
          32,
          39,
          33,
          42,
          30,
          39,
          50,
          53,
          35,
          27,
          46,
          39,
          19,
          28,
          30,
          24,
          45,
          37,
          22,
          50,
          45,
          49,
          40,
          32,
          37,
          25,
          28,
          38,
          25,
          49,
          43,
          31,
          30,
          39,
          22,
          29,
          30,
          32,
          41,
          27,
          31,
          36,
          25,
          45,
          37,
          51,
          56,
          30,
          45,
          37,
          34,
          28,
          26,
          45,
          41,
          21,
          46,
          41,
          41,
          25,
          24,
          40,
          37,
          38,
          47,
          42,
          39,
          42,
          47,
          29,
          55,
          45,
          46,
          30,
          27,
          27,
          48,
          50
         ],
         "xaxis": "x",
         "yaxis": "y"
        },
        {
         "alignmentgroup": "True",
         "bingroup": "x",
         "hovertemplate": "Gender=female<br>Age=%{x}<br>count=%{y}<extra></extra>",
         "legendgroup": "female",
         "marker": {
          "color": "#db4646",
          "pattern": {
           "shape": ""
          }
         },
         "name": "female",
         "offsetgroup": "female",
         "orientation": "v",
         "showlegend": true,
         "type": "histogram",
         "x": [
          37,
          35,
          42,
          42,
          29,
          35,
          40,
          38,
          26,
          23,
          31,
          27,
          34,
          29,
          25,
          26,
          44,
          29,
          30,
          29,
          25,
          33,
          27,
          23,
          34,
          32,
          45,
          26,
          28,
          35,
          38,
          32,
          35,
          27,
          34,
          40,
          32,
          32,
          27,
          29,
          34,
          37,
          28,
          29,
          23,
          27,
          37,
          23,
          26,
          38,
          26,
          24,
          30,
          23,
          31,
          28,
          37,
          22,
          24,
          30,
          29,
          33,
          25,
          25,
          33,
          22,
          32,
          21,
          27,
          25,
          34,
          26,
          27,
          25,
          33,
          40,
          24,
          32,
          30,
          31,
          26,
          28,
          26,
          24,
          24,
          27,
          23,
          33,
          26,
          33,
          26,
          42,
          39,
          30,
          18,
          28,
          24,
          23,
          25,
          38,
          35,
          33,
          25,
          38,
          23,
          41,
          31,
          27,
          27,
          22,
          26,
          31,
          28,
          23,
          25,
          29,
          27,
          32,
          27,
          26,
          40,
          29,
          24,
          30,
          31,
          23,
          31,
          28,
          24,
          34,
          29,
          31,
          26,
          22,
          34,
          20,
          26,
          29,
          29,
          21,
          23,
          33,
          27,
          28,
          39,
          37,
          29,
          38,
          37,
          27,
          33,
          36,
          27,
          31,
          37,
          35,
          22,
          32,
          35,
          30,
          40,
          36,
          36,
          39,
          40,
          48,
          29,
          29,
          24,
          47,
          31,
          32,
          23,
          25,
          25,
          24,
          25,
          22,
          35,
          31,
          36,
          26,
          33,
          37,
          34,
          39,
          30,
          31,
          26,
          44,
          33,
          24,
          38,
          26,
          30,
          25,
          40,
          31,
          34,
          28,
          29,
          26,
          26,
          23,
          28,
          29,
          39,
          27,
          37,
          30,
          34,
          28,
          33,
          35,
          33,
          33,
          45,
          20,
          42,
          36,
          27,
          26,
          34,
          46,
          32,
          40,
          26,
          25,
          32,
          35,
          28,
          27,
          56,
          31,
          34,
          35,
          28,
          34,
          41,
          23,
          32,
          23,
          43,
          32,
          41,
          46,
          43,
          37,
          44,
          30,
          32,
          25,
          34,
          37,
          31,
          40,
          35,
          38,
          24,
          29,
          36,
          28,
          39,
          34,
          37,
          41,
          39,
          24,
          28,
          48,
          55,
          36,
          44,
          29,
          26,
          36,
          34,
          50,
          31,
          41,
          41,
          55,
          34,
          22,
          46,
          34,
          49,
          33,
          30,
          26,
          29,
          29,
          25,
          38,
          35,
          37,
          31,
          33,
          45,
          30,
          37,
          34,
          40,
          31,
          28,
          27,
          28,
          27,
          20,
          44,
          38,
          47,
          33,
          57,
          31,
          32,
          35,
          32,
          23,
          43,
          26,
          26,
          55,
          38,
          25,
          29,
          31,
          45,
          27,
          35,
          31,
          28,
          39,
          28,
          35,
          22,
          28,
          26,
          21,
          28,
          24,
          38,
          24,
          47,
          26,
          28,
          42,
          31,
          27,
          26,
          27,
          23,
          27,
          26,
          57,
          22,
          24,
          37,
          44,
          24,
          27,
          27,
          61,
          43,
          44,
          28,
          33,
          36,
          54,
          61,
          29,
          38,
          40,
          35,
          31,
          32,
          19,
          48,
          31,
          35,
          22,
          62,
          48,
          32,
          39,
          43,
          26,
          52,
          26,
          25,
          25,
          26,
          36,
          33,
          27,
          24,
          47,
          36,
          28,
          36,
          36,
          41,
          54,
          34,
          38,
          22,
          27,
          55,
          59,
          55,
          38,
          29,
          25,
          23,
          31,
          46,
          34,
          39,
          29,
          29,
          55,
          33,
          49,
          27,
          42,
          31,
          47,
          56,
          44,
          23,
          33,
          32,
          32,
          28,
          43,
          51,
          48,
          30,
          39,
          33,
          25,
          41,
          30,
          26,
          27,
          54,
          32,
          31,
          28,
          33,
          27,
          34,
          31,
          65,
          41,
          38,
          47,
          40,
          43,
          28,
          37,
          30,
          39,
          30,
          32,
          25,
          45,
          28,
          40,
          38,
          44,
          31,
          30,
          38,
          30,
          32,
          32,
          34,
          40,
          47,
          34,
          43,
          36,
          32,
          36,
          35,
          27,
          54,
          37,
          31,
          36,
          25,
          22,
          36,
          26,
          39,
          31,
          30,
          49,
          33,
          32,
          26,
          25,
          26,
          46,
          31,
          47,
          35,
          39,
          34,
          25,
          36,
          57,
          33,
          22,
          23,
          43,
          30,
          33,
          27,
          26,
          25,
          27,
          31,
          30,
          27,
          37,
          49,
          30,
          63,
          31,
          30,
          49,
          46,
          31,
          25,
          34,
          33,
          30,
          39,
          30,
          50,
          37,
          30,
          37,
          45,
          35,
          37,
          29,
          49,
          26,
          53,
          48,
          27,
          39,
          25,
          29,
          27,
          24,
          35,
          31,
          22,
          24,
          29,
          31,
          23,
          26,
          24,
          26,
          30,
          25,
          28,
          22,
          24,
          36,
          24,
          22,
          26,
          38,
          34,
          30,
          27,
          52,
          36,
          38,
          22,
          34,
          35,
          37,
          66,
          31,
          30,
          28,
          34,
          27,
          43,
          30,
          42,
          38,
          30,
          25,
          54,
          44,
          26,
          35,
          39,
          33,
          38,
          26,
          24,
          31,
          27,
          52,
          57,
          38,
          31,
          26,
          29,
          27,
          40,
          36,
          48,
          24,
          25,
          28,
          24,
          33,
          26,
          33,
          27,
          32,
          36,
          29,
          23,
          50,
          24,
          29,
          42,
          39,
          29,
          36,
          30,
          25,
          34,
          47,
          24,
          33,
          34,
          26,
          29,
          27,
          44,
          27,
          42,
          28,
          49,
          25,
          25,
          31,
          22,
          33,
          27,
          62,
          30,
          36,
          30,
          50,
          58,
          42,
          25,
          49,
          44,
          31,
          26,
          39,
          35,
          50,
          47,
          26,
          45,
          37,
          24,
          33,
          35,
          27,
          28,
          67,
          44,
          38,
          27,
          51,
          33,
          31,
          42,
          31,
          41,
          28,
          28,
          38,
          44,
          29,
          33,
          32,
          35,
          31,
          29,
          29,
          57,
          27,
          38,
          30,
          49,
          29,
          39,
          30,
          23,
          29,
          41,
          56,
          32,
          30,
          37,
          31,
          33,
          36,
          30,
          35,
          29,
          50,
          31,
          25,
          28,
          45,
          34,
          52,
          41,
          25,
          23,
          35,
          32,
          35,
          34,
          24,
          23,
          35,
          29,
          24,
          28,
          32,
          27,
          23,
          34,
          41,
          27,
          33,
          37,
          51,
          35,
          40,
          43,
          31,
          30,
          32,
          40,
          21,
          44,
          45,
          22,
          45,
          31,
          37,
          35,
          40,
          24,
          29,
          32,
          45,
          36,
          55,
          32,
          27,
          45,
          34,
          29,
          35,
          40,
          22,
          27,
          33,
          25,
          30,
          31,
          43,
          31,
          42,
          29,
          41,
          37,
          57,
          57,
          38,
          27,
          32,
          30,
          43,
          28,
          35,
          27,
          19,
          30,
          37,
          26,
          29,
          20,
          40,
          29,
          27,
          32,
          24,
          27,
          36,
          27,
          53,
          25,
          29,
          31,
          35,
          27,
          42,
          67,
          27,
          37,
          30,
          30,
          45,
          38,
          33,
          34,
          29,
          28,
          28,
          25,
          41,
          35,
          44,
          34,
          35,
          37,
          32,
          25,
          40,
          33,
          49,
          31,
          27,
          37,
          30,
          32,
          45,
          31,
          34,
          28,
          28,
          28,
          31,
          40,
          42,
          32,
          25,
          31,
          47,
          27,
          22,
          37,
          28,
          32,
          27,
          38,
          28,
          32,
          30,
          26,
          41,
          39,
          21,
          35,
          33,
          29,
          25,
          41,
          37,
          45,
          45,
          44,
          35,
          33,
          36,
          32,
          29,
          29,
          35,
          30,
          31,
          33,
          42,
          31,
          26,
          19,
          26,
          44,
          33,
          33,
          47,
          38,
          24,
          48,
          55,
          33,
          41,
          24,
          27,
          29,
          34,
          24,
          36,
          39,
          26,
          32,
          40,
          45,
          24,
          53,
          54,
          53,
          34,
          28,
          30,
          36,
          24,
          26,
          32,
          32,
          31,
          45,
          27,
          20,
          24,
          28,
          33,
          53,
          27,
          28,
          35,
          54,
          26,
          49,
          42,
          41,
          49,
          34,
          22,
          29,
          38,
          37,
          38,
          51,
          30,
          29,
          28,
          30,
          28,
          34,
          27,
          44,
          31,
          36,
          25,
          59,
          19,
          38,
          39,
          59,
          27,
          24,
          40,
          29,
          25,
          35,
          38,
          28,
          27,
          19,
          25,
          28,
          27,
          30,
          24,
          26,
          32,
          43,
          28,
          26,
          42,
          35,
          34,
          34,
          59,
          42,
          30,
          36,
          33,
          47,
          30,
          24,
          38,
          23,
          22,
          42,
          26,
          31,
          30,
          24
         ],
         "xaxis": "x",
         "yaxis": "y"
        }
       ],
       "layout": {
        "barmode": "relative",
        "height": 500,
        "legend": {
         "title": {
          "text": "Gender"
         },
         "tracegroupgap": 0
        },
        "template": {
         "data": {
          "bar": [
           {
            "error_x": {
             "color": "#2a3f5f"
            },
            "error_y": {
             "color": "#2a3f5f"
            },
            "marker": {
             "line": {
              "color": "white",
              "width": 0.5
             },
             "pattern": {
              "fillmode": "overlay",
              "size": 10,
              "solidity": 0.2
             }
            },
            "type": "bar"
           }
          ],
          "barpolar": [
           {
            "marker": {
             "line": {
              "color": "white",
              "width": 0.5
             },
             "pattern": {
              "fillmode": "overlay",
              "size": 10,
              "solidity": 0.2
             }
            },
            "type": "barpolar"
           }
          ],
          "carpet": [
           {
            "aaxis": {
             "endlinecolor": "#2a3f5f",
             "gridcolor": "#C8D4E3",
             "linecolor": "#C8D4E3",
             "minorgridcolor": "#C8D4E3",
             "startlinecolor": "#2a3f5f"
            },
            "baxis": {
             "endlinecolor": "#2a3f5f",
             "gridcolor": "#C8D4E3",
             "linecolor": "#C8D4E3",
             "minorgridcolor": "#C8D4E3",
             "startlinecolor": "#2a3f5f"
            },
            "type": "carpet"
           }
          ],
          "choropleth": [
           {
            "colorbar": {
             "outlinewidth": 0,
             "ticks": ""
            },
            "type": "choropleth"
           }
          ],
          "contour": [
           {
            "colorbar": {
             "outlinewidth": 0,
             "ticks": ""
            },
            "colorscale": [
             [
              0,
              "#0d0887"
             ],
             [
              0.1111111111111111,
              "#46039f"
             ],
             [
              0.2222222222222222,
              "#7201a8"
             ],
             [
              0.3333333333333333,
              "#9c179e"
             ],
             [
              0.4444444444444444,
              "#bd3786"
             ],
             [
              0.5555555555555556,
              "#d8576b"
             ],
             [
              0.6666666666666666,
              "#ed7953"
             ],
             [
              0.7777777777777778,
              "#fb9f3a"
             ],
             [
              0.8888888888888888,
              "#fdca26"
             ],
             [
              1,
              "#f0f921"
             ]
            ],
            "type": "contour"
           }
          ],
          "contourcarpet": [
           {
            "colorbar": {
             "outlinewidth": 0,
             "ticks": ""
            },
            "type": "contourcarpet"
           }
          ],
          "heatmap": [
           {
            "colorbar": {
             "outlinewidth": 0,
             "ticks": ""
            },
            "colorscale": [
             [
              0,
              "#0d0887"
             ],
             [
              0.1111111111111111,
              "#46039f"
             ],
             [
              0.2222222222222222,
              "#7201a8"
             ],
             [
              0.3333333333333333,
              "#9c179e"
             ],
             [
              0.4444444444444444,
              "#bd3786"
             ],
             [
              0.5555555555555556,
              "#d8576b"
             ],
             [
              0.6666666666666666,
              "#ed7953"
             ],
             [
              0.7777777777777778,
              "#fb9f3a"
             ],
             [
              0.8888888888888888,
              "#fdca26"
             ],
             [
              1,
              "#f0f921"
             ]
            ],
            "type": "heatmap"
           }
          ],
          "heatmapgl": [
           {
            "colorbar": {
             "outlinewidth": 0,
             "ticks": ""
            },
            "colorscale": [
             [
              0,
              "#0d0887"
             ],
             [
              0.1111111111111111,
              "#46039f"
             ],
             [
              0.2222222222222222,
              "#7201a8"
             ],
             [
              0.3333333333333333,
              "#9c179e"
             ],
             [
              0.4444444444444444,
              "#bd3786"
             ],
             [
              0.5555555555555556,
              "#d8576b"
             ],
             [
              0.6666666666666666,
              "#ed7953"
             ],
             [
              0.7777777777777778,
              "#fb9f3a"
             ],
             [
              0.8888888888888888,
              "#fdca26"
             ],
             [
              1,
              "#f0f921"
             ]
            ],
            "type": "heatmapgl"
           }
          ],
          "histogram": [
           {
            "marker": {
             "pattern": {
              "fillmode": "overlay",
              "size": 10,
              "solidity": 0.2
             }
            },
            "type": "histogram"
           }
          ],
          "histogram2d": [
           {
            "colorbar": {
             "outlinewidth": 0,
             "ticks": ""
            },
            "colorscale": [
             [
              0,
              "#0d0887"
             ],
             [
              0.1111111111111111,
              "#46039f"
             ],
             [
              0.2222222222222222,
              "#7201a8"
             ],
             [
              0.3333333333333333,
              "#9c179e"
             ],
             [
              0.4444444444444444,
              "#bd3786"
             ],
             [
              0.5555555555555556,
              "#d8576b"
             ],
             [
              0.6666666666666666,
              "#ed7953"
             ],
             [
              0.7777777777777778,
              "#fb9f3a"
             ],
             [
              0.8888888888888888,
              "#fdca26"
             ],
             [
              1,
              "#f0f921"
             ]
            ],
            "type": "histogram2d"
           }
          ],
          "histogram2dcontour": [
           {
            "colorbar": {
             "outlinewidth": 0,
             "ticks": ""
            },
            "colorscale": [
             [
              0,
              "#0d0887"
             ],
             [
              0.1111111111111111,
              "#46039f"
             ],
             [
              0.2222222222222222,
              "#7201a8"
             ],
             [
              0.3333333333333333,
              "#9c179e"
             ],
             [
              0.4444444444444444,
              "#bd3786"
             ],
             [
              0.5555555555555556,
              "#d8576b"
             ],
             [
              0.6666666666666666,
              "#ed7953"
             ],
             [
              0.7777777777777778,
              "#fb9f3a"
             ],
             [
              0.8888888888888888,
              "#fdca26"
             ],
             [
              1,
              "#f0f921"
             ]
            ],
            "type": "histogram2dcontour"
           }
          ],
          "mesh3d": [
           {
            "colorbar": {
             "outlinewidth": 0,
             "ticks": ""
            },
            "type": "mesh3d"
           }
          ],
          "parcoords": [
           {
            "line": {
             "colorbar": {
              "outlinewidth": 0,
              "ticks": ""
             }
            },
            "type": "parcoords"
           }
          ],
          "pie": [
           {
            "automargin": true,
            "type": "pie"
           }
          ],
          "scatter": [
           {
            "fillpattern": {
             "fillmode": "overlay",
             "size": 10,
             "solidity": 0.2
            },
            "type": "scatter"
           }
          ],
          "scatter3d": [
           {
            "line": {
             "colorbar": {
              "outlinewidth": 0,
              "ticks": ""
             }
            },
            "marker": {
             "colorbar": {
              "outlinewidth": 0,
              "ticks": ""
             }
            },
            "type": "scatter3d"
           }
          ],
          "scattercarpet": [
           {
            "marker": {
             "colorbar": {
              "outlinewidth": 0,
              "ticks": ""
             }
            },
            "type": "scattercarpet"
           }
          ],
          "scattergeo": [
           {
            "marker": {
             "colorbar": {
              "outlinewidth": 0,
              "ticks": ""
             }
            },
            "type": "scattergeo"
           }
          ],
          "scattergl": [
           {
            "marker": {
             "colorbar": {
              "outlinewidth": 0,
              "ticks": ""
             }
            },
            "type": "scattergl"
           }
          ],
          "scattermapbox": [
           {
            "marker": {
             "colorbar": {
              "outlinewidth": 0,
              "ticks": ""
             }
            },
            "type": "scattermapbox"
           }
          ],
          "scatterpolar": [
           {
            "marker": {
             "colorbar": {
              "outlinewidth": 0,
              "ticks": ""
             }
            },
            "type": "scatterpolar"
           }
          ],
          "scatterpolargl": [
           {
            "marker": {
             "colorbar": {
              "outlinewidth": 0,
              "ticks": ""
             }
            },
            "type": "scatterpolargl"
           }
          ],
          "scatterternary": [
           {
            "marker": {
             "colorbar": {
              "outlinewidth": 0,
              "ticks": ""
             }
            },
            "type": "scatterternary"
           }
          ],
          "surface": [
           {
            "colorbar": {
             "outlinewidth": 0,
             "ticks": ""
            },
            "colorscale": [
             [
              0,
              "#0d0887"
             ],
             [
              0.1111111111111111,
              "#46039f"
             ],
             [
              0.2222222222222222,
              "#7201a8"
             ],
             [
              0.3333333333333333,
              "#9c179e"
             ],
             [
              0.4444444444444444,
              "#bd3786"
             ],
             [
              0.5555555555555556,
              "#d8576b"
             ],
             [
              0.6666666666666666,
              "#ed7953"
             ],
             [
              0.7777777777777778,
              "#fb9f3a"
             ],
             [
              0.8888888888888888,
              "#fdca26"
             ],
             [
              1,
              "#f0f921"
             ]
            ],
            "type": "surface"
           }
          ],
          "table": [
           {
            "cells": {
             "fill": {
              "color": "#EBF0F8"
             },
             "line": {
              "color": "white"
             }
            },
            "header": {
             "fill": {
              "color": "#C8D4E3"
             },
             "line": {
              "color": "white"
             }
            },
            "type": "table"
           }
          ]
         },
         "layout": {
          "annotationdefaults": {
           "arrowcolor": "#2a3f5f",
           "arrowhead": 0,
           "arrowwidth": 1
          },
          "autotypenumbers": "strict",
          "coloraxis": {
           "colorbar": {
            "outlinewidth": 0,
            "ticks": ""
           }
          },
          "colorscale": {
           "diverging": [
            [
             0,
             "#8e0152"
            ],
            [
             0.1,
             "#c51b7d"
            ],
            [
             0.2,
             "#de77ae"
            ],
            [
             0.3,
             "#f1b6da"
            ],
            [
             0.4,
             "#fde0ef"
            ],
            [
             0.5,
             "#f7f7f7"
            ],
            [
             0.6,
             "#e6f5d0"
            ],
            [
             0.7,
             "#b8e186"
            ],
            [
             0.8,
             "#7fbc41"
            ],
            [
             0.9,
             "#4d9221"
            ],
            [
             1,
             "#276419"
            ]
           ],
           "sequential": [
            [
             0,
             "#0d0887"
            ],
            [
             0.1111111111111111,
             "#46039f"
            ],
            [
             0.2222222222222222,
             "#7201a8"
            ],
            [
             0.3333333333333333,
             "#9c179e"
            ],
            [
             0.4444444444444444,
             "#bd3786"
            ],
            [
             0.5555555555555556,
             "#d8576b"
            ],
            [
             0.6666666666666666,
             "#ed7953"
            ],
            [
             0.7777777777777778,
             "#fb9f3a"
            ],
            [
             0.8888888888888888,
             "#fdca26"
            ],
            [
             1,
             "#f0f921"
            ]
           ],
           "sequentialminus": [
            [
             0,
             "#0d0887"
            ],
            [
             0.1111111111111111,
             "#46039f"
            ],
            [
             0.2222222222222222,
             "#7201a8"
            ],
            [
             0.3333333333333333,
             "#9c179e"
            ],
            [
             0.4444444444444444,
             "#bd3786"
            ],
            [
             0.5555555555555556,
             "#d8576b"
            ],
            [
             0.6666666666666666,
             "#ed7953"
            ],
            [
             0.7777777777777778,
             "#fb9f3a"
            ],
            [
             0.8888888888888888,
             "#fdca26"
            ],
            [
             1,
             "#f0f921"
            ]
           ]
          },
          "colorway": [
           "#636efa",
           "#EF553B",
           "#00cc96",
           "#ab63fa",
           "#FFA15A",
           "#19d3f3",
           "#FF6692",
           "#B6E880",
           "#FF97FF",
           "#FECB52"
          ],
          "font": {
           "color": "#2a3f5f"
          },
          "geo": {
           "bgcolor": "white",
           "lakecolor": "white",
           "landcolor": "white",
           "showlakes": true,
           "showland": true,
           "subunitcolor": "#C8D4E3"
          },
          "hoverlabel": {
           "align": "left"
          },
          "hovermode": "closest",
          "mapbox": {
           "style": "light"
          },
          "paper_bgcolor": "white",
          "plot_bgcolor": "white",
          "polar": {
           "angularaxis": {
            "gridcolor": "#EBF0F8",
            "linecolor": "#EBF0F8",
            "ticks": ""
           },
           "bgcolor": "white",
           "radialaxis": {
            "gridcolor": "#EBF0F8",
            "linecolor": "#EBF0F8",
            "ticks": ""
           }
          },
          "scene": {
           "xaxis": {
            "backgroundcolor": "white",
            "gridcolor": "#DFE8F3",
            "gridwidth": 2,
            "linecolor": "#EBF0F8",
            "showbackground": true,
            "ticks": "",
            "zerolinecolor": "#EBF0F8"
           },
           "yaxis": {
            "backgroundcolor": "white",
            "gridcolor": "#DFE8F3",
            "gridwidth": 2,
            "linecolor": "#EBF0F8",
            "showbackground": true,
            "ticks": "",
            "zerolinecolor": "#EBF0F8"
           },
           "zaxis": {
            "backgroundcolor": "white",
            "gridcolor": "#DFE8F3",
            "gridwidth": 2,
            "linecolor": "#EBF0F8",
            "showbackground": true,
            "ticks": "",
            "zerolinecolor": "#EBF0F8"
           }
          },
          "shapedefaults": {
           "line": {
            "color": "#2a3f5f"
           }
          },
          "ternary": {
           "aaxis": {
            "gridcolor": "#DFE8F3",
            "linecolor": "#A2B1C6",
            "ticks": ""
           },
           "baxis": {
            "gridcolor": "#DFE8F3",
            "linecolor": "#A2B1C6",
            "ticks": ""
           },
           "bgcolor": "white",
           "caxis": {
            "gridcolor": "#DFE8F3",
            "linecolor": "#A2B1C6",
            "ticks": ""
           }
          },
          "title": {
           "x": 0.05
          },
          "xaxis": {
           "automargin": true,
           "gridcolor": "#EBF0F8",
           "linecolor": "#EBF0F8",
           "ticks": "",
           "title": {
            "standoff": 15
           },
           "zerolinecolor": "#EBF0F8",
           "zerolinewidth": 2
          },
          "yaxis": {
           "automargin": true,
           "gridcolor": "#EBF0F8",
           "linecolor": "#EBF0F8",
           "ticks": "",
           "title": {
            "standoff": 15
           },
           "zerolinecolor": "#EBF0F8",
           "zerolinewidth": 2
          }
         }
        },
        "title": {
         "text": "Age Distribution by Gender"
        },
        "width": 1200,
        "xaxis": {
         "anchor": "y",
         "domain": [
          0,
          1
         ],
         "title": {
          "text": "Age"
         }
        },
        "yaxis": {
         "anchor": "x",
         "domain": [
          0,
          1
         ],
         "title": {
          "text": "count"
         }
        }
       }
      }
     },
     "metadata": {},
     "output_type": "display_data"
    }
   ],
   "source": [
    "histogram_chart_color(\n",
    "    df=demografic_df, xaxis=\"Age\", title=\"Age Distribution by Gender\", color=\"Gender\"\n",
    ")"
   ]
  },
  {
   "cell_type": "markdown",
   "metadata": {},
   "source": [
    "The histogram displays respondents aged 18 to 67, representing a typically working-age population.\\\n",
    "The primary group is concentrated from the late 20s to the 40s, indicating that the survey attracted actively working respondents, likely those who have experienced psychological challenges.\\\n",
    "However, the younger (18-24) and older (55-67) age groups appear underrepresented. This could suggest a potential bias in the data, as these groups might not fully reflect the perspectives of early-career individuals or those nearing retirement.\n"
   ]
  },
  {
   "cell_type": "markdown",
   "metadata": {},
   "source": [
    "### **Location**\n"
   ]
  },
  {
   "cell_type": "code",
   "execution_count": 20,
   "metadata": {},
   "outputs": [],
   "source": [
    "location_df = duckdb.sql(\n",
    "    \"\"\"\n",
    "    SELECT \n",
    "        Location,\n",
    "        COUNT(LOcation) AS 'Qty'\n",
    "\n",
    "    FROM demografic_df\n",
    "    GROUP BY Location\n",
    "    ORDER BY Qty DESC\n",
    "\"\"\"\n",
    ").to_df()"
   ]
  },
  {
   "cell_type": "code",
   "execution_count": 21,
   "metadata": {},
   "outputs": [
    {
     "data": {
      "application/vnd.plotly.v1+json": {
       "config": {
        "plotlyServerURL": "https://plot.ly"
       },
       "data": [
        {
         "alignmentgroup": "True",
         "hovertemplate": "Location=%{x}<br>Qty=%{y}<extra></extra>",
         "legendgroup": "",
         "marker": {
          "color": "#e6cea0",
          "pattern": {
           "shape": ""
          }
         },
         "name": "",
         "offsetgroup": "",
         "orientation": "v",
         "showlegend": false,
         "textposition": "auto",
         "texttemplate": "%{y}",
         "type": "bar",
         "x": [
          "United States of America",
          "United States",
          "United Kingdom",
          "Canada",
          "Germany",
          "Netherlands",
          "Australia",
          "France",
          "Ireland",
          "India",
          "Brazil",
          "Sweden",
          "Spain",
          "Switzerland",
          "New Zealand",
          "Poland",
          "Portugal",
          "Italy",
          "Belgium",
          "South Africa",
          "Russia",
          "Bulgaria",
          "Finland",
          "Mexico",
          "Norway",
          "Austria",
          "Israel",
          "Japan",
          "Denmark",
          "Romania",
          "Greece",
          "Pakistan",
          "Czech Republic",
          "Colombia",
          "Singapore",
          "Estonia",
          "Turkey",
          "Argentina",
          "Hungary",
          "Serbia",
          "Croatia",
          "Chile",
          "Bangladesh",
          "Ukraine",
          "Bosnia and Herzegovina",
          "Lithuania",
          "Algeria",
          "Nigeria",
          "Georgia",
          "Afghanistan",
          "China",
          "Iceland",
          "Costa Rica",
          "Slovakia",
          "Other",
          "Hong Kong",
          "Indonesia",
          "Uruguay",
          "Guatemala",
          "Ethiopia",
          "Jordan",
          "Slovenia",
          "Thailand",
          "Iran",
          "Macedonia",
          "Kenya",
          "Moldova",
          "Venezuela",
          "Belarus",
          "Ghana",
          "Mauritius",
          "Saudi Arabia",
          "Vietnam",
          "Ecuador",
          "Taiwan",
          "Philippines",
          "Latvia",
          "Brunei"
         ],
         "xaxis": "x",
         "y": [
          1775,
          736,
          461,
          183,
          130,
          93,
          73,
          51,
          50,
          49,
          35,
          28,
          26,
          25,
          24,
          21,
          20,
          18,
          17,
          16,
          14,
          13,
          12,
          12,
          12,
          9,
          9,
          9,
          9,
          9,
          7,
          7,
          6,
          6,
          5,
          5,
          5,
          4,
          4,
          4,
          4,
          3,
          3,
          3,
          3,
          2,
          2,
          2,
          2,
          2,
          2,
          2,
          2,
          2,
          2,
          2,
          2,
          2,
          1,
          1,
          1,
          1,
          1,
          1,
          1,
          1,
          1,
          1,
          1,
          1,
          1,
          1,
          1,
          1,
          1,
          1,
          1,
          1
         ],
         "yaxis": "y"
        }
       ],
       "layout": {
        "barmode": "relative",
        "height": 300,
        "legend": {
         "tracegroupgap": 0
        },
        "template": {
         "data": {
          "bar": [
           {
            "error_x": {
             "color": "#2a3f5f"
            },
            "error_y": {
             "color": "#2a3f5f"
            },
            "marker": {
             "line": {
              "color": "white",
              "width": 0.5
             },
             "pattern": {
              "fillmode": "overlay",
              "size": 10,
              "solidity": 0.2
             }
            },
            "type": "bar"
           }
          ],
          "barpolar": [
           {
            "marker": {
             "line": {
              "color": "white",
              "width": 0.5
             },
             "pattern": {
              "fillmode": "overlay",
              "size": 10,
              "solidity": 0.2
             }
            },
            "type": "barpolar"
           }
          ],
          "carpet": [
           {
            "aaxis": {
             "endlinecolor": "#2a3f5f",
             "gridcolor": "#C8D4E3",
             "linecolor": "#C8D4E3",
             "minorgridcolor": "#C8D4E3",
             "startlinecolor": "#2a3f5f"
            },
            "baxis": {
             "endlinecolor": "#2a3f5f",
             "gridcolor": "#C8D4E3",
             "linecolor": "#C8D4E3",
             "minorgridcolor": "#C8D4E3",
             "startlinecolor": "#2a3f5f"
            },
            "type": "carpet"
           }
          ],
          "choropleth": [
           {
            "colorbar": {
             "outlinewidth": 0,
             "ticks": ""
            },
            "type": "choropleth"
           }
          ],
          "contour": [
           {
            "colorbar": {
             "outlinewidth": 0,
             "ticks": ""
            },
            "colorscale": [
             [
              0,
              "#0d0887"
             ],
             [
              0.1111111111111111,
              "#46039f"
             ],
             [
              0.2222222222222222,
              "#7201a8"
             ],
             [
              0.3333333333333333,
              "#9c179e"
             ],
             [
              0.4444444444444444,
              "#bd3786"
             ],
             [
              0.5555555555555556,
              "#d8576b"
             ],
             [
              0.6666666666666666,
              "#ed7953"
             ],
             [
              0.7777777777777778,
              "#fb9f3a"
             ],
             [
              0.8888888888888888,
              "#fdca26"
             ],
             [
              1,
              "#f0f921"
             ]
            ],
            "type": "contour"
           }
          ],
          "contourcarpet": [
           {
            "colorbar": {
             "outlinewidth": 0,
             "ticks": ""
            },
            "type": "contourcarpet"
           }
          ],
          "heatmap": [
           {
            "colorbar": {
             "outlinewidth": 0,
             "ticks": ""
            },
            "colorscale": [
             [
              0,
              "#0d0887"
             ],
             [
              0.1111111111111111,
              "#46039f"
             ],
             [
              0.2222222222222222,
              "#7201a8"
             ],
             [
              0.3333333333333333,
              "#9c179e"
             ],
             [
              0.4444444444444444,
              "#bd3786"
             ],
             [
              0.5555555555555556,
              "#d8576b"
             ],
             [
              0.6666666666666666,
              "#ed7953"
             ],
             [
              0.7777777777777778,
              "#fb9f3a"
             ],
             [
              0.8888888888888888,
              "#fdca26"
             ],
             [
              1,
              "#f0f921"
             ]
            ],
            "type": "heatmap"
           }
          ],
          "heatmapgl": [
           {
            "colorbar": {
             "outlinewidth": 0,
             "ticks": ""
            },
            "colorscale": [
             [
              0,
              "#0d0887"
             ],
             [
              0.1111111111111111,
              "#46039f"
             ],
             [
              0.2222222222222222,
              "#7201a8"
             ],
             [
              0.3333333333333333,
              "#9c179e"
             ],
             [
              0.4444444444444444,
              "#bd3786"
             ],
             [
              0.5555555555555556,
              "#d8576b"
             ],
             [
              0.6666666666666666,
              "#ed7953"
             ],
             [
              0.7777777777777778,
              "#fb9f3a"
             ],
             [
              0.8888888888888888,
              "#fdca26"
             ],
             [
              1,
              "#f0f921"
             ]
            ],
            "type": "heatmapgl"
           }
          ],
          "histogram": [
           {
            "marker": {
             "pattern": {
              "fillmode": "overlay",
              "size": 10,
              "solidity": 0.2
             }
            },
            "type": "histogram"
           }
          ],
          "histogram2d": [
           {
            "colorbar": {
             "outlinewidth": 0,
             "ticks": ""
            },
            "colorscale": [
             [
              0,
              "#0d0887"
             ],
             [
              0.1111111111111111,
              "#46039f"
             ],
             [
              0.2222222222222222,
              "#7201a8"
             ],
             [
              0.3333333333333333,
              "#9c179e"
             ],
             [
              0.4444444444444444,
              "#bd3786"
             ],
             [
              0.5555555555555556,
              "#d8576b"
             ],
             [
              0.6666666666666666,
              "#ed7953"
             ],
             [
              0.7777777777777778,
              "#fb9f3a"
             ],
             [
              0.8888888888888888,
              "#fdca26"
             ],
             [
              1,
              "#f0f921"
             ]
            ],
            "type": "histogram2d"
           }
          ],
          "histogram2dcontour": [
           {
            "colorbar": {
             "outlinewidth": 0,
             "ticks": ""
            },
            "colorscale": [
             [
              0,
              "#0d0887"
             ],
             [
              0.1111111111111111,
              "#46039f"
             ],
             [
              0.2222222222222222,
              "#7201a8"
             ],
             [
              0.3333333333333333,
              "#9c179e"
             ],
             [
              0.4444444444444444,
              "#bd3786"
             ],
             [
              0.5555555555555556,
              "#d8576b"
             ],
             [
              0.6666666666666666,
              "#ed7953"
             ],
             [
              0.7777777777777778,
              "#fb9f3a"
             ],
             [
              0.8888888888888888,
              "#fdca26"
             ],
             [
              1,
              "#f0f921"
             ]
            ],
            "type": "histogram2dcontour"
           }
          ],
          "mesh3d": [
           {
            "colorbar": {
             "outlinewidth": 0,
             "ticks": ""
            },
            "type": "mesh3d"
           }
          ],
          "parcoords": [
           {
            "line": {
             "colorbar": {
              "outlinewidth": 0,
              "ticks": ""
             }
            },
            "type": "parcoords"
           }
          ],
          "pie": [
           {
            "automargin": true,
            "type": "pie"
           }
          ],
          "scatter": [
           {
            "fillpattern": {
             "fillmode": "overlay",
             "size": 10,
             "solidity": 0.2
            },
            "type": "scatter"
           }
          ],
          "scatter3d": [
           {
            "line": {
             "colorbar": {
              "outlinewidth": 0,
              "ticks": ""
             }
            },
            "marker": {
             "colorbar": {
              "outlinewidth": 0,
              "ticks": ""
             }
            },
            "type": "scatter3d"
           }
          ],
          "scattercarpet": [
           {
            "marker": {
             "colorbar": {
              "outlinewidth": 0,
              "ticks": ""
             }
            },
            "type": "scattercarpet"
           }
          ],
          "scattergeo": [
           {
            "marker": {
             "colorbar": {
              "outlinewidth": 0,
              "ticks": ""
             }
            },
            "type": "scattergeo"
           }
          ],
          "scattergl": [
           {
            "marker": {
             "colorbar": {
              "outlinewidth": 0,
              "ticks": ""
             }
            },
            "type": "scattergl"
           }
          ],
          "scattermapbox": [
           {
            "marker": {
             "colorbar": {
              "outlinewidth": 0,
              "ticks": ""
             }
            },
            "type": "scattermapbox"
           }
          ],
          "scatterpolar": [
           {
            "marker": {
             "colorbar": {
              "outlinewidth": 0,
              "ticks": ""
             }
            },
            "type": "scatterpolar"
           }
          ],
          "scatterpolargl": [
           {
            "marker": {
             "colorbar": {
              "outlinewidth": 0,
              "ticks": ""
             }
            },
            "type": "scatterpolargl"
           }
          ],
          "scatterternary": [
           {
            "marker": {
             "colorbar": {
              "outlinewidth": 0,
              "ticks": ""
             }
            },
            "type": "scatterternary"
           }
          ],
          "surface": [
           {
            "colorbar": {
             "outlinewidth": 0,
             "ticks": ""
            },
            "colorscale": [
             [
              0,
              "#0d0887"
             ],
             [
              0.1111111111111111,
              "#46039f"
             ],
             [
              0.2222222222222222,
              "#7201a8"
             ],
             [
              0.3333333333333333,
              "#9c179e"
             ],
             [
              0.4444444444444444,
              "#bd3786"
             ],
             [
              0.5555555555555556,
              "#d8576b"
             ],
             [
              0.6666666666666666,
              "#ed7953"
             ],
             [
              0.7777777777777778,
              "#fb9f3a"
             ],
             [
              0.8888888888888888,
              "#fdca26"
             ],
             [
              1,
              "#f0f921"
             ]
            ],
            "type": "surface"
           }
          ],
          "table": [
           {
            "cells": {
             "fill": {
              "color": "#EBF0F8"
             },
             "line": {
              "color": "white"
             }
            },
            "header": {
             "fill": {
              "color": "#C8D4E3"
             },
             "line": {
              "color": "white"
             }
            },
            "type": "table"
           }
          ]
         },
         "layout": {
          "annotationdefaults": {
           "arrowcolor": "#2a3f5f",
           "arrowhead": 0,
           "arrowwidth": 1
          },
          "autotypenumbers": "strict",
          "coloraxis": {
           "colorbar": {
            "outlinewidth": 0,
            "ticks": ""
           }
          },
          "colorscale": {
           "diverging": [
            [
             0,
             "#8e0152"
            ],
            [
             0.1,
             "#c51b7d"
            ],
            [
             0.2,
             "#de77ae"
            ],
            [
             0.3,
             "#f1b6da"
            ],
            [
             0.4,
             "#fde0ef"
            ],
            [
             0.5,
             "#f7f7f7"
            ],
            [
             0.6,
             "#e6f5d0"
            ],
            [
             0.7,
             "#b8e186"
            ],
            [
             0.8,
             "#7fbc41"
            ],
            [
             0.9,
             "#4d9221"
            ],
            [
             1,
             "#276419"
            ]
           ],
           "sequential": [
            [
             0,
             "#0d0887"
            ],
            [
             0.1111111111111111,
             "#46039f"
            ],
            [
             0.2222222222222222,
             "#7201a8"
            ],
            [
             0.3333333333333333,
             "#9c179e"
            ],
            [
             0.4444444444444444,
             "#bd3786"
            ],
            [
             0.5555555555555556,
             "#d8576b"
            ],
            [
             0.6666666666666666,
             "#ed7953"
            ],
            [
             0.7777777777777778,
             "#fb9f3a"
            ],
            [
             0.8888888888888888,
             "#fdca26"
            ],
            [
             1,
             "#f0f921"
            ]
           ],
           "sequentialminus": [
            [
             0,
             "#0d0887"
            ],
            [
             0.1111111111111111,
             "#46039f"
            ],
            [
             0.2222222222222222,
             "#7201a8"
            ],
            [
             0.3333333333333333,
             "#9c179e"
            ],
            [
             0.4444444444444444,
             "#bd3786"
            ],
            [
             0.5555555555555556,
             "#d8576b"
            ],
            [
             0.6666666666666666,
             "#ed7953"
            ],
            [
             0.7777777777777778,
             "#fb9f3a"
            ],
            [
             0.8888888888888888,
             "#fdca26"
            ],
            [
             1,
             "#f0f921"
            ]
           ]
          },
          "colorway": [
           "#636efa",
           "#EF553B",
           "#00cc96",
           "#ab63fa",
           "#FFA15A",
           "#19d3f3",
           "#FF6692",
           "#B6E880",
           "#FF97FF",
           "#FECB52"
          ],
          "font": {
           "color": "#2a3f5f"
          },
          "geo": {
           "bgcolor": "white",
           "lakecolor": "white",
           "landcolor": "white",
           "showlakes": true,
           "showland": true,
           "subunitcolor": "#C8D4E3"
          },
          "hoverlabel": {
           "align": "left"
          },
          "hovermode": "closest",
          "mapbox": {
           "style": "light"
          },
          "paper_bgcolor": "white",
          "plot_bgcolor": "white",
          "polar": {
           "angularaxis": {
            "gridcolor": "#EBF0F8",
            "linecolor": "#EBF0F8",
            "ticks": ""
           },
           "bgcolor": "white",
           "radialaxis": {
            "gridcolor": "#EBF0F8",
            "linecolor": "#EBF0F8",
            "ticks": ""
           }
          },
          "scene": {
           "xaxis": {
            "backgroundcolor": "white",
            "gridcolor": "#DFE8F3",
            "gridwidth": 2,
            "linecolor": "#EBF0F8",
            "showbackground": true,
            "ticks": "",
            "zerolinecolor": "#EBF0F8"
           },
           "yaxis": {
            "backgroundcolor": "white",
            "gridcolor": "#DFE8F3",
            "gridwidth": 2,
            "linecolor": "#EBF0F8",
            "showbackground": true,
            "ticks": "",
            "zerolinecolor": "#EBF0F8"
           },
           "zaxis": {
            "backgroundcolor": "white",
            "gridcolor": "#DFE8F3",
            "gridwidth": 2,
            "linecolor": "#EBF0F8",
            "showbackground": true,
            "ticks": "",
            "zerolinecolor": "#EBF0F8"
           }
          },
          "shapedefaults": {
           "line": {
            "color": "#2a3f5f"
           }
          },
          "ternary": {
           "aaxis": {
            "gridcolor": "#DFE8F3",
            "linecolor": "#A2B1C6",
            "ticks": ""
           },
           "baxis": {
            "gridcolor": "#DFE8F3",
            "linecolor": "#A2B1C6",
            "ticks": ""
           },
           "bgcolor": "white",
           "caxis": {
            "gridcolor": "#DFE8F3",
            "linecolor": "#A2B1C6",
            "ticks": ""
           }
          },
          "title": {
           "x": 0.05
          },
          "xaxis": {
           "automargin": true,
           "gridcolor": "#EBF0F8",
           "linecolor": "#EBF0F8",
           "ticks": "",
           "title": {
            "standoff": 15
           },
           "zerolinecolor": "#EBF0F8",
           "zerolinewidth": 2
          },
          "yaxis": {
           "automargin": true,
           "gridcolor": "#EBF0F8",
           "linecolor": "#EBF0F8",
           "ticks": "",
           "title": {
            "standoff": 15
           },
           "zerolinecolor": "#EBF0F8",
           "zerolinewidth": 2
          }
         }
        },
        "title": {
         "text": "Qty of Locations"
        },
        "width": 1200,
        "xaxis": {
         "anchor": "y",
         "domain": [
          0,
          1
         ],
         "title": {
          "text": "Location"
         }
        },
        "yaxis": {
         "anchor": "x",
         "domain": [
          0,
          1
         ],
         "title": {
          "text": "Qty"
         }
        }
       }
      }
     },
     "metadata": {},
     "output_type": "display_data"
    }
   ],
   "source": [
    "bar_chart(df=location_df, xaxis=\"Location\", yaxis=\"Qty\", title=\"Qty of Locations\")"
   ]
  },
  {
   "cell_type": "markdown",
   "metadata": {},
   "source": [
    "We observe that the Location column contains duplicate entries for the same country: United States of America and United States.\\\n",
    "To standardize the data, all instances of United States will be updated to United States of America. Other countries do not have duplicates.\\\n",
    "Since the majority of respondents are from the United States of America, all countries will be grouped by continents for further analysis.\\\n",
    "This approach will simplify the dataset and ensure that regional trends are accurately represented in subsequent calculations.\n"
   ]
  },
  {
   "cell_type": "code",
   "execution_count": 22,
   "metadata": {},
   "outputs": [],
   "source": [
    "demografic_df = duckdb.sql(\n",
    "    \"\"\"\n",
    "    SELECT \n",
    "        UserID,\n",
    "        Year,\n",
    "        Age,\n",
    "        Gender,\n",
    "        CASE \n",
    "            WHEN Location = 'United States' THEN 'United States of America' \n",
    "            ELSE Location \n",
    "            END AS 'Location' \n",
    "\n",
    "    FROM demografic_df\n",
    "\"\"\"\n",
    ").to_df()"
   ]
  },
  {
   "cell_type": "code",
   "execution_count": 23,
   "metadata": {},
   "outputs": [],
   "source": [
    "location_map = {\n",
    "    \"United States of America\": \"North America\",\n",
    "    \"United Kingdom\": \"Europe\",\n",
    "    \"Canada\": \"North America\",\n",
    "    \"Germany\": \"Europe\",\n",
    "    \"Netherlands\": \"Europe\",\n",
    "    \"Australia\": \"Australia/Oceania\",\n",
    "    \"France\": \"Europe\",\n",
    "    \"Ireland\": \"Europe\",\n",
    "    \"India\": \"Asia\",\n",
    "    \"Brazil\": \"South America\",\n",
    "    \"Sweden\": \"Europe\",\n",
    "    \"Spain\": \"Europe\",\n",
    "    \"Switzerland\": \"Europe\",\n",
    "    \"New Zealand\": \"Australia/Oceania\",\n",
    "    \"Poland\": \"Europe\",\n",
    "    \"Portugal\": \"Europe\",\n",
    "    \"Italy\": \"Europe\",\n",
    "    \"Belgium\": \"Europe\",\n",
    "    \"South Africa\": \"Africa\",\n",
    "    \"Russia\": \"Asia\",\n",
    "    \"Bulgaria\": \"Europe\",\n",
    "    \"Norway\": \"Europe\",\n",
    "    \"Mexico\": \"North America\",\n",
    "    \"Finland\": \"Europe\",\n",
    "    \"Israel\": \"Asia\",\n",
    "    \"Denmark\": \"Europe\",\n",
    "    \"Japan\": \"Asia\",\n",
    "    \"Romania\": \"Europe\",\n",
    "    \"Austria\": \"Europe\",\n",
    "    \"Greece\": \"Europe\",\n",
    "    \"Pakistan\": \"Asia\",\n",
    "    \"Colombia\": \"South America\",\n",
    "    \"Czech Republic\": \"Europe\",\n",
    "    \"Estonia\": \"Europe\",\n",
    "    \"Turkey\": \"Asia\",\n",
    "    \"Singapore\": \"Asia\",\n",
    "    \"Hungary\": \"Europe\",\n",
    "    \"Argentina\": \"South America\",\n",
    "    \"Croatia\": \"Europe\",\n",
    "    \"Serbia\": \"Europe\",\n",
    "    \"Ukraine\": \"Europe\",\n",
    "    \"Bangladesh\": \"Asia\",\n",
    "    \"Chile\": \"South America\",\n",
    "    \"Bosnia and Herzegovina\": \"Europe\",\n",
    "    \"Iceland\": \"Europe\",\n",
    "    \"Lithuania\": \"Europe\",\n",
    "    \"Costa Rica\": \"North America\",\n",
    "    \"Afghanistan\": \"Asia\",\n",
    "    \"Algeria\": \"Africa\",\n",
    "    \"Nigeria\": \"Africa\",\n",
    "    \"Indonesia\": \"Asia\",\n",
    "    \"China\": \"Asia\",\n",
    "    \"Georgia\": \"Asia\",\n",
    "    \"Hong Kong\": \"Asia\",\n",
    "    \"Uruguay\": \"South America\",\n",
    "    \"Slovakia\": \"Europe\",\n",
    "    \"Brunei\": \"Asia\",\n",
    "    \"Iran\": \"Asia\",\n",
    "    \"Vietnam\": \"Asia\",\n",
    "    \"Ecuador\": \"South America\",\n",
    "    \"Venezuela\": \"South America\",\n",
    "    \"Guatemala\": \"North America\",\n",
    "    \"Philippines\": \"Asia\",\n",
    "    \"Belarus\": \"Europe\",\n",
    "    \"Moldova\": \"Europe\",\n",
    "    \"Thailand\": \"Asia\",\n",
    "    \"Latvia\": \"Europe\",\n",
    "    \"Slovenia\": \"Europe\",\n",
    "    \"Ghana\": \"Africa\",\n",
    "    \"Macedonia\": \"Europe\",\n",
    "    \"Saudi Arabia\": \"Asia\",\n",
    "    \"Jordan\": \"Asia\",\n",
    "    \"Ethiopia\": \"Africa\",\n",
    "    \"Kenya\": \"Africa\",\n",
    "    \"Mauritius\": \"Africa\",\n",
    "    \"Taiwan\": \"Asia\",\n",
    "}"
   ]
  },
  {
   "cell_type": "code",
   "execution_count": 24,
   "metadata": {},
   "outputs": [],
   "source": [
    "demografic_df[\"Continent\"] = demografic_df[\"Location\"].map(location_map)\n",
    "continent_df = demografic_df[\"Continent\"].value_counts().reset_index()"
   ]
  },
  {
   "cell_type": "code",
   "execution_count": 25,
   "metadata": {},
   "outputs": [
    {
     "data": {
      "application/vnd.plotly.v1+json": {
       "config": {
        "plotlyServerURL": "https://plot.ly"
       },
       "data": [
        {
         "alignmentgroup": "True",
         "hovertemplate": "Continent=%{x}<br>count=%{y}<extra></extra>",
         "legendgroup": "",
         "marker": {
          "color": "#e6cea0",
          "pattern": {
           "shape": ""
          }
         },
         "name": "",
         "offsetgroup": "",
         "orientation": "v",
         "showlegend": false,
         "textposition": "auto",
         "texttemplate": "%{y}",
         "type": "bar",
         "x": [
          "North America",
          "Europe",
          "Asia",
          "Australia/Oceania",
          "South America",
          "Africa"
         ],
         "xaxis": "x",
         "y": [
          2709,
          1051,
          119,
          97,
          52,
          24
         ],
         "yaxis": "y"
        }
       ],
       "layout": {
        "barmode": "relative",
        "height": 300,
        "legend": {
         "tracegroupgap": 0
        },
        "template": {
         "data": {
          "bar": [
           {
            "error_x": {
             "color": "#2a3f5f"
            },
            "error_y": {
             "color": "#2a3f5f"
            },
            "marker": {
             "line": {
              "color": "white",
              "width": 0.5
             },
             "pattern": {
              "fillmode": "overlay",
              "size": 10,
              "solidity": 0.2
             }
            },
            "type": "bar"
           }
          ],
          "barpolar": [
           {
            "marker": {
             "line": {
              "color": "white",
              "width": 0.5
             },
             "pattern": {
              "fillmode": "overlay",
              "size": 10,
              "solidity": 0.2
             }
            },
            "type": "barpolar"
           }
          ],
          "carpet": [
           {
            "aaxis": {
             "endlinecolor": "#2a3f5f",
             "gridcolor": "#C8D4E3",
             "linecolor": "#C8D4E3",
             "minorgridcolor": "#C8D4E3",
             "startlinecolor": "#2a3f5f"
            },
            "baxis": {
             "endlinecolor": "#2a3f5f",
             "gridcolor": "#C8D4E3",
             "linecolor": "#C8D4E3",
             "minorgridcolor": "#C8D4E3",
             "startlinecolor": "#2a3f5f"
            },
            "type": "carpet"
           }
          ],
          "choropleth": [
           {
            "colorbar": {
             "outlinewidth": 0,
             "ticks": ""
            },
            "type": "choropleth"
           }
          ],
          "contour": [
           {
            "colorbar": {
             "outlinewidth": 0,
             "ticks": ""
            },
            "colorscale": [
             [
              0,
              "#0d0887"
             ],
             [
              0.1111111111111111,
              "#46039f"
             ],
             [
              0.2222222222222222,
              "#7201a8"
             ],
             [
              0.3333333333333333,
              "#9c179e"
             ],
             [
              0.4444444444444444,
              "#bd3786"
             ],
             [
              0.5555555555555556,
              "#d8576b"
             ],
             [
              0.6666666666666666,
              "#ed7953"
             ],
             [
              0.7777777777777778,
              "#fb9f3a"
             ],
             [
              0.8888888888888888,
              "#fdca26"
             ],
             [
              1,
              "#f0f921"
             ]
            ],
            "type": "contour"
           }
          ],
          "contourcarpet": [
           {
            "colorbar": {
             "outlinewidth": 0,
             "ticks": ""
            },
            "type": "contourcarpet"
           }
          ],
          "heatmap": [
           {
            "colorbar": {
             "outlinewidth": 0,
             "ticks": ""
            },
            "colorscale": [
             [
              0,
              "#0d0887"
             ],
             [
              0.1111111111111111,
              "#46039f"
             ],
             [
              0.2222222222222222,
              "#7201a8"
             ],
             [
              0.3333333333333333,
              "#9c179e"
             ],
             [
              0.4444444444444444,
              "#bd3786"
             ],
             [
              0.5555555555555556,
              "#d8576b"
             ],
             [
              0.6666666666666666,
              "#ed7953"
             ],
             [
              0.7777777777777778,
              "#fb9f3a"
             ],
             [
              0.8888888888888888,
              "#fdca26"
             ],
             [
              1,
              "#f0f921"
             ]
            ],
            "type": "heatmap"
           }
          ],
          "heatmapgl": [
           {
            "colorbar": {
             "outlinewidth": 0,
             "ticks": ""
            },
            "colorscale": [
             [
              0,
              "#0d0887"
             ],
             [
              0.1111111111111111,
              "#46039f"
             ],
             [
              0.2222222222222222,
              "#7201a8"
             ],
             [
              0.3333333333333333,
              "#9c179e"
             ],
             [
              0.4444444444444444,
              "#bd3786"
             ],
             [
              0.5555555555555556,
              "#d8576b"
             ],
             [
              0.6666666666666666,
              "#ed7953"
             ],
             [
              0.7777777777777778,
              "#fb9f3a"
             ],
             [
              0.8888888888888888,
              "#fdca26"
             ],
             [
              1,
              "#f0f921"
             ]
            ],
            "type": "heatmapgl"
           }
          ],
          "histogram": [
           {
            "marker": {
             "pattern": {
              "fillmode": "overlay",
              "size": 10,
              "solidity": 0.2
             }
            },
            "type": "histogram"
           }
          ],
          "histogram2d": [
           {
            "colorbar": {
             "outlinewidth": 0,
             "ticks": ""
            },
            "colorscale": [
             [
              0,
              "#0d0887"
             ],
             [
              0.1111111111111111,
              "#46039f"
             ],
             [
              0.2222222222222222,
              "#7201a8"
             ],
             [
              0.3333333333333333,
              "#9c179e"
             ],
             [
              0.4444444444444444,
              "#bd3786"
             ],
             [
              0.5555555555555556,
              "#d8576b"
             ],
             [
              0.6666666666666666,
              "#ed7953"
             ],
             [
              0.7777777777777778,
              "#fb9f3a"
             ],
             [
              0.8888888888888888,
              "#fdca26"
             ],
             [
              1,
              "#f0f921"
             ]
            ],
            "type": "histogram2d"
           }
          ],
          "histogram2dcontour": [
           {
            "colorbar": {
             "outlinewidth": 0,
             "ticks": ""
            },
            "colorscale": [
             [
              0,
              "#0d0887"
             ],
             [
              0.1111111111111111,
              "#46039f"
             ],
             [
              0.2222222222222222,
              "#7201a8"
             ],
             [
              0.3333333333333333,
              "#9c179e"
             ],
             [
              0.4444444444444444,
              "#bd3786"
             ],
             [
              0.5555555555555556,
              "#d8576b"
             ],
             [
              0.6666666666666666,
              "#ed7953"
             ],
             [
              0.7777777777777778,
              "#fb9f3a"
             ],
             [
              0.8888888888888888,
              "#fdca26"
             ],
             [
              1,
              "#f0f921"
             ]
            ],
            "type": "histogram2dcontour"
           }
          ],
          "mesh3d": [
           {
            "colorbar": {
             "outlinewidth": 0,
             "ticks": ""
            },
            "type": "mesh3d"
           }
          ],
          "parcoords": [
           {
            "line": {
             "colorbar": {
              "outlinewidth": 0,
              "ticks": ""
             }
            },
            "type": "parcoords"
           }
          ],
          "pie": [
           {
            "automargin": true,
            "type": "pie"
           }
          ],
          "scatter": [
           {
            "fillpattern": {
             "fillmode": "overlay",
             "size": 10,
             "solidity": 0.2
            },
            "type": "scatter"
           }
          ],
          "scatter3d": [
           {
            "line": {
             "colorbar": {
              "outlinewidth": 0,
              "ticks": ""
             }
            },
            "marker": {
             "colorbar": {
              "outlinewidth": 0,
              "ticks": ""
             }
            },
            "type": "scatter3d"
           }
          ],
          "scattercarpet": [
           {
            "marker": {
             "colorbar": {
              "outlinewidth": 0,
              "ticks": ""
             }
            },
            "type": "scattercarpet"
           }
          ],
          "scattergeo": [
           {
            "marker": {
             "colorbar": {
              "outlinewidth": 0,
              "ticks": ""
             }
            },
            "type": "scattergeo"
           }
          ],
          "scattergl": [
           {
            "marker": {
             "colorbar": {
              "outlinewidth": 0,
              "ticks": ""
             }
            },
            "type": "scattergl"
           }
          ],
          "scattermapbox": [
           {
            "marker": {
             "colorbar": {
              "outlinewidth": 0,
              "ticks": ""
             }
            },
            "type": "scattermapbox"
           }
          ],
          "scatterpolar": [
           {
            "marker": {
             "colorbar": {
              "outlinewidth": 0,
              "ticks": ""
             }
            },
            "type": "scatterpolar"
           }
          ],
          "scatterpolargl": [
           {
            "marker": {
             "colorbar": {
              "outlinewidth": 0,
              "ticks": ""
             }
            },
            "type": "scatterpolargl"
           }
          ],
          "scatterternary": [
           {
            "marker": {
             "colorbar": {
              "outlinewidth": 0,
              "ticks": ""
             }
            },
            "type": "scatterternary"
           }
          ],
          "surface": [
           {
            "colorbar": {
             "outlinewidth": 0,
             "ticks": ""
            },
            "colorscale": [
             [
              0,
              "#0d0887"
             ],
             [
              0.1111111111111111,
              "#46039f"
             ],
             [
              0.2222222222222222,
              "#7201a8"
             ],
             [
              0.3333333333333333,
              "#9c179e"
             ],
             [
              0.4444444444444444,
              "#bd3786"
             ],
             [
              0.5555555555555556,
              "#d8576b"
             ],
             [
              0.6666666666666666,
              "#ed7953"
             ],
             [
              0.7777777777777778,
              "#fb9f3a"
             ],
             [
              0.8888888888888888,
              "#fdca26"
             ],
             [
              1,
              "#f0f921"
             ]
            ],
            "type": "surface"
           }
          ],
          "table": [
           {
            "cells": {
             "fill": {
              "color": "#EBF0F8"
             },
             "line": {
              "color": "white"
             }
            },
            "header": {
             "fill": {
              "color": "#C8D4E3"
             },
             "line": {
              "color": "white"
             }
            },
            "type": "table"
           }
          ]
         },
         "layout": {
          "annotationdefaults": {
           "arrowcolor": "#2a3f5f",
           "arrowhead": 0,
           "arrowwidth": 1
          },
          "autotypenumbers": "strict",
          "coloraxis": {
           "colorbar": {
            "outlinewidth": 0,
            "ticks": ""
           }
          },
          "colorscale": {
           "diverging": [
            [
             0,
             "#8e0152"
            ],
            [
             0.1,
             "#c51b7d"
            ],
            [
             0.2,
             "#de77ae"
            ],
            [
             0.3,
             "#f1b6da"
            ],
            [
             0.4,
             "#fde0ef"
            ],
            [
             0.5,
             "#f7f7f7"
            ],
            [
             0.6,
             "#e6f5d0"
            ],
            [
             0.7,
             "#b8e186"
            ],
            [
             0.8,
             "#7fbc41"
            ],
            [
             0.9,
             "#4d9221"
            ],
            [
             1,
             "#276419"
            ]
           ],
           "sequential": [
            [
             0,
             "#0d0887"
            ],
            [
             0.1111111111111111,
             "#46039f"
            ],
            [
             0.2222222222222222,
             "#7201a8"
            ],
            [
             0.3333333333333333,
             "#9c179e"
            ],
            [
             0.4444444444444444,
             "#bd3786"
            ],
            [
             0.5555555555555556,
             "#d8576b"
            ],
            [
             0.6666666666666666,
             "#ed7953"
            ],
            [
             0.7777777777777778,
             "#fb9f3a"
            ],
            [
             0.8888888888888888,
             "#fdca26"
            ],
            [
             1,
             "#f0f921"
            ]
           ],
           "sequentialminus": [
            [
             0,
             "#0d0887"
            ],
            [
             0.1111111111111111,
             "#46039f"
            ],
            [
             0.2222222222222222,
             "#7201a8"
            ],
            [
             0.3333333333333333,
             "#9c179e"
            ],
            [
             0.4444444444444444,
             "#bd3786"
            ],
            [
             0.5555555555555556,
             "#d8576b"
            ],
            [
             0.6666666666666666,
             "#ed7953"
            ],
            [
             0.7777777777777778,
             "#fb9f3a"
            ],
            [
             0.8888888888888888,
             "#fdca26"
            ],
            [
             1,
             "#f0f921"
            ]
           ]
          },
          "colorway": [
           "#636efa",
           "#EF553B",
           "#00cc96",
           "#ab63fa",
           "#FFA15A",
           "#19d3f3",
           "#FF6692",
           "#B6E880",
           "#FF97FF",
           "#FECB52"
          ],
          "font": {
           "color": "#2a3f5f"
          },
          "geo": {
           "bgcolor": "white",
           "lakecolor": "white",
           "landcolor": "white",
           "showlakes": true,
           "showland": true,
           "subunitcolor": "#C8D4E3"
          },
          "hoverlabel": {
           "align": "left"
          },
          "hovermode": "closest",
          "mapbox": {
           "style": "light"
          },
          "paper_bgcolor": "white",
          "plot_bgcolor": "white",
          "polar": {
           "angularaxis": {
            "gridcolor": "#EBF0F8",
            "linecolor": "#EBF0F8",
            "ticks": ""
           },
           "bgcolor": "white",
           "radialaxis": {
            "gridcolor": "#EBF0F8",
            "linecolor": "#EBF0F8",
            "ticks": ""
           }
          },
          "scene": {
           "xaxis": {
            "backgroundcolor": "white",
            "gridcolor": "#DFE8F3",
            "gridwidth": 2,
            "linecolor": "#EBF0F8",
            "showbackground": true,
            "ticks": "",
            "zerolinecolor": "#EBF0F8"
           },
           "yaxis": {
            "backgroundcolor": "white",
            "gridcolor": "#DFE8F3",
            "gridwidth": 2,
            "linecolor": "#EBF0F8",
            "showbackground": true,
            "ticks": "",
            "zerolinecolor": "#EBF0F8"
           },
           "zaxis": {
            "backgroundcolor": "white",
            "gridcolor": "#DFE8F3",
            "gridwidth": 2,
            "linecolor": "#EBF0F8",
            "showbackground": true,
            "ticks": "",
            "zerolinecolor": "#EBF0F8"
           }
          },
          "shapedefaults": {
           "line": {
            "color": "#2a3f5f"
           }
          },
          "ternary": {
           "aaxis": {
            "gridcolor": "#DFE8F3",
            "linecolor": "#A2B1C6",
            "ticks": ""
           },
           "baxis": {
            "gridcolor": "#DFE8F3",
            "linecolor": "#A2B1C6",
            "ticks": ""
           },
           "bgcolor": "white",
           "caxis": {
            "gridcolor": "#DFE8F3",
            "linecolor": "#A2B1C6",
            "ticks": ""
           }
          },
          "title": {
           "x": 0.05
          },
          "xaxis": {
           "automargin": true,
           "gridcolor": "#EBF0F8",
           "linecolor": "#EBF0F8",
           "ticks": "",
           "title": {
            "standoff": 15
           },
           "zerolinecolor": "#EBF0F8",
           "zerolinewidth": 2
          },
          "yaxis": {
           "automargin": true,
           "gridcolor": "#EBF0F8",
           "linecolor": "#EBF0F8",
           "ticks": "",
           "title": {
            "standoff": 15
           },
           "zerolinecolor": "#EBF0F8",
           "zerolinewidth": 2
          }
         }
        },
        "title": {
         "text": "Distribution by Continent"
        },
        "width": 1200,
        "xaxis": {
         "anchor": "y",
         "domain": [
          0,
          1
         ],
         "title": {
          "text": "Continent"
         }
        },
        "yaxis": {
         "anchor": "x",
         "domain": [
          0,
          1
         ],
         "title": {
          "text": "count"
         }
        }
       }
      }
     },
     "metadata": {},
     "output_type": "display_data"
    }
   ],
   "source": [
    "bar_chart(\n",
    "    df=continent_df, xaxis=\"Continent\", yaxis=\"count\", title=\"Distribution by Continent\"\n",
    ")"
   ]
  },
  {
   "cell_type": "markdown",
   "metadata": {},
   "source": [
    "Based on the available data, we see that it would be most effective to use only North America and Europe data for further analysis. Other continents have insufficient data for meaningful conclusions.\\\n",
    "This also reveals a potential bias, as the IT sector globally has a significant workforce in Asian countries. However, the data for Asian countries is underrepresented in the dataset, limiting its ability to reflect the true distribution.\n"
   ]
  },
  {
   "cell_type": "code",
   "execution_count": 26,
   "metadata": {},
   "outputs": [],
   "source": [
    "demografic_df = duckdb.sql(\n",
    "    \"\"\"\n",
    "    SELECT * \n",
    "\n",
    "    FROM demografic_df \n",
    "\n",
    "    WHERE \n",
    "        Continent IN ('North America', 'Europe')\n",
    "    \n",
    "    ORDER BY Gender ASC\n",
    "\"\"\"\n",
    ").to_df()"
   ]
  },
  {
   "cell_type": "markdown",
   "metadata": {},
   "source": [
    "#### **Explore Gender Data**\n"
   ]
  },
  {
   "cell_type": "code",
   "execution_count": 27,
   "metadata": {},
   "outputs": [],
   "source": [
    "gender_gr = duckdb.sql(\n",
    "    \"\"\"\n",
    "    SELECT \n",
    "        Gender,\n",
    "        COUNT(Gender) AS 'Qty'\n",
    "\n",
    "    FROM demografic_df\n",
    "    GROUP BY Gender\n",
    "    ORDER BY Gender DESC\n",
    "\"\"\"\n",
    ").to_df()"
   ]
  },
  {
   "cell_type": "code",
   "execution_count": 28,
   "metadata": {},
   "outputs": [
    {
     "data": {
      "application/vnd.plotly.v1+json": {
       "config": {
        "plotlyServerURL": "https://plot.ly"
       },
       "data": [
        {
         "alignmentgroup": "True",
         "hovertemplate": "Gender=%{x}<br>Qty=%{y}<extra></extra>",
         "legendgroup": "",
         "marker": {
          "color": "#e6cea0",
          "pattern": {
           "shape": ""
          }
         },
         "name": "",
         "offsetgroup": "",
         "orientation": "v",
         "showlegend": false,
         "textposition": "auto",
         "texttemplate": "%{y}",
         "type": "bar",
         "x": [
          "male",
          "female"
         ],
         "xaxis": "x",
         "y": [
          2791,
          969
         ],
         "yaxis": "y"
        }
       ],
       "layout": {
        "barmode": "relative",
        "height": 300,
        "legend": {
         "tracegroupgap": 0
        },
        "template": {
         "data": {
          "bar": [
           {
            "error_x": {
             "color": "#2a3f5f"
            },
            "error_y": {
             "color": "#2a3f5f"
            },
            "marker": {
             "line": {
              "color": "white",
              "width": 0.5
             },
             "pattern": {
              "fillmode": "overlay",
              "size": 10,
              "solidity": 0.2
             }
            },
            "type": "bar"
           }
          ],
          "barpolar": [
           {
            "marker": {
             "line": {
              "color": "white",
              "width": 0.5
             },
             "pattern": {
              "fillmode": "overlay",
              "size": 10,
              "solidity": 0.2
             }
            },
            "type": "barpolar"
           }
          ],
          "carpet": [
           {
            "aaxis": {
             "endlinecolor": "#2a3f5f",
             "gridcolor": "#C8D4E3",
             "linecolor": "#C8D4E3",
             "minorgridcolor": "#C8D4E3",
             "startlinecolor": "#2a3f5f"
            },
            "baxis": {
             "endlinecolor": "#2a3f5f",
             "gridcolor": "#C8D4E3",
             "linecolor": "#C8D4E3",
             "minorgridcolor": "#C8D4E3",
             "startlinecolor": "#2a3f5f"
            },
            "type": "carpet"
           }
          ],
          "choropleth": [
           {
            "colorbar": {
             "outlinewidth": 0,
             "ticks": ""
            },
            "type": "choropleth"
           }
          ],
          "contour": [
           {
            "colorbar": {
             "outlinewidth": 0,
             "ticks": ""
            },
            "colorscale": [
             [
              0,
              "#0d0887"
             ],
             [
              0.1111111111111111,
              "#46039f"
             ],
             [
              0.2222222222222222,
              "#7201a8"
             ],
             [
              0.3333333333333333,
              "#9c179e"
             ],
             [
              0.4444444444444444,
              "#bd3786"
             ],
             [
              0.5555555555555556,
              "#d8576b"
             ],
             [
              0.6666666666666666,
              "#ed7953"
             ],
             [
              0.7777777777777778,
              "#fb9f3a"
             ],
             [
              0.8888888888888888,
              "#fdca26"
             ],
             [
              1,
              "#f0f921"
             ]
            ],
            "type": "contour"
           }
          ],
          "contourcarpet": [
           {
            "colorbar": {
             "outlinewidth": 0,
             "ticks": ""
            },
            "type": "contourcarpet"
           }
          ],
          "heatmap": [
           {
            "colorbar": {
             "outlinewidth": 0,
             "ticks": ""
            },
            "colorscale": [
             [
              0,
              "#0d0887"
             ],
             [
              0.1111111111111111,
              "#46039f"
             ],
             [
              0.2222222222222222,
              "#7201a8"
             ],
             [
              0.3333333333333333,
              "#9c179e"
             ],
             [
              0.4444444444444444,
              "#bd3786"
             ],
             [
              0.5555555555555556,
              "#d8576b"
             ],
             [
              0.6666666666666666,
              "#ed7953"
             ],
             [
              0.7777777777777778,
              "#fb9f3a"
             ],
             [
              0.8888888888888888,
              "#fdca26"
             ],
             [
              1,
              "#f0f921"
             ]
            ],
            "type": "heatmap"
           }
          ],
          "heatmapgl": [
           {
            "colorbar": {
             "outlinewidth": 0,
             "ticks": ""
            },
            "colorscale": [
             [
              0,
              "#0d0887"
             ],
             [
              0.1111111111111111,
              "#46039f"
             ],
             [
              0.2222222222222222,
              "#7201a8"
             ],
             [
              0.3333333333333333,
              "#9c179e"
             ],
             [
              0.4444444444444444,
              "#bd3786"
             ],
             [
              0.5555555555555556,
              "#d8576b"
             ],
             [
              0.6666666666666666,
              "#ed7953"
             ],
             [
              0.7777777777777778,
              "#fb9f3a"
             ],
             [
              0.8888888888888888,
              "#fdca26"
             ],
             [
              1,
              "#f0f921"
             ]
            ],
            "type": "heatmapgl"
           }
          ],
          "histogram": [
           {
            "marker": {
             "pattern": {
              "fillmode": "overlay",
              "size": 10,
              "solidity": 0.2
             }
            },
            "type": "histogram"
           }
          ],
          "histogram2d": [
           {
            "colorbar": {
             "outlinewidth": 0,
             "ticks": ""
            },
            "colorscale": [
             [
              0,
              "#0d0887"
             ],
             [
              0.1111111111111111,
              "#46039f"
             ],
             [
              0.2222222222222222,
              "#7201a8"
             ],
             [
              0.3333333333333333,
              "#9c179e"
             ],
             [
              0.4444444444444444,
              "#bd3786"
             ],
             [
              0.5555555555555556,
              "#d8576b"
             ],
             [
              0.6666666666666666,
              "#ed7953"
             ],
             [
              0.7777777777777778,
              "#fb9f3a"
             ],
             [
              0.8888888888888888,
              "#fdca26"
             ],
             [
              1,
              "#f0f921"
             ]
            ],
            "type": "histogram2d"
           }
          ],
          "histogram2dcontour": [
           {
            "colorbar": {
             "outlinewidth": 0,
             "ticks": ""
            },
            "colorscale": [
             [
              0,
              "#0d0887"
             ],
             [
              0.1111111111111111,
              "#46039f"
             ],
             [
              0.2222222222222222,
              "#7201a8"
             ],
             [
              0.3333333333333333,
              "#9c179e"
             ],
             [
              0.4444444444444444,
              "#bd3786"
             ],
             [
              0.5555555555555556,
              "#d8576b"
             ],
             [
              0.6666666666666666,
              "#ed7953"
             ],
             [
              0.7777777777777778,
              "#fb9f3a"
             ],
             [
              0.8888888888888888,
              "#fdca26"
             ],
             [
              1,
              "#f0f921"
             ]
            ],
            "type": "histogram2dcontour"
           }
          ],
          "mesh3d": [
           {
            "colorbar": {
             "outlinewidth": 0,
             "ticks": ""
            },
            "type": "mesh3d"
           }
          ],
          "parcoords": [
           {
            "line": {
             "colorbar": {
              "outlinewidth": 0,
              "ticks": ""
             }
            },
            "type": "parcoords"
           }
          ],
          "pie": [
           {
            "automargin": true,
            "type": "pie"
           }
          ],
          "scatter": [
           {
            "fillpattern": {
             "fillmode": "overlay",
             "size": 10,
             "solidity": 0.2
            },
            "type": "scatter"
           }
          ],
          "scatter3d": [
           {
            "line": {
             "colorbar": {
              "outlinewidth": 0,
              "ticks": ""
             }
            },
            "marker": {
             "colorbar": {
              "outlinewidth": 0,
              "ticks": ""
             }
            },
            "type": "scatter3d"
           }
          ],
          "scattercarpet": [
           {
            "marker": {
             "colorbar": {
              "outlinewidth": 0,
              "ticks": ""
             }
            },
            "type": "scattercarpet"
           }
          ],
          "scattergeo": [
           {
            "marker": {
             "colorbar": {
              "outlinewidth": 0,
              "ticks": ""
             }
            },
            "type": "scattergeo"
           }
          ],
          "scattergl": [
           {
            "marker": {
             "colorbar": {
              "outlinewidth": 0,
              "ticks": ""
             }
            },
            "type": "scattergl"
           }
          ],
          "scattermapbox": [
           {
            "marker": {
             "colorbar": {
              "outlinewidth": 0,
              "ticks": ""
             }
            },
            "type": "scattermapbox"
           }
          ],
          "scatterpolar": [
           {
            "marker": {
             "colorbar": {
              "outlinewidth": 0,
              "ticks": ""
             }
            },
            "type": "scatterpolar"
           }
          ],
          "scatterpolargl": [
           {
            "marker": {
             "colorbar": {
              "outlinewidth": 0,
              "ticks": ""
             }
            },
            "type": "scatterpolargl"
           }
          ],
          "scatterternary": [
           {
            "marker": {
             "colorbar": {
              "outlinewidth": 0,
              "ticks": ""
             }
            },
            "type": "scatterternary"
           }
          ],
          "surface": [
           {
            "colorbar": {
             "outlinewidth": 0,
             "ticks": ""
            },
            "colorscale": [
             [
              0,
              "#0d0887"
             ],
             [
              0.1111111111111111,
              "#46039f"
             ],
             [
              0.2222222222222222,
              "#7201a8"
             ],
             [
              0.3333333333333333,
              "#9c179e"
             ],
             [
              0.4444444444444444,
              "#bd3786"
             ],
             [
              0.5555555555555556,
              "#d8576b"
             ],
             [
              0.6666666666666666,
              "#ed7953"
             ],
             [
              0.7777777777777778,
              "#fb9f3a"
             ],
             [
              0.8888888888888888,
              "#fdca26"
             ],
             [
              1,
              "#f0f921"
             ]
            ],
            "type": "surface"
           }
          ],
          "table": [
           {
            "cells": {
             "fill": {
              "color": "#EBF0F8"
             },
             "line": {
              "color": "white"
             }
            },
            "header": {
             "fill": {
              "color": "#C8D4E3"
             },
             "line": {
              "color": "white"
             }
            },
            "type": "table"
           }
          ]
         },
         "layout": {
          "annotationdefaults": {
           "arrowcolor": "#2a3f5f",
           "arrowhead": 0,
           "arrowwidth": 1
          },
          "autotypenumbers": "strict",
          "coloraxis": {
           "colorbar": {
            "outlinewidth": 0,
            "ticks": ""
           }
          },
          "colorscale": {
           "diverging": [
            [
             0,
             "#8e0152"
            ],
            [
             0.1,
             "#c51b7d"
            ],
            [
             0.2,
             "#de77ae"
            ],
            [
             0.3,
             "#f1b6da"
            ],
            [
             0.4,
             "#fde0ef"
            ],
            [
             0.5,
             "#f7f7f7"
            ],
            [
             0.6,
             "#e6f5d0"
            ],
            [
             0.7,
             "#b8e186"
            ],
            [
             0.8,
             "#7fbc41"
            ],
            [
             0.9,
             "#4d9221"
            ],
            [
             1,
             "#276419"
            ]
           ],
           "sequential": [
            [
             0,
             "#0d0887"
            ],
            [
             0.1111111111111111,
             "#46039f"
            ],
            [
             0.2222222222222222,
             "#7201a8"
            ],
            [
             0.3333333333333333,
             "#9c179e"
            ],
            [
             0.4444444444444444,
             "#bd3786"
            ],
            [
             0.5555555555555556,
             "#d8576b"
            ],
            [
             0.6666666666666666,
             "#ed7953"
            ],
            [
             0.7777777777777778,
             "#fb9f3a"
            ],
            [
             0.8888888888888888,
             "#fdca26"
            ],
            [
             1,
             "#f0f921"
            ]
           ],
           "sequentialminus": [
            [
             0,
             "#0d0887"
            ],
            [
             0.1111111111111111,
             "#46039f"
            ],
            [
             0.2222222222222222,
             "#7201a8"
            ],
            [
             0.3333333333333333,
             "#9c179e"
            ],
            [
             0.4444444444444444,
             "#bd3786"
            ],
            [
             0.5555555555555556,
             "#d8576b"
            ],
            [
             0.6666666666666666,
             "#ed7953"
            ],
            [
             0.7777777777777778,
             "#fb9f3a"
            ],
            [
             0.8888888888888888,
             "#fdca26"
            ],
            [
             1,
             "#f0f921"
            ]
           ]
          },
          "colorway": [
           "#636efa",
           "#EF553B",
           "#00cc96",
           "#ab63fa",
           "#FFA15A",
           "#19d3f3",
           "#FF6692",
           "#B6E880",
           "#FF97FF",
           "#FECB52"
          ],
          "font": {
           "color": "#2a3f5f"
          },
          "geo": {
           "bgcolor": "white",
           "lakecolor": "white",
           "landcolor": "white",
           "showlakes": true,
           "showland": true,
           "subunitcolor": "#C8D4E3"
          },
          "hoverlabel": {
           "align": "left"
          },
          "hovermode": "closest",
          "mapbox": {
           "style": "light"
          },
          "paper_bgcolor": "white",
          "plot_bgcolor": "white",
          "polar": {
           "angularaxis": {
            "gridcolor": "#EBF0F8",
            "linecolor": "#EBF0F8",
            "ticks": ""
           },
           "bgcolor": "white",
           "radialaxis": {
            "gridcolor": "#EBF0F8",
            "linecolor": "#EBF0F8",
            "ticks": ""
           }
          },
          "scene": {
           "xaxis": {
            "backgroundcolor": "white",
            "gridcolor": "#DFE8F3",
            "gridwidth": 2,
            "linecolor": "#EBF0F8",
            "showbackground": true,
            "ticks": "",
            "zerolinecolor": "#EBF0F8"
           },
           "yaxis": {
            "backgroundcolor": "white",
            "gridcolor": "#DFE8F3",
            "gridwidth": 2,
            "linecolor": "#EBF0F8",
            "showbackground": true,
            "ticks": "",
            "zerolinecolor": "#EBF0F8"
           },
           "zaxis": {
            "backgroundcolor": "white",
            "gridcolor": "#DFE8F3",
            "gridwidth": 2,
            "linecolor": "#EBF0F8",
            "showbackground": true,
            "ticks": "",
            "zerolinecolor": "#EBF0F8"
           }
          },
          "shapedefaults": {
           "line": {
            "color": "#2a3f5f"
           }
          },
          "ternary": {
           "aaxis": {
            "gridcolor": "#DFE8F3",
            "linecolor": "#A2B1C6",
            "ticks": ""
           },
           "baxis": {
            "gridcolor": "#DFE8F3",
            "linecolor": "#A2B1C6",
            "ticks": ""
           },
           "bgcolor": "white",
           "caxis": {
            "gridcolor": "#DFE8F3",
            "linecolor": "#A2B1C6",
            "ticks": ""
           }
          },
          "title": {
           "x": 0.05
          },
          "xaxis": {
           "automargin": true,
           "gridcolor": "#EBF0F8",
           "linecolor": "#EBF0F8",
           "ticks": "",
           "title": {
            "standoff": 15
           },
           "zerolinecolor": "#EBF0F8",
           "zerolinewidth": 2
          },
          "yaxis": {
           "automargin": true,
           "gridcolor": "#EBF0F8",
           "linecolor": "#EBF0F8",
           "ticks": "",
           "title": {
            "standoff": 15
           },
           "zerolinecolor": "#EBF0F8",
           "zerolinewidth": 2
          }
         }
        },
        "title": {
         "text": "Distribution by Gender"
        },
        "width": 1200,
        "xaxis": {
         "anchor": "y",
         "domain": [
          0,
          1
         ],
         "title": {
          "text": "Gender"
         }
        },
        "yaxis": {
         "anchor": "x",
         "domain": [
          0,
          1
         ],
         "title": {
          "text": "Qty"
         }
        }
       }
      }
     },
     "metadata": {},
     "output_type": "display_data"
    }
   ],
   "source": [
    "bar_chart(df=gender_gr, xaxis=\"Gender\", yaxis=\"Qty\", title=\"Distribution by Gender\")"
   ]
  },
  {
   "cell_type": "markdown",
   "metadata": {},
   "source": [
    "We can see that more men work in the IT sector compared to women.\\\n",
    "According to statistical data, this result is favorable, as women typically make up 20-30% of the IT workforce.\\\n",
    "Therefore, we can dismiss any significant bias in this context.\\\n",
    "Later we present the quantitative and percentage distribution between genders\n"
   ]
  },
  {
   "cell_type": "code",
   "execution_count": 29,
   "metadata": {},
   "outputs": [],
   "source": [
    "gender_gr = duckdb.sql(\n",
    "    \"\"\"\n",
    "    WITH \n",
    "        male_df AS (\n",
    "            SELECT\n",
    "                Year, \n",
    "                COUNT(Gender) AS 'Male'\n",
    "\n",
    "            FROM demografic_df \n",
    "\n",
    "            WHERE Gender = 'male'\n",
    "\n",
    "            GROUP BY Year\n",
    "        ), \n",
    "\n",
    "        female_df AS (\n",
    "            SELECT \n",
    "                Year,\n",
    "                COUNT(Gender) AS 'Female'\n",
    "            FROM demografic_df \n",
    "            WHERE Gender = 'female' \n",
    "            GROUP BY Year\n",
    "        ),\n",
    "\n",
    "        app_df AS (\n",
    "            SELECT \n",
    "                m.Year, \n",
    "                m.Male,\n",
    "                f.Female\n",
    "\n",
    "            FROM male_df AS m \n",
    "                LEFT JOIN female_df AS f \n",
    "                ON m.Year = f.Year\n",
    "        ), \n",
    "\n",
    "        final_df AS (\n",
    "            SELECT\n",
    "                Year, \n",
    "                Male,\n",
    "                Female, \n",
    "                ROUND(Male / (Male + Female) * 100, 2) AS 'Male_proc',\n",
    "                ROUND(Female / (Male + Female) * 100, 2) AS 'Female_proc'\n",
    "            \n",
    "            FROM app_df \n",
    "        )\n",
    "     \n",
    "SELECT * FROM final_df \n",
    "ORDER BY Year ASC\n",
    "\"\"\"\n",
    ").to_df()"
   ]
  },
  {
   "cell_type": "code",
   "execution_count": 30,
   "metadata": {},
   "outputs": [
    {
     "data": {
      "application/vnd.plotly.v1+json": {
       "config": {
        "plotlyServerURL": "https://plot.ly"
       },
       "data": [
        {
         "marker": {
          "color": "indianred"
         },
         "name": "Male",
         "text": [
          924,
          966,
          459,
          244,
          198
         ],
         "type": "bar",
         "x": [
          2014,
          2016,
          2017,
          2018,
          2019
         ],
         "y": [
          924,
          966,
          459,
          244,
          198
         ]
        },
        {
         "marker": {
          "color": "lightsalmon"
         },
         "name": "Female",
         "text": [
          236,
          320,
          211,
          119,
          83
         ],
         "type": "bar",
         "x": [
          2014,
          2016,
          2017,
          2018,
          2019
         ],
         "y": [
          236,
          320,
          211,
          119,
          83
         ]
        }
       ],
       "layout": {
        "template": {
         "data": {
          "bar": [
           {
            "error_x": {
             "color": "#2a3f5f"
            },
            "error_y": {
             "color": "#2a3f5f"
            },
            "marker": {
             "line": {
              "color": "#E5ECF6",
              "width": 0.5
             },
             "pattern": {
              "fillmode": "overlay",
              "size": 10,
              "solidity": 0.2
             }
            },
            "type": "bar"
           }
          ],
          "barpolar": [
           {
            "marker": {
             "line": {
              "color": "#E5ECF6",
              "width": 0.5
             },
             "pattern": {
              "fillmode": "overlay",
              "size": 10,
              "solidity": 0.2
             }
            },
            "type": "barpolar"
           }
          ],
          "carpet": [
           {
            "aaxis": {
             "endlinecolor": "#2a3f5f",
             "gridcolor": "white",
             "linecolor": "white",
             "minorgridcolor": "white",
             "startlinecolor": "#2a3f5f"
            },
            "baxis": {
             "endlinecolor": "#2a3f5f",
             "gridcolor": "white",
             "linecolor": "white",
             "minorgridcolor": "white",
             "startlinecolor": "#2a3f5f"
            },
            "type": "carpet"
           }
          ],
          "choropleth": [
           {
            "colorbar": {
             "outlinewidth": 0,
             "ticks": ""
            },
            "type": "choropleth"
           }
          ],
          "contour": [
           {
            "colorbar": {
             "outlinewidth": 0,
             "ticks": ""
            },
            "colorscale": [
             [
              0,
              "#0d0887"
             ],
             [
              0.1111111111111111,
              "#46039f"
             ],
             [
              0.2222222222222222,
              "#7201a8"
             ],
             [
              0.3333333333333333,
              "#9c179e"
             ],
             [
              0.4444444444444444,
              "#bd3786"
             ],
             [
              0.5555555555555556,
              "#d8576b"
             ],
             [
              0.6666666666666666,
              "#ed7953"
             ],
             [
              0.7777777777777778,
              "#fb9f3a"
             ],
             [
              0.8888888888888888,
              "#fdca26"
             ],
             [
              1,
              "#f0f921"
             ]
            ],
            "type": "contour"
           }
          ],
          "contourcarpet": [
           {
            "colorbar": {
             "outlinewidth": 0,
             "ticks": ""
            },
            "type": "contourcarpet"
           }
          ],
          "heatmap": [
           {
            "colorbar": {
             "outlinewidth": 0,
             "ticks": ""
            },
            "colorscale": [
             [
              0,
              "#0d0887"
             ],
             [
              0.1111111111111111,
              "#46039f"
             ],
             [
              0.2222222222222222,
              "#7201a8"
             ],
             [
              0.3333333333333333,
              "#9c179e"
             ],
             [
              0.4444444444444444,
              "#bd3786"
             ],
             [
              0.5555555555555556,
              "#d8576b"
             ],
             [
              0.6666666666666666,
              "#ed7953"
             ],
             [
              0.7777777777777778,
              "#fb9f3a"
             ],
             [
              0.8888888888888888,
              "#fdca26"
             ],
             [
              1,
              "#f0f921"
             ]
            ],
            "type": "heatmap"
           }
          ],
          "heatmapgl": [
           {
            "colorbar": {
             "outlinewidth": 0,
             "ticks": ""
            },
            "colorscale": [
             [
              0,
              "#0d0887"
             ],
             [
              0.1111111111111111,
              "#46039f"
             ],
             [
              0.2222222222222222,
              "#7201a8"
             ],
             [
              0.3333333333333333,
              "#9c179e"
             ],
             [
              0.4444444444444444,
              "#bd3786"
             ],
             [
              0.5555555555555556,
              "#d8576b"
             ],
             [
              0.6666666666666666,
              "#ed7953"
             ],
             [
              0.7777777777777778,
              "#fb9f3a"
             ],
             [
              0.8888888888888888,
              "#fdca26"
             ],
             [
              1,
              "#f0f921"
             ]
            ],
            "type": "heatmapgl"
           }
          ],
          "histogram": [
           {
            "marker": {
             "pattern": {
              "fillmode": "overlay",
              "size": 10,
              "solidity": 0.2
             }
            },
            "type": "histogram"
           }
          ],
          "histogram2d": [
           {
            "colorbar": {
             "outlinewidth": 0,
             "ticks": ""
            },
            "colorscale": [
             [
              0,
              "#0d0887"
             ],
             [
              0.1111111111111111,
              "#46039f"
             ],
             [
              0.2222222222222222,
              "#7201a8"
             ],
             [
              0.3333333333333333,
              "#9c179e"
             ],
             [
              0.4444444444444444,
              "#bd3786"
             ],
             [
              0.5555555555555556,
              "#d8576b"
             ],
             [
              0.6666666666666666,
              "#ed7953"
             ],
             [
              0.7777777777777778,
              "#fb9f3a"
             ],
             [
              0.8888888888888888,
              "#fdca26"
             ],
             [
              1,
              "#f0f921"
             ]
            ],
            "type": "histogram2d"
           }
          ],
          "histogram2dcontour": [
           {
            "colorbar": {
             "outlinewidth": 0,
             "ticks": ""
            },
            "colorscale": [
             [
              0,
              "#0d0887"
             ],
             [
              0.1111111111111111,
              "#46039f"
             ],
             [
              0.2222222222222222,
              "#7201a8"
             ],
             [
              0.3333333333333333,
              "#9c179e"
             ],
             [
              0.4444444444444444,
              "#bd3786"
             ],
             [
              0.5555555555555556,
              "#d8576b"
             ],
             [
              0.6666666666666666,
              "#ed7953"
             ],
             [
              0.7777777777777778,
              "#fb9f3a"
             ],
             [
              0.8888888888888888,
              "#fdca26"
             ],
             [
              1,
              "#f0f921"
             ]
            ],
            "type": "histogram2dcontour"
           }
          ],
          "mesh3d": [
           {
            "colorbar": {
             "outlinewidth": 0,
             "ticks": ""
            },
            "type": "mesh3d"
           }
          ],
          "parcoords": [
           {
            "line": {
             "colorbar": {
              "outlinewidth": 0,
              "ticks": ""
             }
            },
            "type": "parcoords"
           }
          ],
          "pie": [
           {
            "automargin": true,
            "type": "pie"
           }
          ],
          "scatter": [
           {
            "fillpattern": {
             "fillmode": "overlay",
             "size": 10,
             "solidity": 0.2
            },
            "type": "scatter"
           }
          ],
          "scatter3d": [
           {
            "line": {
             "colorbar": {
              "outlinewidth": 0,
              "ticks": ""
             }
            },
            "marker": {
             "colorbar": {
              "outlinewidth": 0,
              "ticks": ""
             }
            },
            "type": "scatter3d"
           }
          ],
          "scattercarpet": [
           {
            "marker": {
             "colorbar": {
              "outlinewidth": 0,
              "ticks": ""
             }
            },
            "type": "scattercarpet"
           }
          ],
          "scattergeo": [
           {
            "marker": {
             "colorbar": {
              "outlinewidth": 0,
              "ticks": ""
             }
            },
            "type": "scattergeo"
           }
          ],
          "scattergl": [
           {
            "marker": {
             "colorbar": {
              "outlinewidth": 0,
              "ticks": ""
             }
            },
            "type": "scattergl"
           }
          ],
          "scattermapbox": [
           {
            "marker": {
             "colorbar": {
              "outlinewidth": 0,
              "ticks": ""
             }
            },
            "type": "scattermapbox"
           }
          ],
          "scatterpolar": [
           {
            "marker": {
             "colorbar": {
              "outlinewidth": 0,
              "ticks": ""
             }
            },
            "type": "scatterpolar"
           }
          ],
          "scatterpolargl": [
           {
            "marker": {
             "colorbar": {
              "outlinewidth": 0,
              "ticks": ""
             }
            },
            "type": "scatterpolargl"
           }
          ],
          "scatterternary": [
           {
            "marker": {
             "colorbar": {
              "outlinewidth": 0,
              "ticks": ""
             }
            },
            "type": "scatterternary"
           }
          ],
          "surface": [
           {
            "colorbar": {
             "outlinewidth": 0,
             "ticks": ""
            },
            "colorscale": [
             [
              0,
              "#0d0887"
             ],
             [
              0.1111111111111111,
              "#46039f"
             ],
             [
              0.2222222222222222,
              "#7201a8"
             ],
             [
              0.3333333333333333,
              "#9c179e"
             ],
             [
              0.4444444444444444,
              "#bd3786"
             ],
             [
              0.5555555555555556,
              "#d8576b"
             ],
             [
              0.6666666666666666,
              "#ed7953"
             ],
             [
              0.7777777777777778,
              "#fb9f3a"
             ],
             [
              0.8888888888888888,
              "#fdca26"
             ],
             [
              1,
              "#f0f921"
             ]
            ],
            "type": "surface"
           }
          ],
          "table": [
           {
            "cells": {
             "fill": {
              "color": "#EBF0F8"
             },
             "line": {
              "color": "white"
             }
            },
            "header": {
             "fill": {
              "color": "#C8D4E3"
             },
             "line": {
              "color": "white"
             }
            },
            "type": "table"
           }
          ]
         },
         "layout": {
          "annotationdefaults": {
           "arrowcolor": "#2a3f5f",
           "arrowhead": 0,
           "arrowwidth": 1
          },
          "autotypenumbers": "strict",
          "coloraxis": {
           "colorbar": {
            "outlinewidth": 0,
            "ticks": ""
           }
          },
          "colorscale": {
           "diverging": [
            [
             0,
             "#8e0152"
            ],
            [
             0.1,
             "#c51b7d"
            ],
            [
             0.2,
             "#de77ae"
            ],
            [
             0.3,
             "#f1b6da"
            ],
            [
             0.4,
             "#fde0ef"
            ],
            [
             0.5,
             "#f7f7f7"
            ],
            [
             0.6,
             "#e6f5d0"
            ],
            [
             0.7,
             "#b8e186"
            ],
            [
             0.8,
             "#7fbc41"
            ],
            [
             0.9,
             "#4d9221"
            ],
            [
             1,
             "#276419"
            ]
           ],
           "sequential": [
            [
             0,
             "#0d0887"
            ],
            [
             0.1111111111111111,
             "#46039f"
            ],
            [
             0.2222222222222222,
             "#7201a8"
            ],
            [
             0.3333333333333333,
             "#9c179e"
            ],
            [
             0.4444444444444444,
             "#bd3786"
            ],
            [
             0.5555555555555556,
             "#d8576b"
            ],
            [
             0.6666666666666666,
             "#ed7953"
            ],
            [
             0.7777777777777778,
             "#fb9f3a"
            ],
            [
             0.8888888888888888,
             "#fdca26"
            ],
            [
             1,
             "#f0f921"
            ]
           ],
           "sequentialminus": [
            [
             0,
             "#0d0887"
            ],
            [
             0.1111111111111111,
             "#46039f"
            ],
            [
             0.2222222222222222,
             "#7201a8"
            ],
            [
             0.3333333333333333,
             "#9c179e"
            ],
            [
             0.4444444444444444,
             "#bd3786"
            ],
            [
             0.5555555555555556,
             "#d8576b"
            ],
            [
             0.6666666666666666,
             "#ed7953"
            ],
            [
             0.7777777777777778,
             "#fb9f3a"
            ],
            [
             0.8888888888888888,
             "#fdca26"
            ],
            [
             1,
             "#f0f921"
            ]
           ]
          },
          "colorway": [
           "#636efa",
           "#EF553B",
           "#00cc96",
           "#ab63fa",
           "#FFA15A",
           "#19d3f3",
           "#FF6692",
           "#B6E880",
           "#FF97FF",
           "#FECB52"
          ],
          "font": {
           "color": "#2a3f5f"
          },
          "geo": {
           "bgcolor": "white",
           "lakecolor": "white",
           "landcolor": "#E5ECF6",
           "showlakes": true,
           "showland": true,
           "subunitcolor": "white"
          },
          "hoverlabel": {
           "align": "left"
          },
          "hovermode": "closest",
          "mapbox": {
           "style": "light"
          },
          "paper_bgcolor": "white",
          "plot_bgcolor": "#E5ECF6",
          "polar": {
           "angularaxis": {
            "gridcolor": "white",
            "linecolor": "white",
            "ticks": ""
           },
           "bgcolor": "#E5ECF6",
           "radialaxis": {
            "gridcolor": "white",
            "linecolor": "white",
            "ticks": ""
           }
          },
          "scene": {
           "xaxis": {
            "backgroundcolor": "#E5ECF6",
            "gridcolor": "white",
            "gridwidth": 2,
            "linecolor": "white",
            "showbackground": true,
            "ticks": "",
            "zerolinecolor": "white"
           },
           "yaxis": {
            "backgroundcolor": "#E5ECF6",
            "gridcolor": "white",
            "gridwidth": 2,
            "linecolor": "white",
            "showbackground": true,
            "ticks": "",
            "zerolinecolor": "white"
           },
           "zaxis": {
            "backgroundcolor": "#E5ECF6",
            "gridcolor": "white",
            "gridwidth": 2,
            "linecolor": "white",
            "showbackground": true,
            "ticks": "",
            "zerolinecolor": "white"
           }
          },
          "shapedefaults": {
           "line": {
            "color": "#2a3f5f"
           }
          },
          "ternary": {
           "aaxis": {
            "gridcolor": "white",
            "linecolor": "white",
            "ticks": ""
           },
           "baxis": {
            "gridcolor": "white",
            "linecolor": "white",
            "ticks": ""
           },
           "bgcolor": "#E5ECF6",
           "caxis": {
            "gridcolor": "white",
            "linecolor": "white",
            "ticks": ""
           }
          },
          "title": {
           "x": 0.05
          },
          "xaxis": {
           "automargin": true,
           "gridcolor": "white",
           "linecolor": "white",
           "ticks": "",
           "title": {
            "standoff": 15
           },
           "zerolinecolor": "white",
           "zerolinewidth": 2
          },
          "yaxis": {
           "automargin": true,
           "gridcolor": "white",
           "linecolor": "white",
           "ticks": "",
           "title": {
            "standoff": 15
           },
           "zerolinecolor": "white",
           "zerolinewidth": 2
          }
         }
        },
        "title": {
         "text": "Male And Female Distribution by Year"
        },
        "xaxis": {
         "title": {
          "text": "Year"
         }
        }
       }
      }
     },
     "metadata": {},
     "output_type": "display_data"
    }
   ],
   "source": [
    "fig = go.Figure()\n",
    "fig.add_trace(\n",
    "    go.Bar(\n",
    "        x=gender_gr[\"Year\"],\n",
    "        y=gender_gr[\"Male\"],\n",
    "        name=\"Male\",\n",
    "        marker_color=\"indianred\",\n",
    "        text=gender_gr[\"Male\"],\n",
    "    )\n",
    ")\n",
    "\n",
    "fig.add_trace(\n",
    "    go.Bar(\n",
    "        x=gender_gr[\"Year\"],\n",
    "        y=gender_gr[\"Female\"],\n",
    "        name=\"Female\",\n",
    "        marker_color=\"lightsalmon\",\n",
    "        text=gender_gr[\"Female\"],\n",
    "    )\n",
    ")\n",
    "\n",
    "fig.update_layout(\n",
    "    title=dict(text=\"Male And Female Distribution by Year\"),\n",
    "    xaxis=dict(title=dict(text=\"Year\")),\n",
    ")"
   ]
  },
  {
   "cell_type": "code",
   "execution_count": 31,
   "metadata": {},
   "outputs": [
    {
     "data": {
      "application/vnd.plotly.v1+json": {
       "config": {
        "plotlyServerURL": "https://plot.ly"
       },
       "data": [
        {
         "marker": {
          "color": "indianred"
         },
         "mode": "text+lines+markers",
         "name": "Male",
         "text": [
          79.66,
          75.12,
          68.51,
          67.22,
          70.46
         ],
         "textposition": "top center",
         "type": "scatter",
         "x": [
          2014,
          2016,
          2017,
          2018,
          2019
         ],
         "y": [
          79.66,
          75.12,
          68.51,
          67.22,
          70.46
         ]
        },
        {
         "marker": {
          "color": "lightsalmon"
         },
         "mode": "text+lines+markers",
         "name": "Female",
         "text": [
          20.34,
          24.88,
          31.49,
          32.78,
          29.54
         ],
         "textposition": "top center",
         "type": "scatter",
         "x": [
          2014,
          2016,
          2017,
          2018,
          2019
         ],
         "y": [
          20.34,
          24.88,
          31.49,
          32.78,
          29.54
         ]
        }
       ],
       "layout": {
        "template": {
         "data": {
          "bar": [
           {
            "error_x": {
             "color": "#2a3f5f"
            },
            "error_y": {
             "color": "#2a3f5f"
            },
            "marker": {
             "line": {
              "color": "#E5ECF6",
              "width": 0.5
             },
             "pattern": {
              "fillmode": "overlay",
              "size": 10,
              "solidity": 0.2
             }
            },
            "type": "bar"
           }
          ],
          "barpolar": [
           {
            "marker": {
             "line": {
              "color": "#E5ECF6",
              "width": 0.5
             },
             "pattern": {
              "fillmode": "overlay",
              "size": 10,
              "solidity": 0.2
             }
            },
            "type": "barpolar"
           }
          ],
          "carpet": [
           {
            "aaxis": {
             "endlinecolor": "#2a3f5f",
             "gridcolor": "white",
             "linecolor": "white",
             "minorgridcolor": "white",
             "startlinecolor": "#2a3f5f"
            },
            "baxis": {
             "endlinecolor": "#2a3f5f",
             "gridcolor": "white",
             "linecolor": "white",
             "minorgridcolor": "white",
             "startlinecolor": "#2a3f5f"
            },
            "type": "carpet"
           }
          ],
          "choropleth": [
           {
            "colorbar": {
             "outlinewidth": 0,
             "ticks": ""
            },
            "type": "choropleth"
           }
          ],
          "contour": [
           {
            "colorbar": {
             "outlinewidth": 0,
             "ticks": ""
            },
            "colorscale": [
             [
              0,
              "#0d0887"
             ],
             [
              0.1111111111111111,
              "#46039f"
             ],
             [
              0.2222222222222222,
              "#7201a8"
             ],
             [
              0.3333333333333333,
              "#9c179e"
             ],
             [
              0.4444444444444444,
              "#bd3786"
             ],
             [
              0.5555555555555556,
              "#d8576b"
             ],
             [
              0.6666666666666666,
              "#ed7953"
             ],
             [
              0.7777777777777778,
              "#fb9f3a"
             ],
             [
              0.8888888888888888,
              "#fdca26"
             ],
             [
              1,
              "#f0f921"
             ]
            ],
            "type": "contour"
           }
          ],
          "contourcarpet": [
           {
            "colorbar": {
             "outlinewidth": 0,
             "ticks": ""
            },
            "type": "contourcarpet"
           }
          ],
          "heatmap": [
           {
            "colorbar": {
             "outlinewidth": 0,
             "ticks": ""
            },
            "colorscale": [
             [
              0,
              "#0d0887"
             ],
             [
              0.1111111111111111,
              "#46039f"
             ],
             [
              0.2222222222222222,
              "#7201a8"
             ],
             [
              0.3333333333333333,
              "#9c179e"
             ],
             [
              0.4444444444444444,
              "#bd3786"
             ],
             [
              0.5555555555555556,
              "#d8576b"
             ],
             [
              0.6666666666666666,
              "#ed7953"
             ],
             [
              0.7777777777777778,
              "#fb9f3a"
             ],
             [
              0.8888888888888888,
              "#fdca26"
             ],
             [
              1,
              "#f0f921"
             ]
            ],
            "type": "heatmap"
           }
          ],
          "heatmapgl": [
           {
            "colorbar": {
             "outlinewidth": 0,
             "ticks": ""
            },
            "colorscale": [
             [
              0,
              "#0d0887"
             ],
             [
              0.1111111111111111,
              "#46039f"
             ],
             [
              0.2222222222222222,
              "#7201a8"
             ],
             [
              0.3333333333333333,
              "#9c179e"
             ],
             [
              0.4444444444444444,
              "#bd3786"
             ],
             [
              0.5555555555555556,
              "#d8576b"
             ],
             [
              0.6666666666666666,
              "#ed7953"
             ],
             [
              0.7777777777777778,
              "#fb9f3a"
             ],
             [
              0.8888888888888888,
              "#fdca26"
             ],
             [
              1,
              "#f0f921"
             ]
            ],
            "type": "heatmapgl"
           }
          ],
          "histogram": [
           {
            "marker": {
             "pattern": {
              "fillmode": "overlay",
              "size": 10,
              "solidity": 0.2
             }
            },
            "type": "histogram"
           }
          ],
          "histogram2d": [
           {
            "colorbar": {
             "outlinewidth": 0,
             "ticks": ""
            },
            "colorscale": [
             [
              0,
              "#0d0887"
             ],
             [
              0.1111111111111111,
              "#46039f"
             ],
             [
              0.2222222222222222,
              "#7201a8"
             ],
             [
              0.3333333333333333,
              "#9c179e"
             ],
             [
              0.4444444444444444,
              "#bd3786"
             ],
             [
              0.5555555555555556,
              "#d8576b"
             ],
             [
              0.6666666666666666,
              "#ed7953"
             ],
             [
              0.7777777777777778,
              "#fb9f3a"
             ],
             [
              0.8888888888888888,
              "#fdca26"
             ],
             [
              1,
              "#f0f921"
             ]
            ],
            "type": "histogram2d"
           }
          ],
          "histogram2dcontour": [
           {
            "colorbar": {
             "outlinewidth": 0,
             "ticks": ""
            },
            "colorscale": [
             [
              0,
              "#0d0887"
             ],
             [
              0.1111111111111111,
              "#46039f"
             ],
             [
              0.2222222222222222,
              "#7201a8"
             ],
             [
              0.3333333333333333,
              "#9c179e"
             ],
             [
              0.4444444444444444,
              "#bd3786"
             ],
             [
              0.5555555555555556,
              "#d8576b"
             ],
             [
              0.6666666666666666,
              "#ed7953"
             ],
             [
              0.7777777777777778,
              "#fb9f3a"
             ],
             [
              0.8888888888888888,
              "#fdca26"
             ],
             [
              1,
              "#f0f921"
             ]
            ],
            "type": "histogram2dcontour"
           }
          ],
          "mesh3d": [
           {
            "colorbar": {
             "outlinewidth": 0,
             "ticks": ""
            },
            "type": "mesh3d"
           }
          ],
          "parcoords": [
           {
            "line": {
             "colorbar": {
              "outlinewidth": 0,
              "ticks": ""
             }
            },
            "type": "parcoords"
           }
          ],
          "pie": [
           {
            "automargin": true,
            "type": "pie"
           }
          ],
          "scatter": [
           {
            "fillpattern": {
             "fillmode": "overlay",
             "size": 10,
             "solidity": 0.2
            },
            "type": "scatter"
           }
          ],
          "scatter3d": [
           {
            "line": {
             "colorbar": {
              "outlinewidth": 0,
              "ticks": ""
             }
            },
            "marker": {
             "colorbar": {
              "outlinewidth": 0,
              "ticks": ""
             }
            },
            "type": "scatter3d"
           }
          ],
          "scattercarpet": [
           {
            "marker": {
             "colorbar": {
              "outlinewidth": 0,
              "ticks": ""
             }
            },
            "type": "scattercarpet"
           }
          ],
          "scattergeo": [
           {
            "marker": {
             "colorbar": {
              "outlinewidth": 0,
              "ticks": ""
             }
            },
            "type": "scattergeo"
           }
          ],
          "scattergl": [
           {
            "marker": {
             "colorbar": {
              "outlinewidth": 0,
              "ticks": ""
             }
            },
            "type": "scattergl"
           }
          ],
          "scattermapbox": [
           {
            "marker": {
             "colorbar": {
              "outlinewidth": 0,
              "ticks": ""
             }
            },
            "type": "scattermapbox"
           }
          ],
          "scatterpolar": [
           {
            "marker": {
             "colorbar": {
              "outlinewidth": 0,
              "ticks": ""
             }
            },
            "type": "scatterpolar"
           }
          ],
          "scatterpolargl": [
           {
            "marker": {
             "colorbar": {
              "outlinewidth": 0,
              "ticks": ""
             }
            },
            "type": "scatterpolargl"
           }
          ],
          "scatterternary": [
           {
            "marker": {
             "colorbar": {
              "outlinewidth": 0,
              "ticks": ""
             }
            },
            "type": "scatterternary"
           }
          ],
          "surface": [
           {
            "colorbar": {
             "outlinewidth": 0,
             "ticks": ""
            },
            "colorscale": [
             [
              0,
              "#0d0887"
             ],
             [
              0.1111111111111111,
              "#46039f"
             ],
             [
              0.2222222222222222,
              "#7201a8"
             ],
             [
              0.3333333333333333,
              "#9c179e"
             ],
             [
              0.4444444444444444,
              "#bd3786"
             ],
             [
              0.5555555555555556,
              "#d8576b"
             ],
             [
              0.6666666666666666,
              "#ed7953"
             ],
             [
              0.7777777777777778,
              "#fb9f3a"
             ],
             [
              0.8888888888888888,
              "#fdca26"
             ],
             [
              1,
              "#f0f921"
             ]
            ],
            "type": "surface"
           }
          ],
          "table": [
           {
            "cells": {
             "fill": {
              "color": "#EBF0F8"
             },
             "line": {
              "color": "white"
             }
            },
            "header": {
             "fill": {
              "color": "#C8D4E3"
             },
             "line": {
              "color": "white"
             }
            },
            "type": "table"
           }
          ]
         },
         "layout": {
          "annotationdefaults": {
           "arrowcolor": "#2a3f5f",
           "arrowhead": 0,
           "arrowwidth": 1
          },
          "autotypenumbers": "strict",
          "coloraxis": {
           "colorbar": {
            "outlinewidth": 0,
            "ticks": ""
           }
          },
          "colorscale": {
           "diverging": [
            [
             0,
             "#8e0152"
            ],
            [
             0.1,
             "#c51b7d"
            ],
            [
             0.2,
             "#de77ae"
            ],
            [
             0.3,
             "#f1b6da"
            ],
            [
             0.4,
             "#fde0ef"
            ],
            [
             0.5,
             "#f7f7f7"
            ],
            [
             0.6,
             "#e6f5d0"
            ],
            [
             0.7,
             "#b8e186"
            ],
            [
             0.8,
             "#7fbc41"
            ],
            [
             0.9,
             "#4d9221"
            ],
            [
             1,
             "#276419"
            ]
           ],
           "sequential": [
            [
             0,
             "#0d0887"
            ],
            [
             0.1111111111111111,
             "#46039f"
            ],
            [
             0.2222222222222222,
             "#7201a8"
            ],
            [
             0.3333333333333333,
             "#9c179e"
            ],
            [
             0.4444444444444444,
             "#bd3786"
            ],
            [
             0.5555555555555556,
             "#d8576b"
            ],
            [
             0.6666666666666666,
             "#ed7953"
            ],
            [
             0.7777777777777778,
             "#fb9f3a"
            ],
            [
             0.8888888888888888,
             "#fdca26"
            ],
            [
             1,
             "#f0f921"
            ]
           ],
           "sequentialminus": [
            [
             0,
             "#0d0887"
            ],
            [
             0.1111111111111111,
             "#46039f"
            ],
            [
             0.2222222222222222,
             "#7201a8"
            ],
            [
             0.3333333333333333,
             "#9c179e"
            ],
            [
             0.4444444444444444,
             "#bd3786"
            ],
            [
             0.5555555555555556,
             "#d8576b"
            ],
            [
             0.6666666666666666,
             "#ed7953"
            ],
            [
             0.7777777777777778,
             "#fb9f3a"
            ],
            [
             0.8888888888888888,
             "#fdca26"
            ],
            [
             1,
             "#f0f921"
            ]
           ]
          },
          "colorway": [
           "#636efa",
           "#EF553B",
           "#00cc96",
           "#ab63fa",
           "#FFA15A",
           "#19d3f3",
           "#FF6692",
           "#B6E880",
           "#FF97FF",
           "#FECB52"
          ],
          "font": {
           "color": "#2a3f5f"
          },
          "geo": {
           "bgcolor": "white",
           "lakecolor": "white",
           "landcolor": "#E5ECF6",
           "showlakes": true,
           "showland": true,
           "subunitcolor": "white"
          },
          "hoverlabel": {
           "align": "left"
          },
          "hovermode": "closest",
          "mapbox": {
           "style": "light"
          },
          "paper_bgcolor": "white",
          "plot_bgcolor": "#E5ECF6",
          "polar": {
           "angularaxis": {
            "gridcolor": "white",
            "linecolor": "white",
            "ticks": ""
           },
           "bgcolor": "#E5ECF6",
           "radialaxis": {
            "gridcolor": "white",
            "linecolor": "white",
            "ticks": ""
           }
          },
          "scene": {
           "xaxis": {
            "backgroundcolor": "#E5ECF6",
            "gridcolor": "white",
            "gridwidth": 2,
            "linecolor": "white",
            "showbackground": true,
            "ticks": "",
            "zerolinecolor": "white"
           },
           "yaxis": {
            "backgroundcolor": "#E5ECF6",
            "gridcolor": "white",
            "gridwidth": 2,
            "linecolor": "white",
            "showbackground": true,
            "ticks": "",
            "zerolinecolor": "white"
           },
           "zaxis": {
            "backgroundcolor": "#E5ECF6",
            "gridcolor": "white",
            "gridwidth": 2,
            "linecolor": "white",
            "showbackground": true,
            "ticks": "",
            "zerolinecolor": "white"
           }
          },
          "shapedefaults": {
           "line": {
            "color": "#2a3f5f"
           }
          },
          "ternary": {
           "aaxis": {
            "gridcolor": "white",
            "linecolor": "white",
            "ticks": ""
           },
           "baxis": {
            "gridcolor": "white",
            "linecolor": "white",
            "ticks": ""
           },
           "bgcolor": "#E5ECF6",
           "caxis": {
            "gridcolor": "white",
            "linecolor": "white",
            "ticks": ""
           }
          },
          "title": {
           "x": 0.05
          },
          "xaxis": {
           "automargin": true,
           "gridcolor": "white",
           "linecolor": "white",
           "ticks": "",
           "title": {
            "standoff": 15
           },
           "zerolinecolor": "white",
           "zerolinewidth": 2
          },
          "yaxis": {
           "automargin": true,
           "gridcolor": "white",
           "linecolor": "white",
           "ticks": "",
           "title": {
            "standoff": 15
           },
           "zerolinecolor": "white",
           "zerolinewidth": 2
          }
         }
        },
        "title": {
         "text": "Percentage Distribution of Male and Female"
        },
        "xaxis": {
         "title": {
          "text": "Year"
         }
        }
       }
      }
     },
     "metadata": {},
     "output_type": "display_data"
    }
   ],
   "source": [
    "fig = go.Figure()\n",
    "fig.add_trace(\n",
    "    go.Scatter(\n",
    "        x=gender_gr[\"Year\"],\n",
    "        y=gender_gr[\"Male_proc\"],\n",
    "        name=\"Male\",\n",
    "        marker_color=\"indianred\",\n",
    "        text=gender_gr[\"Male_proc\"],\n",
    "        textposition=\"top center\",\n",
    "        mode=\"text+lines+markers\",\n",
    "    )\n",
    ")\n",
    "\n",
    "fig.add_trace(\n",
    "    go.Scatter(\n",
    "        x=gender_gr[\"Year\"],\n",
    "        y=gender_gr[\"Female_proc\"],\n",
    "        name=\"Female\",\n",
    "        marker_color=\"lightsalmon\",\n",
    "        text=gender_gr[\"Female_proc\"],\n",
    "        textposition=\"top center\",\n",
    "        mode=\"text+lines+markers\",\n",
    "    )\n",
    ")\n",
    "\n",
    "fig.update_layout(\n",
    "    title=\"Percentage Distribution of Male and Female\",\n",
    "    xaxis=dict(title=dict(text=\"Year\")),\n",
    ")"
   ]
  },
  {
   "cell_type": "markdown",
   "metadata": {},
   "source": [
    "The chart reflects the gender distribution of survey respondents over the years, aligning with the typical representation of females in the IT industry, which ranges from 20% to 30%.\\\n",
    "In 2014, males constituted 79.66% of respondents, while females accounted for 20.34%, consistent with industry norms. By 2018, the proportion of female respondents reached 32.78%, slightly above the typical range, indicating an inclusive sampling approach. Males remain the majority across all years, with proportions between 67.22% and 79.66%, reflecting the industry's demographic composition. These figures suggest the gender distribution in the survey is representative of the IT sector.\n"
   ]
  },
  {
   "cell_type": "markdown",
   "metadata": {},
   "source": [
    "The target group consists of:\n",
    "\n",
    "- Men and women\n",
    "- Living in Europe and North America\n",
    "- Aged between 18 and 67 years\n"
   ]
  },
  {
   "cell_type": "markdown",
   "metadata": {},
   "source": [
    "## **Prevalence of mental health conditions**\n"
   ]
  },
  {
   "cell_type": "markdown",
   "metadata": {},
   "source": [
    "### **How many respondents currently have or have had mental health issues?**\n"
   ]
  },
  {
   "cell_type": "markdown",
   "metadata": {},
   "source": [
    "In the Have_disorder column, we will standardize the values for further calculations. Only three values will be retained:\n",
    "\n",
    "- Yes\n",
    "- No\n",
    "- Don't Know\n",
    "\n",
    "This ensures consistency and simplifies the data for accurate analysis.\n"
   ]
  },
  {
   "cell_type": "code",
   "execution_count": 32,
   "metadata": {},
   "outputs": [],
   "source": [
    "have_disorder_df = duckdb.sql(\n",
    "    \"\"\"\n",
    "        SELECT\n",
    "            d.UserID,\n",
    "            d.Year,\n",
    "            d.Age,\n",
    "            d.Gender,\n",
    "            d.Location,\n",
    "            d.Continent,\n",
    "            CASE \n",
    "                WHEN hd.Have_disorder = 'Possibly' THEN 'Don''t Know'\n",
    "                WHEN hd.Have_disorder = 'Maybe' THEN 'Don''t Know' \n",
    "                ELSE hd.Have_disorder\n",
    "                END AS Have_disorder\n",
    "\n",
    "        FROM demografic_df AS d \n",
    "            LEFT JOIN (\n",
    "                SELECT \n",
    "                    UserID, \n",
    "                    AnswerText AS 'Have_disorder' \n",
    "                FROM df \n",
    "                WHERE QuestionID = 33\n",
    "                ) AS hd \n",
    "            ON d.UserID = hd.UserID \n",
    "\n",
    "        WHERE\n",
    "            d.Year != 2014\n",
    "    \"\"\"\n",
    ").to_df()"
   ]
  },
  {
   "cell_type": "code",
   "execution_count": 33,
   "metadata": {},
   "outputs": [],
   "source": [
    "have_disorder_gr = duckdb.sql(\n",
    "    \"\"\"\n",
    "    WITH \n",
    "        main_df AS (\n",
    "            SELECT \n",
    "                Have_disorder, \n",
    "                COUNT(Have_disorder) AS 'count',\n",
    "                (SELECT COUNT(Have_disorder) FROM have_disorder_df) AS 'Total'\n",
    "\n",
    "            FROM have_disorder_df\n",
    "\n",
    "            GROUP BY Have_disorder\n",
    "        ),\n",
    "\n",
    "        final_df AS (\n",
    "            SELECT\n",
    "                Have_disorder,\n",
    "                count,\n",
    "                Total,\n",
    "                ROUND(count / Total * 100, 2) AS 'count%'\n",
    "\n",
    "            FROM main_df\n",
    "        )\n",
    "\n",
    "SELECT * FROM final_df\n",
    "ORDER BY count DESC\n",
    "\"\"\"\n",
    ").to_df()"
   ]
  },
  {
   "cell_type": "code",
   "execution_count": 34,
   "metadata": {},
   "outputs": [
    {
     "data": {
      "application/vnd.plotly.v1+json": {
       "config": {
        "plotlyServerURL": "https://plot.ly"
       },
       "data": [
        {
         "alignmentgroup": "True",
         "hovertemplate": "Have_disorder=%{x}<br>count%=%{y}<extra></extra>",
         "legendgroup": "",
         "marker": {
          "color": "#e6cea0",
          "pattern": {
           "shape": ""
          }
         },
         "name": "",
         "offsetgroup": "",
         "orientation": "v",
         "showlegend": false,
         "textposition": "auto",
         "texttemplate": "%{y}",
         "type": "bar",
         "x": [
          "Yes",
          "No",
          "Don't Know"
         ],
         "xaxis": "x",
         "y": [
          42.04,
          32.92,
          25.04
         ],
         "yaxis": "y"
        }
       ],
       "layout": {
        "barmode": "relative",
        "height": 300,
        "legend": {
         "tracegroupgap": 0
        },
        "template": {
         "data": {
          "bar": [
           {
            "error_x": {
             "color": "#2a3f5f"
            },
            "error_y": {
             "color": "#2a3f5f"
            },
            "marker": {
             "line": {
              "color": "white",
              "width": 0.5
             },
             "pattern": {
              "fillmode": "overlay",
              "size": 10,
              "solidity": 0.2
             }
            },
            "type": "bar"
           }
          ],
          "barpolar": [
           {
            "marker": {
             "line": {
              "color": "white",
              "width": 0.5
             },
             "pattern": {
              "fillmode": "overlay",
              "size": 10,
              "solidity": 0.2
             }
            },
            "type": "barpolar"
           }
          ],
          "carpet": [
           {
            "aaxis": {
             "endlinecolor": "#2a3f5f",
             "gridcolor": "#C8D4E3",
             "linecolor": "#C8D4E3",
             "minorgridcolor": "#C8D4E3",
             "startlinecolor": "#2a3f5f"
            },
            "baxis": {
             "endlinecolor": "#2a3f5f",
             "gridcolor": "#C8D4E3",
             "linecolor": "#C8D4E3",
             "minorgridcolor": "#C8D4E3",
             "startlinecolor": "#2a3f5f"
            },
            "type": "carpet"
           }
          ],
          "choropleth": [
           {
            "colorbar": {
             "outlinewidth": 0,
             "ticks": ""
            },
            "type": "choropleth"
           }
          ],
          "contour": [
           {
            "colorbar": {
             "outlinewidth": 0,
             "ticks": ""
            },
            "colorscale": [
             [
              0,
              "#0d0887"
             ],
             [
              0.1111111111111111,
              "#46039f"
             ],
             [
              0.2222222222222222,
              "#7201a8"
             ],
             [
              0.3333333333333333,
              "#9c179e"
             ],
             [
              0.4444444444444444,
              "#bd3786"
             ],
             [
              0.5555555555555556,
              "#d8576b"
             ],
             [
              0.6666666666666666,
              "#ed7953"
             ],
             [
              0.7777777777777778,
              "#fb9f3a"
             ],
             [
              0.8888888888888888,
              "#fdca26"
             ],
             [
              1,
              "#f0f921"
             ]
            ],
            "type": "contour"
           }
          ],
          "contourcarpet": [
           {
            "colorbar": {
             "outlinewidth": 0,
             "ticks": ""
            },
            "type": "contourcarpet"
           }
          ],
          "heatmap": [
           {
            "colorbar": {
             "outlinewidth": 0,
             "ticks": ""
            },
            "colorscale": [
             [
              0,
              "#0d0887"
             ],
             [
              0.1111111111111111,
              "#46039f"
             ],
             [
              0.2222222222222222,
              "#7201a8"
             ],
             [
              0.3333333333333333,
              "#9c179e"
             ],
             [
              0.4444444444444444,
              "#bd3786"
             ],
             [
              0.5555555555555556,
              "#d8576b"
             ],
             [
              0.6666666666666666,
              "#ed7953"
             ],
             [
              0.7777777777777778,
              "#fb9f3a"
             ],
             [
              0.8888888888888888,
              "#fdca26"
             ],
             [
              1,
              "#f0f921"
             ]
            ],
            "type": "heatmap"
           }
          ],
          "heatmapgl": [
           {
            "colorbar": {
             "outlinewidth": 0,
             "ticks": ""
            },
            "colorscale": [
             [
              0,
              "#0d0887"
             ],
             [
              0.1111111111111111,
              "#46039f"
             ],
             [
              0.2222222222222222,
              "#7201a8"
             ],
             [
              0.3333333333333333,
              "#9c179e"
             ],
             [
              0.4444444444444444,
              "#bd3786"
             ],
             [
              0.5555555555555556,
              "#d8576b"
             ],
             [
              0.6666666666666666,
              "#ed7953"
             ],
             [
              0.7777777777777778,
              "#fb9f3a"
             ],
             [
              0.8888888888888888,
              "#fdca26"
             ],
             [
              1,
              "#f0f921"
             ]
            ],
            "type": "heatmapgl"
           }
          ],
          "histogram": [
           {
            "marker": {
             "pattern": {
              "fillmode": "overlay",
              "size": 10,
              "solidity": 0.2
             }
            },
            "type": "histogram"
           }
          ],
          "histogram2d": [
           {
            "colorbar": {
             "outlinewidth": 0,
             "ticks": ""
            },
            "colorscale": [
             [
              0,
              "#0d0887"
             ],
             [
              0.1111111111111111,
              "#46039f"
             ],
             [
              0.2222222222222222,
              "#7201a8"
             ],
             [
              0.3333333333333333,
              "#9c179e"
             ],
             [
              0.4444444444444444,
              "#bd3786"
             ],
             [
              0.5555555555555556,
              "#d8576b"
             ],
             [
              0.6666666666666666,
              "#ed7953"
             ],
             [
              0.7777777777777778,
              "#fb9f3a"
             ],
             [
              0.8888888888888888,
              "#fdca26"
             ],
             [
              1,
              "#f0f921"
             ]
            ],
            "type": "histogram2d"
           }
          ],
          "histogram2dcontour": [
           {
            "colorbar": {
             "outlinewidth": 0,
             "ticks": ""
            },
            "colorscale": [
             [
              0,
              "#0d0887"
             ],
             [
              0.1111111111111111,
              "#46039f"
             ],
             [
              0.2222222222222222,
              "#7201a8"
             ],
             [
              0.3333333333333333,
              "#9c179e"
             ],
             [
              0.4444444444444444,
              "#bd3786"
             ],
             [
              0.5555555555555556,
              "#d8576b"
             ],
             [
              0.6666666666666666,
              "#ed7953"
             ],
             [
              0.7777777777777778,
              "#fb9f3a"
             ],
             [
              0.8888888888888888,
              "#fdca26"
             ],
             [
              1,
              "#f0f921"
             ]
            ],
            "type": "histogram2dcontour"
           }
          ],
          "mesh3d": [
           {
            "colorbar": {
             "outlinewidth": 0,
             "ticks": ""
            },
            "type": "mesh3d"
           }
          ],
          "parcoords": [
           {
            "line": {
             "colorbar": {
              "outlinewidth": 0,
              "ticks": ""
             }
            },
            "type": "parcoords"
           }
          ],
          "pie": [
           {
            "automargin": true,
            "type": "pie"
           }
          ],
          "scatter": [
           {
            "fillpattern": {
             "fillmode": "overlay",
             "size": 10,
             "solidity": 0.2
            },
            "type": "scatter"
           }
          ],
          "scatter3d": [
           {
            "line": {
             "colorbar": {
              "outlinewidth": 0,
              "ticks": ""
             }
            },
            "marker": {
             "colorbar": {
              "outlinewidth": 0,
              "ticks": ""
             }
            },
            "type": "scatter3d"
           }
          ],
          "scattercarpet": [
           {
            "marker": {
             "colorbar": {
              "outlinewidth": 0,
              "ticks": ""
             }
            },
            "type": "scattercarpet"
           }
          ],
          "scattergeo": [
           {
            "marker": {
             "colorbar": {
              "outlinewidth": 0,
              "ticks": ""
             }
            },
            "type": "scattergeo"
           }
          ],
          "scattergl": [
           {
            "marker": {
             "colorbar": {
              "outlinewidth": 0,
              "ticks": ""
             }
            },
            "type": "scattergl"
           }
          ],
          "scattermapbox": [
           {
            "marker": {
             "colorbar": {
              "outlinewidth": 0,
              "ticks": ""
             }
            },
            "type": "scattermapbox"
           }
          ],
          "scatterpolar": [
           {
            "marker": {
             "colorbar": {
              "outlinewidth": 0,
              "ticks": ""
             }
            },
            "type": "scatterpolar"
           }
          ],
          "scatterpolargl": [
           {
            "marker": {
             "colorbar": {
              "outlinewidth": 0,
              "ticks": ""
             }
            },
            "type": "scatterpolargl"
           }
          ],
          "scatterternary": [
           {
            "marker": {
             "colorbar": {
              "outlinewidth": 0,
              "ticks": ""
             }
            },
            "type": "scatterternary"
           }
          ],
          "surface": [
           {
            "colorbar": {
             "outlinewidth": 0,
             "ticks": ""
            },
            "colorscale": [
             [
              0,
              "#0d0887"
             ],
             [
              0.1111111111111111,
              "#46039f"
             ],
             [
              0.2222222222222222,
              "#7201a8"
             ],
             [
              0.3333333333333333,
              "#9c179e"
             ],
             [
              0.4444444444444444,
              "#bd3786"
             ],
             [
              0.5555555555555556,
              "#d8576b"
             ],
             [
              0.6666666666666666,
              "#ed7953"
             ],
             [
              0.7777777777777778,
              "#fb9f3a"
             ],
             [
              0.8888888888888888,
              "#fdca26"
             ],
             [
              1,
              "#f0f921"
             ]
            ],
            "type": "surface"
           }
          ],
          "table": [
           {
            "cells": {
             "fill": {
              "color": "#EBF0F8"
             },
             "line": {
              "color": "white"
             }
            },
            "header": {
             "fill": {
              "color": "#C8D4E3"
             },
             "line": {
              "color": "white"
             }
            },
            "type": "table"
           }
          ]
         },
         "layout": {
          "annotationdefaults": {
           "arrowcolor": "#2a3f5f",
           "arrowhead": 0,
           "arrowwidth": 1
          },
          "autotypenumbers": "strict",
          "coloraxis": {
           "colorbar": {
            "outlinewidth": 0,
            "ticks": ""
           }
          },
          "colorscale": {
           "diverging": [
            [
             0,
             "#8e0152"
            ],
            [
             0.1,
             "#c51b7d"
            ],
            [
             0.2,
             "#de77ae"
            ],
            [
             0.3,
             "#f1b6da"
            ],
            [
             0.4,
             "#fde0ef"
            ],
            [
             0.5,
             "#f7f7f7"
            ],
            [
             0.6,
             "#e6f5d0"
            ],
            [
             0.7,
             "#b8e186"
            ],
            [
             0.8,
             "#7fbc41"
            ],
            [
             0.9,
             "#4d9221"
            ],
            [
             1,
             "#276419"
            ]
           ],
           "sequential": [
            [
             0,
             "#0d0887"
            ],
            [
             0.1111111111111111,
             "#46039f"
            ],
            [
             0.2222222222222222,
             "#7201a8"
            ],
            [
             0.3333333333333333,
             "#9c179e"
            ],
            [
             0.4444444444444444,
             "#bd3786"
            ],
            [
             0.5555555555555556,
             "#d8576b"
            ],
            [
             0.6666666666666666,
             "#ed7953"
            ],
            [
             0.7777777777777778,
             "#fb9f3a"
            ],
            [
             0.8888888888888888,
             "#fdca26"
            ],
            [
             1,
             "#f0f921"
            ]
           ],
           "sequentialminus": [
            [
             0,
             "#0d0887"
            ],
            [
             0.1111111111111111,
             "#46039f"
            ],
            [
             0.2222222222222222,
             "#7201a8"
            ],
            [
             0.3333333333333333,
             "#9c179e"
            ],
            [
             0.4444444444444444,
             "#bd3786"
            ],
            [
             0.5555555555555556,
             "#d8576b"
            ],
            [
             0.6666666666666666,
             "#ed7953"
            ],
            [
             0.7777777777777778,
             "#fb9f3a"
            ],
            [
             0.8888888888888888,
             "#fdca26"
            ],
            [
             1,
             "#f0f921"
            ]
           ]
          },
          "colorway": [
           "#636efa",
           "#EF553B",
           "#00cc96",
           "#ab63fa",
           "#FFA15A",
           "#19d3f3",
           "#FF6692",
           "#B6E880",
           "#FF97FF",
           "#FECB52"
          ],
          "font": {
           "color": "#2a3f5f"
          },
          "geo": {
           "bgcolor": "white",
           "lakecolor": "white",
           "landcolor": "white",
           "showlakes": true,
           "showland": true,
           "subunitcolor": "#C8D4E3"
          },
          "hoverlabel": {
           "align": "left"
          },
          "hovermode": "closest",
          "mapbox": {
           "style": "light"
          },
          "paper_bgcolor": "white",
          "plot_bgcolor": "white",
          "polar": {
           "angularaxis": {
            "gridcolor": "#EBF0F8",
            "linecolor": "#EBF0F8",
            "ticks": ""
           },
           "bgcolor": "white",
           "radialaxis": {
            "gridcolor": "#EBF0F8",
            "linecolor": "#EBF0F8",
            "ticks": ""
           }
          },
          "scene": {
           "xaxis": {
            "backgroundcolor": "white",
            "gridcolor": "#DFE8F3",
            "gridwidth": 2,
            "linecolor": "#EBF0F8",
            "showbackground": true,
            "ticks": "",
            "zerolinecolor": "#EBF0F8"
           },
           "yaxis": {
            "backgroundcolor": "white",
            "gridcolor": "#DFE8F3",
            "gridwidth": 2,
            "linecolor": "#EBF0F8",
            "showbackground": true,
            "ticks": "",
            "zerolinecolor": "#EBF0F8"
           },
           "zaxis": {
            "backgroundcolor": "white",
            "gridcolor": "#DFE8F3",
            "gridwidth": 2,
            "linecolor": "#EBF0F8",
            "showbackground": true,
            "ticks": "",
            "zerolinecolor": "#EBF0F8"
           }
          },
          "shapedefaults": {
           "line": {
            "color": "#2a3f5f"
           }
          },
          "ternary": {
           "aaxis": {
            "gridcolor": "#DFE8F3",
            "linecolor": "#A2B1C6",
            "ticks": ""
           },
           "baxis": {
            "gridcolor": "#DFE8F3",
            "linecolor": "#A2B1C6",
            "ticks": ""
           },
           "bgcolor": "white",
           "caxis": {
            "gridcolor": "#DFE8F3",
            "linecolor": "#A2B1C6",
            "ticks": ""
           }
          },
          "title": {
           "x": 0.05
          },
          "xaxis": {
           "automargin": true,
           "gridcolor": "#EBF0F8",
           "linecolor": "#EBF0F8",
           "ticks": "",
           "title": {
            "standoff": 15
           },
           "zerolinecolor": "#EBF0F8",
           "zerolinewidth": 2
          },
          "yaxis": {
           "automargin": true,
           "gridcolor": "#EBF0F8",
           "linecolor": "#EBF0F8",
           "ticks": "",
           "title": {
            "standoff": 15
           },
           "zerolinecolor": "#EBF0F8",
           "zerolinewidth": 2
          }
         }
        },
        "title": {
         "text": "Percentage Distribution of Do you currently have a mental health disorder?"
        },
        "width": 1200,
        "xaxis": {
         "anchor": "y",
         "domain": [
          0,
          1
         ],
         "title": {
          "text": "Have_disorder"
         }
        },
        "yaxis": {
         "anchor": "x",
         "domain": [
          0,
          1
         ],
         "title": {
          "text": "count%"
         }
        }
       }
      }
     },
     "metadata": {},
     "output_type": "display_data"
    }
   ],
   "source": [
    "bar_chart(\n",
    "    df=have_disorder_gr,\n",
    "    xaxis=\"Have_disorder\",\n",
    "    yaxis=\"count%\",\n",
    "    title=\"Percentage Distribution of Do you currently have a mental health disorder?\",\n",
    ")"
   ]
  },
  {
   "cell_type": "markdown",
   "metadata": {},
   "source": [
    "The table summarizes the responses to whether participants have a mental health disorder. Among respondents, 42.04% reported having a disorder, highlighting a significant proportion facing mental health challenges. Another 32.92% explicitly stated they do not have a mental health disorder, while 25.04% were uncertain or did not know. The high percentage of \"Don't Know\" responses indicates a notable level of uncertainty or lack of awareness about mental health, suggesting the need for better education and resources to help individuals understand and recognize mental health conditions. This distribution provides a foundation for exploring workplace and demographic factors influencing mental health awareness and prevalence.\n"
   ]
  },
  {
   "cell_type": "code",
   "execution_count": 35,
   "metadata": {},
   "outputs": [],
   "source": [
    "male_disorder_df = duckdb.sql(\n",
    "    \"\"\"\n",
    "    WITH \n",
    "        main_df AS (\n",
    "            SELECT \n",
    "                Have_disorder,\n",
    "                count(Gender) AS count,\n",
    "                (SELECT COUNT(Gender) FROM have_disorder_df WHERE Gender = 'male') AS 'Total'\n",
    "\n",
    "            FROM have_disorder_df\n",
    "\n",
    "            WHERE\n",
    "                Gender = 'male'\n",
    "\n",
    "            GROUP BY Have_disorder\n",
    "        ),\n",
    "\n",
    "        final_df AS (\n",
    "            SELECT\n",
    "                Have_disorder,\n",
    "                count,\n",
    "                Total, \n",
    "                ROUND(count / Total * 100, 2) AS 'count%'\n",
    "\n",
    "            FROM main_df\n",
    "        )\n",
    "\n",
    "SELECT * FROM final_df\n",
    "ORDER BY count DESC\n",
    "    \"\"\"\n",
    ").to_df()"
   ]
  },
  {
   "cell_type": "code",
   "execution_count": 36,
   "metadata": {},
   "outputs": [],
   "source": [
    "female_disorder_df = duckdb.sql(\n",
    "    \"\"\"\n",
    "    WITH \n",
    "        main_df AS (\n",
    "            SELECT \n",
    "                Have_disorder,\n",
    "                count(Gender) AS 'count',\n",
    "                (SELECT COUNT(Gender) FROM have_disorder_df WHERE Gender = 'female') AS 'Total'\n",
    "\n",
    "            FROM have_disorder_df\n",
    "\n",
    "            WHERE\n",
    "                Gender = 'female'\n",
    "\n",
    "            GROUP BY Have_disorder\n",
    "        ),\n",
    "\n",
    "        final_df AS (\n",
    "            SELECT\n",
    "                Have_disorder,\n",
    "                count,\n",
    "                Total,\n",
    "                ROUND(count / Total * 100, 2) AS 'count%' \n",
    "\n",
    "            FROM main_df\n",
    "        )\n",
    "\n",
    "SELECT * FROM final_df  \n",
    "ORDER BY count DESC\n",
    "    \"\"\"\n",
    ").to_df()"
   ]
  },
  {
   "cell_type": "code",
   "execution_count": 37,
   "metadata": {},
   "outputs": [
    {
     "data": {
      "application/vnd.plotly.v1+json": {
       "config": {
        "plotlyServerURL": "https://plot.ly"
       },
       "data": [
        {
         "marker": {
          "color": "indianred"
         },
         "name": "Male",
         "text": [
          36.42,
          36.37,
          27.21
         ],
         "type": "bar",
         "x": [
          "Yes",
          "No",
          "Don't Know"
         ],
         "y": [
          36.42,
          36.37,
          27.21
         ]
        },
        {
         "marker": {
          "color": "lightsalmon"
         },
         "name": "Female",
         "text": [
          56.34,
          24.15,
          19.51
         ],
         "type": "bar",
         "x": [
          "Yes",
          "No",
          "Don't Know"
         ],
         "y": [
          56.34,
          24.15,
          19.51
         ]
        }
       ],
       "layout": {
        "template": {
         "data": {
          "bar": [
           {
            "error_x": {
             "color": "#2a3f5f"
            },
            "error_y": {
             "color": "#2a3f5f"
            },
            "marker": {
             "line": {
              "color": "#E5ECF6",
              "width": 0.5
             },
             "pattern": {
              "fillmode": "overlay",
              "size": 10,
              "solidity": 0.2
             }
            },
            "type": "bar"
           }
          ],
          "barpolar": [
           {
            "marker": {
             "line": {
              "color": "#E5ECF6",
              "width": 0.5
             },
             "pattern": {
              "fillmode": "overlay",
              "size": 10,
              "solidity": 0.2
             }
            },
            "type": "barpolar"
           }
          ],
          "carpet": [
           {
            "aaxis": {
             "endlinecolor": "#2a3f5f",
             "gridcolor": "white",
             "linecolor": "white",
             "minorgridcolor": "white",
             "startlinecolor": "#2a3f5f"
            },
            "baxis": {
             "endlinecolor": "#2a3f5f",
             "gridcolor": "white",
             "linecolor": "white",
             "minorgridcolor": "white",
             "startlinecolor": "#2a3f5f"
            },
            "type": "carpet"
           }
          ],
          "choropleth": [
           {
            "colorbar": {
             "outlinewidth": 0,
             "ticks": ""
            },
            "type": "choropleth"
           }
          ],
          "contour": [
           {
            "colorbar": {
             "outlinewidth": 0,
             "ticks": ""
            },
            "colorscale": [
             [
              0,
              "#0d0887"
             ],
             [
              0.1111111111111111,
              "#46039f"
             ],
             [
              0.2222222222222222,
              "#7201a8"
             ],
             [
              0.3333333333333333,
              "#9c179e"
             ],
             [
              0.4444444444444444,
              "#bd3786"
             ],
             [
              0.5555555555555556,
              "#d8576b"
             ],
             [
              0.6666666666666666,
              "#ed7953"
             ],
             [
              0.7777777777777778,
              "#fb9f3a"
             ],
             [
              0.8888888888888888,
              "#fdca26"
             ],
             [
              1,
              "#f0f921"
             ]
            ],
            "type": "contour"
           }
          ],
          "contourcarpet": [
           {
            "colorbar": {
             "outlinewidth": 0,
             "ticks": ""
            },
            "type": "contourcarpet"
           }
          ],
          "heatmap": [
           {
            "colorbar": {
             "outlinewidth": 0,
             "ticks": ""
            },
            "colorscale": [
             [
              0,
              "#0d0887"
             ],
             [
              0.1111111111111111,
              "#46039f"
             ],
             [
              0.2222222222222222,
              "#7201a8"
             ],
             [
              0.3333333333333333,
              "#9c179e"
             ],
             [
              0.4444444444444444,
              "#bd3786"
             ],
             [
              0.5555555555555556,
              "#d8576b"
             ],
             [
              0.6666666666666666,
              "#ed7953"
             ],
             [
              0.7777777777777778,
              "#fb9f3a"
             ],
             [
              0.8888888888888888,
              "#fdca26"
             ],
             [
              1,
              "#f0f921"
             ]
            ],
            "type": "heatmap"
           }
          ],
          "heatmapgl": [
           {
            "colorbar": {
             "outlinewidth": 0,
             "ticks": ""
            },
            "colorscale": [
             [
              0,
              "#0d0887"
             ],
             [
              0.1111111111111111,
              "#46039f"
             ],
             [
              0.2222222222222222,
              "#7201a8"
             ],
             [
              0.3333333333333333,
              "#9c179e"
             ],
             [
              0.4444444444444444,
              "#bd3786"
             ],
             [
              0.5555555555555556,
              "#d8576b"
             ],
             [
              0.6666666666666666,
              "#ed7953"
             ],
             [
              0.7777777777777778,
              "#fb9f3a"
             ],
             [
              0.8888888888888888,
              "#fdca26"
             ],
             [
              1,
              "#f0f921"
             ]
            ],
            "type": "heatmapgl"
           }
          ],
          "histogram": [
           {
            "marker": {
             "pattern": {
              "fillmode": "overlay",
              "size": 10,
              "solidity": 0.2
             }
            },
            "type": "histogram"
           }
          ],
          "histogram2d": [
           {
            "colorbar": {
             "outlinewidth": 0,
             "ticks": ""
            },
            "colorscale": [
             [
              0,
              "#0d0887"
             ],
             [
              0.1111111111111111,
              "#46039f"
             ],
             [
              0.2222222222222222,
              "#7201a8"
             ],
             [
              0.3333333333333333,
              "#9c179e"
             ],
             [
              0.4444444444444444,
              "#bd3786"
             ],
             [
              0.5555555555555556,
              "#d8576b"
             ],
             [
              0.6666666666666666,
              "#ed7953"
             ],
             [
              0.7777777777777778,
              "#fb9f3a"
             ],
             [
              0.8888888888888888,
              "#fdca26"
             ],
             [
              1,
              "#f0f921"
             ]
            ],
            "type": "histogram2d"
           }
          ],
          "histogram2dcontour": [
           {
            "colorbar": {
             "outlinewidth": 0,
             "ticks": ""
            },
            "colorscale": [
             [
              0,
              "#0d0887"
             ],
             [
              0.1111111111111111,
              "#46039f"
             ],
             [
              0.2222222222222222,
              "#7201a8"
             ],
             [
              0.3333333333333333,
              "#9c179e"
             ],
             [
              0.4444444444444444,
              "#bd3786"
             ],
             [
              0.5555555555555556,
              "#d8576b"
             ],
             [
              0.6666666666666666,
              "#ed7953"
             ],
             [
              0.7777777777777778,
              "#fb9f3a"
             ],
             [
              0.8888888888888888,
              "#fdca26"
             ],
             [
              1,
              "#f0f921"
             ]
            ],
            "type": "histogram2dcontour"
           }
          ],
          "mesh3d": [
           {
            "colorbar": {
             "outlinewidth": 0,
             "ticks": ""
            },
            "type": "mesh3d"
           }
          ],
          "parcoords": [
           {
            "line": {
             "colorbar": {
              "outlinewidth": 0,
              "ticks": ""
             }
            },
            "type": "parcoords"
           }
          ],
          "pie": [
           {
            "automargin": true,
            "type": "pie"
           }
          ],
          "scatter": [
           {
            "fillpattern": {
             "fillmode": "overlay",
             "size": 10,
             "solidity": 0.2
            },
            "type": "scatter"
           }
          ],
          "scatter3d": [
           {
            "line": {
             "colorbar": {
              "outlinewidth": 0,
              "ticks": ""
             }
            },
            "marker": {
             "colorbar": {
              "outlinewidth": 0,
              "ticks": ""
             }
            },
            "type": "scatter3d"
           }
          ],
          "scattercarpet": [
           {
            "marker": {
             "colorbar": {
              "outlinewidth": 0,
              "ticks": ""
             }
            },
            "type": "scattercarpet"
           }
          ],
          "scattergeo": [
           {
            "marker": {
             "colorbar": {
              "outlinewidth": 0,
              "ticks": ""
             }
            },
            "type": "scattergeo"
           }
          ],
          "scattergl": [
           {
            "marker": {
             "colorbar": {
              "outlinewidth": 0,
              "ticks": ""
             }
            },
            "type": "scattergl"
           }
          ],
          "scattermapbox": [
           {
            "marker": {
             "colorbar": {
              "outlinewidth": 0,
              "ticks": ""
             }
            },
            "type": "scattermapbox"
           }
          ],
          "scatterpolar": [
           {
            "marker": {
             "colorbar": {
              "outlinewidth": 0,
              "ticks": ""
             }
            },
            "type": "scatterpolar"
           }
          ],
          "scatterpolargl": [
           {
            "marker": {
             "colorbar": {
              "outlinewidth": 0,
              "ticks": ""
             }
            },
            "type": "scatterpolargl"
           }
          ],
          "scatterternary": [
           {
            "marker": {
             "colorbar": {
              "outlinewidth": 0,
              "ticks": ""
             }
            },
            "type": "scatterternary"
           }
          ],
          "surface": [
           {
            "colorbar": {
             "outlinewidth": 0,
             "ticks": ""
            },
            "colorscale": [
             [
              0,
              "#0d0887"
             ],
             [
              0.1111111111111111,
              "#46039f"
             ],
             [
              0.2222222222222222,
              "#7201a8"
             ],
             [
              0.3333333333333333,
              "#9c179e"
             ],
             [
              0.4444444444444444,
              "#bd3786"
             ],
             [
              0.5555555555555556,
              "#d8576b"
             ],
             [
              0.6666666666666666,
              "#ed7953"
             ],
             [
              0.7777777777777778,
              "#fb9f3a"
             ],
             [
              0.8888888888888888,
              "#fdca26"
             ],
             [
              1,
              "#f0f921"
             ]
            ],
            "type": "surface"
           }
          ],
          "table": [
           {
            "cells": {
             "fill": {
              "color": "#EBF0F8"
             },
             "line": {
              "color": "white"
             }
            },
            "header": {
             "fill": {
              "color": "#C8D4E3"
             },
             "line": {
              "color": "white"
             }
            },
            "type": "table"
           }
          ]
         },
         "layout": {
          "annotationdefaults": {
           "arrowcolor": "#2a3f5f",
           "arrowhead": 0,
           "arrowwidth": 1
          },
          "autotypenumbers": "strict",
          "coloraxis": {
           "colorbar": {
            "outlinewidth": 0,
            "ticks": ""
           }
          },
          "colorscale": {
           "diverging": [
            [
             0,
             "#8e0152"
            ],
            [
             0.1,
             "#c51b7d"
            ],
            [
             0.2,
             "#de77ae"
            ],
            [
             0.3,
             "#f1b6da"
            ],
            [
             0.4,
             "#fde0ef"
            ],
            [
             0.5,
             "#f7f7f7"
            ],
            [
             0.6,
             "#e6f5d0"
            ],
            [
             0.7,
             "#b8e186"
            ],
            [
             0.8,
             "#7fbc41"
            ],
            [
             0.9,
             "#4d9221"
            ],
            [
             1,
             "#276419"
            ]
           ],
           "sequential": [
            [
             0,
             "#0d0887"
            ],
            [
             0.1111111111111111,
             "#46039f"
            ],
            [
             0.2222222222222222,
             "#7201a8"
            ],
            [
             0.3333333333333333,
             "#9c179e"
            ],
            [
             0.4444444444444444,
             "#bd3786"
            ],
            [
             0.5555555555555556,
             "#d8576b"
            ],
            [
             0.6666666666666666,
             "#ed7953"
            ],
            [
             0.7777777777777778,
             "#fb9f3a"
            ],
            [
             0.8888888888888888,
             "#fdca26"
            ],
            [
             1,
             "#f0f921"
            ]
           ],
           "sequentialminus": [
            [
             0,
             "#0d0887"
            ],
            [
             0.1111111111111111,
             "#46039f"
            ],
            [
             0.2222222222222222,
             "#7201a8"
            ],
            [
             0.3333333333333333,
             "#9c179e"
            ],
            [
             0.4444444444444444,
             "#bd3786"
            ],
            [
             0.5555555555555556,
             "#d8576b"
            ],
            [
             0.6666666666666666,
             "#ed7953"
            ],
            [
             0.7777777777777778,
             "#fb9f3a"
            ],
            [
             0.8888888888888888,
             "#fdca26"
            ],
            [
             1,
             "#f0f921"
            ]
           ]
          },
          "colorway": [
           "#636efa",
           "#EF553B",
           "#00cc96",
           "#ab63fa",
           "#FFA15A",
           "#19d3f3",
           "#FF6692",
           "#B6E880",
           "#FF97FF",
           "#FECB52"
          ],
          "font": {
           "color": "#2a3f5f"
          },
          "geo": {
           "bgcolor": "white",
           "lakecolor": "white",
           "landcolor": "#E5ECF6",
           "showlakes": true,
           "showland": true,
           "subunitcolor": "white"
          },
          "hoverlabel": {
           "align": "left"
          },
          "hovermode": "closest",
          "mapbox": {
           "style": "light"
          },
          "paper_bgcolor": "white",
          "plot_bgcolor": "#E5ECF6",
          "polar": {
           "angularaxis": {
            "gridcolor": "white",
            "linecolor": "white",
            "ticks": ""
           },
           "bgcolor": "#E5ECF6",
           "radialaxis": {
            "gridcolor": "white",
            "linecolor": "white",
            "ticks": ""
           }
          },
          "scene": {
           "xaxis": {
            "backgroundcolor": "#E5ECF6",
            "gridcolor": "white",
            "gridwidth": 2,
            "linecolor": "white",
            "showbackground": true,
            "ticks": "",
            "zerolinecolor": "white"
           },
           "yaxis": {
            "backgroundcolor": "#E5ECF6",
            "gridcolor": "white",
            "gridwidth": 2,
            "linecolor": "white",
            "showbackground": true,
            "ticks": "",
            "zerolinecolor": "white"
           },
           "zaxis": {
            "backgroundcolor": "#E5ECF6",
            "gridcolor": "white",
            "gridwidth": 2,
            "linecolor": "white",
            "showbackground": true,
            "ticks": "",
            "zerolinecolor": "white"
           }
          },
          "shapedefaults": {
           "line": {
            "color": "#2a3f5f"
           }
          },
          "ternary": {
           "aaxis": {
            "gridcolor": "white",
            "linecolor": "white",
            "ticks": ""
           },
           "baxis": {
            "gridcolor": "white",
            "linecolor": "white",
            "ticks": ""
           },
           "bgcolor": "#E5ECF6",
           "caxis": {
            "gridcolor": "white",
            "linecolor": "white",
            "ticks": ""
           }
          },
          "title": {
           "x": 0.05
          },
          "xaxis": {
           "automargin": true,
           "gridcolor": "white",
           "linecolor": "white",
           "ticks": "",
           "title": {
            "standoff": 15
           },
           "zerolinecolor": "white",
           "zerolinewidth": 2
          },
          "yaxis": {
           "automargin": true,
           "gridcolor": "white",
           "linecolor": "white",
           "ticks": "",
           "title": {
            "standoff": 15
           },
           "zerolinecolor": "white",
           "zerolinewidth": 2
          }
         }
        },
        "title": {
         "text": "Percentage Distribution of Male and Female"
        },
        "xaxis": {
         "title": {
          "text": "Have Disorder"
         }
        }
       }
      }
     },
     "metadata": {},
     "output_type": "display_data"
    }
   ],
   "source": [
    "fig = go.Figure()\n",
    "\n",
    "fig.add_trace(\n",
    "    go.Bar(\n",
    "        x=male_disorder_df[\"Have_disorder\"],\n",
    "        y=male_disorder_df[\"count%\"],\n",
    "        name=\"Male\",\n",
    "        marker_color=\"indianred\",\n",
    "        text=male_disorder_df[\"count%\"],\n",
    "    )\n",
    ")\n",
    "\n",
    "fig.add_trace(\n",
    "    go.Bar(\n",
    "        x=female_disorder_df[\"Have_disorder\"],\n",
    "        y=female_disorder_df[\"count%\"],\n",
    "        name=\"Female\",\n",
    "        marker_color=\"lightsalmon\",\n",
    "        text=female_disorder_df[\"count%\"],\n",
    "    )\n",
    ")\n",
    "\n",
    "fig.update_layout(\n",
    "    title=\"Percentage Distribution of Male and Female\",\n",
    "    xaxis=dict(title=dict(text=\"Have Disorder\")),\n",
    ")"
   ]
  },
  {
   "cell_type": "markdown",
   "metadata": {},
   "source": [
    "The chart provides a gender-wise breakdown of responses regarding mental health disorders:\n",
    "\n",
    "Females:\n",
    "\n",
    "- 56.34% reported having a mental health disorder, the highest proportion across both genders, suggesting a greater prevalence or willingness to acknowledge mental health challenges.\n",
    "- 24.15% stated they do not have a disorder, while 19.51% were uncertain, indicating relatively lower uncertainty about their mental health compared to males.\n",
    "\n",
    "Males:\n",
    "\n",
    "- 36.42% of males reported having a mental health disorder, significantly lower than females.\n",
    "- 36.37% stated they do not have a disorder, a nearly equal proportion to those who reported having one.\n",
    "- 27.21% of males were uncertain, reflecting a higher level of uncertainty compared to females.\n",
    "\n",
    "Insights:\n",
    "The data suggests gender differences in how mental health is experienced or perceived. Females are more likely to report having a disorder, while males show higher levels of uncertainty. This could reflect differences in awareness, societal expectations, or reporting behavior. Addressing these disparities could help tailor mental health resources and education for different genders effectively.\n"
   ]
  },
  {
   "cell_type": "code",
   "execution_count": 38,
   "metadata": {},
   "outputs": [
    {
     "data": {
      "application/vnd.plotly.v1+json": {
       "config": {
        "plotlyServerURL": "https://plot.ly"
       },
       "data": [
        {
         "alignmentgroup": "True",
         "bingroup": "x",
         "hovertemplate": "Have_disorder=Don't Know<br>Age=%{x}<br>count=%{y}<extra></extra>",
         "legendgroup": "Don't Know",
         "marker": {
          "color": "#095786",
          "pattern": {
           "shape": ""
          }
         },
         "name": "Don't Know",
         "offsetgroup": "Don't Know",
         "orientation": "v",
         "showlegend": true,
         "type": "histogram",
         "x": [
          25,
          35,
          45,
          31,
          35,
          32,
          53,
          26,
          34,
          34,
          27,
          31,
          40,
          52,
          38,
          30,
          60,
          34,
          28,
          55,
          33,
          30,
          36,
          40,
          47,
          32,
          48,
          29,
          27,
          32,
          30,
          34,
          27,
          49,
          38,
          23,
          29,
          40,
          38,
          42,
          40,
          40,
          32,
          27,
          24,
          35,
          51,
          42,
          22,
          41,
          31,
          29,
          32,
          44,
          33,
          59,
          39,
          42,
          30,
          59,
          24,
          27,
          32,
          37,
          28,
          25,
          27,
          30,
          59,
          25,
          38,
          24,
          42,
          22,
          27,
          38,
          39,
          39,
          28,
          44,
          35,
          34,
          31,
          29,
          29,
          45,
          43,
          34,
          30,
          32,
          41,
          45,
          35,
          27,
          31,
          39,
          31,
          32,
          43,
          30,
          55,
          36,
          45,
          45,
          36,
          40,
          25,
          36,
          25,
          45,
          39,
          28,
          48,
          33,
          29,
          30,
          34,
          29,
          37,
          28,
          37,
          32,
          44,
          44,
          49,
          20,
          38,
          26,
          29,
          28,
          29,
          40,
          29,
          23,
          39,
          26,
          29,
          35,
          32,
          28,
          32,
          37,
          46,
          39,
          55,
          28,
          35,
          22,
          29,
          33,
          44,
          39,
          27,
          27,
          26,
          61,
          43,
          43,
          35,
          29,
          46,
          41,
          31,
          36,
          45,
          29,
          22,
          30,
          34,
          30,
          29,
          34,
          35,
          26,
          32,
          28,
          42,
          33,
          40,
          38,
          54,
          43,
          55,
          32,
          46,
          33,
          26,
          34,
          33,
          31,
          32,
          21,
          25,
          44,
          41,
          28,
          35,
          19,
          35,
          35,
          32,
          39,
          55,
          40,
          35,
          39,
          56,
          44,
          32,
          28,
          29,
          33,
          30,
          37,
          30,
          27,
          40,
          43,
          33,
          31,
          31,
          37,
          39,
          50,
          39,
          28,
          37,
          35,
          27,
          31,
          30,
          39,
          38,
          30,
          29,
          27,
          40,
          28,
          32,
          27,
          55,
          46,
          31,
          39,
          30,
          34,
          40,
          32,
          29,
          38,
          35,
          32,
          37,
          28,
          29,
          40,
          35,
          35,
          24,
          31,
          43,
          40,
          30,
          31,
          31,
          36,
          49,
          33,
          36,
          21,
          44,
          25,
          39,
          33,
          25,
          33,
          38,
          30,
          46,
          29,
          37,
          38,
          25,
          28,
          48,
          29,
          30,
          36,
          32,
          26,
          37,
          25,
          42,
          29,
          43,
          32,
          40,
          27,
          27,
          37,
          30,
          31,
          36,
          40,
          34,
          29,
          26,
          31,
          36,
          29,
          44,
          33,
          23,
          54,
          32,
          28,
          42,
          24,
          25,
          36,
          29,
          43,
          28,
          24,
          23,
          30,
          45,
          41,
          30,
          27,
          39,
          41,
          35,
          37,
          25,
          41,
          35,
          31,
          50,
          41,
          37,
          26,
          21,
          45,
          30,
          21,
          35,
          30,
          32,
          22,
          30,
          25,
          24,
          30,
          35,
          29,
          37,
          28,
          29,
          24,
          25,
          26,
          29,
          46,
          30,
          35,
          26,
          33,
          28,
          52,
          37,
          31,
          35,
          21,
          35,
          22,
          18,
          40,
          40,
          40,
          47,
          38,
          33,
          46,
          23,
          31,
          28,
          37,
          30,
          52,
          26,
          30,
          36,
          48,
          43,
          24,
          26,
          24,
          48,
          35,
          25,
          33,
          48,
          23,
          50,
          22,
          29,
          28,
          30,
          37,
          34,
          33,
          24,
          35,
          35,
          30,
          39,
          29,
          29,
          31,
          27,
          32,
          33,
          25,
          25,
          28,
          37,
          20,
          29,
          38,
          30,
          42,
          28,
          26,
          24,
          34,
          39,
          22,
          37,
          42,
          49,
          24,
          37,
          32,
          40,
          67,
          57,
          36,
          35,
          51,
          42,
          24,
          38,
          30,
          41,
          34,
          38,
          34,
          41,
          44,
          34,
          28,
          41,
          45,
          27,
          44,
          37,
          29,
          29,
          32,
          29,
          29,
          22,
          29,
          36,
          25,
          49,
          30,
          35,
          29,
          39,
          25,
          37,
          54,
          32,
          33,
          42,
          23,
          24,
          35,
          35,
          30,
          34,
          32,
          27,
          24,
          40,
          34,
          43,
          49,
          37,
          31,
          49,
          38,
          36,
          27,
          45,
          44,
          43,
          23,
          27,
          27,
          32,
          52,
          47,
          32,
          23,
          31,
          42,
          45,
          26,
          41,
          45,
          30,
          26,
          32,
          40,
          39,
          45,
          34,
          32,
          26,
          31,
          40,
          36,
          30,
          36,
          25,
          48,
          35,
          31,
          43,
          44,
          38,
          30,
          30,
          50,
          30,
          43,
          35,
          31,
          39,
          36,
          22,
          55,
          37,
          26,
          27,
          45,
          26,
          32,
          34,
          30,
          52,
          36,
          39,
          34,
          24,
          25,
          41,
          43,
          40,
          27,
          61,
          28,
          31,
          27,
          37,
          40,
          54,
          32,
          44,
          41,
          34,
          44,
          23,
          25,
          33,
          28,
          29,
          31,
          41,
          49,
          34,
          29,
          25,
          32,
          30,
          28,
          40,
          42,
          38,
          32,
          32,
          28,
          32,
          30,
          41,
          39,
          21,
          38,
          38,
          41,
          45,
          37,
          33,
          37,
          34,
          42,
          40,
          42,
          35,
          27,
          19,
          32,
          28,
          42,
          35,
          47,
          36,
          41,
          65,
          30,
          45,
          42,
          36,
          31,
          28,
          36,
          36,
          28,
          37,
          42,
          27,
          35,
          46,
          27,
          39,
          28,
          26,
          57
         ],
         "xaxis": "x",
         "yaxis": "y"
        },
        {
         "alignmentgroup": "True",
         "bingroup": "x",
         "hovertemplate": "Have_disorder=No<br>Age=%{x}<br>count=%{y}<extra></extra>",
         "legendgroup": "No",
         "marker": {
          "color": "#db4646",
          "pattern": {
           "shape": ""
          }
         },
         "name": "No",
         "offsetgroup": "No",
         "orientation": "v",
         "showlegend": true,
         "type": "histogram",
         "x": [
          27,
          37,
          37,
          41,
          29,
          42,
          53,
          30,
          50,
          49,
          54,
          55,
          35,
          35,
          50,
          34,
          29,
          34,
          36,
          28,
          34,
          28,
          36,
          39,
          33,
          30,
          32,
          38,
          28,
          53,
          40,
          40,
          37,
          23,
          41,
          33,
          34,
          30,
          48,
          63,
          34,
          46,
          34,
          42,
          31,
          42,
          25,
          47,
          29,
          36,
          39,
          50,
          27,
          46,
          30,
          24,
          30,
          26,
          37,
          56,
          45,
          37,
          34,
          45,
          42,
          30,
          37,
          47,
          39,
          29,
          55,
          46,
          31,
          48,
          28,
          35,
          45,
          40,
          33,
          22,
          39,
          38,
          30,
          34,
          26,
          35,
          25,
          33,
          38,
          42,
          37,
          33,
          44,
          41,
          27,
          31,
          31,
          40,
          30,
          38,
          35,
          28,
          39,
          28,
          46,
          40,
          38,
          33,
          21,
          35,
          36,
          46,
          40,
          30,
          22,
          51,
          41,
          38,
          34,
          44,
          37,
          33,
          44,
          45,
          29,
          37,
          25,
          55,
          37,
          34,
          35,
          37,
          23,
          31,
          37,
          23,
          29,
          34,
          27,
          32,
          35,
          24,
          30,
          28,
          29,
          25,
          25,
          37,
          35,
          26,
          31,
          29,
          33,
          27,
          26,
          38,
          30,
          31,
          28,
          35,
          27,
          33,
          36,
          36,
          34,
          37,
          28,
          40,
          36,
          27,
          27,
          28,
          31,
          33,
          29,
          39,
          21,
          34,
          31,
          36,
          50,
          47,
          32,
          55,
          35,
          25,
          26,
          31,
          39,
          27,
          22,
          51,
          40,
          43,
          45,
          42,
          28,
          42,
          28,
          41,
          38,
          47,
          26,
          33,
          22,
          42,
          34,
          31,
          38,
          32,
          32,
          23,
          30,
          26,
          30,
          27,
          34,
          27,
          27,
          31,
          27,
          34,
          31,
          31,
          40,
          38,
          30,
          28,
          37,
          35,
          27,
          32,
          28,
          28,
          32,
          38,
          36,
          34,
          29,
          28,
          32,
          23,
          37,
          55,
          20,
          25,
          32,
          36,
          26,
          31,
          34,
          32,
          47,
          29,
          36,
          22,
          19,
          22,
          30,
          33,
          48,
          45,
          28,
          31,
          29,
          26,
          44,
          31,
          33,
          27,
          34,
          27,
          29,
          26,
          26,
          24,
          25,
          22,
          53,
          32,
          27,
          34,
          52,
          58,
          46,
          26,
          21,
          34,
          25,
          36,
          27,
          37,
          42,
          42,
          36,
          34,
          36,
          44,
          38,
          38,
          27,
          22,
          32,
          59,
          32,
          42,
          30,
          28,
          37,
          31,
          37,
          39,
          29,
          63,
          44,
          49,
          35,
          31,
          32,
          31,
          29,
          20,
          34,
          46,
          32,
          44,
          30,
          48,
          33,
          38,
          23,
          26,
          22,
          33,
          25,
          37,
          42,
          52,
          30,
          24,
          39,
          38,
          24,
          37,
          33,
          36,
          34,
          48,
          32,
          32,
          33,
          27,
          50,
          34,
          46,
          32,
          41,
          31,
          52,
          38,
          63,
          38,
          46,
          38,
          30,
          33,
          35,
          54,
          30,
          32,
          31,
          25,
          26,
          30,
          31,
          38,
          34,
          23,
          33,
          35,
          39,
          35,
          42,
          30,
          38,
          33,
          26,
          43,
          29,
          24,
          35,
          25,
          32,
          34,
          45,
          31,
          47,
          48,
          52,
          34,
          27,
          36,
          43,
          32,
          36,
          27,
          26,
          43,
          42,
          30,
          32,
          35,
          52,
          25,
          32,
          31,
          39,
          31,
          23,
          34,
          49,
          26,
          51,
          57,
          33,
          30,
          40,
          27,
          45,
          29,
          47,
          33,
          32,
          29,
          35,
          40,
          38,
          32,
          40,
          33,
          44,
          27,
          43,
          47,
          39,
          34,
          28,
          39,
          34,
          27,
          39,
          30,
          29,
          28,
          31,
          29,
          31,
          45,
          41,
          24,
          38,
          50,
          37,
          42,
          41,
          22,
          26,
          28,
          35,
          50,
          29,
          28,
          41,
          28,
          24,
          47,
          27,
          27,
          43,
          43,
          25,
          31,
          28,
          25,
          39,
          34,
          32,
          32,
          39,
          29,
          42,
          39,
          35,
          30,
          38,
          53,
          37,
          29,
          46,
          34,
          43,
          26,
          42,
          37,
          32,
          44,
          43,
          36,
          30,
          34,
          31,
          39,
          38,
          33,
          30,
          34,
          28,
          37,
          26,
          34,
          24,
          34,
          29,
          20,
          29,
          44,
          31,
          30,
          30,
          27,
          26,
          29,
          46,
          44,
          35,
          37,
          35,
          49,
          24,
          31,
          25,
          34,
          23,
          24,
          28,
          33,
          39,
          31,
          39,
          28,
          32,
          39,
          35,
          34,
          24,
          37,
          30,
          24,
          34,
          56,
          39,
          31,
          24,
          52,
          30,
          38,
          53,
          37,
          25,
          35,
          45,
          23,
          35,
          52,
          37,
          38,
          29,
          40,
          42,
          26,
          24,
          33,
          34,
          42,
          29,
          36,
          28,
          31,
          36,
          37,
          37,
          34,
          31,
          29,
          27,
          43,
          36,
          44,
          44,
          31,
          22,
          27,
          62,
          60,
          41,
          53,
          33,
          40,
          49,
          47,
          59,
          26,
          40,
          30,
          39,
          50,
          36,
          47,
          26,
          35,
          44,
          33,
          24,
          31,
          27,
          31,
          46,
          30,
          32,
          31,
          40,
          37,
          29,
          33,
          42,
          32,
          60,
          41,
          39,
          46,
          38,
          38,
          44,
          33,
          31,
          35,
          40,
          21,
          27,
          37,
          34,
          37,
          39,
          31,
          38,
          33,
          38,
          38,
          39,
          52,
          49,
          47,
          38,
          33,
          30,
          40,
          31,
          31,
          28,
          40,
          25,
          23,
          37,
          24,
          32,
          27,
          26,
          40,
          42,
          26,
          22,
          51,
          46,
          27,
          31,
          40,
          56,
          25,
          29,
          33,
          28,
          44,
          42,
          28,
          31,
          36,
          47,
          34,
          42,
          31,
          42,
          50,
          50,
          30,
          32,
          58,
          31,
          50,
          39,
          38,
          30,
          38,
          28,
          28,
          46,
          30,
          22,
          33,
          41,
          32,
          48,
          32,
          30,
          23,
          29,
          28,
          51,
          36,
          32,
          39,
          45,
          31,
          41,
          39,
          39,
          37,
          32,
          24,
          40,
          49,
          41,
          32,
          28,
          43,
          28,
          37,
          37,
          37,
          47,
          34,
          41,
          32,
          36,
          40,
          30,
          39,
          29,
          53,
          37,
          27,
          46,
          34,
          38,
          29,
          30,
          44,
          31,
          37,
          42,
          28,
          31,
          27,
          36,
          33,
          26,
          28,
          46,
          29,
          38,
          39,
          32,
          36,
          53,
          47,
          41,
          42,
          67,
          46,
          41,
          24,
          38,
          33,
          55,
          39,
          39,
          43,
          35,
          42,
          33,
          34,
          28,
          43,
          28,
          30,
          28,
          43,
          31,
          39,
          46,
          33,
          35,
          45,
          36,
          33,
          29,
          43,
          26,
          41,
          45,
          26,
          26,
          37,
          38,
          34,
          35,
          30,
          39,
          24,
          37,
          42,
          39,
          46,
          50,
          55,
          29,
          32,
          32,
          31,
          33,
          42,
          34,
          33,
          32,
          30,
          37,
          22,
          55,
          34,
          40,
          28,
          46,
          36,
          34,
          37,
          37,
          27
         ],
         "xaxis": "x",
         "yaxis": "y"
        },
        {
         "alignmentgroup": "True",
         "bingroup": "x",
         "hovertemplate": "Have_disorder=Yes<br>Age=%{x}<br>count=%{y}<extra></extra>",
         "legendgroup": "Yes",
         "marker": {
          "color": "#e6cea0",
          "pattern": {
           "shape": ""
          }
         },
         "name": "Yes",
         "offsetgroup": "Yes",
         "orientation": "v",
         "showlegend": true,
         "type": "histogram",
         "x": [
          36,
          39,
          37,
          26,
          43,
          37,
          37,
          37,
          45,
          28,
          24,
          58,
          41,
          28,
          37,
          36,
          37,
          53,
          32,
          30,
          30,
          24,
          33,
          26,
          32,
          41,
          30,
          45,
          41,
          20,
          24,
          26,
          40,
          38,
          30,
          38,
          42,
          38,
          35,
          54,
          26,
          49,
          42,
          27,
          28,
          49,
          38,
          45,
          51,
          32,
          22,
          29,
          38,
          37,
          38,
          51,
          39,
          26,
          49,
          28,
          31,
          30,
          33,
          40,
          64,
          28,
          36,
          30,
          28,
          34,
          34,
          34,
          27,
          36,
          31,
          36,
          25,
          47,
          19,
          35,
          38,
          32,
          39,
          53,
          40,
          39,
          29,
          25,
          37,
          35,
          50,
          45,
          27,
          28,
          45,
          32,
          43,
          51,
          28,
          26,
          42,
          34,
          28,
          41,
          21,
          46,
          36,
          33,
          41,
          47,
          24,
          40,
          30,
          38,
          42,
          47,
          42,
          24,
          40,
          49,
          27,
          49,
          29,
          37,
          30,
          28,
          34,
          30,
          35,
          52,
          32,
          25,
          31,
          27,
          30,
          36,
          34,
          40,
          28,
          33,
          32,
          36,
          29,
          33,
          39,
          35,
          24,
          26,
          29,
          26,
          28,
          23,
          30,
          30,
          30,
          37,
          26,
          39,
          28,
          30,
          34,
          35,
          21,
          34,
          35,
          42,
          40,
          31,
          31,
          41,
          21,
          22,
          46,
          27,
          40,
          37,
          40,
          28,
          49,
          35,
          35,
          38,
          42,
          30,
          44,
          30,
          29,
          25,
          49,
          45,
          31,
          30,
          33,
          45,
          30,
          29,
          25,
          40,
          31,
          27,
          26,
          42,
          54,
          34,
          30,
          34,
          31,
          63,
          35,
          35,
          35,
          31,
          23,
          43,
          37,
          38,
          25,
          29,
          35,
          43,
          45,
          28,
          36,
          28,
          35,
          38,
          31,
          28,
          34,
          28,
          26,
          28,
          32,
          30,
          32,
          37,
          30,
          31,
          36,
          24,
          26,
          27,
          30,
          26,
          27,
          27,
          40,
          35,
          26,
          57,
          38,
          26,
          26,
          36,
          33,
          24,
          37,
          30,
          24,
          27,
          35,
          34,
          50,
          34,
          44,
          29,
          55,
          28,
          33,
          33,
          28,
          61,
          29,
          38,
          35,
          27,
          24,
          40,
          30,
          46,
          32,
          32,
          31,
          35,
          45,
          22,
          39,
          24,
          34,
          21,
          62,
          37,
          48,
          29,
          40,
          26,
          44,
          47,
          29,
          29,
          42,
          34,
          33,
          32,
          26,
          30,
          45,
          22,
          27,
          25,
          26,
          34,
          30,
          36,
          36,
          36,
          23,
          32,
          33,
          55,
          66,
          55,
          38,
          46,
          29,
          37,
          23,
          32,
          28,
          29,
          31,
          46,
          34,
          29,
          33,
          39,
          35,
          44,
          47,
          35,
          31,
          36,
          30,
          23,
          33,
          31,
          43,
          38,
          51,
          40,
          39,
          33,
          28,
          39,
          41,
          35,
          35,
          34,
          27,
          25,
          34,
          27,
          54,
          31,
          28,
          28,
          33,
          59,
          33,
          65,
          31,
          47,
          40,
          37,
          35,
          24,
          28,
          32,
          28,
          38,
          39,
          34,
          44,
          33,
          38,
          32,
          35,
          36,
          22,
          20,
          30,
          30,
          38,
          26,
          27,
          34,
          30,
          44,
          26,
          35,
          45,
          33,
          27,
          54,
          25,
          27,
          27,
          56,
          22,
          43,
          26,
          43,
          36,
          36,
          41,
          28,
          47,
          26,
          32,
          39,
          26,
          25,
          26,
          34,
          31,
          42,
          31,
          39,
          36,
          36,
          36,
          49,
          35,
          33,
          33,
          22,
          22,
          32,
          43,
          29,
          30,
          33,
          27,
          26,
          30,
          25,
          38,
          27,
          31,
          29,
          49,
          28,
          33,
          45,
          63,
          39,
          31,
          34,
          44,
          43,
          37,
          30,
          28,
          39,
          22,
          31,
          49,
          40,
          46,
          43,
          43,
          44,
          44,
          37,
          35,
          19,
          36,
          39,
          34,
          30,
          48,
          29,
          27,
          26,
          31,
          36,
          31,
          29,
          44,
          27,
          39,
          24,
          37,
          43,
          51,
          30,
          35,
          41,
          28,
          34,
          25,
          54,
          38,
          38,
          30,
          50,
          51,
          31,
          28,
          32,
          30,
          30,
          32,
          40,
          36,
          45,
          37,
          31,
          28,
          23,
          30,
          40,
          34,
          23,
          49,
          40,
          34,
          42,
          41,
          30,
          28,
          38,
          29,
          23,
          39,
          31,
          42,
          26,
          45,
          47,
          33,
          32,
          33,
          37,
          24,
          42,
          42,
          38,
          46,
          26,
          43,
          57,
          38,
          40,
          32,
          24,
          55,
          32,
          30,
          37,
          42,
          34,
          30,
          39,
          22,
          32,
          38,
          37,
          21,
          28,
          37,
          45,
          39,
          29,
          21,
          56,
          53,
          48,
          37,
          27,
          39,
          34,
          33,
          22,
          27,
          22,
          35,
          26,
          28,
          29,
          22,
          25,
          31,
          23,
          30,
          23,
          26,
          32,
          30,
          25,
          23,
          28,
          30,
          37,
          30,
          29,
          36,
          38,
          22,
          24,
          36,
          24,
          31,
          39,
          41,
          22,
          26,
          38,
          30,
          38,
          33,
          39,
          27,
          22,
          31,
          32,
          24,
          35,
          28,
          33,
          34,
          24,
          39,
          36,
          22,
          36,
          40,
          35,
          22,
          34,
          28,
          37,
          25,
          31,
          32,
          46,
          30,
          31,
          46,
          28,
          25,
          35,
          32,
          33,
          42,
          32,
          27,
          43,
          39,
          42,
          64,
          30,
          25,
          54,
          61,
          26,
          26,
          39,
          38,
          26,
          50,
          31,
          30,
          34,
          24,
          30,
          31,
          38,
          31,
          29,
          44,
          29,
          27,
          38,
          46,
          43,
          25,
          34,
          39,
          54,
          47,
          48,
          34,
          27,
          32,
          29,
          36,
          36,
          30,
          25,
          26,
          29,
          33,
          44,
          30,
          27,
          42,
          28,
          43,
          28,
          49,
          25,
          42,
          33,
          47,
          35,
          37,
          51,
          30,
          36,
          35,
          58,
          27,
          25,
          44,
          31,
          32,
          31,
          44,
          43,
          40,
          35,
          40,
          26,
          29,
          40,
          35,
          35,
          30,
          32,
          38,
          38,
          45,
          24,
          33,
          27,
          35,
          23,
          33,
          33,
          35,
          36,
          35,
          45,
          26,
          29,
          30,
          27,
          31,
          41,
          42,
          41,
          37,
          42,
          28,
          29,
          28,
          33,
          48,
          29,
          39,
          33,
          30,
          37,
          33,
          28,
          31,
          23,
          34,
          37,
          29,
          57,
          27,
          29,
          24,
          30,
          37,
          36,
          52,
          30,
          29,
          39,
          30,
          38,
          56,
          32,
          30,
          37,
          31,
          39,
          37,
          38,
          35,
          26,
          46,
          22,
          50,
          40,
          45,
          31,
          28,
          45,
          34,
          41,
          40,
          35,
          34,
          38,
          42,
          29,
          32,
          33,
          23,
          30,
          34,
          41,
          37,
          44,
          34,
          27,
          39,
          37,
          24,
          50,
          30,
          32,
          35,
          33,
          40,
          48,
          43,
          36,
          32,
          40,
          46,
          20,
          30,
          66,
          38,
          44,
          30,
          27,
          57,
          34,
          39,
          30,
          27,
          35,
          24,
          32,
          28,
          36,
          38,
          52,
          35,
          24,
          29,
          34,
          34,
          28,
          32,
          25,
          29,
          26,
          30,
          27,
          33,
          39,
          37,
          23,
          41,
          36,
          30,
          37,
          32,
          34,
          35,
          35,
          45,
          31,
          30,
          32,
          37,
          24,
          33,
          46,
          31,
          28,
          26,
          32,
          27,
          34,
          29,
          35,
          25,
          28,
          23,
          53,
          34,
          23,
          30,
          22,
          27,
          33,
          31,
          36,
          42,
          41,
          57,
          29,
          40,
          45,
          29,
          35,
          35,
          47,
          37,
          46,
          37,
          36,
          26,
          44,
          38,
          61,
          32,
          44,
          39,
          33,
          43,
          37,
          35,
          26,
          24,
          19,
          26,
          23,
          38,
          35,
          26,
          57,
          20,
          35,
          42,
          28,
          45,
          28,
          31,
          28,
          37,
          25,
          29,
          40,
          34,
          31,
          35,
          56,
          30,
          30,
          45,
          38,
          34,
          29,
          28,
          28,
          30,
          37,
          35,
          43,
          38,
          37,
          43,
          29,
          37,
          23,
          36,
          38,
          37,
          25,
          32,
          25,
          49,
          33,
          41,
          37,
          39,
          35,
          21,
          27,
          23,
          37,
          30,
          35,
          45,
          34,
          33,
          28,
          21,
          40,
          25,
          31,
          47,
          27,
          22,
          27,
          32,
          27,
          31,
          28,
          26,
          33,
          29,
          25,
          37,
          29,
          44,
          35,
          26,
          36,
          32,
          29,
          35,
          30,
          31,
          31,
          32,
          51,
          26,
          44,
          42,
          26,
          38,
          26,
          40,
          39,
          57,
          30,
          34,
          33,
          36,
          48,
          31,
          33,
          41,
          24,
          37,
          61,
          29,
          41,
          30,
          29,
          52,
          51,
          34,
          24,
          35,
          28,
          39,
          31,
          35,
          31,
          34,
          30,
          27,
          37,
          38,
          25,
          49,
          40,
          31,
          35,
          38,
          36,
          23,
          31,
          24,
          45,
          36,
          46,
          44,
          33,
          35,
          36,
          31
         ],
         "xaxis": "x",
         "yaxis": "y"
        }
       ],
       "layout": {
        "barmode": "relative",
        "height": 500,
        "legend": {
         "title": {
          "text": "Have_disorder"
         },
         "tracegroupgap": 0
        },
        "template": {
         "data": {
          "bar": [
           {
            "error_x": {
             "color": "#2a3f5f"
            },
            "error_y": {
             "color": "#2a3f5f"
            },
            "marker": {
             "line": {
              "color": "white",
              "width": 0.5
             },
             "pattern": {
              "fillmode": "overlay",
              "size": 10,
              "solidity": 0.2
             }
            },
            "type": "bar"
           }
          ],
          "barpolar": [
           {
            "marker": {
             "line": {
              "color": "white",
              "width": 0.5
             },
             "pattern": {
              "fillmode": "overlay",
              "size": 10,
              "solidity": 0.2
             }
            },
            "type": "barpolar"
           }
          ],
          "carpet": [
           {
            "aaxis": {
             "endlinecolor": "#2a3f5f",
             "gridcolor": "#C8D4E3",
             "linecolor": "#C8D4E3",
             "minorgridcolor": "#C8D4E3",
             "startlinecolor": "#2a3f5f"
            },
            "baxis": {
             "endlinecolor": "#2a3f5f",
             "gridcolor": "#C8D4E3",
             "linecolor": "#C8D4E3",
             "minorgridcolor": "#C8D4E3",
             "startlinecolor": "#2a3f5f"
            },
            "type": "carpet"
           }
          ],
          "choropleth": [
           {
            "colorbar": {
             "outlinewidth": 0,
             "ticks": ""
            },
            "type": "choropleth"
           }
          ],
          "contour": [
           {
            "colorbar": {
             "outlinewidth": 0,
             "ticks": ""
            },
            "colorscale": [
             [
              0,
              "#0d0887"
             ],
             [
              0.1111111111111111,
              "#46039f"
             ],
             [
              0.2222222222222222,
              "#7201a8"
             ],
             [
              0.3333333333333333,
              "#9c179e"
             ],
             [
              0.4444444444444444,
              "#bd3786"
             ],
             [
              0.5555555555555556,
              "#d8576b"
             ],
             [
              0.6666666666666666,
              "#ed7953"
             ],
             [
              0.7777777777777778,
              "#fb9f3a"
             ],
             [
              0.8888888888888888,
              "#fdca26"
             ],
             [
              1,
              "#f0f921"
             ]
            ],
            "type": "contour"
           }
          ],
          "contourcarpet": [
           {
            "colorbar": {
             "outlinewidth": 0,
             "ticks": ""
            },
            "type": "contourcarpet"
           }
          ],
          "heatmap": [
           {
            "colorbar": {
             "outlinewidth": 0,
             "ticks": ""
            },
            "colorscale": [
             [
              0,
              "#0d0887"
             ],
             [
              0.1111111111111111,
              "#46039f"
             ],
             [
              0.2222222222222222,
              "#7201a8"
             ],
             [
              0.3333333333333333,
              "#9c179e"
             ],
             [
              0.4444444444444444,
              "#bd3786"
             ],
             [
              0.5555555555555556,
              "#d8576b"
             ],
             [
              0.6666666666666666,
              "#ed7953"
             ],
             [
              0.7777777777777778,
              "#fb9f3a"
             ],
             [
              0.8888888888888888,
              "#fdca26"
             ],
             [
              1,
              "#f0f921"
             ]
            ],
            "type": "heatmap"
           }
          ],
          "heatmapgl": [
           {
            "colorbar": {
             "outlinewidth": 0,
             "ticks": ""
            },
            "colorscale": [
             [
              0,
              "#0d0887"
             ],
             [
              0.1111111111111111,
              "#46039f"
             ],
             [
              0.2222222222222222,
              "#7201a8"
             ],
             [
              0.3333333333333333,
              "#9c179e"
             ],
             [
              0.4444444444444444,
              "#bd3786"
             ],
             [
              0.5555555555555556,
              "#d8576b"
             ],
             [
              0.6666666666666666,
              "#ed7953"
             ],
             [
              0.7777777777777778,
              "#fb9f3a"
             ],
             [
              0.8888888888888888,
              "#fdca26"
             ],
             [
              1,
              "#f0f921"
             ]
            ],
            "type": "heatmapgl"
           }
          ],
          "histogram": [
           {
            "marker": {
             "pattern": {
              "fillmode": "overlay",
              "size": 10,
              "solidity": 0.2
             }
            },
            "type": "histogram"
           }
          ],
          "histogram2d": [
           {
            "colorbar": {
             "outlinewidth": 0,
             "ticks": ""
            },
            "colorscale": [
             [
              0,
              "#0d0887"
             ],
             [
              0.1111111111111111,
              "#46039f"
             ],
             [
              0.2222222222222222,
              "#7201a8"
             ],
             [
              0.3333333333333333,
              "#9c179e"
             ],
             [
              0.4444444444444444,
              "#bd3786"
             ],
             [
              0.5555555555555556,
              "#d8576b"
             ],
             [
              0.6666666666666666,
              "#ed7953"
             ],
             [
              0.7777777777777778,
              "#fb9f3a"
             ],
             [
              0.8888888888888888,
              "#fdca26"
             ],
             [
              1,
              "#f0f921"
             ]
            ],
            "type": "histogram2d"
           }
          ],
          "histogram2dcontour": [
           {
            "colorbar": {
             "outlinewidth": 0,
             "ticks": ""
            },
            "colorscale": [
             [
              0,
              "#0d0887"
             ],
             [
              0.1111111111111111,
              "#46039f"
             ],
             [
              0.2222222222222222,
              "#7201a8"
             ],
             [
              0.3333333333333333,
              "#9c179e"
             ],
             [
              0.4444444444444444,
              "#bd3786"
             ],
             [
              0.5555555555555556,
              "#d8576b"
             ],
             [
              0.6666666666666666,
              "#ed7953"
             ],
             [
              0.7777777777777778,
              "#fb9f3a"
             ],
             [
              0.8888888888888888,
              "#fdca26"
             ],
             [
              1,
              "#f0f921"
             ]
            ],
            "type": "histogram2dcontour"
           }
          ],
          "mesh3d": [
           {
            "colorbar": {
             "outlinewidth": 0,
             "ticks": ""
            },
            "type": "mesh3d"
           }
          ],
          "parcoords": [
           {
            "line": {
             "colorbar": {
              "outlinewidth": 0,
              "ticks": ""
             }
            },
            "type": "parcoords"
           }
          ],
          "pie": [
           {
            "automargin": true,
            "type": "pie"
           }
          ],
          "scatter": [
           {
            "fillpattern": {
             "fillmode": "overlay",
             "size": 10,
             "solidity": 0.2
            },
            "type": "scatter"
           }
          ],
          "scatter3d": [
           {
            "line": {
             "colorbar": {
              "outlinewidth": 0,
              "ticks": ""
             }
            },
            "marker": {
             "colorbar": {
              "outlinewidth": 0,
              "ticks": ""
             }
            },
            "type": "scatter3d"
           }
          ],
          "scattercarpet": [
           {
            "marker": {
             "colorbar": {
              "outlinewidth": 0,
              "ticks": ""
             }
            },
            "type": "scattercarpet"
           }
          ],
          "scattergeo": [
           {
            "marker": {
             "colorbar": {
              "outlinewidth": 0,
              "ticks": ""
             }
            },
            "type": "scattergeo"
           }
          ],
          "scattergl": [
           {
            "marker": {
             "colorbar": {
              "outlinewidth": 0,
              "ticks": ""
             }
            },
            "type": "scattergl"
           }
          ],
          "scattermapbox": [
           {
            "marker": {
             "colorbar": {
              "outlinewidth": 0,
              "ticks": ""
             }
            },
            "type": "scattermapbox"
           }
          ],
          "scatterpolar": [
           {
            "marker": {
             "colorbar": {
              "outlinewidth": 0,
              "ticks": ""
             }
            },
            "type": "scatterpolar"
           }
          ],
          "scatterpolargl": [
           {
            "marker": {
             "colorbar": {
              "outlinewidth": 0,
              "ticks": ""
             }
            },
            "type": "scatterpolargl"
           }
          ],
          "scatterternary": [
           {
            "marker": {
             "colorbar": {
              "outlinewidth": 0,
              "ticks": ""
             }
            },
            "type": "scatterternary"
           }
          ],
          "surface": [
           {
            "colorbar": {
             "outlinewidth": 0,
             "ticks": ""
            },
            "colorscale": [
             [
              0,
              "#0d0887"
             ],
             [
              0.1111111111111111,
              "#46039f"
             ],
             [
              0.2222222222222222,
              "#7201a8"
             ],
             [
              0.3333333333333333,
              "#9c179e"
             ],
             [
              0.4444444444444444,
              "#bd3786"
             ],
             [
              0.5555555555555556,
              "#d8576b"
             ],
             [
              0.6666666666666666,
              "#ed7953"
             ],
             [
              0.7777777777777778,
              "#fb9f3a"
             ],
             [
              0.8888888888888888,
              "#fdca26"
             ],
             [
              1,
              "#f0f921"
             ]
            ],
            "type": "surface"
           }
          ],
          "table": [
           {
            "cells": {
             "fill": {
              "color": "#EBF0F8"
             },
             "line": {
              "color": "white"
             }
            },
            "header": {
             "fill": {
              "color": "#C8D4E3"
             },
             "line": {
              "color": "white"
             }
            },
            "type": "table"
           }
          ]
         },
         "layout": {
          "annotationdefaults": {
           "arrowcolor": "#2a3f5f",
           "arrowhead": 0,
           "arrowwidth": 1
          },
          "autotypenumbers": "strict",
          "coloraxis": {
           "colorbar": {
            "outlinewidth": 0,
            "ticks": ""
           }
          },
          "colorscale": {
           "diverging": [
            [
             0,
             "#8e0152"
            ],
            [
             0.1,
             "#c51b7d"
            ],
            [
             0.2,
             "#de77ae"
            ],
            [
             0.3,
             "#f1b6da"
            ],
            [
             0.4,
             "#fde0ef"
            ],
            [
             0.5,
             "#f7f7f7"
            ],
            [
             0.6,
             "#e6f5d0"
            ],
            [
             0.7,
             "#b8e186"
            ],
            [
             0.8,
             "#7fbc41"
            ],
            [
             0.9,
             "#4d9221"
            ],
            [
             1,
             "#276419"
            ]
           ],
           "sequential": [
            [
             0,
             "#0d0887"
            ],
            [
             0.1111111111111111,
             "#46039f"
            ],
            [
             0.2222222222222222,
             "#7201a8"
            ],
            [
             0.3333333333333333,
             "#9c179e"
            ],
            [
             0.4444444444444444,
             "#bd3786"
            ],
            [
             0.5555555555555556,
             "#d8576b"
            ],
            [
             0.6666666666666666,
             "#ed7953"
            ],
            [
             0.7777777777777778,
             "#fb9f3a"
            ],
            [
             0.8888888888888888,
             "#fdca26"
            ],
            [
             1,
             "#f0f921"
            ]
           ],
           "sequentialminus": [
            [
             0,
             "#0d0887"
            ],
            [
             0.1111111111111111,
             "#46039f"
            ],
            [
             0.2222222222222222,
             "#7201a8"
            ],
            [
             0.3333333333333333,
             "#9c179e"
            ],
            [
             0.4444444444444444,
             "#bd3786"
            ],
            [
             0.5555555555555556,
             "#d8576b"
            ],
            [
             0.6666666666666666,
             "#ed7953"
            ],
            [
             0.7777777777777778,
             "#fb9f3a"
            ],
            [
             0.8888888888888888,
             "#fdca26"
            ],
            [
             1,
             "#f0f921"
            ]
           ]
          },
          "colorway": [
           "#636efa",
           "#EF553B",
           "#00cc96",
           "#ab63fa",
           "#FFA15A",
           "#19d3f3",
           "#FF6692",
           "#B6E880",
           "#FF97FF",
           "#FECB52"
          ],
          "font": {
           "color": "#2a3f5f"
          },
          "geo": {
           "bgcolor": "white",
           "lakecolor": "white",
           "landcolor": "white",
           "showlakes": true,
           "showland": true,
           "subunitcolor": "#C8D4E3"
          },
          "hoverlabel": {
           "align": "left"
          },
          "hovermode": "closest",
          "mapbox": {
           "style": "light"
          },
          "paper_bgcolor": "white",
          "plot_bgcolor": "white",
          "polar": {
           "angularaxis": {
            "gridcolor": "#EBF0F8",
            "linecolor": "#EBF0F8",
            "ticks": ""
           },
           "bgcolor": "white",
           "radialaxis": {
            "gridcolor": "#EBF0F8",
            "linecolor": "#EBF0F8",
            "ticks": ""
           }
          },
          "scene": {
           "xaxis": {
            "backgroundcolor": "white",
            "gridcolor": "#DFE8F3",
            "gridwidth": 2,
            "linecolor": "#EBF0F8",
            "showbackground": true,
            "ticks": "",
            "zerolinecolor": "#EBF0F8"
           },
           "yaxis": {
            "backgroundcolor": "white",
            "gridcolor": "#DFE8F3",
            "gridwidth": 2,
            "linecolor": "#EBF0F8",
            "showbackground": true,
            "ticks": "",
            "zerolinecolor": "#EBF0F8"
           },
           "zaxis": {
            "backgroundcolor": "white",
            "gridcolor": "#DFE8F3",
            "gridwidth": 2,
            "linecolor": "#EBF0F8",
            "showbackground": true,
            "ticks": "",
            "zerolinecolor": "#EBF0F8"
           }
          },
          "shapedefaults": {
           "line": {
            "color": "#2a3f5f"
           }
          },
          "ternary": {
           "aaxis": {
            "gridcolor": "#DFE8F3",
            "linecolor": "#A2B1C6",
            "ticks": ""
           },
           "baxis": {
            "gridcolor": "#DFE8F3",
            "linecolor": "#A2B1C6",
            "ticks": ""
           },
           "bgcolor": "white",
           "caxis": {
            "gridcolor": "#DFE8F3",
            "linecolor": "#A2B1C6",
            "ticks": ""
           }
          },
          "title": {
           "x": 0.05
          },
          "xaxis": {
           "automargin": true,
           "gridcolor": "#EBF0F8",
           "linecolor": "#EBF0F8",
           "ticks": "",
           "title": {
            "standoff": 15
           },
           "zerolinecolor": "#EBF0F8",
           "zerolinewidth": 2
          },
          "yaxis": {
           "automargin": true,
           "gridcolor": "#EBF0F8",
           "linecolor": "#EBF0F8",
           "ticks": "",
           "title": {
            "standoff": 15
           },
           "zerolinecolor": "#EBF0F8",
           "zerolinewidth": 2
          }
         }
        },
        "title": {
         "text": "Disorder by Age"
        },
        "width": 1200,
        "xaxis": {
         "anchor": "y",
         "domain": [
          0,
          1
         ],
         "title": {
          "text": "Age"
         }
        },
        "yaxis": {
         "anchor": "x",
         "domain": [
          0,
          1
         ],
         "title": {
          "text": "count"
         }
        }
       }
      }
     },
     "metadata": {},
     "output_type": "display_data"
    }
   ],
   "source": [
    "histogram_chart_color(\n",
    "    df=have_disorder_df, xaxis=\"Age\", color=\"Have_disorder\", title=\"Disorder by Age\"\n",
    ")"
   ]
  },
  {
   "cell_type": "markdown",
   "metadata": {},
   "source": [
    "The largest group experiencing disorders is the most productive age group, between 25 and 40 years old.\\\n",
    "Given this situation, companies should focus more on supporting their employees to ensure well-being and productivity.\n"
   ]
  },
  {
   "cell_type": "code",
   "execution_count": 39,
   "metadata": {},
   "outputs": [],
   "source": [
    "# Disorder between continents\n",
    "continent_disorder_df = duckdb.sql(\n",
    "    \"\"\"\n",
    "    WITH \n",
    "        na_main_df AS (\n",
    "            SELECT\n",
    "                Have_disorder,\n",
    "                COUNT(Continent) AS 'North_America',\n",
    "                (SELECT COUNT(Continent) FROM have_disorder_df WHERE Continent = 'North America') AS 'Total' \n",
    "                \n",
    "            FROM have_disorder_df\n",
    "\n",
    "            WHERE \n",
    "                Continent = 'North America'\n",
    "\n",
    "            GROUP BY Have_disorder\n",
    "        ), \n",
    "\n",
    "        na_final_df AS (\n",
    "            SELECT\n",
    "                Have_disorder,\n",
    "                ROUND(North_America / Total * 100, 2) AS 'North_America_proc'\n",
    "\n",
    "            FROM na_main_df \n",
    "        ),\n",
    "\n",
    "        eu_main_df AS (\n",
    "            SELECT\n",
    "                Have_disorder,\n",
    "                COUNT(Continent) AS 'Europe', \n",
    "                (SELECT COUNT(Continent) FROM have_disorder_df WHERE Continent = 'Europe') AS 'Total'\n",
    "\n",
    "            FROM have_disorder_df \n",
    "\n",
    "            WHERE Continent = 'Europe' \n",
    "            GROUP BY Have_disorder\n",
    "        ),\n",
    "\n",
    "        eu_final_df AS (\n",
    "            SELECT \n",
    "                Have_disorder,\n",
    "                ROUND(Europe / Total * 100, 2) AS 'Europe_proc' \n",
    "\n",
    "            FROM eu_main_df \n",
    "        ),\n",
    "\n",
    "        final_df AS (\n",
    "            SELECT\n",
    "                na.Have_disorder,\n",
    "                na.North_America_proc,\n",
    "                eu.Europe_proc,\n",
    "                CASE \n",
    "                    WHEN na.Have_disorder = 'Yes' THEN 1 \n",
    "                    WHEN na.Have_disorder = 'No' THEN 2\n",
    "                    Else 3 \n",
    "                    END AS 'order_col'\n",
    "\n",
    "            FROM na_final_df AS na \n",
    "                LEFT JOIN eu_final_df AS eu \n",
    "                ON na.Have_disorder = eu.Have_disorder\n",
    "        )\n",
    "    \n",
    "    SELECT * FROM final_df \n",
    "    ORDER BY order_col ASC\n",
    "\"\"\"\n",
    ").to_df()"
   ]
  },
  {
   "cell_type": "code",
   "execution_count": 40,
   "metadata": {},
   "outputs": [
    {
     "data": {
      "application/vnd.plotly.v1+json": {
       "config": {
        "plotlyServerURL": "https://plot.ly"
       },
       "data": [
        {
         "marker": {
          "color": "indianred"
         },
         "name": "North America",
         "text": [
          47.34,
          28.91,
          23.75
         ],
         "type": "bar",
         "x": [
          "Yes",
          "No",
          "Don't Know"
         ],
         "y": [
          47.34,
          28.91,
          23.75
         ]
        },
        {
         "marker": {
          "color": "lightsalmon"
         },
         "name": "Europe",
         "text": [
          27.67,
          43.79,
          28.53
         ],
         "type": "bar",
         "x": [
          "Yes",
          "No",
          "Don't Know"
         ],
         "y": [
          27.67,
          43.79,
          28.53
         ]
        }
       ],
       "layout": {
        "template": {
         "data": {
          "bar": [
           {
            "error_x": {
             "color": "#2a3f5f"
            },
            "error_y": {
             "color": "#2a3f5f"
            },
            "marker": {
             "line": {
              "color": "#E5ECF6",
              "width": 0.5
             },
             "pattern": {
              "fillmode": "overlay",
              "size": 10,
              "solidity": 0.2
             }
            },
            "type": "bar"
           }
          ],
          "barpolar": [
           {
            "marker": {
             "line": {
              "color": "#E5ECF6",
              "width": 0.5
             },
             "pattern": {
              "fillmode": "overlay",
              "size": 10,
              "solidity": 0.2
             }
            },
            "type": "barpolar"
           }
          ],
          "carpet": [
           {
            "aaxis": {
             "endlinecolor": "#2a3f5f",
             "gridcolor": "white",
             "linecolor": "white",
             "minorgridcolor": "white",
             "startlinecolor": "#2a3f5f"
            },
            "baxis": {
             "endlinecolor": "#2a3f5f",
             "gridcolor": "white",
             "linecolor": "white",
             "minorgridcolor": "white",
             "startlinecolor": "#2a3f5f"
            },
            "type": "carpet"
           }
          ],
          "choropleth": [
           {
            "colorbar": {
             "outlinewidth": 0,
             "ticks": ""
            },
            "type": "choropleth"
           }
          ],
          "contour": [
           {
            "colorbar": {
             "outlinewidth": 0,
             "ticks": ""
            },
            "colorscale": [
             [
              0,
              "#0d0887"
             ],
             [
              0.1111111111111111,
              "#46039f"
             ],
             [
              0.2222222222222222,
              "#7201a8"
             ],
             [
              0.3333333333333333,
              "#9c179e"
             ],
             [
              0.4444444444444444,
              "#bd3786"
             ],
             [
              0.5555555555555556,
              "#d8576b"
             ],
             [
              0.6666666666666666,
              "#ed7953"
             ],
             [
              0.7777777777777778,
              "#fb9f3a"
             ],
             [
              0.8888888888888888,
              "#fdca26"
             ],
             [
              1,
              "#f0f921"
             ]
            ],
            "type": "contour"
           }
          ],
          "contourcarpet": [
           {
            "colorbar": {
             "outlinewidth": 0,
             "ticks": ""
            },
            "type": "contourcarpet"
           }
          ],
          "heatmap": [
           {
            "colorbar": {
             "outlinewidth": 0,
             "ticks": ""
            },
            "colorscale": [
             [
              0,
              "#0d0887"
             ],
             [
              0.1111111111111111,
              "#46039f"
             ],
             [
              0.2222222222222222,
              "#7201a8"
             ],
             [
              0.3333333333333333,
              "#9c179e"
             ],
             [
              0.4444444444444444,
              "#bd3786"
             ],
             [
              0.5555555555555556,
              "#d8576b"
             ],
             [
              0.6666666666666666,
              "#ed7953"
             ],
             [
              0.7777777777777778,
              "#fb9f3a"
             ],
             [
              0.8888888888888888,
              "#fdca26"
             ],
             [
              1,
              "#f0f921"
             ]
            ],
            "type": "heatmap"
           }
          ],
          "heatmapgl": [
           {
            "colorbar": {
             "outlinewidth": 0,
             "ticks": ""
            },
            "colorscale": [
             [
              0,
              "#0d0887"
             ],
             [
              0.1111111111111111,
              "#46039f"
             ],
             [
              0.2222222222222222,
              "#7201a8"
             ],
             [
              0.3333333333333333,
              "#9c179e"
             ],
             [
              0.4444444444444444,
              "#bd3786"
             ],
             [
              0.5555555555555556,
              "#d8576b"
             ],
             [
              0.6666666666666666,
              "#ed7953"
             ],
             [
              0.7777777777777778,
              "#fb9f3a"
             ],
             [
              0.8888888888888888,
              "#fdca26"
             ],
             [
              1,
              "#f0f921"
             ]
            ],
            "type": "heatmapgl"
           }
          ],
          "histogram": [
           {
            "marker": {
             "pattern": {
              "fillmode": "overlay",
              "size": 10,
              "solidity": 0.2
             }
            },
            "type": "histogram"
           }
          ],
          "histogram2d": [
           {
            "colorbar": {
             "outlinewidth": 0,
             "ticks": ""
            },
            "colorscale": [
             [
              0,
              "#0d0887"
             ],
             [
              0.1111111111111111,
              "#46039f"
             ],
             [
              0.2222222222222222,
              "#7201a8"
             ],
             [
              0.3333333333333333,
              "#9c179e"
             ],
             [
              0.4444444444444444,
              "#bd3786"
             ],
             [
              0.5555555555555556,
              "#d8576b"
             ],
             [
              0.6666666666666666,
              "#ed7953"
             ],
             [
              0.7777777777777778,
              "#fb9f3a"
             ],
             [
              0.8888888888888888,
              "#fdca26"
             ],
             [
              1,
              "#f0f921"
             ]
            ],
            "type": "histogram2d"
           }
          ],
          "histogram2dcontour": [
           {
            "colorbar": {
             "outlinewidth": 0,
             "ticks": ""
            },
            "colorscale": [
             [
              0,
              "#0d0887"
             ],
             [
              0.1111111111111111,
              "#46039f"
             ],
             [
              0.2222222222222222,
              "#7201a8"
             ],
             [
              0.3333333333333333,
              "#9c179e"
             ],
             [
              0.4444444444444444,
              "#bd3786"
             ],
             [
              0.5555555555555556,
              "#d8576b"
             ],
             [
              0.6666666666666666,
              "#ed7953"
             ],
             [
              0.7777777777777778,
              "#fb9f3a"
             ],
             [
              0.8888888888888888,
              "#fdca26"
             ],
             [
              1,
              "#f0f921"
             ]
            ],
            "type": "histogram2dcontour"
           }
          ],
          "mesh3d": [
           {
            "colorbar": {
             "outlinewidth": 0,
             "ticks": ""
            },
            "type": "mesh3d"
           }
          ],
          "parcoords": [
           {
            "line": {
             "colorbar": {
              "outlinewidth": 0,
              "ticks": ""
             }
            },
            "type": "parcoords"
           }
          ],
          "pie": [
           {
            "automargin": true,
            "type": "pie"
           }
          ],
          "scatter": [
           {
            "fillpattern": {
             "fillmode": "overlay",
             "size": 10,
             "solidity": 0.2
            },
            "type": "scatter"
           }
          ],
          "scatter3d": [
           {
            "line": {
             "colorbar": {
              "outlinewidth": 0,
              "ticks": ""
             }
            },
            "marker": {
             "colorbar": {
              "outlinewidth": 0,
              "ticks": ""
             }
            },
            "type": "scatter3d"
           }
          ],
          "scattercarpet": [
           {
            "marker": {
             "colorbar": {
              "outlinewidth": 0,
              "ticks": ""
             }
            },
            "type": "scattercarpet"
           }
          ],
          "scattergeo": [
           {
            "marker": {
             "colorbar": {
              "outlinewidth": 0,
              "ticks": ""
             }
            },
            "type": "scattergeo"
           }
          ],
          "scattergl": [
           {
            "marker": {
             "colorbar": {
              "outlinewidth": 0,
              "ticks": ""
             }
            },
            "type": "scattergl"
           }
          ],
          "scattermapbox": [
           {
            "marker": {
             "colorbar": {
              "outlinewidth": 0,
              "ticks": ""
             }
            },
            "type": "scattermapbox"
           }
          ],
          "scatterpolar": [
           {
            "marker": {
             "colorbar": {
              "outlinewidth": 0,
              "ticks": ""
             }
            },
            "type": "scatterpolar"
           }
          ],
          "scatterpolargl": [
           {
            "marker": {
             "colorbar": {
              "outlinewidth": 0,
              "ticks": ""
             }
            },
            "type": "scatterpolargl"
           }
          ],
          "scatterternary": [
           {
            "marker": {
             "colorbar": {
              "outlinewidth": 0,
              "ticks": ""
             }
            },
            "type": "scatterternary"
           }
          ],
          "surface": [
           {
            "colorbar": {
             "outlinewidth": 0,
             "ticks": ""
            },
            "colorscale": [
             [
              0,
              "#0d0887"
             ],
             [
              0.1111111111111111,
              "#46039f"
             ],
             [
              0.2222222222222222,
              "#7201a8"
             ],
             [
              0.3333333333333333,
              "#9c179e"
             ],
             [
              0.4444444444444444,
              "#bd3786"
             ],
             [
              0.5555555555555556,
              "#d8576b"
             ],
             [
              0.6666666666666666,
              "#ed7953"
             ],
             [
              0.7777777777777778,
              "#fb9f3a"
             ],
             [
              0.8888888888888888,
              "#fdca26"
             ],
             [
              1,
              "#f0f921"
             ]
            ],
            "type": "surface"
           }
          ],
          "table": [
           {
            "cells": {
             "fill": {
              "color": "#EBF0F8"
             },
             "line": {
              "color": "white"
             }
            },
            "header": {
             "fill": {
              "color": "#C8D4E3"
             },
             "line": {
              "color": "white"
             }
            },
            "type": "table"
           }
          ]
         },
         "layout": {
          "annotationdefaults": {
           "arrowcolor": "#2a3f5f",
           "arrowhead": 0,
           "arrowwidth": 1
          },
          "autotypenumbers": "strict",
          "coloraxis": {
           "colorbar": {
            "outlinewidth": 0,
            "ticks": ""
           }
          },
          "colorscale": {
           "diverging": [
            [
             0,
             "#8e0152"
            ],
            [
             0.1,
             "#c51b7d"
            ],
            [
             0.2,
             "#de77ae"
            ],
            [
             0.3,
             "#f1b6da"
            ],
            [
             0.4,
             "#fde0ef"
            ],
            [
             0.5,
             "#f7f7f7"
            ],
            [
             0.6,
             "#e6f5d0"
            ],
            [
             0.7,
             "#b8e186"
            ],
            [
             0.8,
             "#7fbc41"
            ],
            [
             0.9,
             "#4d9221"
            ],
            [
             1,
             "#276419"
            ]
           ],
           "sequential": [
            [
             0,
             "#0d0887"
            ],
            [
             0.1111111111111111,
             "#46039f"
            ],
            [
             0.2222222222222222,
             "#7201a8"
            ],
            [
             0.3333333333333333,
             "#9c179e"
            ],
            [
             0.4444444444444444,
             "#bd3786"
            ],
            [
             0.5555555555555556,
             "#d8576b"
            ],
            [
             0.6666666666666666,
             "#ed7953"
            ],
            [
             0.7777777777777778,
             "#fb9f3a"
            ],
            [
             0.8888888888888888,
             "#fdca26"
            ],
            [
             1,
             "#f0f921"
            ]
           ],
           "sequentialminus": [
            [
             0,
             "#0d0887"
            ],
            [
             0.1111111111111111,
             "#46039f"
            ],
            [
             0.2222222222222222,
             "#7201a8"
            ],
            [
             0.3333333333333333,
             "#9c179e"
            ],
            [
             0.4444444444444444,
             "#bd3786"
            ],
            [
             0.5555555555555556,
             "#d8576b"
            ],
            [
             0.6666666666666666,
             "#ed7953"
            ],
            [
             0.7777777777777778,
             "#fb9f3a"
            ],
            [
             0.8888888888888888,
             "#fdca26"
            ],
            [
             1,
             "#f0f921"
            ]
           ]
          },
          "colorway": [
           "#636efa",
           "#EF553B",
           "#00cc96",
           "#ab63fa",
           "#FFA15A",
           "#19d3f3",
           "#FF6692",
           "#B6E880",
           "#FF97FF",
           "#FECB52"
          ],
          "font": {
           "color": "#2a3f5f"
          },
          "geo": {
           "bgcolor": "white",
           "lakecolor": "white",
           "landcolor": "#E5ECF6",
           "showlakes": true,
           "showland": true,
           "subunitcolor": "white"
          },
          "hoverlabel": {
           "align": "left"
          },
          "hovermode": "closest",
          "mapbox": {
           "style": "light"
          },
          "paper_bgcolor": "white",
          "plot_bgcolor": "#E5ECF6",
          "polar": {
           "angularaxis": {
            "gridcolor": "white",
            "linecolor": "white",
            "ticks": ""
           },
           "bgcolor": "#E5ECF6",
           "radialaxis": {
            "gridcolor": "white",
            "linecolor": "white",
            "ticks": ""
           }
          },
          "scene": {
           "xaxis": {
            "backgroundcolor": "#E5ECF6",
            "gridcolor": "white",
            "gridwidth": 2,
            "linecolor": "white",
            "showbackground": true,
            "ticks": "",
            "zerolinecolor": "white"
           },
           "yaxis": {
            "backgroundcolor": "#E5ECF6",
            "gridcolor": "white",
            "gridwidth": 2,
            "linecolor": "white",
            "showbackground": true,
            "ticks": "",
            "zerolinecolor": "white"
           },
           "zaxis": {
            "backgroundcolor": "#E5ECF6",
            "gridcolor": "white",
            "gridwidth": 2,
            "linecolor": "white",
            "showbackground": true,
            "ticks": "",
            "zerolinecolor": "white"
           }
          },
          "shapedefaults": {
           "line": {
            "color": "#2a3f5f"
           }
          },
          "ternary": {
           "aaxis": {
            "gridcolor": "white",
            "linecolor": "white",
            "ticks": ""
           },
           "baxis": {
            "gridcolor": "white",
            "linecolor": "white",
            "ticks": ""
           },
           "bgcolor": "#E5ECF6",
           "caxis": {
            "gridcolor": "white",
            "linecolor": "white",
            "ticks": ""
           }
          },
          "title": {
           "x": 0.05
          },
          "xaxis": {
           "automargin": true,
           "gridcolor": "white",
           "linecolor": "white",
           "ticks": "",
           "title": {
            "standoff": 15
           },
           "zerolinecolor": "white",
           "zerolinewidth": 2
          },
          "yaxis": {
           "automargin": true,
           "gridcolor": "white",
           "linecolor": "white",
           "ticks": "",
           "title": {
            "standoff": 15
           },
           "zerolinecolor": "white",
           "zerolinewidth": 2
          }
         }
        },
        "title": {
         "text": "Percentage Distribution by Continent"
        },
        "xaxis": {
         "title": {
          "text": "Have Disorder"
         }
        }
       }
      }
     },
     "metadata": {},
     "output_type": "display_data"
    }
   ],
   "source": [
    "fig = go.Figure()\n",
    "\n",
    "fig.add_trace(\n",
    "    go.Bar(\n",
    "        x=continent_disorder_df[\"Have_disorder\"],\n",
    "        y=continent_disorder_df[\"North_America_proc\"],\n",
    "        name=\"North America\",\n",
    "        marker_color=\"indianred\",\n",
    "        text=continent_disorder_df[\"North_America_proc\"],\n",
    "    )\n",
    ")\n",
    "\n",
    "fig.add_trace(\n",
    "    go.Bar(\n",
    "        x=continent_disorder_df[\"Have_disorder\"],\n",
    "        y=continent_disorder_df[\"Europe_proc\"],\n",
    "        name=\"Europe\",\n",
    "        marker_color=\"lightsalmon\",\n",
    "        text=continent_disorder_df[\"Europe_proc\"],\n",
    "    )\n",
    ")\n",
    "\n",
    "fig.update_layout(\n",
    "    title=\"Percentage Distribution by Continent\",\n",
    "    xaxis=dict(title=dict(text=\"Have Disorder\")),\n",
    ")"
   ]
  },
  {
   "cell_type": "markdown",
   "metadata": {},
   "source": [
    "The chart compares the prevalence of mental health disorder responses between North America and Europe:\n",
    "\n",
    "Key Observations:\n",
    "\"Yes\" Responses:\n",
    "\n",
    "- In North America, 47.34% of respondents reported having a mental health disorder, significantly higher than 27.67% in Europe.\n",
    "- This suggests greater reported prevalence or openness about mental health in North America.\n",
    "\n",
    "\"No\" Responses:\n",
    "\n",
    "- In Europe, 43.79% stated they do not have a mental health disorder, compared to 28.91% in North America.\n",
    "- This reflects a potentially lower reported prevalence or different cultural attitudes toward mental health in Europe.\n",
    "\n",
    "\"Don't Know\" Responses:\n",
    "\n",
    "- 23.75% of North American respondents and 28.53% of Europeans were uncertain about their mental health status.\n",
    "- The slightly higher uncertainty in Europe may indicate less awareness or willingness to engage with mental health topics.\n",
    "\n",
    "Insights:\\\n",
    "Cultural and regional differences likely influence how respondents perceive and report mental health. North America shows a higher prevalence of \"Yes\" responses, possibly reflecting greater mental health awareness or reduced stigma. In contrast, Europe has more \"No\" responses, but with a notable proportion of uncertainty, suggesting a need for further education and outreach in both regions.\n"
   ]
  },
  {
   "cell_type": "markdown",
   "metadata": {},
   "source": [
    "## **Workplace perceptions**\n"
   ]
  },
  {
   "cell_type": "markdown",
   "metadata": {},
   "source": [
    "### **Are workplaces providing sufficient mental health support?**\n"
   ]
  },
  {
   "cell_type": "code",
   "execution_count": 41,
   "metadata": {},
   "outputs": [],
   "source": [
    "workplaces_df = duckdb.sql(\n",
    "    \"\"\"\n",
    "        SELECT \n",
    "            h.UserID,\n",
    "            h.Year,\n",
    "            h.Age,\n",
    "            h.Gender,\n",
    "            h.Location,\n",
    "            h.Continent,\n",
    "            h.Have_disorder,\n",
    "            CASE \n",
    "                WHEN c.Health_benefits = 'Not eligible for coverage / NA' THEN 'No'\n",
    "                ELSE c.Health_benefits\n",
    "                END AS Health_benefits,\n",
    "\n",
    "            mhs.Mental_health_services,\n",
    "            fmh.Formal_mental_health,\n",
    "            hr.Health_resources\n",
    "\n",
    "        FROM have_disorder_df AS h \n",
    "            -- Does your employer provide mental health benefits as part of healthcare coverage?\n",
    "            LEFT JOIN (\n",
    "                SELECT \n",
    "                    UserID, \n",
    "                    AnswerText AS Health_benefits\n",
    "                FROM df \n",
    "                WHERE QuestionID = 10\n",
    "            ) AS c \n",
    "            ON h.UserID = c.UserID \n",
    "\n",
    "            -- Do you know the options for mental health care available under your employer-provided health coverage?\n",
    "            LEFT JOIN (\n",
    "                SELECT \n",
    "                    UserID,\n",
    "                    AnswerText AS Mental_health_services\n",
    "                FROM df \n",
    "                WHERE QuestionID = 14\n",
    "            ) AS mhs \n",
    "            ON h.UserID = mhs.UserID \n",
    "\n",
    "            -- Has your employer ever formally discussed mental health (for example, as part of a wellness campaign or other official communication)?\n",
    "            LEFT JOIN (\n",
    "                SELECT \n",
    "                    UserID, \n",
    "                    AnswerText AS Formal_mental_health\n",
    "                FROM df \n",
    "                WHERE QuestionID = 15            \n",
    "            ) AS fmh\n",
    "            ON h.UserID = fmh.UserID\n",
    "\n",
    "            -- Does your employer offer resources to learn more about mental health disorders and options for seeking help?\n",
    "            LEFT JOIN (\n",
    "                SELECT \n",
    "                    UserID,\n",
    "                    AnswerText AS Health_resources \n",
    "                FROM df\n",
    "                WHERE QuestionID = 16\n",
    "            ) AS hr \n",
    "            ON h.UserID = hr.UserID \n",
    "\n",
    "        WHERE\n",
    "            c.Health_benefits != '-1'\n",
    "            AND mhs.Mental_health_services != '-1'\n",
    "            AND fmh.Formal_mental_health != '-1'\n",
    "            AND hr.Health_resources != '-1'\n",
    "    \"\"\"\n",
    ").to_df()"
   ]
  },
  {
   "cell_type": "markdown",
   "metadata": {},
   "source": [
    "#### **Health benefits**\n"
   ]
  },
  {
   "cell_type": "code",
   "execution_count": 42,
   "metadata": {},
   "outputs": [],
   "source": [
    "health_summary = duckdb.sql(\n",
    "    \"\"\"\n",
    "WITH \n",
    "    group_data AS (\n",
    "        SELECT\n",
    "            Health_benefits,\n",
    "            COUNT(Health_benefits) AS count\n",
    "        \n",
    "        FROM workplaces_df\n",
    "\n",
    "        GROUP BY Health_benefits\n",
    "        ),\n",
    "    sum_data AS (\n",
    "        SELECT \n",
    "            COUNT(Health_benefits) AS Total\n",
    "        FROM workplaces_df     \n",
    "        ),\n",
    "    app_tbl AS (\n",
    "            SELECT\n",
    "                gd.Health_benefits,\n",
    "                gd.count,\n",
    "                (SELECT * FROM sum_data) AS Total\n",
    "\n",
    "            FROM group_data AS gd\n",
    "        ),\n",
    "    prc_calc AS (\n",
    "            SELECT \n",
    "                Health_benefits,\n",
    "                ROUND(count / Total * 100, 2) AS 'count%',\n",
    "                CASE \n",
    "                    WHEN Health_benefits = 'Yes' THEN 1 \n",
    "                    WHEN Health_benefits = 'No' THEN 2 \n",
    "                    ELSE 3 \n",
    "                    END AS 'order_col' \n",
    "\n",
    "            FROM app_tbl\n",
    "        )\n",
    "\n",
    "SELECT * FROM prc_calc \n",
    "ORDER BY order_col ASC\n",
    "\"\"\"\n",
    ").to_df()"
   ]
  },
  {
   "cell_type": "code",
   "execution_count": 43,
   "metadata": {},
   "outputs": [
    {
     "data": {
      "application/vnd.plotly.v1+json": {
       "config": {
        "plotlyServerURL": "https://plot.ly"
       },
       "data": [
        {
         "alignmentgroup": "True",
         "hovertemplate": "Health_benefits=%{x}<br>count%=%{y}<extra></extra>",
         "legendgroup": "",
         "marker": {
          "color": "#e6cea0",
          "pattern": {
           "shape": ""
          }
         },
         "name": "",
         "offsetgroup": "",
         "orientation": "v",
         "showlegend": false,
         "textposition": "auto",
         "texttemplate": "%{y}",
         "type": "bar",
         "x": [
          "Yes",
          "No",
          "I don't know"
         ],
         "xaxis": "x",
         "y": [
          59.46,
          11.4,
          29.15
         ],
         "yaxis": "y"
        }
       ],
       "layout": {
        "barmode": "relative",
        "height": 300,
        "legend": {
         "tracegroupgap": 0
        },
        "template": {
         "data": {
          "bar": [
           {
            "error_x": {
             "color": "#2a3f5f"
            },
            "error_y": {
             "color": "#2a3f5f"
            },
            "marker": {
             "line": {
              "color": "white",
              "width": 0.5
             },
             "pattern": {
              "fillmode": "overlay",
              "size": 10,
              "solidity": 0.2
             }
            },
            "type": "bar"
           }
          ],
          "barpolar": [
           {
            "marker": {
             "line": {
              "color": "white",
              "width": 0.5
             },
             "pattern": {
              "fillmode": "overlay",
              "size": 10,
              "solidity": 0.2
             }
            },
            "type": "barpolar"
           }
          ],
          "carpet": [
           {
            "aaxis": {
             "endlinecolor": "#2a3f5f",
             "gridcolor": "#C8D4E3",
             "linecolor": "#C8D4E3",
             "minorgridcolor": "#C8D4E3",
             "startlinecolor": "#2a3f5f"
            },
            "baxis": {
             "endlinecolor": "#2a3f5f",
             "gridcolor": "#C8D4E3",
             "linecolor": "#C8D4E3",
             "minorgridcolor": "#C8D4E3",
             "startlinecolor": "#2a3f5f"
            },
            "type": "carpet"
           }
          ],
          "choropleth": [
           {
            "colorbar": {
             "outlinewidth": 0,
             "ticks": ""
            },
            "type": "choropleth"
           }
          ],
          "contour": [
           {
            "colorbar": {
             "outlinewidth": 0,
             "ticks": ""
            },
            "colorscale": [
             [
              0,
              "#0d0887"
             ],
             [
              0.1111111111111111,
              "#46039f"
             ],
             [
              0.2222222222222222,
              "#7201a8"
             ],
             [
              0.3333333333333333,
              "#9c179e"
             ],
             [
              0.4444444444444444,
              "#bd3786"
             ],
             [
              0.5555555555555556,
              "#d8576b"
             ],
             [
              0.6666666666666666,
              "#ed7953"
             ],
             [
              0.7777777777777778,
              "#fb9f3a"
             ],
             [
              0.8888888888888888,
              "#fdca26"
             ],
             [
              1,
              "#f0f921"
             ]
            ],
            "type": "contour"
           }
          ],
          "contourcarpet": [
           {
            "colorbar": {
             "outlinewidth": 0,
             "ticks": ""
            },
            "type": "contourcarpet"
           }
          ],
          "heatmap": [
           {
            "colorbar": {
             "outlinewidth": 0,
             "ticks": ""
            },
            "colorscale": [
             [
              0,
              "#0d0887"
             ],
             [
              0.1111111111111111,
              "#46039f"
             ],
             [
              0.2222222222222222,
              "#7201a8"
             ],
             [
              0.3333333333333333,
              "#9c179e"
             ],
             [
              0.4444444444444444,
              "#bd3786"
             ],
             [
              0.5555555555555556,
              "#d8576b"
             ],
             [
              0.6666666666666666,
              "#ed7953"
             ],
             [
              0.7777777777777778,
              "#fb9f3a"
             ],
             [
              0.8888888888888888,
              "#fdca26"
             ],
             [
              1,
              "#f0f921"
             ]
            ],
            "type": "heatmap"
           }
          ],
          "heatmapgl": [
           {
            "colorbar": {
             "outlinewidth": 0,
             "ticks": ""
            },
            "colorscale": [
             [
              0,
              "#0d0887"
             ],
             [
              0.1111111111111111,
              "#46039f"
             ],
             [
              0.2222222222222222,
              "#7201a8"
             ],
             [
              0.3333333333333333,
              "#9c179e"
             ],
             [
              0.4444444444444444,
              "#bd3786"
             ],
             [
              0.5555555555555556,
              "#d8576b"
             ],
             [
              0.6666666666666666,
              "#ed7953"
             ],
             [
              0.7777777777777778,
              "#fb9f3a"
             ],
             [
              0.8888888888888888,
              "#fdca26"
             ],
             [
              1,
              "#f0f921"
             ]
            ],
            "type": "heatmapgl"
           }
          ],
          "histogram": [
           {
            "marker": {
             "pattern": {
              "fillmode": "overlay",
              "size": 10,
              "solidity": 0.2
             }
            },
            "type": "histogram"
           }
          ],
          "histogram2d": [
           {
            "colorbar": {
             "outlinewidth": 0,
             "ticks": ""
            },
            "colorscale": [
             [
              0,
              "#0d0887"
             ],
             [
              0.1111111111111111,
              "#46039f"
             ],
             [
              0.2222222222222222,
              "#7201a8"
             ],
             [
              0.3333333333333333,
              "#9c179e"
             ],
             [
              0.4444444444444444,
              "#bd3786"
             ],
             [
              0.5555555555555556,
              "#d8576b"
             ],
             [
              0.6666666666666666,
              "#ed7953"
             ],
             [
              0.7777777777777778,
              "#fb9f3a"
             ],
             [
              0.8888888888888888,
              "#fdca26"
             ],
             [
              1,
              "#f0f921"
             ]
            ],
            "type": "histogram2d"
           }
          ],
          "histogram2dcontour": [
           {
            "colorbar": {
             "outlinewidth": 0,
             "ticks": ""
            },
            "colorscale": [
             [
              0,
              "#0d0887"
             ],
             [
              0.1111111111111111,
              "#46039f"
             ],
             [
              0.2222222222222222,
              "#7201a8"
             ],
             [
              0.3333333333333333,
              "#9c179e"
             ],
             [
              0.4444444444444444,
              "#bd3786"
             ],
             [
              0.5555555555555556,
              "#d8576b"
             ],
             [
              0.6666666666666666,
              "#ed7953"
             ],
             [
              0.7777777777777778,
              "#fb9f3a"
             ],
             [
              0.8888888888888888,
              "#fdca26"
             ],
             [
              1,
              "#f0f921"
             ]
            ],
            "type": "histogram2dcontour"
           }
          ],
          "mesh3d": [
           {
            "colorbar": {
             "outlinewidth": 0,
             "ticks": ""
            },
            "type": "mesh3d"
           }
          ],
          "parcoords": [
           {
            "line": {
             "colorbar": {
              "outlinewidth": 0,
              "ticks": ""
             }
            },
            "type": "parcoords"
           }
          ],
          "pie": [
           {
            "automargin": true,
            "type": "pie"
           }
          ],
          "scatter": [
           {
            "fillpattern": {
             "fillmode": "overlay",
             "size": 10,
             "solidity": 0.2
            },
            "type": "scatter"
           }
          ],
          "scatter3d": [
           {
            "line": {
             "colorbar": {
              "outlinewidth": 0,
              "ticks": ""
             }
            },
            "marker": {
             "colorbar": {
              "outlinewidth": 0,
              "ticks": ""
             }
            },
            "type": "scatter3d"
           }
          ],
          "scattercarpet": [
           {
            "marker": {
             "colorbar": {
              "outlinewidth": 0,
              "ticks": ""
             }
            },
            "type": "scattercarpet"
           }
          ],
          "scattergeo": [
           {
            "marker": {
             "colorbar": {
              "outlinewidth": 0,
              "ticks": ""
             }
            },
            "type": "scattergeo"
           }
          ],
          "scattergl": [
           {
            "marker": {
             "colorbar": {
              "outlinewidth": 0,
              "ticks": ""
             }
            },
            "type": "scattergl"
           }
          ],
          "scattermapbox": [
           {
            "marker": {
             "colorbar": {
              "outlinewidth": 0,
              "ticks": ""
             }
            },
            "type": "scattermapbox"
           }
          ],
          "scatterpolar": [
           {
            "marker": {
             "colorbar": {
              "outlinewidth": 0,
              "ticks": ""
             }
            },
            "type": "scatterpolar"
           }
          ],
          "scatterpolargl": [
           {
            "marker": {
             "colorbar": {
              "outlinewidth": 0,
              "ticks": ""
             }
            },
            "type": "scatterpolargl"
           }
          ],
          "scatterternary": [
           {
            "marker": {
             "colorbar": {
              "outlinewidth": 0,
              "ticks": ""
             }
            },
            "type": "scatterternary"
           }
          ],
          "surface": [
           {
            "colorbar": {
             "outlinewidth": 0,
             "ticks": ""
            },
            "colorscale": [
             [
              0,
              "#0d0887"
             ],
             [
              0.1111111111111111,
              "#46039f"
             ],
             [
              0.2222222222222222,
              "#7201a8"
             ],
             [
              0.3333333333333333,
              "#9c179e"
             ],
             [
              0.4444444444444444,
              "#bd3786"
             ],
             [
              0.5555555555555556,
              "#d8576b"
             ],
             [
              0.6666666666666666,
              "#ed7953"
             ],
             [
              0.7777777777777778,
              "#fb9f3a"
             ],
             [
              0.8888888888888888,
              "#fdca26"
             ],
             [
              1,
              "#f0f921"
             ]
            ],
            "type": "surface"
           }
          ],
          "table": [
           {
            "cells": {
             "fill": {
              "color": "#EBF0F8"
             },
             "line": {
              "color": "white"
             }
            },
            "header": {
             "fill": {
              "color": "#C8D4E3"
             },
             "line": {
              "color": "white"
             }
            },
            "type": "table"
           }
          ]
         },
         "layout": {
          "annotationdefaults": {
           "arrowcolor": "#2a3f5f",
           "arrowhead": 0,
           "arrowwidth": 1
          },
          "autotypenumbers": "strict",
          "coloraxis": {
           "colorbar": {
            "outlinewidth": 0,
            "ticks": ""
           }
          },
          "colorscale": {
           "diverging": [
            [
             0,
             "#8e0152"
            ],
            [
             0.1,
             "#c51b7d"
            ],
            [
             0.2,
             "#de77ae"
            ],
            [
             0.3,
             "#f1b6da"
            ],
            [
             0.4,
             "#fde0ef"
            ],
            [
             0.5,
             "#f7f7f7"
            ],
            [
             0.6,
             "#e6f5d0"
            ],
            [
             0.7,
             "#b8e186"
            ],
            [
             0.8,
             "#7fbc41"
            ],
            [
             0.9,
             "#4d9221"
            ],
            [
             1,
             "#276419"
            ]
           ],
           "sequential": [
            [
             0,
             "#0d0887"
            ],
            [
             0.1111111111111111,
             "#46039f"
            ],
            [
             0.2222222222222222,
             "#7201a8"
            ],
            [
             0.3333333333333333,
             "#9c179e"
            ],
            [
             0.4444444444444444,
             "#bd3786"
            ],
            [
             0.5555555555555556,
             "#d8576b"
            ],
            [
             0.6666666666666666,
             "#ed7953"
            ],
            [
             0.7777777777777778,
             "#fb9f3a"
            ],
            [
             0.8888888888888888,
             "#fdca26"
            ],
            [
             1,
             "#f0f921"
            ]
           ],
           "sequentialminus": [
            [
             0,
             "#0d0887"
            ],
            [
             0.1111111111111111,
             "#46039f"
            ],
            [
             0.2222222222222222,
             "#7201a8"
            ],
            [
             0.3333333333333333,
             "#9c179e"
            ],
            [
             0.4444444444444444,
             "#bd3786"
            ],
            [
             0.5555555555555556,
             "#d8576b"
            ],
            [
             0.6666666666666666,
             "#ed7953"
            ],
            [
             0.7777777777777778,
             "#fb9f3a"
            ],
            [
             0.8888888888888888,
             "#fdca26"
            ],
            [
             1,
             "#f0f921"
            ]
           ]
          },
          "colorway": [
           "#636efa",
           "#EF553B",
           "#00cc96",
           "#ab63fa",
           "#FFA15A",
           "#19d3f3",
           "#FF6692",
           "#B6E880",
           "#FF97FF",
           "#FECB52"
          ],
          "font": {
           "color": "#2a3f5f"
          },
          "geo": {
           "bgcolor": "white",
           "lakecolor": "white",
           "landcolor": "white",
           "showlakes": true,
           "showland": true,
           "subunitcolor": "#C8D4E3"
          },
          "hoverlabel": {
           "align": "left"
          },
          "hovermode": "closest",
          "mapbox": {
           "style": "light"
          },
          "paper_bgcolor": "white",
          "plot_bgcolor": "white",
          "polar": {
           "angularaxis": {
            "gridcolor": "#EBF0F8",
            "linecolor": "#EBF0F8",
            "ticks": ""
           },
           "bgcolor": "white",
           "radialaxis": {
            "gridcolor": "#EBF0F8",
            "linecolor": "#EBF0F8",
            "ticks": ""
           }
          },
          "scene": {
           "xaxis": {
            "backgroundcolor": "white",
            "gridcolor": "#DFE8F3",
            "gridwidth": 2,
            "linecolor": "#EBF0F8",
            "showbackground": true,
            "ticks": "",
            "zerolinecolor": "#EBF0F8"
           },
           "yaxis": {
            "backgroundcolor": "white",
            "gridcolor": "#DFE8F3",
            "gridwidth": 2,
            "linecolor": "#EBF0F8",
            "showbackground": true,
            "ticks": "",
            "zerolinecolor": "#EBF0F8"
           },
           "zaxis": {
            "backgroundcolor": "white",
            "gridcolor": "#DFE8F3",
            "gridwidth": 2,
            "linecolor": "#EBF0F8",
            "showbackground": true,
            "ticks": "",
            "zerolinecolor": "#EBF0F8"
           }
          },
          "shapedefaults": {
           "line": {
            "color": "#2a3f5f"
           }
          },
          "ternary": {
           "aaxis": {
            "gridcolor": "#DFE8F3",
            "linecolor": "#A2B1C6",
            "ticks": ""
           },
           "baxis": {
            "gridcolor": "#DFE8F3",
            "linecolor": "#A2B1C6",
            "ticks": ""
           },
           "bgcolor": "white",
           "caxis": {
            "gridcolor": "#DFE8F3",
            "linecolor": "#A2B1C6",
            "ticks": ""
           }
          },
          "title": {
           "x": 0.05
          },
          "xaxis": {
           "automargin": true,
           "gridcolor": "#EBF0F8",
           "linecolor": "#EBF0F8",
           "ticks": "",
           "title": {
            "standoff": 15
           },
           "zerolinecolor": "#EBF0F8",
           "zerolinewidth": 2
          },
          "yaxis": {
           "automargin": true,
           "gridcolor": "#EBF0F8",
           "linecolor": "#EBF0F8",
           "ticks": "",
           "title": {
            "standoff": 15
           },
           "zerolinecolor": "#EBF0F8",
           "zerolinewidth": 2
          }
         }
        },
        "title": {
         "text": "Total Overwiev of Health Benefits"
        },
        "width": 1200,
        "xaxis": {
         "anchor": "y",
         "domain": [
          0,
          1
         ],
         "title": {
          "text": "Health_benefits"
         }
        },
        "yaxis": {
         "anchor": "x",
         "domain": [
          0,
          1
         ],
         "title": {
          "text": "count%"
         }
        }
       }
      }
     },
     "metadata": {},
     "output_type": "display_data"
    }
   ],
   "source": [
    "bar_chart(\n",
    "    df=health_summary,\n",
    "    xaxis=\"Health_benefits\",\n",
    "    yaxis=\"count%\",\n",
    "    title=\"Total Overwiev of Health Benefits\",\n",
    ")"
   ]
  },
  {
   "cell_type": "markdown",
   "metadata": {},
   "source": [
    "The chart summarizes respondents' awareness of whether their workplace provides health benefits for mental health:\n",
    "\n",
    "Key Observations:\n",
    "\n",
    "1. \"Yes\" Responses:\n",
    "   - 59.46% of respondents indicated that their workplace provides mental health benefits, suggesting that a majority have access to such resources.\n",
    "2. \"No\" Responses:\n",
    "   - Only 11.40% stated that their workplace does not offer mental health benefits, which indicates that workplaces increasingly recognize the importance of supporting mental health.\n",
    "3. \"I Don't Know\" Responses:\n",
    "   - 29.15% of respondents were unsure whether their workplace provides mental health benefits.\n",
    "   - This highlights a significant gap in communication or awareness about available resources, even among employees who might have access to them.\n",
    "\n",
    "Insights:\\\n",
    "While most respondents reported having access to mental health benefits, nearly a third were unaware of their availability, pointing to a need for better communication and education in workplaces about mental health resources. Increasing awareness could encourage greater utilization of these benefits and improve workplace mental health support.\n"
   ]
  },
  {
   "cell_type": "code",
   "execution_count": 44,
   "metadata": {},
   "outputs": [],
   "source": [
    "health_benefits_df = duckdb.sql(\n",
    "    \"\"\"\n",
    "WITH \n",
    "    male_df AS (\n",
    "        SELECT\n",
    "            Health_benefits,\n",
    "            COUNT(Gender) AS 'Male',\n",
    "            (SELECT COUNT(Gender) FROM workplaces_df WHERE Gender = 'male') AS 'Total'\n",
    "        FROM workplaces_df \n",
    "        WHERE Gender = 'male'\n",
    "        GROUP BY Health_benefits\n",
    "        ),\n",
    "\n",
    "    male_final_df AS (\n",
    "        SELECT \n",
    "            Health_benefits, \n",
    "            ROUND(Male / Total * 100, 2) AS 'Male_proc'\n",
    "        FROM male_df\n",
    "        ),\n",
    "    female_df AS (\n",
    "        SELECT\n",
    "            Health_benefits,\n",
    "            COUNT(Gender) AS 'Female',\n",
    "            (SELECT COUNT(Gender) FROM workplaces_df WHERE Gender = 'female') AS 'Total'\n",
    "        FROM workplaces_df \n",
    "        WHERE Gender = 'female'\n",
    "        GROUP BY Health_benefits\n",
    "    ),\n",
    "    female_final_df AS (\n",
    "        SELECT \n",
    "            Health_benefits, \n",
    "            ROUND(Female / Total * 100, 2) AS 'Female_proc'\n",
    "        FROM female_df\n",
    "    ),\n",
    "    final_df AS (\n",
    "        SELECT \n",
    "            m.Health_benefits,\n",
    "            m.Male_proc AS 'Male%',\n",
    "            f.Female_proc AS 'Female%', \n",
    "            CASE \n",
    "                WHEN m.Health_benefits = 'Yes' THEN 1 \n",
    "                WHEN m.Health_benefits = 'No' THEN 2\n",
    "                ELSE 3 \n",
    "                END AS 'order_col' \n",
    "\n",
    "        FROM male_final_df AS m\n",
    "            LEFT JOIN female_final_df AS f \n",
    "            ON m.Health_benefits = f.Health_benefits\n",
    "    )\n",
    "\n",
    "SELECT * FROM final_df \n",
    "ORDER BY order_col ASC\n",
    "\"\"\"\n",
    ").to_df()"
   ]
  },
  {
   "cell_type": "code",
   "execution_count": 45,
   "metadata": {},
   "outputs": [
    {
     "data": {
      "application/vnd.plotly.v1+json": {
       "config": {
        "plotlyServerURL": "https://plot.ly"
       },
       "data": [
        {
         "marker": {
          "color": "indianred"
         },
         "name": "Male",
         "text": [
          56.34,
          12.68,
          30.98
         ],
         "type": "bar",
         "x": [
          "Yes",
          "No",
          "I don't know"
         ],
         "y": [
          56.34,
          12.68,
          30.98
         ]
        },
        {
         "marker": {
          "color": "lightsalmon"
         },
         "name": "Female",
         "text": [
          67.01,
          8.29,
          24.7
         ],
         "type": "bar",
         "x": [
          "Yes",
          "No",
          "I don't know"
         ],
         "y": [
          67.01,
          8.29,
          24.7
         ]
        }
       ],
       "layout": {
        "template": {
         "data": {
          "bar": [
           {
            "error_x": {
             "color": "#2a3f5f"
            },
            "error_y": {
             "color": "#2a3f5f"
            },
            "marker": {
             "line": {
              "color": "#E5ECF6",
              "width": 0.5
             },
             "pattern": {
              "fillmode": "overlay",
              "size": 10,
              "solidity": 0.2
             }
            },
            "type": "bar"
           }
          ],
          "barpolar": [
           {
            "marker": {
             "line": {
              "color": "#E5ECF6",
              "width": 0.5
             },
             "pattern": {
              "fillmode": "overlay",
              "size": 10,
              "solidity": 0.2
             }
            },
            "type": "barpolar"
           }
          ],
          "carpet": [
           {
            "aaxis": {
             "endlinecolor": "#2a3f5f",
             "gridcolor": "white",
             "linecolor": "white",
             "minorgridcolor": "white",
             "startlinecolor": "#2a3f5f"
            },
            "baxis": {
             "endlinecolor": "#2a3f5f",
             "gridcolor": "white",
             "linecolor": "white",
             "minorgridcolor": "white",
             "startlinecolor": "#2a3f5f"
            },
            "type": "carpet"
           }
          ],
          "choropleth": [
           {
            "colorbar": {
             "outlinewidth": 0,
             "ticks": ""
            },
            "type": "choropleth"
           }
          ],
          "contour": [
           {
            "colorbar": {
             "outlinewidth": 0,
             "ticks": ""
            },
            "colorscale": [
             [
              0,
              "#0d0887"
             ],
             [
              0.1111111111111111,
              "#46039f"
             ],
             [
              0.2222222222222222,
              "#7201a8"
             ],
             [
              0.3333333333333333,
              "#9c179e"
             ],
             [
              0.4444444444444444,
              "#bd3786"
             ],
             [
              0.5555555555555556,
              "#d8576b"
             ],
             [
              0.6666666666666666,
              "#ed7953"
             ],
             [
              0.7777777777777778,
              "#fb9f3a"
             ],
             [
              0.8888888888888888,
              "#fdca26"
             ],
             [
              1,
              "#f0f921"
             ]
            ],
            "type": "contour"
           }
          ],
          "contourcarpet": [
           {
            "colorbar": {
             "outlinewidth": 0,
             "ticks": ""
            },
            "type": "contourcarpet"
           }
          ],
          "heatmap": [
           {
            "colorbar": {
             "outlinewidth": 0,
             "ticks": ""
            },
            "colorscale": [
             [
              0,
              "#0d0887"
             ],
             [
              0.1111111111111111,
              "#46039f"
             ],
             [
              0.2222222222222222,
              "#7201a8"
             ],
             [
              0.3333333333333333,
              "#9c179e"
             ],
             [
              0.4444444444444444,
              "#bd3786"
             ],
             [
              0.5555555555555556,
              "#d8576b"
             ],
             [
              0.6666666666666666,
              "#ed7953"
             ],
             [
              0.7777777777777778,
              "#fb9f3a"
             ],
             [
              0.8888888888888888,
              "#fdca26"
             ],
             [
              1,
              "#f0f921"
             ]
            ],
            "type": "heatmap"
           }
          ],
          "heatmapgl": [
           {
            "colorbar": {
             "outlinewidth": 0,
             "ticks": ""
            },
            "colorscale": [
             [
              0,
              "#0d0887"
             ],
             [
              0.1111111111111111,
              "#46039f"
             ],
             [
              0.2222222222222222,
              "#7201a8"
             ],
             [
              0.3333333333333333,
              "#9c179e"
             ],
             [
              0.4444444444444444,
              "#bd3786"
             ],
             [
              0.5555555555555556,
              "#d8576b"
             ],
             [
              0.6666666666666666,
              "#ed7953"
             ],
             [
              0.7777777777777778,
              "#fb9f3a"
             ],
             [
              0.8888888888888888,
              "#fdca26"
             ],
             [
              1,
              "#f0f921"
             ]
            ],
            "type": "heatmapgl"
           }
          ],
          "histogram": [
           {
            "marker": {
             "pattern": {
              "fillmode": "overlay",
              "size": 10,
              "solidity": 0.2
             }
            },
            "type": "histogram"
           }
          ],
          "histogram2d": [
           {
            "colorbar": {
             "outlinewidth": 0,
             "ticks": ""
            },
            "colorscale": [
             [
              0,
              "#0d0887"
             ],
             [
              0.1111111111111111,
              "#46039f"
             ],
             [
              0.2222222222222222,
              "#7201a8"
             ],
             [
              0.3333333333333333,
              "#9c179e"
             ],
             [
              0.4444444444444444,
              "#bd3786"
             ],
             [
              0.5555555555555556,
              "#d8576b"
             ],
             [
              0.6666666666666666,
              "#ed7953"
             ],
             [
              0.7777777777777778,
              "#fb9f3a"
             ],
             [
              0.8888888888888888,
              "#fdca26"
             ],
             [
              1,
              "#f0f921"
             ]
            ],
            "type": "histogram2d"
           }
          ],
          "histogram2dcontour": [
           {
            "colorbar": {
             "outlinewidth": 0,
             "ticks": ""
            },
            "colorscale": [
             [
              0,
              "#0d0887"
             ],
             [
              0.1111111111111111,
              "#46039f"
             ],
             [
              0.2222222222222222,
              "#7201a8"
             ],
             [
              0.3333333333333333,
              "#9c179e"
             ],
             [
              0.4444444444444444,
              "#bd3786"
             ],
             [
              0.5555555555555556,
              "#d8576b"
             ],
             [
              0.6666666666666666,
              "#ed7953"
             ],
             [
              0.7777777777777778,
              "#fb9f3a"
             ],
             [
              0.8888888888888888,
              "#fdca26"
             ],
             [
              1,
              "#f0f921"
             ]
            ],
            "type": "histogram2dcontour"
           }
          ],
          "mesh3d": [
           {
            "colorbar": {
             "outlinewidth": 0,
             "ticks": ""
            },
            "type": "mesh3d"
           }
          ],
          "parcoords": [
           {
            "line": {
             "colorbar": {
              "outlinewidth": 0,
              "ticks": ""
             }
            },
            "type": "parcoords"
           }
          ],
          "pie": [
           {
            "automargin": true,
            "type": "pie"
           }
          ],
          "scatter": [
           {
            "fillpattern": {
             "fillmode": "overlay",
             "size": 10,
             "solidity": 0.2
            },
            "type": "scatter"
           }
          ],
          "scatter3d": [
           {
            "line": {
             "colorbar": {
              "outlinewidth": 0,
              "ticks": ""
             }
            },
            "marker": {
             "colorbar": {
              "outlinewidth": 0,
              "ticks": ""
             }
            },
            "type": "scatter3d"
           }
          ],
          "scattercarpet": [
           {
            "marker": {
             "colorbar": {
              "outlinewidth": 0,
              "ticks": ""
             }
            },
            "type": "scattercarpet"
           }
          ],
          "scattergeo": [
           {
            "marker": {
             "colorbar": {
              "outlinewidth": 0,
              "ticks": ""
             }
            },
            "type": "scattergeo"
           }
          ],
          "scattergl": [
           {
            "marker": {
             "colorbar": {
              "outlinewidth": 0,
              "ticks": ""
             }
            },
            "type": "scattergl"
           }
          ],
          "scattermapbox": [
           {
            "marker": {
             "colorbar": {
              "outlinewidth": 0,
              "ticks": ""
             }
            },
            "type": "scattermapbox"
           }
          ],
          "scatterpolar": [
           {
            "marker": {
             "colorbar": {
              "outlinewidth": 0,
              "ticks": ""
             }
            },
            "type": "scatterpolar"
           }
          ],
          "scatterpolargl": [
           {
            "marker": {
             "colorbar": {
              "outlinewidth": 0,
              "ticks": ""
             }
            },
            "type": "scatterpolargl"
           }
          ],
          "scatterternary": [
           {
            "marker": {
             "colorbar": {
              "outlinewidth": 0,
              "ticks": ""
             }
            },
            "type": "scatterternary"
           }
          ],
          "surface": [
           {
            "colorbar": {
             "outlinewidth": 0,
             "ticks": ""
            },
            "colorscale": [
             [
              0,
              "#0d0887"
             ],
             [
              0.1111111111111111,
              "#46039f"
             ],
             [
              0.2222222222222222,
              "#7201a8"
             ],
             [
              0.3333333333333333,
              "#9c179e"
             ],
             [
              0.4444444444444444,
              "#bd3786"
             ],
             [
              0.5555555555555556,
              "#d8576b"
             ],
             [
              0.6666666666666666,
              "#ed7953"
             ],
             [
              0.7777777777777778,
              "#fb9f3a"
             ],
             [
              0.8888888888888888,
              "#fdca26"
             ],
             [
              1,
              "#f0f921"
             ]
            ],
            "type": "surface"
           }
          ],
          "table": [
           {
            "cells": {
             "fill": {
              "color": "#EBF0F8"
             },
             "line": {
              "color": "white"
             }
            },
            "header": {
             "fill": {
              "color": "#C8D4E3"
             },
             "line": {
              "color": "white"
             }
            },
            "type": "table"
           }
          ]
         },
         "layout": {
          "annotationdefaults": {
           "arrowcolor": "#2a3f5f",
           "arrowhead": 0,
           "arrowwidth": 1
          },
          "autotypenumbers": "strict",
          "coloraxis": {
           "colorbar": {
            "outlinewidth": 0,
            "ticks": ""
           }
          },
          "colorscale": {
           "diverging": [
            [
             0,
             "#8e0152"
            ],
            [
             0.1,
             "#c51b7d"
            ],
            [
             0.2,
             "#de77ae"
            ],
            [
             0.3,
             "#f1b6da"
            ],
            [
             0.4,
             "#fde0ef"
            ],
            [
             0.5,
             "#f7f7f7"
            ],
            [
             0.6,
             "#e6f5d0"
            ],
            [
             0.7,
             "#b8e186"
            ],
            [
             0.8,
             "#7fbc41"
            ],
            [
             0.9,
             "#4d9221"
            ],
            [
             1,
             "#276419"
            ]
           ],
           "sequential": [
            [
             0,
             "#0d0887"
            ],
            [
             0.1111111111111111,
             "#46039f"
            ],
            [
             0.2222222222222222,
             "#7201a8"
            ],
            [
             0.3333333333333333,
             "#9c179e"
            ],
            [
             0.4444444444444444,
             "#bd3786"
            ],
            [
             0.5555555555555556,
             "#d8576b"
            ],
            [
             0.6666666666666666,
             "#ed7953"
            ],
            [
             0.7777777777777778,
             "#fb9f3a"
            ],
            [
             0.8888888888888888,
             "#fdca26"
            ],
            [
             1,
             "#f0f921"
            ]
           ],
           "sequentialminus": [
            [
             0,
             "#0d0887"
            ],
            [
             0.1111111111111111,
             "#46039f"
            ],
            [
             0.2222222222222222,
             "#7201a8"
            ],
            [
             0.3333333333333333,
             "#9c179e"
            ],
            [
             0.4444444444444444,
             "#bd3786"
            ],
            [
             0.5555555555555556,
             "#d8576b"
            ],
            [
             0.6666666666666666,
             "#ed7953"
            ],
            [
             0.7777777777777778,
             "#fb9f3a"
            ],
            [
             0.8888888888888888,
             "#fdca26"
            ],
            [
             1,
             "#f0f921"
            ]
           ]
          },
          "colorway": [
           "#636efa",
           "#EF553B",
           "#00cc96",
           "#ab63fa",
           "#FFA15A",
           "#19d3f3",
           "#FF6692",
           "#B6E880",
           "#FF97FF",
           "#FECB52"
          ],
          "font": {
           "color": "#2a3f5f"
          },
          "geo": {
           "bgcolor": "white",
           "lakecolor": "white",
           "landcolor": "#E5ECF6",
           "showlakes": true,
           "showland": true,
           "subunitcolor": "white"
          },
          "hoverlabel": {
           "align": "left"
          },
          "hovermode": "closest",
          "mapbox": {
           "style": "light"
          },
          "paper_bgcolor": "white",
          "plot_bgcolor": "#E5ECF6",
          "polar": {
           "angularaxis": {
            "gridcolor": "white",
            "linecolor": "white",
            "ticks": ""
           },
           "bgcolor": "#E5ECF6",
           "radialaxis": {
            "gridcolor": "white",
            "linecolor": "white",
            "ticks": ""
           }
          },
          "scene": {
           "xaxis": {
            "backgroundcolor": "#E5ECF6",
            "gridcolor": "white",
            "gridwidth": 2,
            "linecolor": "white",
            "showbackground": true,
            "ticks": "",
            "zerolinecolor": "white"
           },
           "yaxis": {
            "backgroundcolor": "#E5ECF6",
            "gridcolor": "white",
            "gridwidth": 2,
            "linecolor": "white",
            "showbackground": true,
            "ticks": "",
            "zerolinecolor": "white"
           },
           "zaxis": {
            "backgroundcolor": "#E5ECF6",
            "gridcolor": "white",
            "gridwidth": 2,
            "linecolor": "white",
            "showbackground": true,
            "ticks": "",
            "zerolinecolor": "white"
           }
          },
          "shapedefaults": {
           "line": {
            "color": "#2a3f5f"
           }
          },
          "ternary": {
           "aaxis": {
            "gridcolor": "white",
            "linecolor": "white",
            "ticks": ""
           },
           "baxis": {
            "gridcolor": "white",
            "linecolor": "white",
            "ticks": ""
           },
           "bgcolor": "#E5ECF6",
           "caxis": {
            "gridcolor": "white",
            "linecolor": "white",
            "ticks": ""
           }
          },
          "title": {
           "x": 0.05
          },
          "xaxis": {
           "automargin": true,
           "gridcolor": "white",
           "linecolor": "white",
           "ticks": "",
           "title": {
            "standoff": 15
           },
           "zerolinecolor": "white",
           "zerolinewidth": 2
          },
          "yaxis": {
           "automargin": true,
           "gridcolor": "white",
           "linecolor": "white",
           "ticks": "",
           "title": {
            "standoff": 15
           },
           "zerolinecolor": "white",
           "zerolinewidth": 2
          }
         }
        },
        "title": {
         "text": "Health Benefits Distribution by Gender"
        }
       }
      }
     },
     "metadata": {},
     "output_type": "display_data"
    }
   ],
   "source": [
    "fig = go.Figure()\n",
    "\n",
    "fig.add_trace(\n",
    "    go.Bar(\n",
    "        x=health_benefits_df[\"Health_benefits\"],\n",
    "        y=health_benefits_df[\"Male%\"],\n",
    "        name=\"Male\",\n",
    "        text=health_benefits_df[\"Male%\"],\n",
    "        marker_color=\"indianred\",\n",
    "    )\n",
    ")\n",
    "\n",
    "fig.add_trace(\n",
    "    go.Bar(\n",
    "        x=health_benefits_df[\"Health_benefits\"],\n",
    "        y=health_benefits_df[\"Female%\"],\n",
    "        name=\"Female\",\n",
    "        text=health_benefits_df[\"Female%\"],\n",
    "        marker_color=\"lightsalmon\",\n",
    "    )\n",
    ")\n",
    "\n",
    "fig.update_layout(title=\"Health Benefits Distribution by Gender\")"
   ]
  },
  {
   "cell_type": "markdown",
   "metadata": {},
   "source": [
    "The chart shows a gender-wise breakdown of workplace health benefits for mental health:\n",
    "Key Observations:\n",
    "\n",
    "1. \"Yes\" Responses:\n",
    "   - 67.01% of females reported that their workplace provides mental health benefits, compared to 56.34% of males.\n",
    "   - This suggests females are more likely to recognize or acknowledge the availability of mental health benefits at their workplace.\n",
    "2. \"No\" Responses:\n",
    "   - A slightly higher percentage of males (12.68%) than females (8.29%) indicated that their workplace does not offer mental health benefits.\n",
    "   - This could reflect differences in workplace environments or perceptions.\n",
    "3. \"I Don't Know\" Responses:\n",
    "   - 30.98% of males were unsure about the availability of mental health benefits, compared to 24.70% of females.\n",
    "   - Males appear less aware or less informed about mental health resources in their workplace.\n",
    "\n",
    "Insights:\\\n",
    "Females are more likely to report the availability of mental health benefits, potentially indicating greater awareness or communication about these resources. The higher level of uncertainty among males suggests a need for better information dissemination to ensure employees are aware of and can access available mental health support. This emphasizes the importance of targeted communication strategies to address gaps in awareness, particularly for male employees.\n"
   ]
  },
  {
   "cell_type": "code",
   "execution_count": 46,
   "metadata": {},
   "outputs": [],
   "source": [
    "benefits_continent_df = duckdb.sql(\n",
    "    \"\"\"\n",
    "    WITH \n",
    "        /* North America part */\n",
    "        na_main_df AS (\n",
    "            SELECT \n",
    "                Health_benefits,\n",
    "                COUNT(Continent) AS 'North_America',\n",
    "                (SELECT COUNT(Continent) FROM workplaces_df WHERE Continent = 'North America') AS 'Total'\n",
    "\n",
    "            FROM workplaces_df\n",
    "\n",
    "            WHERE Continent = 'North America'\n",
    "\n",
    "            GROUP BY Health_benefits\n",
    "        ), \n",
    "\n",
    "        na_final_df AS (\n",
    "            SELECT\n",
    "                Health_benefits, \n",
    "                ROUND(North_America / Total * 100, 2) AS 'North_America_proc' \n",
    "\n",
    "            FROM na_main_df \n",
    "        ),\n",
    "        /* Europe part */\n",
    "\n",
    "        eu_main_df AS (\n",
    "            SELECT \n",
    "                Health_benefits,\n",
    "                COUNT(Continent) AS 'Europe',\n",
    "                (SELECT COUNT(Continent) FROM workplaces_df WHERE Continent = 'Europe') AS 'Total'\n",
    "\n",
    "            FROM workplaces_df\n",
    "\n",
    "            WHERE Continent = 'Europe'\n",
    "\n",
    "            GROUP BY Health_benefits \n",
    "        ), \n",
    "        eu_final_df AS (\n",
    "            SELECT \n",
    "                Health_benefits,\n",
    "                ROUND(Europe / Total * 100, 2) AS 'Europe_proc' \n",
    "\n",
    "            FROM eu_main_df\n",
    "        ),\n",
    "        /* Final df */\n",
    "        final_df AS (\n",
    "            SELECT \n",
    "                na.Health_benefits,\n",
    "                na.North_America_proc,\n",
    "                eu.Europe_proc,\n",
    "                CASE \n",
    "                    WHEN na.Health_benefits = 'Yes' THEN 1 \n",
    "                    WHEN na.Health_benefits = 'No' THEN 2 \n",
    "                    ELSE 3 \n",
    "                    END AS 'order_col' \n",
    "\n",
    "            FROM na_final_df AS na \n",
    "                LEFT JOIN eu_final_df AS eu \n",
    "                ON na.Health_benefits = eu.Health_benefits\n",
    "        )\n",
    "\n",
    "\n",
    "    SELECT * FROM final_df \n",
    "    ORDER BY order_col ASC\n",
    "\"\"\"\n",
    ").to_df()"
   ]
  },
  {
   "cell_type": "code",
   "execution_count": 47,
   "metadata": {},
   "outputs": [
    {
     "data": {
      "application/vnd.plotly.v1+json": {
       "config": {
        "plotlyServerURL": "https://plot.ly"
       },
       "data": [
        {
         "marker": {
          "color": "indianred"
         },
         "name": "North America",
         "text": [
          66.06,
          6.8,
          27.14
         ],
         "type": "bar",
         "x": [
          "Yes",
          "No",
          "I don't know"
         ],
         "y": [
          66.06,
          6.8,
          27.14
         ]
        },
        {
         "marker": {
          "color": "lightsalmon"
         },
         "name": "Europe",
         "text": [
          32.91,
          29.87,
          37.22
         ],
         "type": "bar",
         "x": [
          "Yes",
          "No",
          "I don't know"
         ],
         "y": [
          32.91,
          29.87,
          37.22
         ]
        }
       ],
       "layout": {
        "template": {
         "data": {
          "bar": [
           {
            "error_x": {
             "color": "#2a3f5f"
            },
            "error_y": {
             "color": "#2a3f5f"
            },
            "marker": {
             "line": {
              "color": "#E5ECF6",
              "width": 0.5
             },
             "pattern": {
              "fillmode": "overlay",
              "size": 10,
              "solidity": 0.2
             }
            },
            "type": "bar"
           }
          ],
          "barpolar": [
           {
            "marker": {
             "line": {
              "color": "#E5ECF6",
              "width": 0.5
             },
             "pattern": {
              "fillmode": "overlay",
              "size": 10,
              "solidity": 0.2
             }
            },
            "type": "barpolar"
           }
          ],
          "carpet": [
           {
            "aaxis": {
             "endlinecolor": "#2a3f5f",
             "gridcolor": "white",
             "linecolor": "white",
             "minorgridcolor": "white",
             "startlinecolor": "#2a3f5f"
            },
            "baxis": {
             "endlinecolor": "#2a3f5f",
             "gridcolor": "white",
             "linecolor": "white",
             "minorgridcolor": "white",
             "startlinecolor": "#2a3f5f"
            },
            "type": "carpet"
           }
          ],
          "choropleth": [
           {
            "colorbar": {
             "outlinewidth": 0,
             "ticks": ""
            },
            "type": "choropleth"
           }
          ],
          "contour": [
           {
            "colorbar": {
             "outlinewidth": 0,
             "ticks": ""
            },
            "colorscale": [
             [
              0,
              "#0d0887"
             ],
             [
              0.1111111111111111,
              "#46039f"
             ],
             [
              0.2222222222222222,
              "#7201a8"
             ],
             [
              0.3333333333333333,
              "#9c179e"
             ],
             [
              0.4444444444444444,
              "#bd3786"
             ],
             [
              0.5555555555555556,
              "#d8576b"
             ],
             [
              0.6666666666666666,
              "#ed7953"
             ],
             [
              0.7777777777777778,
              "#fb9f3a"
             ],
             [
              0.8888888888888888,
              "#fdca26"
             ],
             [
              1,
              "#f0f921"
             ]
            ],
            "type": "contour"
           }
          ],
          "contourcarpet": [
           {
            "colorbar": {
             "outlinewidth": 0,
             "ticks": ""
            },
            "type": "contourcarpet"
           }
          ],
          "heatmap": [
           {
            "colorbar": {
             "outlinewidth": 0,
             "ticks": ""
            },
            "colorscale": [
             [
              0,
              "#0d0887"
             ],
             [
              0.1111111111111111,
              "#46039f"
             ],
             [
              0.2222222222222222,
              "#7201a8"
             ],
             [
              0.3333333333333333,
              "#9c179e"
             ],
             [
              0.4444444444444444,
              "#bd3786"
             ],
             [
              0.5555555555555556,
              "#d8576b"
             ],
             [
              0.6666666666666666,
              "#ed7953"
             ],
             [
              0.7777777777777778,
              "#fb9f3a"
             ],
             [
              0.8888888888888888,
              "#fdca26"
             ],
             [
              1,
              "#f0f921"
             ]
            ],
            "type": "heatmap"
           }
          ],
          "heatmapgl": [
           {
            "colorbar": {
             "outlinewidth": 0,
             "ticks": ""
            },
            "colorscale": [
             [
              0,
              "#0d0887"
             ],
             [
              0.1111111111111111,
              "#46039f"
             ],
             [
              0.2222222222222222,
              "#7201a8"
             ],
             [
              0.3333333333333333,
              "#9c179e"
             ],
             [
              0.4444444444444444,
              "#bd3786"
             ],
             [
              0.5555555555555556,
              "#d8576b"
             ],
             [
              0.6666666666666666,
              "#ed7953"
             ],
             [
              0.7777777777777778,
              "#fb9f3a"
             ],
             [
              0.8888888888888888,
              "#fdca26"
             ],
             [
              1,
              "#f0f921"
             ]
            ],
            "type": "heatmapgl"
           }
          ],
          "histogram": [
           {
            "marker": {
             "pattern": {
              "fillmode": "overlay",
              "size": 10,
              "solidity": 0.2
             }
            },
            "type": "histogram"
           }
          ],
          "histogram2d": [
           {
            "colorbar": {
             "outlinewidth": 0,
             "ticks": ""
            },
            "colorscale": [
             [
              0,
              "#0d0887"
             ],
             [
              0.1111111111111111,
              "#46039f"
             ],
             [
              0.2222222222222222,
              "#7201a8"
             ],
             [
              0.3333333333333333,
              "#9c179e"
             ],
             [
              0.4444444444444444,
              "#bd3786"
             ],
             [
              0.5555555555555556,
              "#d8576b"
             ],
             [
              0.6666666666666666,
              "#ed7953"
             ],
             [
              0.7777777777777778,
              "#fb9f3a"
             ],
             [
              0.8888888888888888,
              "#fdca26"
             ],
             [
              1,
              "#f0f921"
             ]
            ],
            "type": "histogram2d"
           }
          ],
          "histogram2dcontour": [
           {
            "colorbar": {
             "outlinewidth": 0,
             "ticks": ""
            },
            "colorscale": [
             [
              0,
              "#0d0887"
             ],
             [
              0.1111111111111111,
              "#46039f"
             ],
             [
              0.2222222222222222,
              "#7201a8"
             ],
             [
              0.3333333333333333,
              "#9c179e"
             ],
             [
              0.4444444444444444,
              "#bd3786"
             ],
             [
              0.5555555555555556,
              "#d8576b"
             ],
             [
              0.6666666666666666,
              "#ed7953"
             ],
             [
              0.7777777777777778,
              "#fb9f3a"
             ],
             [
              0.8888888888888888,
              "#fdca26"
             ],
             [
              1,
              "#f0f921"
             ]
            ],
            "type": "histogram2dcontour"
           }
          ],
          "mesh3d": [
           {
            "colorbar": {
             "outlinewidth": 0,
             "ticks": ""
            },
            "type": "mesh3d"
           }
          ],
          "parcoords": [
           {
            "line": {
             "colorbar": {
              "outlinewidth": 0,
              "ticks": ""
             }
            },
            "type": "parcoords"
           }
          ],
          "pie": [
           {
            "automargin": true,
            "type": "pie"
           }
          ],
          "scatter": [
           {
            "fillpattern": {
             "fillmode": "overlay",
             "size": 10,
             "solidity": 0.2
            },
            "type": "scatter"
           }
          ],
          "scatter3d": [
           {
            "line": {
             "colorbar": {
              "outlinewidth": 0,
              "ticks": ""
             }
            },
            "marker": {
             "colorbar": {
              "outlinewidth": 0,
              "ticks": ""
             }
            },
            "type": "scatter3d"
           }
          ],
          "scattercarpet": [
           {
            "marker": {
             "colorbar": {
              "outlinewidth": 0,
              "ticks": ""
             }
            },
            "type": "scattercarpet"
           }
          ],
          "scattergeo": [
           {
            "marker": {
             "colorbar": {
              "outlinewidth": 0,
              "ticks": ""
             }
            },
            "type": "scattergeo"
           }
          ],
          "scattergl": [
           {
            "marker": {
             "colorbar": {
              "outlinewidth": 0,
              "ticks": ""
             }
            },
            "type": "scattergl"
           }
          ],
          "scattermapbox": [
           {
            "marker": {
             "colorbar": {
              "outlinewidth": 0,
              "ticks": ""
             }
            },
            "type": "scattermapbox"
           }
          ],
          "scatterpolar": [
           {
            "marker": {
             "colorbar": {
              "outlinewidth": 0,
              "ticks": ""
             }
            },
            "type": "scatterpolar"
           }
          ],
          "scatterpolargl": [
           {
            "marker": {
             "colorbar": {
              "outlinewidth": 0,
              "ticks": ""
             }
            },
            "type": "scatterpolargl"
           }
          ],
          "scatterternary": [
           {
            "marker": {
             "colorbar": {
              "outlinewidth": 0,
              "ticks": ""
             }
            },
            "type": "scatterternary"
           }
          ],
          "surface": [
           {
            "colorbar": {
             "outlinewidth": 0,
             "ticks": ""
            },
            "colorscale": [
             [
              0,
              "#0d0887"
             ],
             [
              0.1111111111111111,
              "#46039f"
             ],
             [
              0.2222222222222222,
              "#7201a8"
             ],
             [
              0.3333333333333333,
              "#9c179e"
             ],
             [
              0.4444444444444444,
              "#bd3786"
             ],
             [
              0.5555555555555556,
              "#d8576b"
             ],
             [
              0.6666666666666666,
              "#ed7953"
             ],
             [
              0.7777777777777778,
              "#fb9f3a"
             ],
             [
              0.8888888888888888,
              "#fdca26"
             ],
             [
              1,
              "#f0f921"
             ]
            ],
            "type": "surface"
           }
          ],
          "table": [
           {
            "cells": {
             "fill": {
              "color": "#EBF0F8"
             },
             "line": {
              "color": "white"
             }
            },
            "header": {
             "fill": {
              "color": "#C8D4E3"
             },
             "line": {
              "color": "white"
             }
            },
            "type": "table"
           }
          ]
         },
         "layout": {
          "annotationdefaults": {
           "arrowcolor": "#2a3f5f",
           "arrowhead": 0,
           "arrowwidth": 1
          },
          "autotypenumbers": "strict",
          "coloraxis": {
           "colorbar": {
            "outlinewidth": 0,
            "ticks": ""
           }
          },
          "colorscale": {
           "diverging": [
            [
             0,
             "#8e0152"
            ],
            [
             0.1,
             "#c51b7d"
            ],
            [
             0.2,
             "#de77ae"
            ],
            [
             0.3,
             "#f1b6da"
            ],
            [
             0.4,
             "#fde0ef"
            ],
            [
             0.5,
             "#f7f7f7"
            ],
            [
             0.6,
             "#e6f5d0"
            ],
            [
             0.7,
             "#b8e186"
            ],
            [
             0.8,
             "#7fbc41"
            ],
            [
             0.9,
             "#4d9221"
            ],
            [
             1,
             "#276419"
            ]
           ],
           "sequential": [
            [
             0,
             "#0d0887"
            ],
            [
             0.1111111111111111,
             "#46039f"
            ],
            [
             0.2222222222222222,
             "#7201a8"
            ],
            [
             0.3333333333333333,
             "#9c179e"
            ],
            [
             0.4444444444444444,
             "#bd3786"
            ],
            [
             0.5555555555555556,
             "#d8576b"
            ],
            [
             0.6666666666666666,
             "#ed7953"
            ],
            [
             0.7777777777777778,
             "#fb9f3a"
            ],
            [
             0.8888888888888888,
             "#fdca26"
            ],
            [
             1,
             "#f0f921"
            ]
           ],
           "sequentialminus": [
            [
             0,
             "#0d0887"
            ],
            [
             0.1111111111111111,
             "#46039f"
            ],
            [
             0.2222222222222222,
             "#7201a8"
            ],
            [
             0.3333333333333333,
             "#9c179e"
            ],
            [
             0.4444444444444444,
             "#bd3786"
            ],
            [
             0.5555555555555556,
             "#d8576b"
            ],
            [
             0.6666666666666666,
             "#ed7953"
            ],
            [
             0.7777777777777778,
             "#fb9f3a"
            ],
            [
             0.8888888888888888,
             "#fdca26"
            ],
            [
             1,
             "#f0f921"
            ]
           ]
          },
          "colorway": [
           "#636efa",
           "#EF553B",
           "#00cc96",
           "#ab63fa",
           "#FFA15A",
           "#19d3f3",
           "#FF6692",
           "#B6E880",
           "#FF97FF",
           "#FECB52"
          ],
          "font": {
           "color": "#2a3f5f"
          },
          "geo": {
           "bgcolor": "white",
           "lakecolor": "white",
           "landcolor": "#E5ECF6",
           "showlakes": true,
           "showland": true,
           "subunitcolor": "white"
          },
          "hoverlabel": {
           "align": "left"
          },
          "hovermode": "closest",
          "mapbox": {
           "style": "light"
          },
          "paper_bgcolor": "white",
          "plot_bgcolor": "#E5ECF6",
          "polar": {
           "angularaxis": {
            "gridcolor": "white",
            "linecolor": "white",
            "ticks": ""
           },
           "bgcolor": "#E5ECF6",
           "radialaxis": {
            "gridcolor": "white",
            "linecolor": "white",
            "ticks": ""
           }
          },
          "scene": {
           "xaxis": {
            "backgroundcolor": "#E5ECF6",
            "gridcolor": "white",
            "gridwidth": 2,
            "linecolor": "white",
            "showbackground": true,
            "ticks": "",
            "zerolinecolor": "white"
           },
           "yaxis": {
            "backgroundcolor": "#E5ECF6",
            "gridcolor": "white",
            "gridwidth": 2,
            "linecolor": "white",
            "showbackground": true,
            "ticks": "",
            "zerolinecolor": "white"
           },
           "zaxis": {
            "backgroundcolor": "#E5ECF6",
            "gridcolor": "white",
            "gridwidth": 2,
            "linecolor": "white",
            "showbackground": true,
            "ticks": "",
            "zerolinecolor": "white"
           }
          },
          "shapedefaults": {
           "line": {
            "color": "#2a3f5f"
           }
          },
          "ternary": {
           "aaxis": {
            "gridcolor": "white",
            "linecolor": "white",
            "ticks": ""
           },
           "baxis": {
            "gridcolor": "white",
            "linecolor": "white",
            "ticks": ""
           },
           "bgcolor": "#E5ECF6",
           "caxis": {
            "gridcolor": "white",
            "linecolor": "white",
            "ticks": ""
           }
          },
          "title": {
           "x": 0.05
          },
          "xaxis": {
           "automargin": true,
           "gridcolor": "white",
           "linecolor": "white",
           "ticks": "",
           "title": {
            "standoff": 15
           },
           "zerolinecolor": "white",
           "zerolinewidth": 2
          },
          "yaxis": {
           "automargin": true,
           "gridcolor": "white",
           "linecolor": "white",
           "ticks": "",
           "title": {
            "standoff": 15
           },
           "zerolinecolor": "white",
           "zerolinewidth": 2
          }
         }
        },
        "title": {
         "text": "Benefit Distribution by Continent"
        }
       }
      }
     },
     "metadata": {},
     "output_type": "display_data"
    }
   ],
   "source": [
    "fig = go.Figure()\n",
    "\n",
    "fig.add_trace(\n",
    "    go.Bar(\n",
    "        x=benefits_continent_df[\"Health_benefits\"],\n",
    "        y=benefits_continent_df[\"North_America_proc\"],\n",
    "        name=\"North America\",\n",
    "        text=benefits_continent_df[\"North_America_proc\"],\n",
    "        marker_color=\"indianred\",\n",
    "    )\n",
    ")\n",
    "\n",
    "fig.add_trace(\n",
    "    go.Bar(\n",
    "        x=benefits_continent_df[\"Health_benefits\"],\n",
    "        y=benefits_continent_df[\"Europe_proc\"],\n",
    "        name=\"Europe\",\n",
    "        text=benefits_continent_df[\"Europe_proc\"],\n",
    "        marker_color=\"lightsalmon\",\n",
    "    )\n",
    ")\n",
    "\n",
    "fig.update_layout(title=\"Benefit Distribution by Continent\")"
   ]
  },
  {
   "cell_type": "markdown",
   "metadata": {},
   "source": [
    "The chart provides a regional comparison of awareness of workplace health benefits for mental health between North America and Europe:\\\n",
    "Key Observations:\n",
    "\n",
    "1. \"Yes\" Responses:\n",
    "   - 66.06% of respondents in North America reported that their workplace provides mental health benefits, compared to 32.91% in Europe.\n",
    "   - This significant difference suggests that North American workplaces are more likely to offer or communicate about mental health benefits.\n",
    "2. \"No\" Responses:\n",
    "   - Only 6.80% of North American respondents indicated their workplace does not provide mental health benefits, compared to 29.87% in Europe.\n",
    "   - This highlights a disparity in workplace mental health support, with European workplaces lagging behind.\n",
    "3. \"I Don't Know\" Responses:\n",
    "   - 27.14% of North Americans were unsure about the availability of mental health benefits, compared to 37.22% of Europeans.\n",
    "   - A higher level of uncertainty in Europe suggests less communication or awareness about mental health resources in workplaces.\n",
    "\n",
    "Insights:\\\n",
    "North American workplaces appear more proactive in offering and communicating about mental health benefits compared to European workplaces. The higher uncertainty and lower affirmative responses in Europe underscore the need for improved mental health support systems and communication in the region. This disparity highlights an opportunity for European organizations to prioritize mental health initiatives to align with global best practices.\n"
   ]
  },
  {
   "cell_type": "markdown",
   "metadata": {},
   "source": [
    "### **Do you know the options for mental health care available under your employer-provided health coverage?**\n"
   ]
  },
  {
   "cell_type": "code",
   "execution_count": 48,
   "metadata": {},
   "outputs": [],
   "source": [
    "overview_mental_helth_service = duckdb.sql(\n",
    "    \"\"\"\n",
    "    WITH \n",
    "        main_df AS (\n",
    "            SELECT\n",
    "                Mental_health_services,\n",
    "                COUNT(Mental_health_services) AS 'count'\n",
    "            FROM workplaces_df\n",
    "\n",
    "            GROUP BY Mental_health_services\n",
    "        ), \n",
    "\n",
    "        final_df AS (\n",
    "            SELECT *\n",
    "            , CASE \n",
    "                WHEN Mental_health_services = 'Yes' THEN 1 \n",
    "                WHEN Mental_health_services = 'No' THEN 2 \n",
    "                ELSE 3 \n",
    "                END AS 'order_col' \n",
    "            \n",
    "            FROM main_df\n",
    "        )\n",
    "    SELECT * FROM final_df \n",
    "    ORDER BY order_col ASC\n",
    "\"\"\"\n",
    ").to_df()"
   ]
  },
  {
   "cell_type": "code",
   "execution_count": 49,
   "metadata": {},
   "outputs": [
    {
     "data": {
      "application/vnd.plotly.v1+json": {
       "config": {
        "plotlyServerURL": "https://plot.ly"
       },
       "data": [
        {
         "alignmentgroup": "True",
         "hovertemplate": "Mental_health_services=%{x}<br>count=%{y}<extra></extra>",
         "legendgroup": "",
         "marker": {
          "color": "#e6cea0",
          "pattern": {
           "shape": ""
          }
         },
         "name": "",
         "offsetgroup": "",
         "orientation": "v",
         "showlegend": false,
         "textposition": "auto",
         "texttemplate": "%{y}",
         "type": "bar",
         "x": [
          "Yes",
          "No",
          "I am not sure"
         ],
         "xaxis": "x",
         "y": [
          809,
          852,
          322
         ],
         "yaxis": "y"
        }
       ],
       "layout": {
        "barmode": "relative",
        "height": 300,
        "legend": {
         "tracegroupgap": 0
        },
        "template": {
         "data": {
          "bar": [
           {
            "error_x": {
             "color": "#2a3f5f"
            },
            "error_y": {
             "color": "#2a3f5f"
            },
            "marker": {
             "line": {
              "color": "white",
              "width": 0.5
             },
             "pattern": {
              "fillmode": "overlay",
              "size": 10,
              "solidity": 0.2
             }
            },
            "type": "bar"
           }
          ],
          "barpolar": [
           {
            "marker": {
             "line": {
              "color": "white",
              "width": 0.5
             },
             "pattern": {
              "fillmode": "overlay",
              "size": 10,
              "solidity": 0.2
             }
            },
            "type": "barpolar"
           }
          ],
          "carpet": [
           {
            "aaxis": {
             "endlinecolor": "#2a3f5f",
             "gridcolor": "#C8D4E3",
             "linecolor": "#C8D4E3",
             "minorgridcolor": "#C8D4E3",
             "startlinecolor": "#2a3f5f"
            },
            "baxis": {
             "endlinecolor": "#2a3f5f",
             "gridcolor": "#C8D4E3",
             "linecolor": "#C8D4E3",
             "minorgridcolor": "#C8D4E3",
             "startlinecolor": "#2a3f5f"
            },
            "type": "carpet"
           }
          ],
          "choropleth": [
           {
            "colorbar": {
             "outlinewidth": 0,
             "ticks": ""
            },
            "type": "choropleth"
           }
          ],
          "contour": [
           {
            "colorbar": {
             "outlinewidth": 0,
             "ticks": ""
            },
            "colorscale": [
             [
              0,
              "#0d0887"
             ],
             [
              0.1111111111111111,
              "#46039f"
             ],
             [
              0.2222222222222222,
              "#7201a8"
             ],
             [
              0.3333333333333333,
              "#9c179e"
             ],
             [
              0.4444444444444444,
              "#bd3786"
             ],
             [
              0.5555555555555556,
              "#d8576b"
             ],
             [
              0.6666666666666666,
              "#ed7953"
             ],
             [
              0.7777777777777778,
              "#fb9f3a"
             ],
             [
              0.8888888888888888,
              "#fdca26"
             ],
             [
              1,
              "#f0f921"
             ]
            ],
            "type": "contour"
           }
          ],
          "contourcarpet": [
           {
            "colorbar": {
             "outlinewidth": 0,
             "ticks": ""
            },
            "type": "contourcarpet"
           }
          ],
          "heatmap": [
           {
            "colorbar": {
             "outlinewidth": 0,
             "ticks": ""
            },
            "colorscale": [
             [
              0,
              "#0d0887"
             ],
             [
              0.1111111111111111,
              "#46039f"
             ],
             [
              0.2222222222222222,
              "#7201a8"
             ],
             [
              0.3333333333333333,
              "#9c179e"
             ],
             [
              0.4444444444444444,
              "#bd3786"
             ],
             [
              0.5555555555555556,
              "#d8576b"
             ],
             [
              0.6666666666666666,
              "#ed7953"
             ],
             [
              0.7777777777777778,
              "#fb9f3a"
             ],
             [
              0.8888888888888888,
              "#fdca26"
             ],
             [
              1,
              "#f0f921"
             ]
            ],
            "type": "heatmap"
           }
          ],
          "heatmapgl": [
           {
            "colorbar": {
             "outlinewidth": 0,
             "ticks": ""
            },
            "colorscale": [
             [
              0,
              "#0d0887"
             ],
             [
              0.1111111111111111,
              "#46039f"
             ],
             [
              0.2222222222222222,
              "#7201a8"
             ],
             [
              0.3333333333333333,
              "#9c179e"
             ],
             [
              0.4444444444444444,
              "#bd3786"
             ],
             [
              0.5555555555555556,
              "#d8576b"
             ],
             [
              0.6666666666666666,
              "#ed7953"
             ],
             [
              0.7777777777777778,
              "#fb9f3a"
             ],
             [
              0.8888888888888888,
              "#fdca26"
             ],
             [
              1,
              "#f0f921"
             ]
            ],
            "type": "heatmapgl"
           }
          ],
          "histogram": [
           {
            "marker": {
             "pattern": {
              "fillmode": "overlay",
              "size": 10,
              "solidity": 0.2
             }
            },
            "type": "histogram"
           }
          ],
          "histogram2d": [
           {
            "colorbar": {
             "outlinewidth": 0,
             "ticks": ""
            },
            "colorscale": [
             [
              0,
              "#0d0887"
             ],
             [
              0.1111111111111111,
              "#46039f"
             ],
             [
              0.2222222222222222,
              "#7201a8"
             ],
             [
              0.3333333333333333,
              "#9c179e"
             ],
             [
              0.4444444444444444,
              "#bd3786"
             ],
             [
              0.5555555555555556,
              "#d8576b"
             ],
             [
              0.6666666666666666,
              "#ed7953"
             ],
             [
              0.7777777777777778,
              "#fb9f3a"
             ],
             [
              0.8888888888888888,
              "#fdca26"
             ],
             [
              1,
              "#f0f921"
             ]
            ],
            "type": "histogram2d"
           }
          ],
          "histogram2dcontour": [
           {
            "colorbar": {
             "outlinewidth": 0,
             "ticks": ""
            },
            "colorscale": [
             [
              0,
              "#0d0887"
             ],
             [
              0.1111111111111111,
              "#46039f"
             ],
             [
              0.2222222222222222,
              "#7201a8"
             ],
             [
              0.3333333333333333,
              "#9c179e"
             ],
             [
              0.4444444444444444,
              "#bd3786"
             ],
             [
              0.5555555555555556,
              "#d8576b"
             ],
             [
              0.6666666666666666,
              "#ed7953"
             ],
             [
              0.7777777777777778,
              "#fb9f3a"
             ],
             [
              0.8888888888888888,
              "#fdca26"
             ],
             [
              1,
              "#f0f921"
             ]
            ],
            "type": "histogram2dcontour"
           }
          ],
          "mesh3d": [
           {
            "colorbar": {
             "outlinewidth": 0,
             "ticks": ""
            },
            "type": "mesh3d"
           }
          ],
          "parcoords": [
           {
            "line": {
             "colorbar": {
              "outlinewidth": 0,
              "ticks": ""
             }
            },
            "type": "parcoords"
           }
          ],
          "pie": [
           {
            "automargin": true,
            "type": "pie"
           }
          ],
          "scatter": [
           {
            "fillpattern": {
             "fillmode": "overlay",
             "size": 10,
             "solidity": 0.2
            },
            "type": "scatter"
           }
          ],
          "scatter3d": [
           {
            "line": {
             "colorbar": {
              "outlinewidth": 0,
              "ticks": ""
             }
            },
            "marker": {
             "colorbar": {
              "outlinewidth": 0,
              "ticks": ""
             }
            },
            "type": "scatter3d"
           }
          ],
          "scattercarpet": [
           {
            "marker": {
             "colorbar": {
              "outlinewidth": 0,
              "ticks": ""
             }
            },
            "type": "scattercarpet"
           }
          ],
          "scattergeo": [
           {
            "marker": {
             "colorbar": {
              "outlinewidth": 0,
              "ticks": ""
             }
            },
            "type": "scattergeo"
           }
          ],
          "scattergl": [
           {
            "marker": {
             "colorbar": {
              "outlinewidth": 0,
              "ticks": ""
             }
            },
            "type": "scattergl"
           }
          ],
          "scattermapbox": [
           {
            "marker": {
             "colorbar": {
              "outlinewidth": 0,
              "ticks": ""
             }
            },
            "type": "scattermapbox"
           }
          ],
          "scatterpolar": [
           {
            "marker": {
             "colorbar": {
              "outlinewidth": 0,
              "ticks": ""
             }
            },
            "type": "scatterpolar"
           }
          ],
          "scatterpolargl": [
           {
            "marker": {
             "colorbar": {
              "outlinewidth": 0,
              "ticks": ""
             }
            },
            "type": "scatterpolargl"
           }
          ],
          "scatterternary": [
           {
            "marker": {
             "colorbar": {
              "outlinewidth": 0,
              "ticks": ""
             }
            },
            "type": "scatterternary"
           }
          ],
          "surface": [
           {
            "colorbar": {
             "outlinewidth": 0,
             "ticks": ""
            },
            "colorscale": [
             [
              0,
              "#0d0887"
             ],
             [
              0.1111111111111111,
              "#46039f"
             ],
             [
              0.2222222222222222,
              "#7201a8"
             ],
             [
              0.3333333333333333,
              "#9c179e"
             ],
             [
              0.4444444444444444,
              "#bd3786"
             ],
             [
              0.5555555555555556,
              "#d8576b"
             ],
             [
              0.6666666666666666,
              "#ed7953"
             ],
             [
              0.7777777777777778,
              "#fb9f3a"
             ],
             [
              0.8888888888888888,
              "#fdca26"
             ],
             [
              1,
              "#f0f921"
             ]
            ],
            "type": "surface"
           }
          ],
          "table": [
           {
            "cells": {
             "fill": {
              "color": "#EBF0F8"
             },
             "line": {
              "color": "white"
             }
            },
            "header": {
             "fill": {
              "color": "#C8D4E3"
             },
             "line": {
              "color": "white"
             }
            },
            "type": "table"
           }
          ]
         },
         "layout": {
          "annotationdefaults": {
           "arrowcolor": "#2a3f5f",
           "arrowhead": 0,
           "arrowwidth": 1
          },
          "autotypenumbers": "strict",
          "coloraxis": {
           "colorbar": {
            "outlinewidth": 0,
            "ticks": ""
           }
          },
          "colorscale": {
           "diverging": [
            [
             0,
             "#8e0152"
            ],
            [
             0.1,
             "#c51b7d"
            ],
            [
             0.2,
             "#de77ae"
            ],
            [
             0.3,
             "#f1b6da"
            ],
            [
             0.4,
             "#fde0ef"
            ],
            [
             0.5,
             "#f7f7f7"
            ],
            [
             0.6,
             "#e6f5d0"
            ],
            [
             0.7,
             "#b8e186"
            ],
            [
             0.8,
             "#7fbc41"
            ],
            [
             0.9,
             "#4d9221"
            ],
            [
             1,
             "#276419"
            ]
           ],
           "sequential": [
            [
             0,
             "#0d0887"
            ],
            [
             0.1111111111111111,
             "#46039f"
            ],
            [
             0.2222222222222222,
             "#7201a8"
            ],
            [
             0.3333333333333333,
             "#9c179e"
            ],
            [
             0.4444444444444444,
             "#bd3786"
            ],
            [
             0.5555555555555556,
             "#d8576b"
            ],
            [
             0.6666666666666666,
             "#ed7953"
            ],
            [
             0.7777777777777778,
             "#fb9f3a"
            ],
            [
             0.8888888888888888,
             "#fdca26"
            ],
            [
             1,
             "#f0f921"
            ]
           ],
           "sequentialminus": [
            [
             0,
             "#0d0887"
            ],
            [
             0.1111111111111111,
             "#46039f"
            ],
            [
             0.2222222222222222,
             "#7201a8"
            ],
            [
             0.3333333333333333,
             "#9c179e"
            ],
            [
             0.4444444444444444,
             "#bd3786"
            ],
            [
             0.5555555555555556,
             "#d8576b"
            ],
            [
             0.6666666666666666,
             "#ed7953"
            ],
            [
             0.7777777777777778,
             "#fb9f3a"
            ],
            [
             0.8888888888888888,
             "#fdca26"
            ],
            [
             1,
             "#f0f921"
            ]
           ]
          },
          "colorway": [
           "#636efa",
           "#EF553B",
           "#00cc96",
           "#ab63fa",
           "#FFA15A",
           "#19d3f3",
           "#FF6692",
           "#B6E880",
           "#FF97FF",
           "#FECB52"
          ],
          "font": {
           "color": "#2a3f5f"
          },
          "geo": {
           "bgcolor": "white",
           "lakecolor": "white",
           "landcolor": "white",
           "showlakes": true,
           "showland": true,
           "subunitcolor": "#C8D4E3"
          },
          "hoverlabel": {
           "align": "left"
          },
          "hovermode": "closest",
          "mapbox": {
           "style": "light"
          },
          "paper_bgcolor": "white",
          "plot_bgcolor": "white",
          "polar": {
           "angularaxis": {
            "gridcolor": "#EBF0F8",
            "linecolor": "#EBF0F8",
            "ticks": ""
           },
           "bgcolor": "white",
           "radialaxis": {
            "gridcolor": "#EBF0F8",
            "linecolor": "#EBF0F8",
            "ticks": ""
           }
          },
          "scene": {
           "xaxis": {
            "backgroundcolor": "white",
            "gridcolor": "#DFE8F3",
            "gridwidth": 2,
            "linecolor": "#EBF0F8",
            "showbackground": true,
            "ticks": "",
            "zerolinecolor": "#EBF0F8"
           },
           "yaxis": {
            "backgroundcolor": "white",
            "gridcolor": "#DFE8F3",
            "gridwidth": 2,
            "linecolor": "#EBF0F8",
            "showbackground": true,
            "ticks": "",
            "zerolinecolor": "#EBF0F8"
           },
           "zaxis": {
            "backgroundcolor": "white",
            "gridcolor": "#DFE8F3",
            "gridwidth": 2,
            "linecolor": "#EBF0F8",
            "showbackground": true,
            "ticks": "",
            "zerolinecolor": "#EBF0F8"
           }
          },
          "shapedefaults": {
           "line": {
            "color": "#2a3f5f"
           }
          },
          "ternary": {
           "aaxis": {
            "gridcolor": "#DFE8F3",
            "linecolor": "#A2B1C6",
            "ticks": ""
           },
           "baxis": {
            "gridcolor": "#DFE8F3",
            "linecolor": "#A2B1C6",
            "ticks": ""
           },
           "bgcolor": "white",
           "caxis": {
            "gridcolor": "#DFE8F3",
            "linecolor": "#A2B1C6",
            "ticks": ""
           }
          },
          "title": {
           "x": 0.05
          },
          "xaxis": {
           "automargin": true,
           "gridcolor": "#EBF0F8",
           "linecolor": "#EBF0F8",
           "ticks": "",
           "title": {
            "standoff": 15
           },
           "zerolinecolor": "#EBF0F8",
           "zerolinewidth": 2
          },
          "yaxis": {
           "automargin": true,
           "gridcolor": "#EBF0F8",
           "linecolor": "#EBF0F8",
           "ticks": "",
           "title": {
            "standoff": 15
           },
           "zerolinecolor": "#EBF0F8",
           "zerolinewidth": 2
          }
         }
        },
        "title": {
         "text": "Overview of options for mental health care available under your employer-provided health coverage"
        },
        "width": 1200,
        "xaxis": {
         "anchor": "y",
         "domain": [
          0,
          1
         ],
         "title": {
          "text": "Mental_health_services"
         }
        },
        "yaxis": {
         "anchor": "x",
         "domain": [
          0,
          1
         ],
         "title": {
          "text": "count"
         }
        }
       }
      }
     },
     "metadata": {},
     "output_type": "display_data"
    }
   ],
   "source": [
    "bar_chart(\n",
    "    df=overview_mental_helth_service,\n",
    "    xaxis=\"Mental_health_services\",\n",
    "    yaxis=\"count\",\n",
    "    title=\"Overview of options for mental health care available under your employer-provided health coverage\",\n",
    ")"
   ]
  },
  {
   "cell_type": "markdown",
   "metadata": {},
   "source": [
    "The chart summarizes respondents' awareness of the availability of mental health services in their workplaces:\n",
    "\n",
    "Key Observations:\n",
    "\n",
    "1. \"Yes\" Responses:\n",
    "   - 809 respondents indicated that their workplace provides mental health services, showing a significant portion of organizations are offering support.\n",
    "2. \"No\" Responses:\n",
    "   - 852 respondents reported that their workplace does not provide mental health services, slightly exceeding those who confirmed availability.\n",
    "   - This highlights that many workplaces still lack dedicated mental health services.\n",
    "3. \"I Am Not Sure\" Responses:\n",
    "   - 322 respondents were unsure about the availability of mental health services in their workplace.\n",
    "   - This uncertainty points to gaps in communication or visibility of mental health resources.\n",
    "\n",
    "Insights:\\\n",
    "The nearly equal split between \"Yes\" and \"No\" responses shows that while mental health services are becoming more common, many workplaces still do not provide them. Furthermore, the significant number of \"I am not sure\" responses suggests a need for improved communication and awareness to ensure employees know about the resources available to them.\n"
   ]
  },
  {
   "cell_type": "markdown",
   "metadata": {},
   "source": [
    "#### **Mental health services by Gender**\n"
   ]
  },
  {
   "cell_type": "code",
   "execution_count": 50,
   "metadata": {},
   "outputs": [],
   "source": [
    "gender_services_df = duckdb.sql(\n",
    "    \"\"\"\n",
    "    WITH\n",
    "        /* Male part */ \n",
    "        male_main_df AS (\n",
    "            SELECT\n",
    "                Mental_health_services,\n",
    "                COUNT(Gender) AS 'Male',\n",
    "                (SELECT COUNT(Gender) FROM workplaces_df WHERE Gender = 'male') AS 'Total'\n",
    "            \n",
    "            FROM workplaces_df \n",
    "\n",
    "            WHERE \n",
    "                Gender = 'male' \n",
    "            \n",
    "            GROUP BY Mental_health_services\n",
    "        ),\n",
    "        male_final_df AS (\n",
    "            SELECT \n",
    "                Mental_health_services,\n",
    "                ROUND(Male / Total * 100, 2) AS 'Male_proc'\n",
    "\n",
    "            FROM male_main_df\n",
    "        ), \n",
    "\n",
    "        /* Female part */\n",
    "        female_main_df AS (\n",
    "            SELECT\n",
    "                Mental_health_services,\n",
    "                COUNT(Gender) AS 'Female',\n",
    "                (SELECT COUNT(Gender) FROM workplaces_df WHERE Gender = 'female') AS 'Total'\n",
    "            \n",
    "            FROM workplaces_df \n",
    "\n",
    "            WHERE \n",
    "                Gender = 'female' \n",
    "            \n",
    "            GROUP BY Mental_health_services \n",
    "        ), \n",
    "\n",
    "        female_final_df AS (\n",
    "            SELECT \n",
    "                Mental_health_services, \n",
    "                ROUND(Female / Total * 100, 2) AS 'Female_proc' \n",
    "\n",
    "            FROM female_main_df\n",
    "        ),\n",
    "        /* Merge male and female tables */\n",
    "        final_df AS (\n",
    "            SELECT \n",
    "                m.Mental_health_services,\n",
    "                m.Male_proc,\n",
    "                f.Female_proc,\n",
    "                CASE \n",
    "                    WHEN m.Mental_health_services = 'Yes' THEN 1 \n",
    "                    WHEN m.Mental_health_services = 'No' THEN 2 \n",
    "                    ELSE 3 \n",
    "                    END AS 'order_col' \n",
    "\n",
    "            FROM male_final_df AS m \n",
    "                LEFT JOIN female_final_df AS f \n",
    "                ON m.Mental_health_services = f.Mental_health_services\n",
    "        )\n",
    "\n",
    "    SELECT * FROM final_df\n",
    "    ORDER BY order_col ASC\n",
    "\"\"\"\n",
    ").to_df()"
   ]
  },
  {
   "cell_type": "code",
   "execution_count": 51,
   "metadata": {},
   "outputs": [
    {
     "data": {
      "application/vnd.plotly.v1+json": {
       "config": {
        "plotlyServerURL": "https://plot.ly"
       },
       "data": [
        {
         "marker": {
          "color": "indianred"
         },
         "name": "Male",
         "text": [
          36.97,
          46.08,
          16.95
         ],
         "type": "bar",
         "x": [
          "Yes",
          "No",
          "I am not sure"
         ],
         "y": [
          36.97,
          46.08,
          16.95
         ]
        },
        {
         "marker": {
          "color": "lightsalmon"
         },
         "name": "Female",
         "text": [
          50.09,
          35.41,
          14.51
         ],
         "type": "bar",
         "x": [
          "Yes",
          "No",
          "I am not sure"
         ],
         "y": [
          50.09,
          35.41,
          14.51
         ]
        }
       ],
       "layout": {
        "template": {
         "data": {
          "bar": [
           {
            "error_x": {
             "color": "#2a3f5f"
            },
            "error_y": {
             "color": "#2a3f5f"
            },
            "marker": {
             "line": {
              "color": "#E5ECF6",
              "width": 0.5
             },
             "pattern": {
              "fillmode": "overlay",
              "size": 10,
              "solidity": 0.2
             }
            },
            "type": "bar"
           }
          ],
          "barpolar": [
           {
            "marker": {
             "line": {
              "color": "#E5ECF6",
              "width": 0.5
             },
             "pattern": {
              "fillmode": "overlay",
              "size": 10,
              "solidity": 0.2
             }
            },
            "type": "barpolar"
           }
          ],
          "carpet": [
           {
            "aaxis": {
             "endlinecolor": "#2a3f5f",
             "gridcolor": "white",
             "linecolor": "white",
             "minorgridcolor": "white",
             "startlinecolor": "#2a3f5f"
            },
            "baxis": {
             "endlinecolor": "#2a3f5f",
             "gridcolor": "white",
             "linecolor": "white",
             "minorgridcolor": "white",
             "startlinecolor": "#2a3f5f"
            },
            "type": "carpet"
           }
          ],
          "choropleth": [
           {
            "colorbar": {
             "outlinewidth": 0,
             "ticks": ""
            },
            "type": "choropleth"
           }
          ],
          "contour": [
           {
            "colorbar": {
             "outlinewidth": 0,
             "ticks": ""
            },
            "colorscale": [
             [
              0,
              "#0d0887"
             ],
             [
              0.1111111111111111,
              "#46039f"
             ],
             [
              0.2222222222222222,
              "#7201a8"
             ],
             [
              0.3333333333333333,
              "#9c179e"
             ],
             [
              0.4444444444444444,
              "#bd3786"
             ],
             [
              0.5555555555555556,
              "#d8576b"
             ],
             [
              0.6666666666666666,
              "#ed7953"
             ],
             [
              0.7777777777777778,
              "#fb9f3a"
             ],
             [
              0.8888888888888888,
              "#fdca26"
             ],
             [
              1,
              "#f0f921"
             ]
            ],
            "type": "contour"
           }
          ],
          "contourcarpet": [
           {
            "colorbar": {
             "outlinewidth": 0,
             "ticks": ""
            },
            "type": "contourcarpet"
           }
          ],
          "heatmap": [
           {
            "colorbar": {
             "outlinewidth": 0,
             "ticks": ""
            },
            "colorscale": [
             [
              0,
              "#0d0887"
             ],
             [
              0.1111111111111111,
              "#46039f"
             ],
             [
              0.2222222222222222,
              "#7201a8"
             ],
             [
              0.3333333333333333,
              "#9c179e"
             ],
             [
              0.4444444444444444,
              "#bd3786"
             ],
             [
              0.5555555555555556,
              "#d8576b"
             ],
             [
              0.6666666666666666,
              "#ed7953"
             ],
             [
              0.7777777777777778,
              "#fb9f3a"
             ],
             [
              0.8888888888888888,
              "#fdca26"
             ],
             [
              1,
              "#f0f921"
             ]
            ],
            "type": "heatmap"
           }
          ],
          "heatmapgl": [
           {
            "colorbar": {
             "outlinewidth": 0,
             "ticks": ""
            },
            "colorscale": [
             [
              0,
              "#0d0887"
             ],
             [
              0.1111111111111111,
              "#46039f"
             ],
             [
              0.2222222222222222,
              "#7201a8"
             ],
             [
              0.3333333333333333,
              "#9c179e"
             ],
             [
              0.4444444444444444,
              "#bd3786"
             ],
             [
              0.5555555555555556,
              "#d8576b"
             ],
             [
              0.6666666666666666,
              "#ed7953"
             ],
             [
              0.7777777777777778,
              "#fb9f3a"
             ],
             [
              0.8888888888888888,
              "#fdca26"
             ],
             [
              1,
              "#f0f921"
             ]
            ],
            "type": "heatmapgl"
           }
          ],
          "histogram": [
           {
            "marker": {
             "pattern": {
              "fillmode": "overlay",
              "size": 10,
              "solidity": 0.2
             }
            },
            "type": "histogram"
           }
          ],
          "histogram2d": [
           {
            "colorbar": {
             "outlinewidth": 0,
             "ticks": ""
            },
            "colorscale": [
             [
              0,
              "#0d0887"
             ],
             [
              0.1111111111111111,
              "#46039f"
             ],
             [
              0.2222222222222222,
              "#7201a8"
             ],
             [
              0.3333333333333333,
              "#9c179e"
             ],
             [
              0.4444444444444444,
              "#bd3786"
             ],
             [
              0.5555555555555556,
              "#d8576b"
             ],
             [
              0.6666666666666666,
              "#ed7953"
             ],
             [
              0.7777777777777778,
              "#fb9f3a"
             ],
             [
              0.8888888888888888,
              "#fdca26"
             ],
             [
              1,
              "#f0f921"
             ]
            ],
            "type": "histogram2d"
           }
          ],
          "histogram2dcontour": [
           {
            "colorbar": {
             "outlinewidth": 0,
             "ticks": ""
            },
            "colorscale": [
             [
              0,
              "#0d0887"
             ],
             [
              0.1111111111111111,
              "#46039f"
             ],
             [
              0.2222222222222222,
              "#7201a8"
             ],
             [
              0.3333333333333333,
              "#9c179e"
             ],
             [
              0.4444444444444444,
              "#bd3786"
             ],
             [
              0.5555555555555556,
              "#d8576b"
             ],
             [
              0.6666666666666666,
              "#ed7953"
             ],
             [
              0.7777777777777778,
              "#fb9f3a"
             ],
             [
              0.8888888888888888,
              "#fdca26"
             ],
             [
              1,
              "#f0f921"
             ]
            ],
            "type": "histogram2dcontour"
           }
          ],
          "mesh3d": [
           {
            "colorbar": {
             "outlinewidth": 0,
             "ticks": ""
            },
            "type": "mesh3d"
           }
          ],
          "parcoords": [
           {
            "line": {
             "colorbar": {
              "outlinewidth": 0,
              "ticks": ""
             }
            },
            "type": "parcoords"
           }
          ],
          "pie": [
           {
            "automargin": true,
            "type": "pie"
           }
          ],
          "scatter": [
           {
            "fillpattern": {
             "fillmode": "overlay",
             "size": 10,
             "solidity": 0.2
            },
            "type": "scatter"
           }
          ],
          "scatter3d": [
           {
            "line": {
             "colorbar": {
              "outlinewidth": 0,
              "ticks": ""
             }
            },
            "marker": {
             "colorbar": {
              "outlinewidth": 0,
              "ticks": ""
             }
            },
            "type": "scatter3d"
           }
          ],
          "scattercarpet": [
           {
            "marker": {
             "colorbar": {
              "outlinewidth": 0,
              "ticks": ""
             }
            },
            "type": "scattercarpet"
           }
          ],
          "scattergeo": [
           {
            "marker": {
             "colorbar": {
              "outlinewidth": 0,
              "ticks": ""
             }
            },
            "type": "scattergeo"
           }
          ],
          "scattergl": [
           {
            "marker": {
             "colorbar": {
              "outlinewidth": 0,
              "ticks": ""
             }
            },
            "type": "scattergl"
           }
          ],
          "scattermapbox": [
           {
            "marker": {
             "colorbar": {
              "outlinewidth": 0,
              "ticks": ""
             }
            },
            "type": "scattermapbox"
           }
          ],
          "scatterpolar": [
           {
            "marker": {
             "colorbar": {
              "outlinewidth": 0,
              "ticks": ""
             }
            },
            "type": "scatterpolar"
           }
          ],
          "scatterpolargl": [
           {
            "marker": {
             "colorbar": {
              "outlinewidth": 0,
              "ticks": ""
             }
            },
            "type": "scatterpolargl"
           }
          ],
          "scatterternary": [
           {
            "marker": {
             "colorbar": {
              "outlinewidth": 0,
              "ticks": ""
             }
            },
            "type": "scatterternary"
           }
          ],
          "surface": [
           {
            "colorbar": {
             "outlinewidth": 0,
             "ticks": ""
            },
            "colorscale": [
             [
              0,
              "#0d0887"
             ],
             [
              0.1111111111111111,
              "#46039f"
             ],
             [
              0.2222222222222222,
              "#7201a8"
             ],
             [
              0.3333333333333333,
              "#9c179e"
             ],
             [
              0.4444444444444444,
              "#bd3786"
             ],
             [
              0.5555555555555556,
              "#d8576b"
             ],
             [
              0.6666666666666666,
              "#ed7953"
             ],
             [
              0.7777777777777778,
              "#fb9f3a"
             ],
             [
              0.8888888888888888,
              "#fdca26"
             ],
             [
              1,
              "#f0f921"
             ]
            ],
            "type": "surface"
           }
          ],
          "table": [
           {
            "cells": {
             "fill": {
              "color": "#EBF0F8"
             },
             "line": {
              "color": "white"
             }
            },
            "header": {
             "fill": {
              "color": "#C8D4E3"
             },
             "line": {
              "color": "white"
             }
            },
            "type": "table"
           }
          ]
         },
         "layout": {
          "annotationdefaults": {
           "arrowcolor": "#2a3f5f",
           "arrowhead": 0,
           "arrowwidth": 1
          },
          "autotypenumbers": "strict",
          "coloraxis": {
           "colorbar": {
            "outlinewidth": 0,
            "ticks": ""
           }
          },
          "colorscale": {
           "diverging": [
            [
             0,
             "#8e0152"
            ],
            [
             0.1,
             "#c51b7d"
            ],
            [
             0.2,
             "#de77ae"
            ],
            [
             0.3,
             "#f1b6da"
            ],
            [
             0.4,
             "#fde0ef"
            ],
            [
             0.5,
             "#f7f7f7"
            ],
            [
             0.6,
             "#e6f5d0"
            ],
            [
             0.7,
             "#b8e186"
            ],
            [
             0.8,
             "#7fbc41"
            ],
            [
             0.9,
             "#4d9221"
            ],
            [
             1,
             "#276419"
            ]
           ],
           "sequential": [
            [
             0,
             "#0d0887"
            ],
            [
             0.1111111111111111,
             "#46039f"
            ],
            [
             0.2222222222222222,
             "#7201a8"
            ],
            [
             0.3333333333333333,
             "#9c179e"
            ],
            [
             0.4444444444444444,
             "#bd3786"
            ],
            [
             0.5555555555555556,
             "#d8576b"
            ],
            [
             0.6666666666666666,
             "#ed7953"
            ],
            [
             0.7777777777777778,
             "#fb9f3a"
            ],
            [
             0.8888888888888888,
             "#fdca26"
            ],
            [
             1,
             "#f0f921"
            ]
           ],
           "sequentialminus": [
            [
             0,
             "#0d0887"
            ],
            [
             0.1111111111111111,
             "#46039f"
            ],
            [
             0.2222222222222222,
             "#7201a8"
            ],
            [
             0.3333333333333333,
             "#9c179e"
            ],
            [
             0.4444444444444444,
             "#bd3786"
            ],
            [
             0.5555555555555556,
             "#d8576b"
            ],
            [
             0.6666666666666666,
             "#ed7953"
            ],
            [
             0.7777777777777778,
             "#fb9f3a"
            ],
            [
             0.8888888888888888,
             "#fdca26"
            ],
            [
             1,
             "#f0f921"
            ]
           ]
          },
          "colorway": [
           "#636efa",
           "#EF553B",
           "#00cc96",
           "#ab63fa",
           "#FFA15A",
           "#19d3f3",
           "#FF6692",
           "#B6E880",
           "#FF97FF",
           "#FECB52"
          ],
          "font": {
           "color": "#2a3f5f"
          },
          "geo": {
           "bgcolor": "white",
           "lakecolor": "white",
           "landcolor": "#E5ECF6",
           "showlakes": true,
           "showland": true,
           "subunitcolor": "white"
          },
          "hoverlabel": {
           "align": "left"
          },
          "hovermode": "closest",
          "mapbox": {
           "style": "light"
          },
          "paper_bgcolor": "white",
          "plot_bgcolor": "#E5ECF6",
          "polar": {
           "angularaxis": {
            "gridcolor": "white",
            "linecolor": "white",
            "ticks": ""
           },
           "bgcolor": "#E5ECF6",
           "radialaxis": {
            "gridcolor": "white",
            "linecolor": "white",
            "ticks": ""
           }
          },
          "scene": {
           "xaxis": {
            "backgroundcolor": "#E5ECF6",
            "gridcolor": "white",
            "gridwidth": 2,
            "linecolor": "white",
            "showbackground": true,
            "ticks": "",
            "zerolinecolor": "white"
           },
           "yaxis": {
            "backgroundcolor": "#E5ECF6",
            "gridcolor": "white",
            "gridwidth": 2,
            "linecolor": "white",
            "showbackground": true,
            "ticks": "",
            "zerolinecolor": "white"
           },
           "zaxis": {
            "backgroundcolor": "#E5ECF6",
            "gridcolor": "white",
            "gridwidth": 2,
            "linecolor": "white",
            "showbackground": true,
            "ticks": "",
            "zerolinecolor": "white"
           }
          },
          "shapedefaults": {
           "line": {
            "color": "#2a3f5f"
           }
          },
          "ternary": {
           "aaxis": {
            "gridcolor": "white",
            "linecolor": "white",
            "ticks": ""
           },
           "baxis": {
            "gridcolor": "white",
            "linecolor": "white",
            "ticks": ""
           },
           "bgcolor": "#E5ECF6",
           "caxis": {
            "gridcolor": "white",
            "linecolor": "white",
            "ticks": ""
           }
          },
          "title": {
           "x": 0.05
          },
          "xaxis": {
           "automargin": true,
           "gridcolor": "white",
           "linecolor": "white",
           "ticks": "",
           "title": {
            "standoff": 15
           },
           "zerolinecolor": "white",
           "zerolinewidth": 2
          },
          "yaxis": {
           "automargin": true,
           "gridcolor": "white",
           "linecolor": "white",
           "ticks": "",
           "title": {
            "standoff": 15
           },
           "zerolinecolor": "white",
           "zerolinewidth": 2
          }
         }
        },
        "title": {
         "text": "Mental Health Services Distribution by Gender"
        }
       }
      }
     },
     "metadata": {},
     "output_type": "display_data"
    }
   ],
   "source": [
    "fig = go.Figure()\n",
    "\n",
    "fig.add_trace(\n",
    "    go.Bar(\n",
    "        x=gender_services_df[\"Mental_health_services\"],\n",
    "        y=gender_services_df[\"Male_proc\"],\n",
    "        name=\"Male\",\n",
    "        text=gender_services_df[\"Male_proc\"],\n",
    "        marker_color=\"indianred\",\n",
    "    )\n",
    ")\n",
    "\n",
    "fig.add_trace(\n",
    "    go.Bar(\n",
    "        x=gender_services_df[\"Mental_health_services\"],\n",
    "        y=gender_services_df[\"Female_proc\"],\n",
    "        name=\"Female\",\n",
    "        text=gender_services_df[\"Female_proc\"],\n",
    "        marker_color=\"lightsalmon\",\n",
    "    )\n",
    ")\n",
    "\n",
    "fig.update_layout(title=\"Mental Health Services Distribution by Gender\")"
   ]
  },
  {
   "cell_type": "markdown",
   "metadata": {},
   "source": [
    "The chart provides a gender-based breakdown of awareness of workplace mental health services:\n",
    "\n",
    "Key Observations:\n",
    "\n",
    "1. \"Yes\" Responses:\n",
    "   - 50.09% of females reported their workplace provides mental health services, compared to 36.97% of males.\n",
    "   - This suggests females are more likely to acknowledge or have access to workplace mental health services.\n",
    "2. \"No\" Responses:\n",
    "   - 46.08% of males indicated their workplace does not offer mental health services, compared to 35.41% of females.\n",
    "   - This could reflect differences in workplace environments or perceptions of service availability.\n",
    "3. \"I Am Not Sure\" Responses:\n",
    "   - 16.95% of males and 14.51% of females were unsure about the availability of mental health services.\n",
    "   - This indicates a slightly higher level of uncertainty among males.\n",
    "\n",
    "Insights:\\\n",
    "Females are more likely than males to report the availability of mental health services at their workplace, possibly reflecting better communication or higher utilization among females. The higher percentage of \"No\" and \"I am not sure\" responses among males highlights the need for greater awareness and outreach to ensure all employees are informed about available mental health resources.\n"
   ]
  },
  {
   "cell_type": "code",
   "execution_count": 52,
   "metadata": {},
   "outputs": [],
   "source": [
    "continent_service_df = duckdb.sql(\n",
    "    \"\"\"\n",
    "    WITH \n",
    "        /* North America part */\n",
    "        na_service_df AS (\n",
    "            SELECT \n",
    "                Mental_health_services,\n",
    "                COUNT(Continent) AS 'North_America',\n",
    "                (SELECT COUNT(Continent) FROM workplaces_df WHERE Continent = 'North America') AS 'Total'\n",
    "\n",
    "            FROM workplaces_df\n",
    "            WHERE Continent = 'North America'\n",
    "            GROUP BY Mental_health_services\n",
    "        ),\n",
    "        na_final_df AS (\n",
    "            SELECT\n",
    "                Mental_health_services, \n",
    "                ROUND(North_America / Total * 100, 2) AS 'North_America_proc'\n",
    "\n",
    "            FROM na_service_df\n",
    "        ), \n",
    "\n",
    "        /* Europe part */\n",
    "        eu_service_df AS (\n",
    "            SELECT \n",
    "                Mental_health_services,\n",
    "                COUNT(Continent) AS 'Europe',\n",
    "                (SELECT COUNT(Continent) FROM workplaces_df WHERE Continent = 'Europe') AS 'Total'\n",
    "\n",
    "            FROM workplaces_df\n",
    "            WHERE Continent = 'Europe'\n",
    "            GROUP BY Mental_health_services \n",
    "        ),\n",
    "        eu_final_df AS (\n",
    "            SELECT\n",
    "                Mental_health_services, \n",
    "                ROUND(Europe / Total * 100, 2) AS 'Europe_proc'\n",
    "\n",
    "            FROM eu_service_df \n",
    "        ),\n",
    "        /* Final df */\n",
    "        final_df AS (\n",
    "            SELECT \n",
    "                na.Mental_health_services,\n",
    "                na.North_America_proc,\n",
    "                eu.Europe_proc,\n",
    "                CASE \n",
    "                    WHEN na.Mental_health_services = 'Yes' THEN 1\n",
    "                    WHEN na.Mental_health_services = 'No' THEN 2\n",
    "                    ELSE 3 \n",
    "                    END AS 'order_col' \n",
    "\n",
    "            FROM na_final_df AS na \n",
    "                LEFT JOIN eu_final_df AS eu \n",
    "                ON na.Mental_health_services = eu.Mental_health_services\n",
    "        )\n",
    "       \n",
    "    SELECT * FROM final_df\n",
    "    ORDER BY order_col ASC\n",
    "\"\"\"\n",
    ").to_df()"
   ]
  },
  {
   "cell_type": "code",
   "execution_count": 53,
   "metadata": {},
   "outputs": [
    {
     "data": {
      "application/vnd.plotly.v1+json": {
       "config": {
        "plotlyServerURL": "https://plot.ly"
       },
       "data": [
        {
         "marker": {
          "color": "indianred"
         },
         "name": "North America",
         "text": [
          45.28,
          39.74,
          14.99
         ],
         "type": "bar",
         "x": [
          "Yes",
          "No",
          "I am not sure"
         ],
         "y": [
          45.28,
          39.74,
          14.99
         ]
        },
        {
         "marker": {
          "color": "lightsalmon"
         },
         "name": "Europe",
         "text": [
          22.78,
          55.95,
          21.27
         ],
         "type": "bar",
         "x": [
          "Yes",
          "No",
          "I am not sure"
         ],
         "y": [
          22.78,
          55.95,
          21.27
         ]
        }
       ],
       "layout": {
        "template": {
         "data": {
          "bar": [
           {
            "error_x": {
             "color": "#2a3f5f"
            },
            "error_y": {
             "color": "#2a3f5f"
            },
            "marker": {
             "line": {
              "color": "#E5ECF6",
              "width": 0.5
             },
             "pattern": {
              "fillmode": "overlay",
              "size": 10,
              "solidity": 0.2
             }
            },
            "type": "bar"
           }
          ],
          "barpolar": [
           {
            "marker": {
             "line": {
              "color": "#E5ECF6",
              "width": 0.5
             },
             "pattern": {
              "fillmode": "overlay",
              "size": 10,
              "solidity": 0.2
             }
            },
            "type": "barpolar"
           }
          ],
          "carpet": [
           {
            "aaxis": {
             "endlinecolor": "#2a3f5f",
             "gridcolor": "white",
             "linecolor": "white",
             "minorgridcolor": "white",
             "startlinecolor": "#2a3f5f"
            },
            "baxis": {
             "endlinecolor": "#2a3f5f",
             "gridcolor": "white",
             "linecolor": "white",
             "minorgridcolor": "white",
             "startlinecolor": "#2a3f5f"
            },
            "type": "carpet"
           }
          ],
          "choropleth": [
           {
            "colorbar": {
             "outlinewidth": 0,
             "ticks": ""
            },
            "type": "choropleth"
           }
          ],
          "contour": [
           {
            "colorbar": {
             "outlinewidth": 0,
             "ticks": ""
            },
            "colorscale": [
             [
              0,
              "#0d0887"
             ],
             [
              0.1111111111111111,
              "#46039f"
             ],
             [
              0.2222222222222222,
              "#7201a8"
             ],
             [
              0.3333333333333333,
              "#9c179e"
             ],
             [
              0.4444444444444444,
              "#bd3786"
             ],
             [
              0.5555555555555556,
              "#d8576b"
             ],
             [
              0.6666666666666666,
              "#ed7953"
             ],
             [
              0.7777777777777778,
              "#fb9f3a"
             ],
             [
              0.8888888888888888,
              "#fdca26"
             ],
             [
              1,
              "#f0f921"
             ]
            ],
            "type": "contour"
           }
          ],
          "contourcarpet": [
           {
            "colorbar": {
             "outlinewidth": 0,
             "ticks": ""
            },
            "type": "contourcarpet"
           }
          ],
          "heatmap": [
           {
            "colorbar": {
             "outlinewidth": 0,
             "ticks": ""
            },
            "colorscale": [
             [
              0,
              "#0d0887"
             ],
             [
              0.1111111111111111,
              "#46039f"
             ],
             [
              0.2222222222222222,
              "#7201a8"
             ],
             [
              0.3333333333333333,
              "#9c179e"
             ],
             [
              0.4444444444444444,
              "#bd3786"
             ],
             [
              0.5555555555555556,
              "#d8576b"
             ],
             [
              0.6666666666666666,
              "#ed7953"
             ],
             [
              0.7777777777777778,
              "#fb9f3a"
             ],
             [
              0.8888888888888888,
              "#fdca26"
             ],
             [
              1,
              "#f0f921"
             ]
            ],
            "type": "heatmap"
           }
          ],
          "heatmapgl": [
           {
            "colorbar": {
             "outlinewidth": 0,
             "ticks": ""
            },
            "colorscale": [
             [
              0,
              "#0d0887"
             ],
             [
              0.1111111111111111,
              "#46039f"
             ],
             [
              0.2222222222222222,
              "#7201a8"
             ],
             [
              0.3333333333333333,
              "#9c179e"
             ],
             [
              0.4444444444444444,
              "#bd3786"
             ],
             [
              0.5555555555555556,
              "#d8576b"
             ],
             [
              0.6666666666666666,
              "#ed7953"
             ],
             [
              0.7777777777777778,
              "#fb9f3a"
             ],
             [
              0.8888888888888888,
              "#fdca26"
             ],
             [
              1,
              "#f0f921"
             ]
            ],
            "type": "heatmapgl"
           }
          ],
          "histogram": [
           {
            "marker": {
             "pattern": {
              "fillmode": "overlay",
              "size": 10,
              "solidity": 0.2
             }
            },
            "type": "histogram"
           }
          ],
          "histogram2d": [
           {
            "colorbar": {
             "outlinewidth": 0,
             "ticks": ""
            },
            "colorscale": [
             [
              0,
              "#0d0887"
             ],
             [
              0.1111111111111111,
              "#46039f"
             ],
             [
              0.2222222222222222,
              "#7201a8"
             ],
             [
              0.3333333333333333,
              "#9c179e"
             ],
             [
              0.4444444444444444,
              "#bd3786"
             ],
             [
              0.5555555555555556,
              "#d8576b"
             ],
             [
              0.6666666666666666,
              "#ed7953"
             ],
             [
              0.7777777777777778,
              "#fb9f3a"
             ],
             [
              0.8888888888888888,
              "#fdca26"
             ],
             [
              1,
              "#f0f921"
             ]
            ],
            "type": "histogram2d"
           }
          ],
          "histogram2dcontour": [
           {
            "colorbar": {
             "outlinewidth": 0,
             "ticks": ""
            },
            "colorscale": [
             [
              0,
              "#0d0887"
             ],
             [
              0.1111111111111111,
              "#46039f"
             ],
             [
              0.2222222222222222,
              "#7201a8"
             ],
             [
              0.3333333333333333,
              "#9c179e"
             ],
             [
              0.4444444444444444,
              "#bd3786"
             ],
             [
              0.5555555555555556,
              "#d8576b"
             ],
             [
              0.6666666666666666,
              "#ed7953"
             ],
             [
              0.7777777777777778,
              "#fb9f3a"
             ],
             [
              0.8888888888888888,
              "#fdca26"
             ],
             [
              1,
              "#f0f921"
             ]
            ],
            "type": "histogram2dcontour"
           }
          ],
          "mesh3d": [
           {
            "colorbar": {
             "outlinewidth": 0,
             "ticks": ""
            },
            "type": "mesh3d"
           }
          ],
          "parcoords": [
           {
            "line": {
             "colorbar": {
              "outlinewidth": 0,
              "ticks": ""
             }
            },
            "type": "parcoords"
           }
          ],
          "pie": [
           {
            "automargin": true,
            "type": "pie"
           }
          ],
          "scatter": [
           {
            "fillpattern": {
             "fillmode": "overlay",
             "size": 10,
             "solidity": 0.2
            },
            "type": "scatter"
           }
          ],
          "scatter3d": [
           {
            "line": {
             "colorbar": {
              "outlinewidth": 0,
              "ticks": ""
             }
            },
            "marker": {
             "colorbar": {
              "outlinewidth": 0,
              "ticks": ""
             }
            },
            "type": "scatter3d"
           }
          ],
          "scattercarpet": [
           {
            "marker": {
             "colorbar": {
              "outlinewidth": 0,
              "ticks": ""
             }
            },
            "type": "scattercarpet"
           }
          ],
          "scattergeo": [
           {
            "marker": {
             "colorbar": {
              "outlinewidth": 0,
              "ticks": ""
             }
            },
            "type": "scattergeo"
           }
          ],
          "scattergl": [
           {
            "marker": {
             "colorbar": {
              "outlinewidth": 0,
              "ticks": ""
             }
            },
            "type": "scattergl"
           }
          ],
          "scattermapbox": [
           {
            "marker": {
             "colorbar": {
              "outlinewidth": 0,
              "ticks": ""
             }
            },
            "type": "scattermapbox"
           }
          ],
          "scatterpolar": [
           {
            "marker": {
             "colorbar": {
              "outlinewidth": 0,
              "ticks": ""
             }
            },
            "type": "scatterpolar"
           }
          ],
          "scatterpolargl": [
           {
            "marker": {
             "colorbar": {
              "outlinewidth": 0,
              "ticks": ""
             }
            },
            "type": "scatterpolargl"
           }
          ],
          "scatterternary": [
           {
            "marker": {
             "colorbar": {
              "outlinewidth": 0,
              "ticks": ""
             }
            },
            "type": "scatterternary"
           }
          ],
          "surface": [
           {
            "colorbar": {
             "outlinewidth": 0,
             "ticks": ""
            },
            "colorscale": [
             [
              0,
              "#0d0887"
             ],
             [
              0.1111111111111111,
              "#46039f"
             ],
             [
              0.2222222222222222,
              "#7201a8"
             ],
             [
              0.3333333333333333,
              "#9c179e"
             ],
             [
              0.4444444444444444,
              "#bd3786"
             ],
             [
              0.5555555555555556,
              "#d8576b"
             ],
             [
              0.6666666666666666,
              "#ed7953"
             ],
             [
              0.7777777777777778,
              "#fb9f3a"
             ],
             [
              0.8888888888888888,
              "#fdca26"
             ],
             [
              1,
              "#f0f921"
             ]
            ],
            "type": "surface"
           }
          ],
          "table": [
           {
            "cells": {
             "fill": {
              "color": "#EBF0F8"
             },
             "line": {
              "color": "white"
             }
            },
            "header": {
             "fill": {
              "color": "#C8D4E3"
             },
             "line": {
              "color": "white"
             }
            },
            "type": "table"
           }
          ]
         },
         "layout": {
          "annotationdefaults": {
           "arrowcolor": "#2a3f5f",
           "arrowhead": 0,
           "arrowwidth": 1
          },
          "autotypenumbers": "strict",
          "coloraxis": {
           "colorbar": {
            "outlinewidth": 0,
            "ticks": ""
           }
          },
          "colorscale": {
           "diverging": [
            [
             0,
             "#8e0152"
            ],
            [
             0.1,
             "#c51b7d"
            ],
            [
             0.2,
             "#de77ae"
            ],
            [
             0.3,
             "#f1b6da"
            ],
            [
             0.4,
             "#fde0ef"
            ],
            [
             0.5,
             "#f7f7f7"
            ],
            [
             0.6,
             "#e6f5d0"
            ],
            [
             0.7,
             "#b8e186"
            ],
            [
             0.8,
             "#7fbc41"
            ],
            [
             0.9,
             "#4d9221"
            ],
            [
             1,
             "#276419"
            ]
           ],
           "sequential": [
            [
             0,
             "#0d0887"
            ],
            [
             0.1111111111111111,
             "#46039f"
            ],
            [
             0.2222222222222222,
             "#7201a8"
            ],
            [
             0.3333333333333333,
             "#9c179e"
            ],
            [
             0.4444444444444444,
             "#bd3786"
            ],
            [
             0.5555555555555556,
             "#d8576b"
            ],
            [
             0.6666666666666666,
             "#ed7953"
            ],
            [
             0.7777777777777778,
             "#fb9f3a"
            ],
            [
             0.8888888888888888,
             "#fdca26"
            ],
            [
             1,
             "#f0f921"
            ]
           ],
           "sequentialminus": [
            [
             0,
             "#0d0887"
            ],
            [
             0.1111111111111111,
             "#46039f"
            ],
            [
             0.2222222222222222,
             "#7201a8"
            ],
            [
             0.3333333333333333,
             "#9c179e"
            ],
            [
             0.4444444444444444,
             "#bd3786"
            ],
            [
             0.5555555555555556,
             "#d8576b"
            ],
            [
             0.6666666666666666,
             "#ed7953"
            ],
            [
             0.7777777777777778,
             "#fb9f3a"
            ],
            [
             0.8888888888888888,
             "#fdca26"
            ],
            [
             1,
             "#f0f921"
            ]
           ]
          },
          "colorway": [
           "#636efa",
           "#EF553B",
           "#00cc96",
           "#ab63fa",
           "#FFA15A",
           "#19d3f3",
           "#FF6692",
           "#B6E880",
           "#FF97FF",
           "#FECB52"
          ],
          "font": {
           "color": "#2a3f5f"
          },
          "geo": {
           "bgcolor": "white",
           "lakecolor": "white",
           "landcolor": "#E5ECF6",
           "showlakes": true,
           "showland": true,
           "subunitcolor": "white"
          },
          "hoverlabel": {
           "align": "left"
          },
          "hovermode": "closest",
          "mapbox": {
           "style": "light"
          },
          "paper_bgcolor": "white",
          "plot_bgcolor": "#E5ECF6",
          "polar": {
           "angularaxis": {
            "gridcolor": "white",
            "linecolor": "white",
            "ticks": ""
           },
           "bgcolor": "#E5ECF6",
           "radialaxis": {
            "gridcolor": "white",
            "linecolor": "white",
            "ticks": ""
           }
          },
          "scene": {
           "xaxis": {
            "backgroundcolor": "#E5ECF6",
            "gridcolor": "white",
            "gridwidth": 2,
            "linecolor": "white",
            "showbackground": true,
            "ticks": "",
            "zerolinecolor": "white"
           },
           "yaxis": {
            "backgroundcolor": "#E5ECF6",
            "gridcolor": "white",
            "gridwidth": 2,
            "linecolor": "white",
            "showbackground": true,
            "ticks": "",
            "zerolinecolor": "white"
           },
           "zaxis": {
            "backgroundcolor": "#E5ECF6",
            "gridcolor": "white",
            "gridwidth": 2,
            "linecolor": "white",
            "showbackground": true,
            "ticks": "",
            "zerolinecolor": "white"
           }
          },
          "shapedefaults": {
           "line": {
            "color": "#2a3f5f"
           }
          },
          "ternary": {
           "aaxis": {
            "gridcolor": "white",
            "linecolor": "white",
            "ticks": ""
           },
           "baxis": {
            "gridcolor": "white",
            "linecolor": "white",
            "ticks": ""
           },
           "bgcolor": "#E5ECF6",
           "caxis": {
            "gridcolor": "white",
            "linecolor": "white",
            "ticks": ""
           }
          },
          "title": {
           "x": 0.05
          },
          "xaxis": {
           "automargin": true,
           "gridcolor": "white",
           "linecolor": "white",
           "ticks": "",
           "title": {
            "standoff": 15
           },
           "zerolinecolor": "white",
           "zerolinewidth": 2
          },
          "yaxis": {
           "automargin": true,
           "gridcolor": "white",
           "linecolor": "white",
           "ticks": "",
           "title": {
            "standoff": 15
           },
           "zerolinecolor": "white",
           "zerolinewidth": 2
          }
         }
        },
        "title": {
         "text": "Mental Health Services Distribution by Continent"
        }
       }
      }
     },
     "metadata": {},
     "output_type": "display_data"
    }
   ],
   "source": [
    "fig = go.Figure()\n",
    "\n",
    "fig.add_trace(\n",
    "    go.Bar(\n",
    "        x=continent_service_df[\"Mental_health_services\"],\n",
    "        y=continent_service_df[\"North_America_proc\"],\n",
    "        name=\"North America\",\n",
    "        text=continent_service_df[\"North_America_proc\"],\n",
    "        marker_color=\"indianred\",\n",
    "    )\n",
    ")\n",
    "\n",
    "fig.add_trace(\n",
    "    go.Bar(\n",
    "        x=continent_service_df[\"Mental_health_services\"],\n",
    "        y=continent_service_df[\"Europe_proc\"],\n",
    "        name=\"Europe\",\n",
    "        text=continent_service_df[\"Europe_proc\"],\n",
    "        marker_color=\"lightsalmon\",\n",
    "    )\n",
    ")\n",
    "\n",
    "fig.update_layout(title=\"Mental Health Services Distribution by Continent\")"
   ]
  },
  {
   "cell_type": "markdown",
   "metadata": {},
   "source": [
    "The chart compares awareness of workplace mental health services between North America and Europe:\n",
    "\n",
    "Key Observations:\n",
    "\n",
    "1. \"Yes\" Responses:\n",
    "   - 45.28% of North American respondents reported their workplace provides mental health services, compared to only 22.78% in Europe.\n",
    "   - This highlights a significant disparity, with North American workplaces being more likely to offer such services.\n",
    "2. \"No\" Responses:\n",
    "   - 39.74% of North Americans stated their workplace does not offer mental health services, while this figure is much higher in Europe at 55.95%.\n",
    "   - This indicates that European workplaces are less likely to provide mental health services.\n",
    "3. \"I Am Not Sure\" Responses:\n",
    "   - 14.99% of North American respondents and 21.27% of Europeans were unsure about service availability.\n",
    "   - The higher uncertainty in Europe may reflect less communication or visibility around these services.\n",
    "\n",
    "Insights:\\\n",
    "North America shows stronger workplace support for mental health services compared to Europe, both in terms of availability and awareness. European workplaces have a higher proportion of \"No\" and \"I am not sure\" responses, suggesting a need for better adoption and communication of mental health resources. Bridging this gap could significantly enhance employee well-being in European workplaces.\n"
   ]
  },
  {
   "cell_type": "markdown",
   "metadata": {},
   "source": [
    "### **Prevalence Rate calculation**\n"
   ]
  },
  {
   "cell_type": "markdown",
   "metadata": {},
   "source": [
    "To calculate the prevalence and confidence intervals for three mental health conditions, you need:\n",
    "\n",
    "1. Counts of Responses for Each Condition:\n",
    "   - The number of respondents who answered \"Yes\" (e.g., diagnosed with a specific condition).\n",
    "   - The total number of respondents for each condition.\n",
    "2. Formula: $Prevalence(\\%) = {Yes\\ Count / Total\\ Count * 100}$\n"
   ]
  },
  {
   "cell_type": "code",
   "execution_count": 54,
   "metadata": {},
   "outputs": [],
   "source": [
    "prevalence_df = df.loc[df[\"QuestionID\"].isin([115])].rename(\n",
    "    columns={\"AnswerText\": \"Diagnose\"}\n",
    ")"
   ]
  },
  {
   "cell_type": "code",
   "execution_count": 55,
   "metadata": {},
   "outputs": [],
   "source": [
    "total_count = prevalence_df[\"UserID\"].count()"
   ]
  },
  {
   "cell_type": "code",
   "execution_count": 56,
   "metadata": {},
   "outputs": [],
   "source": [
    "diagnose = [\n",
    "    \"Mood Disorder (Depression, Bipolar Disorder, etc)\",\n",
    "    \"Anxiety Disorder (Generalized, Social, Phobia, etc)\",\n",
    "    \"Attention Deficit Hyperactivity Disorder\",\n",
    "]"
   ]
  },
  {
   "cell_type": "code",
   "execution_count": 57,
   "metadata": {},
   "outputs": [],
   "source": [
    "mood_disorder = len(prevalence_df.loc[prevalence_df[\"Diagnose\"] == diagnose[0]])\n",
    "anxiety_disorder = len(prevalence_df.loc[prevalence_df[\"Diagnose\"] == diagnose[1]])\n",
    "attention_deficit = len(prevalence_df.loc[prevalence_df[\"Diagnose\"] == diagnose[2]])"
   ]
  },
  {
   "cell_type": "code",
   "execution_count": null,
   "metadata": {},
   "outputs": [],
   "source": [
    "mood_disorder_prelevance = mood_disorder / total_count * 100\n",
    "anxiety_disorder_prelevance = anxiety_disorder / total_count * 100\n",
    "attention_deficit_prelevance = attention_deficit / total_count * 100"
   ]
  },
  {
   "cell_type": "markdown",
   "metadata": {},
   "source": [
    "### **Confident Interval**\n"
   ]
  },
  {
   "cell_type": "markdown",
   "metadata": {},
   "source": [
    "In statistics, a confidence interval is a range of values, derived from sample data, that is likely to contain the true value of an unknown population parameter. This interval provides an estimate of the parameter's possible values and is associated with a specific confidence level, typically expressed as a percentage.\\\n",
    "Formula: $CI=\\^{p}{\\pm}Z{\\times}\\sqrt{\\frac {\\hat{p}(1-\\hat{p})}n}$ \\\n",
    "where $p$ is the prelevance rate, Z is the Z-score corresponding to the desired confidence level, and $n$ is the sample size. For a 90% confident interval, $Z$ is approximately 1.645.\\\n",
    "For calculations, we will use a 90% confidence interval, as the data contains bias. This approach allows for a more cautious interpretation of the results, acknowledging the potential skewness in the dataset.\n"
   ]
  },
  {
   "cell_type": "code",
   "execution_count": null,
   "metadata": {},
   "outputs": [],
   "source": [
    "# Prevalence\n",
    "mood_perv = mood_disorder / total_count\n",
    "anxiety_prev = anxiety_disorder / total_count\n",
    "attention_prev = attention_deficit / total_count"
   ]
  },
  {
   "cell_type": "code",
   "execution_count": null,
   "metadata": {},
   "outputs": [],
   "source": [
    "# Prevelance percentage\n",
    "mood_perv_proc = round(mood_disorder / total_count * 100, 2)\n",
    "anxiety_prev_proc = round(anxiety_disorder / total_count * 100, 2)\n",
    "attention_prev_proc = round(attention_deficit / total_count * 100, 2)"
   ]
  },
  {
   "cell_type": "code",
   "execution_count": null,
   "metadata": {},
   "outputs": [],
   "source": [
    "# Confidente rate\n",
    "ci_mood = sqrt(mood_perv * (1 - mood_perv) / total_count) * 1.645 * 100\n",
    "ci_anxiety = sqrt(anxiety_prev * (1 - anxiety_prev) / total_count) * 1.645 * 100\n",
    "ci_attention = sqrt(attention_prev * (1 - attention_prev) / total_count) * 1.645 * 100"
   ]
  },
  {
   "cell_type": "code",
   "execution_count": 90,
   "metadata": {},
   "outputs": [],
   "source": [
    "data = {\n",
    "    \"Condition\": [\"Mood\", \"Anxiety\", \"Attention\"],\n",
    "    \"Prevalence_Rate\": [\n",
    "        mood_perv_proc,\n",
    "        anxiety_prev_proc,\n",
    "        attention_prev_proc,\n",
    "    ],  # In percentage\n",
    "    \"error\": [ci_mood, ci_anxiety, ci_attention],\n",
    "}"
   ]
  },
  {
   "cell_type": "code",
   "execution_count": 91,
   "metadata": {},
   "outputs": [],
   "source": [
    "ci_df = pd.DataFrame(data=data)"
   ]
  },
  {
   "cell_type": "code",
   "execution_count": null,
   "metadata": {},
   "outputs": [
    {
     "data": {
      "application/vnd.plotly.v1+json": {
       "config": {
        "plotlyServerURL": "https://plot.ly"
       },
       "data": [
        {
         "error_y": {
          "array": [
           1.4423940682568006,
           1.3462849534614594,
           0.8474275825019708
          ],
          "type": "data"
         },
         "marker": {
          "color": "#e6cea0"
         },
         "type": "bar",
         "x": [
          "Mood",
          "Anxiety",
          "Attention"
         ],
         "y": [
          19.88,
          16.65,
          5.84
         ]
        }
       ],
       "layout": {
        "barmode": "group",
        "template": {
         "data": {
          "bar": [
           {
            "error_x": {
             "color": "#2a3f5f"
            },
            "error_y": {
             "color": "#2a3f5f"
            },
            "marker": {
             "line": {
              "color": "#E5ECF6",
              "width": 0.5
             },
             "pattern": {
              "fillmode": "overlay",
              "size": 10,
              "solidity": 0.2
             }
            },
            "type": "bar"
           }
          ],
          "barpolar": [
           {
            "marker": {
             "line": {
              "color": "#E5ECF6",
              "width": 0.5
             },
             "pattern": {
              "fillmode": "overlay",
              "size": 10,
              "solidity": 0.2
             }
            },
            "type": "barpolar"
           }
          ],
          "carpet": [
           {
            "aaxis": {
             "endlinecolor": "#2a3f5f",
             "gridcolor": "white",
             "linecolor": "white",
             "minorgridcolor": "white",
             "startlinecolor": "#2a3f5f"
            },
            "baxis": {
             "endlinecolor": "#2a3f5f",
             "gridcolor": "white",
             "linecolor": "white",
             "minorgridcolor": "white",
             "startlinecolor": "#2a3f5f"
            },
            "type": "carpet"
           }
          ],
          "choropleth": [
           {
            "colorbar": {
             "outlinewidth": 0,
             "ticks": ""
            },
            "type": "choropleth"
           }
          ],
          "contour": [
           {
            "colorbar": {
             "outlinewidth": 0,
             "ticks": ""
            },
            "colorscale": [
             [
              0,
              "#0d0887"
             ],
             [
              0.1111111111111111,
              "#46039f"
             ],
             [
              0.2222222222222222,
              "#7201a8"
             ],
             [
              0.3333333333333333,
              "#9c179e"
             ],
             [
              0.4444444444444444,
              "#bd3786"
             ],
             [
              0.5555555555555556,
              "#d8576b"
             ],
             [
              0.6666666666666666,
              "#ed7953"
             ],
             [
              0.7777777777777778,
              "#fb9f3a"
             ],
             [
              0.8888888888888888,
              "#fdca26"
             ],
             [
              1,
              "#f0f921"
             ]
            ],
            "type": "contour"
           }
          ],
          "contourcarpet": [
           {
            "colorbar": {
             "outlinewidth": 0,
             "ticks": ""
            },
            "type": "contourcarpet"
           }
          ],
          "heatmap": [
           {
            "colorbar": {
             "outlinewidth": 0,
             "ticks": ""
            },
            "colorscale": [
             [
              0,
              "#0d0887"
             ],
             [
              0.1111111111111111,
              "#46039f"
             ],
             [
              0.2222222222222222,
              "#7201a8"
             ],
             [
              0.3333333333333333,
              "#9c179e"
             ],
             [
              0.4444444444444444,
              "#bd3786"
             ],
             [
              0.5555555555555556,
              "#d8576b"
             ],
             [
              0.6666666666666666,
              "#ed7953"
             ],
             [
              0.7777777777777778,
              "#fb9f3a"
             ],
             [
              0.8888888888888888,
              "#fdca26"
             ],
             [
              1,
              "#f0f921"
             ]
            ],
            "type": "heatmap"
           }
          ],
          "heatmapgl": [
           {
            "colorbar": {
             "outlinewidth": 0,
             "ticks": ""
            },
            "colorscale": [
             [
              0,
              "#0d0887"
             ],
             [
              0.1111111111111111,
              "#46039f"
             ],
             [
              0.2222222222222222,
              "#7201a8"
             ],
             [
              0.3333333333333333,
              "#9c179e"
             ],
             [
              0.4444444444444444,
              "#bd3786"
             ],
             [
              0.5555555555555556,
              "#d8576b"
             ],
             [
              0.6666666666666666,
              "#ed7953"
             ],
             [
              0.7777777777777778,
              "#fb9f3a"
             ],
             [
              0.8888888888888888,
              "#fdca26"
             ],
             [
              1,
              "#f0f921"
             ]
            ],
            "type": "heatmapgl"
           }
          ],
          "histogram": [
           {
            "marker": {
             "pattern": {
              "fillmode": "overlay",
              "size": 10,
              "solidity": 0.2
             }
            },
            "type": "histogram"
           }
          ],
          "histogram2d": [
           {
            "colorbar": {
             "outlinewidth": 0,
             "ticks": ""
            },
            "colorscale": [
             [
              0,
              "#0d0887"
             ],
             [
              0.1111111111111111,
              "#46039f"
             ],
             [
              0.2222222222222222,
              "#7201a8"
             ],
             [
              0.3333333333333333,
              "#9c179e"
             ],
             [
              0.4444444444444444,
              "#bd3786"
             ],
             [
              0.5555555555555556,
              "#d8576b"
             ],
             [
              0.6666666666666666,
              "#ed7953"
             ],
             [
              0.7777777777777778,
              "#fb9f3a"
             ],
             [
              0.8888888888888888,
              "#fdca26"
             ],
             [
              1,
              "#f0f921"
             ]
            ],
            "type": "histogram2d"
           }
          ],
          "histogram2dcontour": [
           {
            "colorbar": {
             "outlinewidth": 0,
             "ticks": ""
            },
            "colorscale": [
             [
              0,
              "#0d0887"
             ],
             [
              0.1111111111111111,
              "#46039f"
             ],
             [
              0.2222222222222222,
              "#7201a8"
             ],
             [
              0.3333333333333333,
              "#9c179e"
             ],
             [
              0.4444444444444444,
              "#bd3786"
             ],
             [
              0.5555555555555556,
              "#d8576b"
             ],
             [
              0.6666666666666666,
              "#ed7953"
             ],
             [
              0.7777777777777778,
              "#fb9f3a"
             ],
             [
              0.8888888888888888,
              "#fdca26"
             ],
             [
              1,
              "#f0f921"
             ]
            ],
            "type": "histogram2dcontour"
           }
          ],
          "mesh3d": [
           {
            "colorbar": {
             "outlinewidth": 0,
             "ticks": ""
            },
            "type": "mesh3d"
           }
          ],
          "parcoords": [
           {
            "line": {
             "colorbar": {
              "outlinewidth": 0,
              "ticks": ""
             }
            },
            "type": "parcoords"
           }
          ],
          "pie": [
           {
            "automargin": true,
            "type": "pie"
           }
          ],
          "scatter": [
           {
            "fillpattern": {
             "fillmode": "overlay",
             "size": 10,
             "solidity": 0.2
            },
            "type": "scatter"
           }
          ],
          "scatter3d": [
           {
            "line": {
             "colorbar": {
              "outlinewidth": 0,
              "ticks": ""
             }
            },
            "marker": {
             "colorbar": {
              "outlinewidth": 0,
              "ticks": ""
             }
            },
            "type": "scatter3d"
           }
          ],
          "scattercarpet": [
           {
            "marker": {
             "colorbar": {
              "outlinewidth": 0,
              "ticks": ""
             }
            },
            "type": "scattercarpet"
           }
          ],
          "scattergeo": [
           {
            "marker": {
             "colorbar": {
              "outlinewidth": 0,
              "ticks": ""
             }
            },
            "type": "scattergeo"
           }
          ],
          "scattergl": [
           {
            "marker": {
             "colorbar": {
              "outlinewidth": 0,
              "ticks": ""
             }
            },
            "type": "scattergl"
           }
          ],
          "scattermapbox": [
           {
            "marker": {
             "colorbar": {
              "outlinewidth": 0,
              "ticks": ""
             }
            },
            "type": "scattermapbox"
           }
          ],
          "scatterpolar": [
           {
            "marker": {
             "colorbar": {
              "outlinewidth": 0,
              "ticks": ""
             }
            },
            "type": "scatterpolar"
           }
          ],
          "scatterpolargl": [
           {
            "marker": {
             "colorbar": {
              "outlinewidth": 0,
              "ticks": ""
             }
            },
            "type": "scatterpolargl"
           }
          ],
          "scatterternary": [
           {
            "marker": {
             "colorbar": {
              "outlinewidth": 0,
              "ticks": ""
             }
            },
            "type": "scatterternary"
           }
          ],
          "surface": [
           {
            "colorbar": {
             "outlinewidth": 0,
             "ticks": ""
            },
            "colorscale": [
             [
              0,
              "#0d0887"
             ],
             [
              0.1111111111111111,
              "#46039f"
             ],
             [
              0.2222222222222222,
              "#7201a8"
             ],
             [
              0.3333333333333333,
              "#9c179e"
             ],
             [
              0.4444444444444444,
              "#bd3786"
             ],
             [
              0.5555555555555556,
              "#d8576b"
             ],
             [
              0.6666666666666666,
              "#ed7953"
             ],
             [
              0.7777777777777778,
              "#fb9f3a"
             ],
             [
              0.8888888888888888,
              "#fdca26"
             ],
             [
              1,
              "#f0f921"
             ]
            ],
            "type": "surface"
           }
          ],
          "table": [
           {
            "cells": {
             "fill": {
              "color": "#EBF0F8"
             },
             "line": {
              "color": "white"
             }
            },
            "header": {
             "fill": {
              "color": "#C8D4E3"
             },
             "line": {
              "color": "white"
             }
            },
            "type": "table"
           }
          ]
         },
         "layout": {
          "annotationdefaults": {
           "arrowcolor": "#2a3f5f",
           "arrowhead": 0,
           "arrowwidth": 1
          },
          "autotypenumbers": "strict",
          "coloraxis": {
           "colorbar": {
            "outlinewidth": 0,
            "ticks": ""
           }
          },
          "colorscale": {
           "diverging": [
            [
             0,
             "#8e0152"
            ],
            [
             0.1,
             "#c51b7d"
            ],
            [
             0.2,
             "#de77ae"
            ],
            [
             0.3,
             "#f1b6da"
            ],
            [
             0.4,
             "#fde0ef"
            ],
            [
             0.5,
             "#f7f7f7"
            ],
            [
             0.6,
             "#e6f5d0"
            ],
            [
             0.7,
             "#b8e186"
            ],
            [
             0.8,
             "#7fbc41"
            ],
            [
             0.9,
             "#4d9221"
            ],
            [
             1,
             "#276419"
            ]
           ],
           "sequential": [
            [
             0,
             "#0d0887"
            ],
            [
             0.1111111111111111,
             "#46039f"
            ],
            [
             0.2222222222222222,
             "#7201a8"
            ],
            [
             0.3333333333333333,
             "#9c179e"
            ],
            [
             0.4444444444444444,
             "#bd3786"
            ],
            [
             0.5555555555555556,
             "#d8576b"
            ],
            [
             0.6666666666666666,
             "#ed7953"
            ],
            [
             0.7777777777777778,
             "#fb9f3a"
            ],
            [
             0.8888888888888888,
             "#fdca26"
            ],
            [
             1,
             "#f0f921"
            ]
           ],
           "sequentialminus": [
            [
             0,
             "#0d0887"
            ],
            [
             0.1111111111111111,
             "#46039f"
            ],
            [
             0.2222222222222222,
             "#7201a8"
            ],
            [
             0.3333333333333333,
             "#9c179e"
            ],
            [
             0.4444444444444444,
             "#bd3786"
            ],
            [
             0.5555555555555556,
             "#d8576b"
            ],
            [
             0.6666666666666666,
             "#ed7953"
            ],
            [
             0.7777777777777778,
             "#fb9f3a"
            ],
            [
             0.8888888888888888,
             "#fdca26"
            ],
            [
             1,
             "#f0f921"
            ]
           ]
          },
          "colorway": [
           "#636efa",
           "#EF553B",
           "#00cc96",
           "#ab63fa",
           "#FFA15A",
           "#19d3f3",
           "#FF6692",
           "#B6E880",
           "#FF97FF",
           "#FECB52"
          ],
          "font": {
           "color": "#2a3f5f"
          },
          "geo": {
           "bgcolor": "white",
           "lakecolor": "white",
           "landcolor": "#E5ECF6",
           "showlakes": true,
           "showland": true,
           "subunitcolor": "white"
          },
          "hoverlabel": {
           "align": "left"
          },
          "hovermode": "closest",
          "mapbox": {
           "style": "light"
          },
          "paper_bgcolor": "white",
          "plot_bgcolor": "#E5ECF6",
          "polar": {
           "angularaxis": {
            "gridcolor": "white",
            "linecolor": "white",
            "ticks": ""
           },
           "bgcolor": "#E5ECF6",
           "radialaxis": {
            "gridcolor": "white",
            "linecolor": "white",
            "ticks": ""
           }
          },
          "scene": {
           "xaxis": {
            "backgroundcolor": "#E5ECF6",
            "gridcolor": "white",
            "gridwidth": 2,
            "linecolor": "white",
            "showbackground": true,
            "ticks": "",
            "zerolinecolor": "white"
           },
           "yaxis": {
            "backgroundcolor": "#E5ECF6",
            "gridcolor": "white",
            "gridwidth": 2,
            "linecolor": "white",
            "showbackground": true,
            "ticks": "",
            "zerolinecolor": "white"
           },
           "zaxis": {
            "backgroundcolor": "#E5ECF6",
            "gridcolor": "white",
            "gridwidth": 2,
            "linecolor": "white",
            "showbackground": true,
            "ticks": "",
            "zerolinecolor": "white"
           }
          },
          "shapedefaults": {
           "line": {
            "color": "#2a3f5f"
           }
          },
          "ternary": {
           "aaxis": {
            "gridcolor": "white",
            "linecolor": "white",
            "ticks": ""
           },
           "baxis": {
            "gridcolor": "white",
            "linecolor": "white",
            "ticks": ""
           },
           "bgcolor": "#E5ECF6",
           "caxis": {
            "gridcolor": "white",
            "linecolor": "white",
            "ticks": ""
           }
          },
          "title": {
           "x": 0.05
          },
          "xaxis": {
           "automargin": true,
           "gridcolor": "white",
           "linecolor": "white",
           "ticks": "",
           "title": {
            "standoff": 15
           },
           "zerolinecolor": "white",
           "zerolinewidth": 2
          },
          "yaxis": {
           "automargin": true,
           "gridcolor": "white",
           "linecolor": "white",
           "ticks": "",
           "title": {
            "standoff": 15
           },
           "zerolinecolor": "white",
           "zerolinewidth": 2
          }
         }
        },
        "title": {
         "text": "Prevalence Rates of Mental Health Conditions with Confidence Intervals"
        },
        "xaxis": {
         "title": {
          "text": "Mental Health Condition"
         }
        },
        "yaxis": {
         "title": {
          "text": "Prevalence Rate (%)"
         }
        }
       }
      }
     },
     "metadata": {},
     "output_type": "display_data"
    }
   ],
   "source": [
    "fig = go.Figure()\n",
    "\n",
    "fig.add_trace(\n",
    "    go.Bar(\n",
    "        x=ci_df[\"Condition\"],\n",
    "        y=ci_df[\"Prevalence_Rate\"],\n",
    "        error_y=dict(type=\"data\", array=ci_df[\"error\"]),\n",
    "        marker_color=\"#e6cea0\",\n",
    "    )\n",
    ")\n",
    "fig.update_layout(\n",
    "    barmode=\"group\",\n",
    "    title_text=\"Prevalence Rates of Mental Health Conditions with Confidence Intervals\",\n",
    "    xaxis_title=\"Mental Health Condition\",\n",
    "    yaxis_title=\"Prevalence Rate (%)\",\n",
    ")"
   ]
  },
  {
   "cell_type": "markdown",
   "metadata": {},
   "source": [
    "Key Observations:\n",
    "\n",
    "1. Mood Disorders:\n",
    "\n",
    "- Prevalence Rate: 19.88%, the highest among the three conditions.\n",
    "- Error: 1.44%, indicating a relatively precise estimate with moderate variability.\n",
    "\n",
    "2. Anxiety Disorders:\n",
    "\n",
    "- Prevalence Rate: 16.65%, slightly lower than mood disorders but still substantial.\n",
    "- Error: 1.35%, showing good precision in the estimate.\n",
    "\n",
    "3. Attention Disorders:\n",
    "\n",
    "- Prevalence Rate: 5.84%, significantly lower compared to the other two conditions.\n",
    "- Error: 0.85%, suggesting reasonable reliability despite being the least prevalent.\n",
    "\n",
    "Insights:\n",
    "\n",
    "- Mood and Anxiety Disorders are the most commonly reported conditions, indicating a need for targeted workplace or healthcare interventions in these areas.\n",
    "- The smaller prevalence and error for attention disorders suggest they may be less prevalent in the population or underreported.\n",
    "- The relatively low errors across all conditions highlight good confidence in the reported prevalence rates.\n"
   ]
  },
  {
   "cell_type": "markdown",
   "metadata": {},
   "source": [
    "### **Potential Biases in the Dataset**\n",
    "\n",
    "_Selection Bias_\\\n",
    "The dataset was collected via an internet survey, meaning participants self-selected to respond. This may overrepresent individuals who are more aware of or affected by mental health issues, skewing prevalence rates higher than in the general population.\\\n",
    "Groups with limited internet access or lower engagement in online surveys, such as older adults or individuals in rural areas, may be underrepresented.\n",
    "\n",
    "_Demographic Bias_\\\n",
    "Gender Representation: The dataset reflects the gender distribution typical of the IT industry, where females constitute 20-30% of the workforce. While this aligns with industry norms, it may not reflect the broader population.\n",
    "\n",
    "Regional Representation: A significant proportion of respondents are from North America and Europe, potentially neglecting perspectives from other regions, such as Asia or Africa, where cultural attitudes toward mental health differ.\n",
    "\n",
    "Age Distribution: The dataset likely overrepresents working-age adults, with fewer responses from younger individuals (e.g., students) or older adults (e.g., retirees), limiting the generalizability of findings across all age groups.\n",
    "\n",
    "### **Conclution**\n",
    "\n",
    "1. Gender Differences:\n",
    "\n",
    "- Females report higher prevalence rates for mental health conditions and greater awareness of workplace mental health benefits compared to males. This suggests potential differences in mental health experiences or willingness to report.\n",
    "\n",
    "2. Regional Disparities:\n",
    "\n",
    "- North America shows higher awareness and availability of mental health benefits and services compared to Europe. This underscores a need for better adoption and communication of mental health support in European workplaces.\n",
    "\n",
    "3. Workplace Support:\n",
    "\n",
    "- While over half of respondents reported access to workplace mental health benefits, a significant portion (nearly 30%) were unsure, indicating gaps in communication and resource visibility.\n"
   ]
  }
 ],
 "metadata": {
  "kernelspec": {
   "display_name": "TC",
   "language": "python",
   "name": "python3"
  },
  "language_info": {
   "codemirror_mode": {
    "name": "ipython",
    "version": 3
   },
   "file_extension": ".py",
   "mimetype": "text/x-python",
   "name": "python",
   "nbconvert_exporter": "python",
   "pygments_lexer": "ipython3",
   "version": "3.12.4"
  }
 },
 "nbformat": 4,
 "nbformat_minor": 2
}
