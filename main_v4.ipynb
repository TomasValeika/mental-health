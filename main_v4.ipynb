{
 "cells": [
  {
   "cell_type": "code",
   "execution_count": 1,
   "metadata": {},
   "outputs": [],
   "source": [
    "# Picture"
   ]
  },
  {
   "cell_type": "code",
   "execution_count": 2,
   "metadata": {},
   "outputs": [],
   "source": [
    "# Aprasymas kodel reikia stebeti ir rupintis pschine sveikata"
   ]
  },
  {
   "cell_type": "code",
   "execution_count": 3,
   "metadata": {},
   "outputs": [],
   "source": [
    "import sqlite3\n",
    "import pandas as pd\n",
    "import plotly.express as px\n",
    "import plotly.graph_objects as go"
   ]
  },
  {
   "cell_type": "code",
   "execution_count": 4,
   "metadata": {},
   "outputs": [],
   "source": [
    "from src.sql.sql_all_data import sql_all_data"
   ]
  },
  {
   "cell_type": "code",
   "execution_count": 5,
   "metadata": {},
   "outputs": [],
   "source": [
    "from src.func.eda_functions import question_df, age_bucket\n",
    "from src.func.chart_functions import bar_chart"
   ]
  },
  {
   "cell_type": "markdown",
   "metadata": {},
   "source": [
    "### **Connect to DB and get data**\n"
   ]
  },
  {
   "cell_type": "code",
   "execution_count": 6,
   "metadata": {},
   "outputs": [],
   "source": [
    "conn = sqlite3.connect(\"src/db/mental_health.sqlite\")\n",
    "df = pd.read_sql(sql_all_data, conn)"
   ]
  },
  {
   "cell_type": "markdown",
   "metadata": {},
   "source": [
    "### **Data Quality**\n"
   ]
  },
  {
   "cell_type": "code",
   "execution_count": 7,
   "metadata": {},
   "outputs": [
    {
     "data": {
      "text/plain": [
       "(236898, 5)"
      ]
     },
     "execution_count": 7,
     "metadata": {},
     "output_type": "execute_result"
    }
   ],
   "source": [
    "df.shape"
   ]
  },
  {
   "cell_type": "code",
   "execution_count": 8,
   "metadata": {},
   "outputs": [
    {
     "data": {
      "text/plain": [
       "['UserID', 'Year', 'QuestionID', 'questiontext', 'AnswerText']"
      ]
     },
     "execution_count": 8,
     "metadata": {},
     "output_type": "execute_result"
    }
   ],
   "source": [
    "df.columns.to_list()"
   ]
  },
  {
   "cell_type": "code",
   "execution_count": 9,
   "metadata": {},
   "outputs": [
    {
     "data": {
      "text/plain": [
       "0"
      ]
     },
     "execution_count": 9,
     "metadata": {},
     "output_type": "execute_result"
    }
   ],
   "source": [
    "df.duplicated().sum()"
   ]
  },
  {
   "cell_type": "code",
   "execution_count": 10,
   "metadata": {},
   "outputs": [
    {
     "data": {
      "text/plain": [
       "UserID          0\n",
       "Year            0\n",
       "QuestionID      0\n",
       "questiontext    0\n",
       "AnswerText      0\n",
       "dtype: int64"
      ]
     },
     "execution_count": 10,
     "metadata": {},
     "output_type": "execute_result"
    }
   ],
   "source": [
    "df.isnull().sum()"
   ]
  },
  {
   "cell_type": "code",
   "execution_count": 11,
   "metadata": {},
   "outputs": [
    {
     "name": "stdout",
     "output_type": "stream",
     "text": [
      "<class 'pandas.core.frame.DataFrame'>\n",
      "RangeIndex: 236898 entries, 0 to 236897\n",
      "Data columns (total 5 columns):\n",
      " #   Column        Non-Null Count   Dtype \n",
      "---  ------        --------------   ----- \n",
      " 0   UserID        236898 non-null  int64 \n",
      " 1   Year          236898 non-null  int64 \n",
      " 2   QuestionID    236898 non-null  int64 \n",
      " 3   questiontext  236898 non-null  object\n",
      " 4   AnswerText    236898 non-null  object\n",
      "dtypes: int64(3), object(2)\n",
      "memory usage: 9.0+ MB\n"
     ]
    }
   ],
   "source": [
    "df.info()"
   ]
  },
  {
   "cell_type": "markdown",
   "metadata": {},
   "source": [
    "## **EDA**\n"
   ]
  },
  {
   "cell_type": "markdown",
   "metadata": {},
   "source": [
    "### **Unikalus respondentai**\n"
   ]
  },
  {
   "cell_type": "code",
   "execution_count": 12,
   "metadata": {},
   "outputs": [
    {
     "name": "stdout",
     "output_type": "stream",
     "text": [
      "Unikaliu respondentu buvo 4218\n"
     ]
    }
   ],
   "source": [
    "# Kiek buvo unikaliu respondentu\n",
    "print(\"Unikaliu respondentu buvo\", len(df[\"UserID\"].unique()))"
   ]
  },
  {
   "cell_type": "code",
   "execution_count": 13,
   "metadata": {},
   "outputs": [],
   "source": [
    "# Respondentu pasiskirstymas pagal metus\n",
    "user_by_year_df = df[[\"UserID\", \"Year\"]].drop_duplicates().reset_index(drop=True)"
   ]
  },
  {
   "cell_type": "code",
   "execution_count": 14,
   "metadata": {},
   "outputs": [],
   "source": [
    "user_by_year_gr = user_by_year_df.groupby([\"Year\"])[[\"UserID\"]].count().reset_index()"
   ]
  },
  {
   "cell_type": "code",
   "execution_count": 15,
   "metadata": {},
   "outputs": [
    {
     "data": {
      "application/vnd.plotly.v1+json": {
       "config": {
        "plotlyServerURL": "https://plot.ly"
       },
       "data": [
        {
         "alignmentgroup": "True",
         "hovertemplate": "Year=%{x}<br>UserID=%{y}<extra></extra>",
         "legendgroup": "",
         "marker": {
          "color": "#636efa",
          "pattern": {
           "shape": ""
          }
         },
         "name": "",
         "offsetgroup": "",
         "orientation": "v",
         "showlegend": false,
         "textposition": "auto",
         "texttemplate": "%{y}",
         "type": "bar",
         "x": [
          2014,
          2016,
          2017,
          2018,
          2019
         ],
         "xaxis": "x",
         "y": [
          1260,
          1433,
          756,
          417,
          352
         ],
         "yaxis": "y"
        }
       ],
       "layout": {
        "barmode": "relative",
        "legend": {
         "tracegroupgap": 0
        },
        "template": {
         "data": {
          "bar": [
           {
            "error_x": {
             "color": "#2a3f5f"
            },
            "error_y": {
             "color": "#2a3f5f"
            },
            "marker": {
             "line": {
              "color": "#E5ECF6",
              "width": 0.5
             },
             "pattern": {
              "fillmode": "overlay",
              "size": 10,
              "solidity": 0.2
             }
            },
            "type": "bar"
           }
          ],
          "barpolar": [
           {
            "marker": {
             "line": {
              "color": "#E5ECF6",
              "width": 0.5
             },
             "pattern": {
              "fillmode": "overlay",
              "size": 10,
              "solidity": 0.2
             }
            },
            "type": "barpolar"
           }
          ],
          "carpet": [
           {
            "aaxis": {
             "endlinecolor": "#2a3f5f",
             "gridcolor": "white",
             "linecolor": "white",
             "minorgridcolor": "white",
             "startlinecolor": "#2a3f5f"
            },
            "baxis": {
             "endlinecolor": "#2a3f5f",
             "gridcolor": "white",
             "linecolor": "white",
             "minorgridcolor": "white",
             "startlinecolor": "#2a3f5f"
            },
            "type": "carpet"
           }
          ],
          "choropleth": [
           {
            "colorbar": {
             "outlinewidth": 0,
             "ticks": ""
            },
            "type": "choropleth"
           }
          ],
          "contour": [
           {
            "colorbar": {
             "outlinewidth": 0,
             "ticks": ""
            },
            "colorscale": [
             [
              0,
              "#0d0887"
             ],
             [
              0.1111111111111111,
              "#46039f"
             ],
             [
              0.2222222222222222,
              "#7201a8"
             ],
             [
              0.3333333333333333,
              "#9c179e"
             ],
             [
              0.4444444444444444,
              "#bd3786"
             ],
             [
              0.5555555555555556,
              "#d8576b"
             ],
             [
              0.6666666666666666,
              "#ed7953"
             ],
             [
              0.7777777777777778,
              "#fb9f3a"
             ],
             [
              0.8888888888888888,
              "#fdca26"
             ],
             [
              1,
              "#f0f921"
             ]
            ],
            "type": "contour"
           }
          ],
          "contourcarpet": [
           {
            "colorbar": {
             "outlinewidth": 0,
             "ticks": ""
            },
            "type": "contourcarpet"
           }
          ],
          "heatmap": [
           {
            "colorbar": {
             "outlinewidth": 0,
             "ticks": ""
            },
            "colorscale": [
             [
              0,
              "#0d0887"
             ],
             [
              0.1111111111111111,
              "#46039f"
             ],
             [
              0.2222222222222222,
              "#7201a8"
             ],
             [
              0.3333333333333333,
              "#9c179e"
             ],
             [
              0.4444444444444444,
              "#bd3786"
             ],
             [
              0.5555555555555556,
              "#d8576b"
             ],
             [
              0.6666666666666666,
              "#ed7953"
             ],
             [
              0.7777777777777778,
              "#fb9f3a"
             ],
             [
              0.8888888888888888,
              "#fdca26"
             ],
             [
              1,
              "#f0f921"
             ]
            ],
            "type": "heatmap"
           }
          ],
          "heatmapgl": [
           {
            "colorbar": {
             "outlinewidth": 0,
             "ticks": ""
            },
            "colorscale": [
             [
              0,
              "#0d0887"
             ],
             [
              0.1111111111111111,
              "#46039f"
             ],
             [
              0.2222222222222222,
              "#7201a8"
             ],
             [
              0.3333333333333333,
              "#9c179e"
             ],
             [
              0.4444444444444444,
              "#bd3786"
             ],
             [
              0.5555555555555556,
              "#d8576b"
             ],
             [
              0.6666666666666666,
              "#ed7953"
             ],
             [
              0.7777777777777778,
              "#fb9f3a"
             ],
             [
              0.8888888888888888,
              "#fdca26"
             ],
             [
              1,
              "#f0f921"
             ]
            ],
            "type": "heatmapgl"
           }
          ],
          "histogram": [
           {
            "marker": {
             "pattern": {
              "fillmode": "overlay",
              "size": 10,
              "solidity": 0.2
             }
            },
            "type": "histogram"
           }
          ],
          "histogram2d": [
           {
            "colorbar": {
             "outlinewidth": 0,
             "ticks": ""
            },
            "colorscale": [
             [
              0,
              "#0d0887"
             ],
             [
              0.1111111111111111,
              "#46039f"
             ],
             [
              0.2222222222222222,
              "#7201a8"
             ],
             [
              0.3333333333333333,
              "#9c179e"
             ],
             [
              0.4444444444444444,
              "#bd3786"
             ],
             [
              0.5555555555555556,
              "#d8576b"
             ],
             [
              0.6666666666666666,
              "#ed7953"
             ],
             [
              0.7777777777777778,
              "#fb9f3a"
             ],
             [
              0.8888888888888888,
              "#fdca26"
             ],
             [
              1,
              "#f0f921"
             ]
            ],
            "type": "histogram2d"
           }
          ],
          "histogram2dcontour": [
           {
            "colorbar": {
             "outlinewidth": 0,
             "ticks": ""
            },
            "colorscale": [
             [
              0,
              "#0d0887"
             ],
             [
              0.1111111111111111,
              "#46039f"
             ],
             [
              0.2222222222222222,
              "#7201a8"
             ],
             [
              0.3333333333333333,
              "#9c179e"
             ],
             [
              0.4444444444444444,
              "#bd3786"
             ],
             [
              0.5555555555555556,
              "#d8576b"
             ],
             [
              0.6666666666666666,
              "#ed7953"
             ],
             [
              0.7777777777777778,
              "#fb9f3a"
             ],
             [
              0.8888888888888888,
              "#fdca26"
             ],
             [
              1,
              "#f0f921"
             ]
            ],
            "type": "histogram2dcontour"
           }
          ],
          "mesh3d": [
           {
            "colorbar": {
             "outlinewidth": 0,
             "ticks": ""
            },
            "type": "mesh3d"
           }
          ],
          "parcoords": [
           {
            "line": {
             "colorbar": {
              "outlinewidth": 0,
              "ticks": ""
             }
            },
            "type": "parcoords"
           }
          ],
          "pie": [
           {
            "automargin": true,
            "type": "pie"
           }
          ],
          "scatter": [
           {
            "fillpattern": {
             "fillmode": "overlay",
             "size": 10,
             "solidity": 0.2
            },
            "type": "scatter"
           }
          ],
          "scatter3d": [
           {
            "line": {
             "colorbar": {
              "outlinewidth": 0,
              "ticks": ""
             }
            },
            "marker": {
             "colorbar": {
              "outlinewidth": 0,
              "ticks": ""
             }
            },
            "type": "scatter3d"
           }
          ],
          "scattercarpet": [
           {
            "marker": {
             "colorbar": {
              "outlinewidth": 0,
              "ticks": ""
             }
            },
            "type": "scattercarpet"
           }
          ],
          "scattergeo": [
           {
            "marker": {
             "colorbar": {
              "outlinewidth": 0,
              "ticks": ""
             }
            },
            "type": "scattergeo"
           }
          ],
          "scattergl": [
           {
            "marker": {
             "colorbar": {
              "outlinewidth": 0,
              "ticks": ""
             }
            },
            "type": "scattergl"
           }
          ],
          "scattermapbox": [
           {
            "marker": {
             "colorbar": {
              "outlinewidth": 0,
              "ticks": ""
             }
            },
            "type": "scattermapbox"
           }
          ],
          "scatterpolar": [
           {
            "marker": {
             "colorbar": {
              "outlinewidth": 0,
              "ticks": ""
             }
            },
            "type": "scatterpolar"
           }
          ],
          "scatterpolargl": [
           {
            "marker": {
             "colorbar": {
              "outlinewidth": 0,
              "ticks": ""
             }
            },
            "type": "scatterpolargl"
           }
          ],
          "scatterternary": [
           {
            "marker": {
             "colorbar": {
              "outlinewidth": 0,
              "ticks": ""
             }
            },
            "type": "scatterternary"
           }
          ],
          "surface": [
           {
            "colorbar": {
             "outlinewidth": 0,
             "ticks": ""
            },
            "colorscale": [
             [
              0,
              "#0d0887"
             ],
             [
              0.1111111111111111,
              "#46039f"
             ],
             [
              0.2222222222222222,
              "#7201a8"
             ],
             [
              0.3333333333333333,
              "#9c179e"
             ],
             [
              0.4444444444444444,
              "#bd3786"
             ],
             [
              0.5555555555555556,
              "#d8576b"
             ],
             [
              0.6666666666666666,
              "#ed7953"
             ],
             [
              0.7777777777777778,
              "#fb9f3a"
             ],
             [
              0.8888888888888888,
              "#fdca26"
             ],
             [
              1,
              "#f0f921"
             ]
            ],
            "type": "surface"
           }
          ],
          "table": [
           {
            "cells": {
             "fill": {
              "color": "#EBF0F8"
             },
             "line": {
              "color": "white"
             }
            },
            "header": {
             "fill": {
              "color": "#C8D4E3"
             },
             "line": {
              "color": "white"
             }
            },
            "type": "table"
           }
          ]
         },
         "layout": {
          "annotationdefaults": {
           "arrowcolor": "#2a3f5f",
           "arrowhead": 0,
           "arrowwidth": 1
          },
          "autotypenumbers": "strict",
          "coloraxis": {
           "colorbar": {
            "outlinewidth": 0,
            "ticks": ""
           }
          },
          "colorscale": {
           "diverging": [
            [
             0,
             "#8e0152"
            ],
            [
             0.1,
             "#c51b7d"
            ],
            [
             0.2,
             "#de77ae"
            ],
            [
             0.3,
             "#f1b6da"
            ],
            [
             0.4,
             "#fde0ef"
            ],
            [
             0.5,
             "#f7f7f7"
            ],
            [
             0.6,
             "#e6f5d0"
            ],
            [
             0.7,
             "#b8e186"
            ],
            [
             0.8,
             "#7fbc41"
            ],
            [
             0.9,
             "#4d9221"
            ],
            [
             1,
             "#276419"
            ]
           ],
           "sequential": [
            [
             0,
             "#0d0887"
            ],
            [
             0.1111111111111111,
             "#46039f"
            ],
            [
             0.2222222222222222,
             "#7201a8"
            ],
            [
             0.3333333333333333,
             "#9c179e"
            ],
            [
             0.4444444444444444,
             "#bd3786"
            ],
            [
             0.5555555555555556,
             "#d8576b"
            ],
            [
             0.6666666666666666,
             "#ed7953"
            ],
            [
             0.7777777777777778,
             "#fb9f3a"
            ],
            [
             0.8888888888888888,
             "#fdca26"
            ],
            [
             1,
             "#f0f921"
            ]
           ],
           "sequentialminus": [
            [
             0,
             "#0d0887"
            ],
            [
             0.1111111111111111,
             "#46039f"
            ],
            [
             0.2222222222222222,
             "#7201a8"
            ],
            [
             0.3333333333333333,
             "#9c179e"
            ],
            [
             0.4444444444444444,
             "#bd3786"
            ],
            [
             0.5555555555555556,
             "#d8576b"
            ],
            [
             0.6666666666666666,
             "#ed7953"
            ],
            [
             0.7777777777777778,
             "#fb9f3a"
            ],
            [
             0.8888888888888888,
             "#fdca26"
            ],
            [
             1,
             "#f0f921"
            ]
           ]
          },
          "colorway": [
           "#636efa",
           "#EF553B",
           "#00cc96",
           "#ab63fa",
           "#FFA15A",
           "#19d3f3",
           "#FF6692",
           "#B6E880",
           "#FF97FF",
           "#FECB52"
          ],
          "font": {
           "color": "#2a3f5f"
          },
          "geo": {
           "bgcolor": "white",
           "lakecolor": "white",
           "landcolor": "#E5ECF6",
           "showlakes": true,
           "showland": true,
           "subunitcolor": "white"
          },
          "hoverlabel": {
           "align": "left"
          },
          "hovermode": "closest",
          "mapbox": {
           "style": "light"
          },
          "paper_bgcolor": "white",
          "plot_bgcolor": "#E5ECF6",
          "polar": {
           "angularaxis": {
            "gridcolor": "white",
            "linecolor": "white",
            "ticks": ""
           },
           "bgcolor": "#E5ECF6",
           "radialaxis": {
            "gridcolor": "white",
            "linecolor": "white",
            "ticks": ""
           }
          },
          "scene": {
           "xaxis": {
            "backgroundcolor": "#E5ECF6",
            "gridcolor": "white",
            "gridwidth": 2,
            "linecolor": "white",
            "showbackground": true,
            "ticks": "",
            "zerolinecolor": "white"
           },
           "yaxis": {
            "backgroundcolor": "#E5ECF6",
            "gridcolor": "white",
            "gridwidth": 2,
            "linecolor": "white",
            "showbackground": true,
            "ticks": "",
            "zerolinecolor": "white"
           },
           "zaxis": {
            "backgroundcolor": "#E5ECF6",
            "gridcolor": "white",
            "gridwidth": 2,
            "linecolor": "white",
            "showbackground": true,
            "ticks": "",
            "zerolinecolor": "white"
           }
          },
          "shapedefaults": {
           "line": {
            "color": "#2a3f5f"
           }
          },
          "ternary": {
           "aaxis": {
            "gridcolor": "white",
            "linecolor": "white",
            "ticks": ""
           },
           "baxis": {
            "gridcolor": "white",
            "linecolor": "white",
            "ticks": ""
           },
           "bgcolor": "#E5ECF6",
           "caxis": {
            "gridcolor": "white",
            "linecolor": "white",
            "ticks": ""
           }
          },
          "title": {
           "x": 0.05
          },
          "xaxis": {
           "automargin": true,
           "gridcolor": "white",
           "linecolor": "white",
           "ticks": "",
           "title": {
            "standoff": 15
           },
           "zerolinecolor": "white",
           "zerolinewidth": 2
          },
          "yaxis": {
           "automargin": true,
           "gridcolor": "white",
           "linecolor": "white",
           "ticks": "",
           "title": {
            "standoff": 15
           },
           "zerolinecolor": "white",
           "zerolinewidth": 2
          }
         }
        },
        "title": {
         "text": "Unique Users by Year"
        },
        "xaxis": {
         "anchor": "y",
         "domain": [
          0,
          1
         ],
         "title": {
          "text": "Year"
         }
        },
        "yaxis": {
         "anchor": "x",
         "domain": [
          0,
          1
         ],
         "title": {
          "text": "UserID"
         }
        }
       }
      }
     },
     "metadata": {},
     "output_type": "display_data"
    }
   ],
   "source": [
    "bar_chart(\n",
    "    df=user_by_year_gr, xaxis=\"Year\", yaxis=\"UserID\", title=\"Unique Users by Year\"\n",
    ")"
   ]
  },
  {
   "cell_type": "markdown",
   "metadata": {},
   "source": [
    "Paliekame tik nuo 2016 metu, nes galejo buti pasikeitimai ir 2015 tarpas padaryti itaka\\\n",
    "Sukuriame papildoma DF kuriame valysime duomenis ir pridesime reikalingus stulpelius. \\\n",
    "Paliekame duomenis nuo 2016 metu\n"
   ]
  },
  {
   "cell_type": "markdown",
   "metadata": {},
   "source": [
    "### **Age**\n"
   ]
  },
  {
   "cell_type": "code",
   "execution_count": 16,
   "metadata": {},
   "outputs": [],
   "source": [
    "age_df = df.loc[df[\"QuestionID\"] == 1].rename(columns={\"AnswerText\": \"Age\"})\n",
    "age_df[\"Age\"] = age_df[\"Age\"].astype(\"int\")"
   ]
  },
  {
   "cell_type": "code",
   "execution_count": 17,
   "metadata": {},
   "outputs": [
    {
     "data": {
      "application/vnd.plotly.v1+json": {
       "config": {
        "plotlyServerURL": "https://plot.ly"
       },
       "data": [
        {
         "alignmentgroup": "True",
         "bingroup": "x",
         "hovertemplate": "Age=%{x}<br>count=%{y}<extra></extra>",
         "legendgroup": "",
         "marker": {
          "color": "#636efa",
          "pattern": {
           "shape": ""
          }
         },
         "name": "",
         "offsetgroup": "",
         "orientation": "v",
         "showlegend": false,
         "type": "histogram",
         "x": [
          37,
          44,
          32,
          31,
          31,
          33,
          35,
          39,
          42,
          23,
          31,
          29,
          42,
          36,
          27,
          29,
          23,
          32,
          46,
          36,
          29,
          31,
          46,
          41,
          33,
          35,
          33,
          35,
          34,
          37,
          32,
          31,
          30,
          42,
          40,
          27,
          29,
          38,
          50,
          35,
          24,
          35,
          27,
          18,
          30,
          38,
          28,
          34,
          26,
          30,
          22,
          33,
          31,
          32,
          28,
          27,
          32,
          24,
          26,
          33,
          44,
          26,
          27,
          26,
          35,
          40,
          23,
          36,
          31,
          34,
          28,
          34,
          23,
          38,
          33,
          19,
          25,
          31,
          32,
          28,
          38,
          23,
          30,
          27,
          33,
          31,
          39,
          34,
          29,
          32,
          31,
          40,
          34,
          18,
          25,
          29,
          24,
          31,
          33,
          30,
          26,
          44,
          25,
          33,
          29,
          35,
          35,
          28,
          34,
          32,
          22,
          28,
          45,
          32,
          28,
          26,
          21,
          27,
          18,
          35,
          29,
          25,
          33,
          36,
          27,
          27,
          27,
          32,
          31,
          19,
          33,
          32,
          27,
          38,
          24,
          39,
          28,
          39,
          29,
          22,
          38,
          37,
          35,
          -29,
          30,
          37,
          24,
          23,
          30,
          29,
          19,
          32,
          28,
          36,
          37,
          25,
          27,
          26,
          27,
          25,
          36,
          25,
          31,
          26,
          33,
          27,
          34,
          42,
          23,
          24,
          26,
          31,
          22,
          23,
          34,
          31,
          28,
          32,
          45,
          33,
          29,
          26,
          28,
          45,
          43,
          37,
          24,
          26,
          23,
          35,
          38,
          28,
          28,
          35,
          32,
          31,
          35,
          26,
          27,
          28,
          27,
          34,
          41,
          37,
          34,
          32,
          21,
          30,
          24,
          26,
          40,
          37,
          26,
          32,
          32,
          27,
          30,
          31,
          29,
          41,
          34,
          33,
          28,
          28,
          23,
          24,
          32,
          34,
          24,
          26,
          36,
          41,
          38,
          38,
          30,
          25,
          37,
          34,
          37,
          28,
          22,
          34,
          33,
          25,
          27,
          40,
          21,
          29,
          32,
          29,
          23,
          28,
          31,
          27,
          24,
          29,
          23,
          42,
          24,
          25,
          27,
          27,
          30,
          29,
          43,
          32,
          41,
          32,
          37,
          32,
          30,
          23,
          30,
          34,
          38,
          33,
          34,
          28,
          28,
          23,
          22,
          27,
          18,
          35,
          25,
          27,
          26,
          18,
          38,
          26,
          30,
          35,
          45,
          32,
          56,
          24,
          30,
          60,
          33,
          37,
          23,
          31,
          26,
          28,
          37,
          26,
          30,
          26,
          25,
          27,
          25,
          35,
          36,
          26,
          27,
          30,
          29,
          25,
          22,
          29,
          41,
          29,
          32,
          24,
          25,
          25,
          30,
          25,
          30,
          33,
          24,
          25,
          31,
          45,
          29,
          46,
          30,
          29,
          24,
          29,
          35,
          33,
          27,
          36,
          33,
          25,
          23,
          54,
          22,
          25,
          29,
          27,
          30,
          26,
          25,
          31,
          33,
          34,
          34,
          29,
          33,
          34,
          26,
          32,
          329,
          28,
          35,
          36,
          21,
          21,
          22,
          41,
          55,
          32,
          21,
          45,
          27,
          25,
          34,
          26,
          41,
          27,
          31,
          25,
          26,
          27,
          42,
          29,
          25,
          33,
          -1,
          40,
          31,
          26,
          24,
          29,
          48,
          35,
          32,
          29,
          26,
          28,
          23,
          35,
          29,
          26,
          33,
          33,
          22,
          30,
          33,
          31,
          21,
          31,
          26,
          30,
          30,
          23,
          34,
          55,
          28,
          26,
          28,
          32,
          28,
          21,
          24,
          26,
          23,
          24,
          28,
          24,
          33,
          34,
          27,
          28,
          26,
          20,
          23,
          29,
          26,
          36,
          41,
          33,
          23,
          39,
          34,
          26,
          24,
          37,
          43,
          40,
          30,
          34,
          27,
          36,
          27,
          35,
          32,
          37,
          29,
          33,
          28,
          26,
          27,
          38,
          57,
          28,
          26,
          42,
          31,
          58,
          29,
          39,
          34,
          57,
          27,
          23,
          18,
          30,
          23,
          43,
          18,
          29,
          48,
          43,
          28,
          30,
          26,
          33,
          31,
          30,
          27,
          24,
          25,
          23,
          36,
          25,
          54,
          34,
          38,
          40,
          32,
          25,
          35,
          46,
          42,
          32,
          47,
          22,
          33,
          25,
          29,
          39,
          38,
          43,
          46,
          38,
          33,
          34,
          62,
          23,
          35,
          25,
          36,
          41,
          24,
          51,
          29,
          31,
          27,
          31,
          27,
          23,
          21,
          27,
          39,
          26,
          27,
          22,
          26,
          31,
          32,
          28,
          28,
          23,
          30,
          36,
          21,
          30,
          25,
          32,
          29,
          21,
          27,
          32,
          34,
          33,
          22,
          24,
          65,
          27,
          33,
          36,
          40,
          28,
          39,
          32,
          31,
          38,
          23,
          42,
          27,
          26,
          50,
          37,
          23,
          33,
          29,
          34,
          41,
          50,
          29,
          35,
          27,
          40,
          27,
          29,
          31,
          43,
          34,
          29,
          19,
          41,
          29,
          23,
          24,
          31,
          43,
          31,
          29,
          35,
          33,
          30,
          27,
          32,
          50,
          24,
          27,
          27,
          32,
          42,
          37,
          30,
          29,
          30,
          35,
          35,
          38,
          22,
          24,
          22,
          31,
          23,
          31,
          28,
          37,
          34,
          32,
          28,
          24,
          56,
          31,
          34,
          35,
          28,
          36,
          30,
          35,
          49,
          36,
          35,
          29,
          57,
          31,
          37,
          25,
          30,
          26,
          22,
          39,
          29,
          54,
          34,
          32,
          25,
          29,
          32,
          30,
          31,
          20,
          27,
          32,
          26,
          30,
          30,
          22,
          24,
          26,
          43,
          26,
          23,
          26,
          26,
          35,
          28,
          22,
          29,
          29,
          45,
          33,
          38,
          19,
          29,
          21,
          23,
          33,
          49,
          28,
          27,
          23,
          29,
          30,
          28,
          32,
          32,
          37,
          39,
          31,
          29,
          30,
          33,
          37,
          23,
          43,
          32,
          26,
          32,
          37,
          29,
          34,
          27,
          30,
          29,
          32,
          -1,
          25,
          37,
          29,
          27,
          33,
          30,
          29,
          25,
          33,
          31,
          21,
          30,
          29,
          43,
          37,
          24,
          29,
          31,
          5,
          33,
          43,
          33,
          27,
          36,
          37,
          32,
          39,
          31,
          36,
          30,
          28,
          32,
          35,
          19,
          33,
          42,
          37,
          40,
          36,
          29,
          38,
          26,
          34,
          21,
          31,
          37,
          37,
          38,
          27,
          39,
          33,
          27,
          36,
          28,
          39,
          33,
          32,
          28,
          37,
          39,
          43,
          32,
          27,
          31,
          43,
          33,
          34,
          33,
          25,
          25,
          32,
          25,
          37,
          39,
          29,
          33,
          37,
          35,
          22,
          38,
          32,
          28,
          27,
          35,
          29,
          23,
          39,
          30,
          32,
          28,
          40,
          36,
          27,
          41,
          29,
          29,
          35,
          28,
          36,
          39,
          39,
          44,
          26,
          35,
          40,
          35,
          38,
          34,
          43,
          48,
          20,
          40,
          29,
          35,
          29,
          40,
          29,
          29,
          34,
          44,
          24,
          47,
          43,
          36,
          43,
          36,
          31,
          35,
          33,
          37,
          34,
          36,
          40,
          40,
          42,
          23,
          21,
          26,
          31,
          25,
          51,
          24,
          33,
          32,
          32,
          26,
          23,
          33,
          46,
          34,
          35,
          39,
          32,
          43,
          56,
          32,
          41,
          39,
          37,
          30,
          31,
          29,
          23,
          31,
          29,
          30,
          37,
          36,
          35,
          41,
          31,
          38,
          26,
          39,
          42,
          32,
          29,
          30,
          40,
          51,
          33,
          34,
          50,
          24,
          25,
          43,
          25,
          24,
          51,
          49,
          30,
          25,
          36,
          48,
          48,
          53,
          24,
          33,
          25,
          30,
          30,
          34,
          31,
          22,
          28,
          35,
          28,
          42,
          33,
          29,
          43,
          29,
          25,
          31,
          35,
          34,
          43,
          38,
          26,
          38,
          42,
          33,
          32,
          44,
          28,
          40,
          31,
          32,
          28,
          39,
          45,
          43,
          35,
          40,
          34,
          24,
          61,
          36,
          38,
          33,
          30,
          34,
          26,
          33,
          32,
          25,
          35,
          24,
          55,
          33,
          26,
          25,
          45,
          33,
          43,
          30,
          40,
          49,
          29,
          26,
          38,
          27,
          26,
          28,
          40,
          37,
          34,
          28,
          27,
          29,
          39,
          28,
          23,
          8,
          38,
          19,
          30,
          28,
          20,
          35,
          39,
          31,
          32,
          27,
          25,
          42,
          34,
          26,
          35,
          34,
          38,
          34,
          39,
          44,
          40,
          33,
          24,
          38,
          31,
          23,
          26,
          46,
          30,
          25,
          19,
          30,
          32,
          32,
          37,
          42,
          25,
          19,
          40,
          34,
          26,
          31,
          40,
          31,
          36,
          35,
          26,
          44,
          34,
          35,
          28,
          33,
          40,
          26,
          29,
          26,
          33,
          28,
          41,
          39,
          26,
          23,
          35,
          36,
          42,
          39,
          27,
          33,
          31,
          28,
          29,
          27,
          44,
          25,
          24,
          25,
          34,
          26,
          48,
          34,
          39,
          43,
          41,
          25,
          31,
          40,
          43,
          27,
          37,
          32,
          25,
          29,
          30,
          34,
          32,
          37,
          41,
          38,
          32,
          28,
          11,
          43,
          32,
          25,
          37,
          36,
          24,
          40,
          29,
          43,
          29,
          26,
          33,
          35,
          45,
          25,
          50,
          26,
          33,
          30,
          33,
          29,
          37,
          25,
          40,
          24,
          40,
          46,
          38,
          34,
          32,
          44,
          33,
          45,
          35,
          26,
          20,
          -1,
          37,
          28,
          42,
          32,
          36,
          27,
          27,
          27,
          25,
          41,
          23,
          21,
          26,
          29,
          28,
          27,
          23,
          26,
          38,
          39,
          35,
          32,
          32,
          26,
          38,
          34,
          39,
          32,
          37,
          31,
          30,
          51,
          29,
          31,
          31,
          26,
          46,
          32,
          29,
          34,
          26,
          32,
          29,
          30,
          40,
          23,
          20,
          38,
          26,
          29,
          40,
          25,
          32,
          38,
          72,
          35,
          28,
          27,
          56,
          38,
          31,
          40,
          44,
          34,
          37,
          38,
          27,
          34,
          35,
          34,
          32,
          25,
          28,
          28,
          31,
          24,
          34,
          32,
          34,
          23,
          33,
          29,
          24,
          45,
          34,
          31,
          33,
          28,
          27,
          42,
          28,
          38,
          46,
          46,
          41,
          23,
          24,
          23,
          39,
          32,
          25,
          39,
          23,
          24,
          25,
          23,
          24,
          23,
          60,
          28,
          28,
          30,
          31,
          31,
          28,
          43,
          32,
          22,
          32,
          36,
          41,
          30,
          30,
          36,
          29,
          36,
          26,
          32,
          34,
          46,
          25,
          41,
          39,
          29,
          38,
          43,
          43,
          42,
          30,
          37,
          44,
          30,
          28,
          34,
          30,
          44,
          35,
          52,
          32,
          34,
          25,
          31,
          26,
          35,
          25,
          33,
          38,
          42,
          27,
          35,
          34,
          32,
          32,
          30,
          31,
          37,
          36,
          33,
          44,
          29,
          29,
          44,
          34,
          40,
          46,
          28,
          41,
          33,
          32,
          45,
          43,
          37,
          37,
          27,
          31,
          36,
          34,
          31,
          30,
          32,
          40,
          40,
          41,
          27,
          30,
          29,
          38,
          35,
          35,
          29,
          28,
          27,
          39,
          28,
          46,
          40,
          37,
          41,
          19,
          38,
          33,
          33,
          21,
          36,
          39,
          35,
          36,
          45,
          41,
          35,
          30,
          24,
          33,
          35,
          26,
          17,
          29,
          26,
          36,
          46,
          39,
          28,
          40,
          23,
          30,
          28,
          27,
          31,
          39,
          34,
          30,
          30,
          31,
          30,
          32,
          22,
          37,
          51,
          26,
          41,
          39,
          43,
          30,
          24,
          30,
          28,
          48,
          55,
          36,
          38,
          34,
          44,
          45,
          45,
          30,
          34,
          37,
          38,
          31,
          33,
          29,
          35,
          42,
          26,
          36,
          21,
          34,
          40,
          35,
          44,
          35,
          45,
          42,
          40,
          50,
          36,
          31,
          29,
          37,
          31,
          42,
          25,
          27,
          41,
          41,
          55,
          21,
          37,
          34,
          40,
          25,
          36,
          25,
          35,
          37,
          45,
          26,
          23,
          22,
          46,
          31,
          27,
          37,
          37,
          26,
          23,
          40,
          29,
          37,
          34,
          40,
          39,
          28,
          28,
          27,
          48,
          49,
          35,
          35,
          38,
          32,
          42,
          33,
          35,
          24,
          29,
          29,
          24,
          30,
          30,
          44,
          37,
          28,
          42,
          30,
          36,
          30,
          29,
          25,
          25,
          24,
          25,
          31,
          37,
          35,
          26,
          31,
          29,
          33,
          30,
          30,
          29,
          25,
          27,
          26,
          38,
          49,
          30,
          34,
          31,
          29,
          31,
          34,
          28,
          35,
          27,
          33,
          37,
          45,
          31,
          36,
          30,
          33,
          45,
          30,
          30,
          29,
          36,
          28,
          36,
          37,
          29,
          25,
          34,
          37,
          40,
          32,
          38,
          31,
          28,
          27,
          28,
          26,
          40,
          42,
          36,
          44,
          24,
          44,
          31,
          49,
          27,
          27,
          28,
          20,
          41,
          38,
          29,
          44,
          31,
          54,
          33,
          29,
          26,
          26,
          34,
          38,
          30,
          34,
          47,
          33,
          22,
          28,
          31,
          24,
          56,
          57,
          39,
          21,
          31,
          63,
          46,
          32,
          35,
          34,
          35,
          31,
          35,
          36,
          50,
          31,
          47,
          32,
          23,
          43,
          26,
          26,
          55,
          27,
          34,
          25,
          35,
          37,
          38,
          29,
          28,
          29,
          40,
          25,
          29,
          29,
          35,
          25,
          43,
          26,
          31,
          31,
          45,
          23,
          39,
          27,
          28,
          36,
          22,
          51,
          39,
          36,
          28,
          40,
          35,
          38,
          29,
          43,
          31,
          45,
          26,
          42,
          28,
          28,
          39,
          34,
          28,
          35,
          42,
          99,
          29,
          34,
          28,
          22,
          28,
          26,
          21,
          38,
          33,
          28,
          32,
          24,
          35,
          41,
          38,
          24,
          30,
          47,
          26,
          32,
          32,
          37,
          33,
          28,
          22,
          30,
          42,
          34,
          32,
          37,
          31,
          31,
          26,
          30,
          36,
          38,
          24,
          26,
          37,
          27,
          32,
          32,
          30,
          26,
          27,
          27,
          29,
          26,
          23,
          30,
          40,
          46,
          26,
          30,
          27,
          35,
          26,
          35,
          29,
          34,
          27,
          39,
          27,
          31,
          26,
          44,
          27,
          57,
          34,
          38,
          55,
          28,
          35,
          26,
          22,
          31,
          31,
          40,
          26,
          36,
          33,
          24,
          22,
          33,
          37,
          29,
          38,
          33,
          44,
          23,
          30,
          30,
          28,
          39,
          24,
          27,
          35,
          23,
          37,
          35,
          27,
          27,
          27,
          42,
          32,
          26,
          28,
          28,
          32,
          43,
          34,
          61,
          50,
          38,
          51,
          38,
          34,
          43,
          43,
          44,
          35,
          50,
          29,
          29,
          36,
          33,
          50,
          46,
          44,
          23,
          41,
          31,
          55,
          34,
          28,
          33,
          29,
          33,
          28,
          28,
          32,
          36,
          45,
          29,
          23,
          54,
          61,
          29,
          31,
          37,
          29,
          28,
          30,
          55,
          38,
          20,
          25,
          22,
          35,
          27,
          24,
          39,
          29,
          40,
          30,
          32,
          34,
          35,
          30,
          36,
          26,
          31,
          33,
          30,
          46,
          32,
          34,
          41,
          32,
          47,
          29,
          36,
          32,
          29,
          22,
          32,
          19,
          30,
          32,
          22,
          30,
          323,
          33,
          48,
          45,
          28,
          44,
          31,
          31,
          29,
          26,
          35,
          44,
          45,
          22,
          34,
          35,
          39,
          26,
          41,
          24,
          24,
          34,
          36,
          41,
          21,
          33,
          32,
          62,
          37,
          32,
          31,
          28,
          48,
          40,
          29,
          33,
          27,
          24,
          28,
          42,
          28,
          40,
          32,
          33,
          40,
          26,
          39,
          38,
          34,
          44,
          54,
          24,
          31,
          47,
          30,
          34,
          29,
          27,
          29,
          43,
          31,
          27,
          29,
          29,
          42,
          26,
          26,
          34,
          24,
          25,
          22,
          33,
          53,
          32,
          32,
          55,
          27,
          34,
          26,
          25,
          39,
          32,
          46,
          52,
          33,
          58,
          30,
          46,
          45,
          26,
          22,
          21,
          3,
          34,
          25,
          27,
          25,
          33,
          26,
          36,
          26,
          34,
          34,
          25,
          33,
          27,
          24,
          47,
          37,
          35,
          30,
          42,
          36,
          31,
          28,
          36,
          36,
          32,
          42,
          41,
          36,
          23,
          54,
          34,
          36,
          27,
          32,
          21,
          44,
          33,
          38,
          38,
          38,
          22,
          33,
          27,
          55,
          66,
          25,
          22,
          29,
          33,
          27,
          44,
          38,
          32,
          59,
          43,
          55,
          32,
          41,
          38,
          46,
          43,
          29,
          42,
          25,
          49,
          36,
          30,
          28,
          37,
          23,
          37,
          42,
          32,
          28,
          28,
          29,
          35,
          31,
          46,
          19,
          35,
          31,
          31,
          37,
          34,
          39,
          29,
          29,
          63,
          45,
          35,
          32,
          44,
          28,
          39,
          55,
          33,
          19,
          40,
          49,
          27,
          39,
          35,
          35,
          42,
          35,
          31,
          44,
          39,
          32,
          45,
          31,
          47,
          29,
          20,
          34,
          33,
          56,
          35,
          31,
          36,
          30,
          44,
          23,
          46,
          33,
          32,
          45,
          26,
          32,
          28,
          44,
          42,
          30,
          28,
          31,
          29,
          33,
          43,
          28,
          42,
          38,
          30,
          51,
          48,
          39,
          28,
          37,
          33,
          21,
          25,
          15,
          40,
          30,
          27,
          25,
          38,
          24,
          23,
          39,
          26,
          43,
          30,
          35,
          40,
          33,
          35,
          22,
          28,
          39,
          33,
          25,
          37,
          41,
          30,
          42,
          52,
          30,
          35,
          24,
          39,
          34,
          32,
          25,
          43,
          39,
          35,
          34,
          38,
          26,
          24,
          27,
          25,
          37,
          33,
          34,
          27,
          33,
          50,
          54,
          32,
          39,
          36,
          34,
          31,
          36,
          48,
          31,
          32,
          32,
          31,
          28,
          28,
          33,
          33,
          59,
          33,
          37,
          27,
          39,
          50,
          34,
          50,
          31,
          39,
          46,
          28,
          32,
          65,
          37,
          41,
          38,
          51,
          29,
          37,
          31,
          32,
          31,
          52,
          31,
          38,
          35,
          29,
          63,
          47,
          43,
          38,
          27,
          40,
          32,
          43,
          28,
          46,
          42,
          31,
          37,
          35,
          30,
          35,
          24,
          23,
          39,
          38,
          28,
          30,
          38,
          33,
          35,
          54,
          30,
          32,
          28,
          39,
          21,
          31,
          30,
          25,
          26,
          30,
          30,
          31,
          32,
          45,
          29,
          27,
          28,
          38,
          38,
          34,
          36,
          23,
          40,
          39,
          28,
          33,
          32,
          32,
          27,
          33,
          34,
          38,
          35,
          39,
          35,
          34,
          44,
          42,
          30,
          55,
          46,
          33,
          30,
          30,
          31,
          38,
          30,
          32,
          32,
          47,
          39,
          35,
          36,
          38,
          30,
          33,
          22,
          35,
          26,
          34,
          40,
          37,
          43,
          20,
          30,
          32,
          35,
          29,
          29,
          30,
          30,
          38,
          30,
          26,
          27,
          24,
          35,
          38,
          36,
          34,
          35,
          25,
          32,
          32,
          37,
          28,
          34,
          40,
          45,
          31,
          30,
          47,
          48,
          44,
          29,
          52,
          34,
          34,
          27,
          30,
          40,
          26,
          36,
          35,
          43,
          36,
          32,
          36,
          38,
          35,
          35,
          45,
          47,
          27,
          26,
          51,
          25,
          41,
          34,
          43,
          33,
          37,
          27,
          54,
          38,
          42,
          30,
          43,
          33,
          37,
          25,
          27,
          27,
          27,
          35,
          24,
          31,
          31,
          32,
          33,
          56,
          43,
          49,
          35,
          53,
          45,
          40,
          52,
          30,
          41,
          31,
          31,
          24,
          44,
          37,
          22,
          31,
          36,
          28,
          25,
          49,
          22,
          43,
          33,
          36,
          26,
          43,
          21,
          39,
          46,
          32,
          31,
          39,
          44,
          36,
          31,
          30,
          36,
          31,
          23,
          23,
          30,
          34,
          49,
          25,
          39,
          37,
          26,
          41,
          28,
          33,
          74,
          28,
          47,
          25,
          51,
          26,
          24,
          33,
          32,
          57,
          39,
          26,
          38,
          33,
          30,
          25,
          40,
          26,
          34,
          46,
          31,
          42,
          30,
          26,
          29,
          31,
          40,
          39,
          37,
          27,
          45,
          29,
          47,
          33,
          32,
          29,
          36,
          35,
          40,
          36,
          39,
          38,
          23,
          29,
          38,
          34,
          28,
          38,
          25,
          36,
          57,
          46,
          49,
          34,
          43,
          35,
          32,
          24,
          33,
          28,
          48,
          33,
          40,
          22,
          22,
          23,
          33,
          29,
          32,
          43,
          49,
          44,
          29,
          27,
          30,
          43,
          30,
          33,
          27,
          26,
          47,
          30,
          39,
          36,
          34,
          25,
          28,
          38,
          39,
          32,
          27,
          31,
          30,
          34,
          26,
          27,
          29,
          37,
          49,
          39,
          42,
          28,
          33,
          30,
          70,
          25,
          45,
          63,
          40,
          39,
          31,
          34,
          44,
          45,
          43,
          29,
          27,
          37,
          41,
          30,
          28,
          28,
          39,
          22,
          31,
          29,
          33,
          37,
          42,
          31,
          34,
          49,
          29,
          40,
          46,
          31,
          43,
          45,
          32,
          38,
          40,
          38,
          32,
          37,
          24,
          25,
          24,
          34,
          55,
          32,
          29,
          20,
          41,
          33,
          25,
          29,
          24,
          39,
          39,
          44,
          30,
          31,
          37,
          42,
          35,
          30,
          30,
          33,
          31,
          39,
          27,
          34,
          31,
          30,
          34,
          20,
          39,
          50,
          22,
          41,
          37,
          32,
          26,
          38,
          21,
          27,
          37,
          45,
          26,
          30,
          21,
          21,
          29,
          46,
          28,
          26,
          37,
          44,
          45,
          35,
          39,
          37,
          35,
          29,
          49,
          21,
          26,
          35,
          56,
          53,
          48,
          24,
          37,
          27,
          39,
          31,
          34,
          33,
          22,
          25,
          34,
          30,
          37,
          26,
          29,
          29,
          27,
          27,
          23,
          24,
          22,
          28,
          22,
          32,
          35,
          26,
          31,
          32,
          37,
          24,
          33,
          28,
          22,
          46,
          30,
          29,
          22,
          24,
          29,
          30,
          25,
          39,
          31,
          25,
          39,
          31,
          35,
          31,
          23,
          30,
          28,
          23,
          26,
          24,
          32,
          35,
          30,
          32,
          35,
          26,
          30,
          29,
          39,
          37,
          35,
          25,
          22,
          33,
          23,
          29,
          28,
          30,
          28,
          28,
          37,
          30,
          27,
          29,
          28,
          26,
          29,
          34,
          36,
          38,
          22,
          24,
          24,
          36,
          24,
          24,
          31,
          39,
          41,
          29,
          37,
          30,
          24,
          22,
          24,
          26,
          38,
          34,
          56,
          52,
          30,
          25,
          27,
          31,
          36,
          22,
          52,
          30,
          36,
          38,
          35,
          36,
          40,
          35,
          23,
          22,
          34,
          28,
          38,
          53,
          21,
          35,
          22,
          18,
          37,
          25,
          40,
          33,
          66,
          31,
          32,
          46,
          30,
          31,
          46,
          29,
          28,
          34,
          25,
          35,
          25,
          40,
          32,
          39,
          33,
          40,
          42,
          32,
          27,
          43,
          30,
          39,
          42,
          37,
          38,
          47,
          64,
          28,
          45,
          37,
          30,
          25,
          25,
          54,
          61,
          26,
          44,
          26,
          26,
          35,
          45,
          23,
          44,
          38,
          46,
          27,
          39,
          33,
          38,
          35,
          32,
          26,
          50,
          31,
          46,
          30,
          30,
          34,
          42,
          24,
          30,
          23,
          31,
          31,
          27,
          26,
          52,
          28,
          37,
          37,
          38,
          57,
          34,
          38,
          30,
          52,
          31,
          29,
          26,
          29,
          44,
          18,
          42,
          30,
          29,
          27,
          39,
          40,
          36,
          48,
          43,
          38,
          42,
          46,
          30,
          25,
          28,
          24,
          26,
          43,
          25,
          34,
          28,
          27,
          22,
          24,
          33,
          41,
          26,
          39,
          24,
          54,
          47,
          33,
          30,
          48,
          35,
          34,
          31,
          25,
          48,
          34,
          42,
          27,
          33,
          27,
          48,
          32,
          29,
          36,
          29,
          23,
          50,
          24,
          29,
          42,
          35,
          22,
          39,
          29,
          20,
          36,
          30,
          36,
          31,
          28,
          28,
          25,
          30,
          45,
          31,
          36,
          37,
          37,
          28,
          37,
          37,
          64,
          34,
          34,
          36,
          26,
          33,
          47,
          24,
          26,
          37,
          29,
          33,
          44,
          34,
          35,
          32,
          23,
          31,
          30,
          42,
          26,
          29,
          35,
          31,
          26,
          30,
          39,
          29,
          27,
          29,
          43,
          31,
          27,
          36,
          44,
          44,
          27,
          42,
          28,
          43,
          28,
          49,
          32,
          33,
          45,
          25,
          42,
          25,
          25,
          31,
          22,
          33,
          40,
          28,
          37,
          35,
          47,
          20,
          27,
          62,
          42,
          35,
          29,
          37,
          51,
          60,
          30,
          36,
          38,
          30,
          35,
          50,
          41,
          58,
          27,
          53,
          42,
          33,
          25,
          40,
          25,
          49,
          44,
          30,
          28,
          26,
          31,
          32,
          24,
          34,
          31,
          47,
          59,
          44,
          26,
          43,
          39,
          43,
          40,
          22,
          24,
          35,
          40,
          26,
          23,
          30,
          37,
          27,
          42,
          49,
          40,
          26,
          29,
          39,
          40,
          23,
          50,
          35,
          24,
          35,
          36,
          50,
          47,
          30,
          30,
          32,
          38,
          38,
          38,
          26,
          45,
          37,
          24,
          33,
          35,
          44,
          27,
          33,
          28,
          35,
          23,
          53,
          32,
          24,
          31,
          33,
          37,
          27,
          31,
          32,
          40,
          32,
          31,
          33,
          21,
          67,
          35,
          46,
          36,
          44,
          57,
          38,
          27,
          26,
          36,
          30,
          35,
          30,
          32,
          35,
          33,
          48,
          32,
          45,
          31,
          40,
          37,
          29,
          26,
          51,
          29,
          30,
          33,
          27,
          42,
          47,
          31,
          32,
          60,
          58,
          38,
          42,
          41,
          25,
          31,
          42,
          42,
          41,
          35,
          24,
          37,
          32,
          34,
          37,
          38,
          30,
          27,
          41,
          41,
          39,
          42,
          28,
          29,
          41,
          46,
          38,
          34,
          28,
          28,
          38,
          33,
          38,
          48,
          44,
          34,
          29,
          39,
          41,
          33,
          31,
          44,
          33,
          26,
          28,
          32,
          35,
          40,
          30,
          34,
          21,
          37,
          27,
          37,
          33,
          28,
          41,
          34,
          37,
          28,
          52,
          39,
          45,
          50,
          27,
          31,
          44,
          31,
          23,
          23,
          38,
          37,
          33,
          34,
          47,
          29,
          38,
          29,
          37,
          39,
          29,
          57,
          27,
          38,
          39,
          29,
          24,
          30,
          32,
          37,
          34,
          52,
          36,
          52,
          49,
          30,
          41,
          29,
          37,
          29,
          39,
          30,
          23,
          29,
          38,
          41,
          47,
          56,
          22,
          32,
          30,
          31,
          36,
          32,
          37,
          29,
          31,
          39,
          36,
          27,
          38,
          37,
          33,
          38,
          36,
          30,
          38,
          35,
          26,
          25,
          40,
          31,
          49,
          30,
          35,
          46,
          29,
          22,
          50,
          39,
          40,
          31,
          38,
          45,
          31,
          25,
          28,
          37,
          54,
          45,
          36,
          34,
          28,
          32,
          40,
          52,
          33,
          41,
          25,
          33,
          36,
          40,
          23,
          37,
          42,
          35,
          32,
          23,
          35,
          34,
          24,
          38,
          42,
          23,
          39,
          30,
          35,
          29,
          24,
          35,
          30,
          28,
          32,
          34,
          33,
          32,
          27,
          23,
          30,
          24,
          34,
          32,
          41,
          37,
          27,
          26,
          24,
          44,
          40,
          42,
          27,
          40,
          38,
          34,
          27,
          34,
          26,
          33,
          39,
          33,
          37,
          30,
          22,
          29,
          51,
          24,
          37,
          46,
          43,
          50,
          30,
          27,
          31,
          32,
          34,
          49,
          37,
          35,
          33,
          32,
          31,
          33,
          40,
          40,
          56,
          28,
          25,
          48,
          43,
          29,
          36,
          34,
          31,
          33,
          49,
          38,
          30,
          36,
          32,
          36,
          40,
          28,
          21,
          46,
          20,
          30,
          44,
          34,
          38,
          35,
          45,
          35,
          30,
          22,
          33,
          30,
          41,
          32,
          48,
          32,
          30,
          45,
          31,
          32,
          30,
          32,
          37,
          30,
          31,
          30,
          35,
          37,
          26,
          50,
          32,
          32,
          23,
          40,
          36,
          24,
          29,
          28,
          51,
          36,
          40,
          39,
          32,
          45,
          39,
          33,
          46,
          34,
          30,
          31,
          28,
          31,
          32,
          39,
          45,
          26,
          36,
          26,
          55,
          32,
          40,
          27,
          45,
          34,
          31,
          29,
          31,
          40,
          41,
          39,
          39,
          35,
          37,
          32,
          24,
          40,
          25,
          49,
          28,
          22,
          41,
          36,
          32,
          23,
          53,
          34,
          30,
          23,
          30,
          22,
          27,
          47,
          33,
          28,
          36,
          25,
          30,
          39,
          31,
          48,
          43,
          35,
          31,
          28,
          27,
          28,
          43,
          31,
          37,
          36,
          42,
          29,
          41,
          37,
          53,
          43,
          44,
          37,
          57,
          47,
          34,
          29,
          38,
          41,
          40,
          -1,
          30,
          -1,
          57,
          29,
          46,
          34,
          29,
          55,
          29,
          35,
          33,
          37,
          45,
          31,
          38,
          26,
          27,
          35,
          47,
          37,
          32,
          46,
          37,
          36,
          29,
          45,
          30,
          46,
          29,
          26,
          26,
          44,
          32,
          34,
          19,
          38,
          61,
          44,
          32,
          31,
          30,
          52,
          44,
          39,
          36,
          30,
          39,
          33,
          37,
          34,
          28,
          43,
          42,
          35,
          28,
          37,
          35,
          31,
          24,
          27,
          36,
          33,
          26,
          26,
          24,
          34,
          25,
          19,
          28,
          26,
          32,
          23,
          46,
          28,
          38,
          30,
          26,
          37,
          35,
          26,
          29,
          57,
          38,
          20,
          41,
          43,
          35,
          40,
          28,
          42,
          39,
          28,
          22,
          29,
          45,
          27,
          32,
          28,
          31,
          28,
          24,
          27,
          36,
          37,
          27,
          53,
          32,
          25,
          29,
          47,
          36,
          61,
          28,
          31,
          35,
          40,
          32,
          41,
          34,
          31,
          35,
          27,
          42,
          67,
          56,
          27,
          37,
          40,
          30,
          39,
          30,
          31,
          36,
          46,
          45,
          25,
          38,
          41,
          37,
          33,
          28,
          34,
          29,
          28,
          41,
          38,
          37,
          42,
          28,
          30,
          25,
          54,
          24,
          32,
          44,
          28,
          41,
          38,
          37,
          36,
          33,
          35,
          31,
          43,
          34,
          44,
          38,
          55,
          25,
          37,
          39,
          23,
          34,
          43,
          29,
          25,
          36,
          33,
          34,
          28,
          54,
          39,
          37,
          29,
          31,
          49,
          43,
          38,
          35,
          23,
          42,
          36,
          38,
          41,
          37,
          25,
          33,
          35,
          32,
          45,
          25,
          40,
          34,
          28,
          49,
          33,
          41,
          36,
          37,
          39,
          49,
          33,
          29,
          34,
          29,
          25,
          35,
          32,
          21,
          43,
          31,
          27,
          23,
          28,
          37,
          30,
          30,
          30,
          32,
          35,
          45,
          31,
          34,
          30,
          33,
          32,
          28,
          28,
          33,
          28,
          28,
          43,
          31,
          40,
          42,
          38,
          39,
          21,
          32,
          32,
          40,
          35,
          28,
          25,
          37,
          40,
          31,
          47,
          26,
          27,
          46,
          22,
          37,
          27,
          28,
          32,
          33,
          27,
          38,
          31,
          28,
          32,
          30,
          26,
          41,
          39,
          37,
          21,
          38,
          35,
          33,
          38,
          29,
          25,
          41,
          37,
          29,
          45,
          45,
          45,
          30,
          27,
          36,
          44,
          35,
          42,
          26,
          33,
          25,
          36,
          32,
          29,
          29,
          43,
          37,
          26,
          46,
          35,
          37,
          30,
          36,
          31,
          42,
          41,
          33,
          26,
          37,
          36,
          35,
          45,
          23,
          26,
          23,
          26,
          34,
          22,
          42,
          40,
          42,
          35,
          36,
          37,
          31,
          27,
          38,
          32,
          23,
          51,
          26,
          19,
          44,
          42,
          26,
          38,
          26,
          40,
          32,
          39,
          44,
          33,
          38,
          42,
          57,
          28,
          31,
          34,
          35,
          30,
          30,
          35,
          40,
          39,
          24,
          42,
          35,
          34,
          33,
          37,
          36,
          47,
          42,
          29,
          38,
          30,
          30,
          36,
          24,
          41,
          48,
          31,
          65,
          34,
          55,
          33,
          41,
          24,
          27,
          30,
          37,
          61,
          45,
          29,
          41,
          39,
          30,
          46,
          42,
          29,
          34,
          52,
          36,
          34,
          50,
          51,
          35,
          34,
          24,
          37,
          24,
          46,
          31,
          35,
          40,
          28,
          28,
          39,
          31,
          27,
          35,
          25,
          51,
          27,
          37,
          46,
          36,
          39,
          35,
          49,
          45,
          40,
          37,
          31,
          37,
          26,
          43,
          35,
          31,
          32,
          37,
          41,
          40,
          37,
          53,
          29,
          37,
          45,
          26,
          28,
          24,
          27,
          42,
          53,
          34,
          23,
          34,
          27,
          31,
          30,
          58,
          50,
          41,
          40,
          28,
          49,
          37,
          36,
          52,
          33,
          54,
          38,
          64,
          40,
          37,
          53,
          55,
          30,
          35,
          60,
          34,
          35,
          34,
          28,
          28,
          36,
          24,
          50,
          55,
          32,
          33,
          30,
          30,
          34,
          36,
          30,
          29,
          34,
          40,
          31,
          27,
          47,
          24,
          36,
          28,
          34,
          28,
          36,
          24,
          32,
          33,
          39,
          26,
          32,
          42,
          41,
          32,
          32,
          31,
          34,
          36,
          33,
          30,
          45,
          30,
          48,
          29,
          35,
          41,
          27,
          42,
          32,
          32,
          20,
          24,
          0,
          38,
          31,
          26,
          40,
          30,
          38,
          28,
          28,
          30,
          23,
          30,
          33,
          53,
          38,
          34,
          40,
          42,
          42,
          38,
          33,
          35,
          27,
          28,
          42,
          35,
          40,
          54,
          37,
          26,
          37,
          49,
          23,
          42,
          49,
          38,
          41,
          33,
          27,
          47,
          28,
          49,
          23,
          23,
          38,
          45,
          35,
          51,
          34,
          29,
          40,
          38,
          32,
          22,
          28,
          29,
          32,
          38,
          30,
          37,
          38,
          51,
          39,
          22,
          26,
          42,
          49,
          48,
          25,
          31,
          63,
          30,
          34,
          41,
          31,
          29,
          29,
          44,
          32,
          28,
          36,
          28,
          30,
          36,
          40,
          27,
          28,
          34,
          34,
          34,
          27,
          44,
          36,
          31,
          26,
          39,
          36,
          25,
          47,
          38,
          33,
          59,
          39,
          19,
          35,
          38,
          23,
          32,
          39,
          33,
          38,
          42,
          39,
          30,
          39,
          50,
          43,
          59,
          53,
          35,
          27,
          24,
          29,
          40,
          27,
          46,
          39,
          19,
          28,
          30,
          29,
          24,
          25,
          45,
          37,
          22,
          35,
          50,
          45,
          49,
          40,
          32,
          38,
          37,
          28,
          25,
          28,
          38,
          25,
          49,
          19,
          43,
          31,
          30,
          39,
          22,
          29,
          30,
          32,
          41,
          27,
          19,
          27,
          31,
          25,
          36,
          28,
          27,
          47,
          25,
          30,
          45,
          41,
          24,
          26,
          32,
          43,
          37,
          51,
          56,
          30,
          48,
          28,
          26,
          45,
          37,
          42,
          34,
          35,
          28,
          26,
          34,
          28,
          34,
          45,
          59,
          41,
          38,
          42,
          21,
          30,
          46,
          36,
          41,
          33,
          41,
          25,
          27,
          47,
          24,
          40,
          37,
          38,
          47,
          30,
          24,
          38,
          42,
          39,
          42,
          47,
          29,
          55,
          34,
          45,
          46,
          23,
          22,
          30,
          27,
          42,
          26,
          31,
          27,
          48,
          50,
          30,
          24
         ],
         "xaxis": "x",
         "yaxis": "y"
        }
       ],
       "layout": {
        "barmode": "relative",
        "legend": {
         "tracegroupgap": 0
        },
        "margin": {
         "t": 60
        },
        "template": {
         "data": {
          "bar": [
           {
            "error_x": {
             "color": "#2a3f5f"
            },
            "error_y": {
             "color": "#2a3f5f"
            },
            "marker": {
             "line": {
              "color": "#E5ECF6",
              "width": 0.5
             },
             "pattern": {
              "fillmode": "overlay",
              "size": 10,
              "solidity": 0.2
             }
            },
            "type": "bar"
           }
          ],
          "barpolar": [
           {
            "marker": {
             "line": {
              "color": "#E5ECF6",
              "width": 0.5
             },
             "pattern": {
              "fillmode": "overlay",
              "size": 10,
              "solidity": 0.2
             }
            },
            "type": "barpolar"
           }
          ],
          "carpet": [
           {
            "aaxis": {
             "endlinecolor": "#2a3f5f",
             "gridcolor": "white",
             "linecolor": "white",
             "minorgridcolor": "white",
             "startlinecolor": "#2a3f5f"
            },
            "baxis": {
             "endlinecolor": "#2a3f5f",
             "gridcolor": "white",
             "linecolor": "white",
             "minorgridcolor": "white",
             "startlinecolor": "#2a3f5f"
            },
            "type": "carpet"
           }
          ],
          "choropleth": [
           {
            "colorbar": {
             "outlinewidth": 0,
             "ticks": ""
            },
            "type": "choropleth"
           }
          ],
          "contour": [
           {
            "colorbar": {
             "outlinewidth": 0,
             "ticks": ""
            },
            "colorscale": [
             [
              0,
              "#0d0887"
             ],
             [
              0.1111111111111111,
              "#46039f"
             ],
             [
              0.2222222222222222,
              "#7201a8"
             ],
             [
              0.3333333333333333,
              "#9c179e"
             ],
             [
              0.4444444444444444,
              "#bd3786"
             ],
             [
              0.5555555555555556,
              "#d8576b"
             ],
             [
              0.6666666666666666,
              "#ed7953"
             ],
             [
              0.7777777777777778,
              "#fb9f3a"
             ],
             [
              0.8888888888888888,
              "#fdca26"
             ],
             [
              1,
              "#f0f921"
             ]
            ],
            "type": "contour"
           }
          ],
          "contourcarpet": [
           {
            "colorbar": {
             "outlinewidth": 0,
             "ticks": ""
            },
            "type": "contourcarpet"
           }
          ],
          "heatmap": [
           {
            "colorbar": {
             "outlinewidth": 0,
             "ticks": ""
            },
            "colorscale": [
             [
              0,
              "#0d0887"
             ],
             [
              0.1111111111111111,
              "#46039f"
             ],
             [
              0.2222222222222222,
              "#7201a8"
             ],
             [
              0.3333333333333333,
              "#9c179e"
             ],
             [
              0.4444444444444444,
              "#bd3786"
             ],
             [
              0.5555555555555556,
              "#d8576b"
             ],
             [
              0.6666666666666666,
              "#ed7953"
             ],
             [
              0.7777777777777778,
              "#fb9f3a"
             ],
             [
              0.8888888888888888,
              "#fdca26"
             ],
             [
              1,
              "#f0f921"
             ]
            ],
            "type": "heatmap"
           }
          ],
          "heatmapgl": [
           {
            "colorbar": {
             "outlinewidth": 0,
             "ticks": ""
            },
            "colorscale": [
             [
              0,
              "#0d0887"
             ],
             [
              0.1111111111111111,
              "#46039f"
             ],
             [
              0.2222222222222222,
              "#7201a8"
             ],
             [
              0.3333333333333333,
              "#9c179e"
             ],
             [
              0.4444444444444444,
              "#bd3786"
             ],
             [
              0.5555555555555556,
              "#d8576b"
             ],
             [
              0.6666666666666666,
              "#ed7953"
             ],
             [
              0.7777777777777778,
              "#fb9f3a"
             ],
             [
              0.8888888888888888,
              "#fdca26"
             ],
             [
              1,
              "#f0f921"
             ]
            ],
            "type": "heatmapgl"
           }
          ],
          "histogram": [
           {
            "marker": {
             "pattern": {
              "fillmode": "overlay",
              "size": 10,
              "solidity": 0.2
             }
            },
            "type": "histogram"
           }
          ],
          "histogram2d": [
           {
            "colorbar": {
             "outlinewidth": 0,
             "ticks": ""
            },
            "colorscale": [
             [
              0,
              "#0d0887"
             ],
             [
              0.1111111111111111,
              "#46039f"
             ],
             [
              0.2222222222222222,
              "#7201a8"
             ],
             [
              0.3333333333333333,
              "#9c179e"
             ],
             [
              0.4444444444444444,
              "#bd3786"
             ],
             [
              0.5555555555555556,
              "#d8576b"
             ],
             [
              0.6666666666666666,
              "#ed7953"
             ],
             [
              0.7777777777777778,
              "#fb9f3a"
             ],
             [
              0.8888888888888888,
              "#fdca26"
             ],
             [
              1,
              "#f0f921"
             ]
            ],
            "type": "histogram2d"
           }
          ],
          "histogram2dcontour": [
           {
            "colorbar": {
             "outlinewidth": 0,
             "ticks": ""
            },
            "colorscale": [
             [
              0,
              "#0d0887"
             ],
             [
              0.1111111111111111,
              "#46039f"
             ],
             [
              0.2222222222222222,
              "#7201a8"
             ],
             [
              0.3333333333333333,
              "#9c179e"
             ],
             [
              0.4444444444444444,
              "#bd3786"
             ],
             [
              0.5555555555555556,
              "#d8576b"
             ],
             [
              0.6666666666666666,
              "#ed7953"
             ],
             [
              0.7777777777777778,
              "#fb9f3a"
             ],
             [
              0.8888888888888888,
              "#fdca26"
             ],
             [
              1,
              "#f0f921"
             ]
            ],
            "type": "histogram2dcontour"
           }
          ],
          "mesh3d": [
           {
            "colorbar": {
             "outlinewidth": 0,
             "ticks": ""
            },
            "type": "mesh3d"
           }
          ],
          "parcoords": [
           {
            "line": {
             "colorbar": {
              "outlinewidth": 0,
              "ticks": ""
             }
            },
            "type": "parcoords"
           }
          ],
          "pie": [
           {
            "automargin": true,
            "type": "pie"
           }
          ],
          "scatter": [
           {
            "fillpattern": {
             "fillmode": "overlay",
             "size": 10,
             "solidity": 0.2
            },
            "type": "scatter"
           }
          ],
          "scatter3d": [
           {
            "line": {
             "colorbar": {
              "outlinewidth": 0,
              "ticks": ""
             }
            },
            "marker": {
             "colorbar": {
              "outlinewidth": 0,
              "ticks": ""
             }
            },
            "type": "scatter3d"
           }
          ],
          "scattercarpet": [
           {
            "marker": {
             "colorbar": {
              "outlinewidth": 0,
              "ticks": ""
             }
            },
            "type": "scattercarpet"
           }
          ],
          "scattergeo": [
           {
            "marker": {
             "colorbar": {
              "outlinewidth": 0,
              "ticks": ""
             }
            },
            "type": "scattergeo"
           }
          ],
          "scattergl": [
           {
            "marker": {
             "colorbar": {
              "outlinewidth": 0,
              "ticks": ""
             }
            },
            "type": "scattergl"
           }
          ],
          "scattermapbox": [
           {
            "marker": {
             "colorbar": {
              "outlinewidth": 0,
              "ticks": ""
             }
            },
            "type": "scattermapbox"
           }
          ],
          "scatterpolar": [
           {
            "marker": {
             "colorbar": {
              "outlinewidth": 0,
              "ticks": ""
             }
            },
            "type": "scatterpolar"
           }
          ],
          "scatterpolargl": [
           {
            "marker": {
             "colorbar": {
              "outlinewidth": 0,
              "ticks": ""
             }
            },
            "type": "scatterpolargl"
           }
          ],
          "scatterternary": [
           {
            "marker": {
             "colorbar": {
              "outlinewidth": 0,
              "ticks": ""
             }
            },
            "type": "scatterternary"
           }
          ],
          "surface": [
           {
            "colorbar": {
             "outlinewidth": 0,
             "ticks": ""
            },
            "colorscale": [
             [
              0,
              "#0d0887"
             ],
             [
              0.1111111111111111,
              "#46039f"
             ],
             [
              0.2222222222222222,
              "#7201a8"
             ],
             [
              0.3333333333333333,
              "#9c179e"
             ],
             [
              0.4444444444444444,
              "#bd3786"
             ],
             [
              0.5555555555555556,
              "#d8576b"
             ],
             [
              0.6666666666666666,
              "#ed7953"
             ],
             [
              0.7777777777777778,
              "#fb9f3a"
             ],
             [
              0.8888888888888888,
              "#fdca26"
             ],
             [
              1,
              "#f0f921"
             ]
            ],
            "type": "surface"
           }
          ],
          "table": [
           {
            "cells": {
             "fill": {
              "color": "#EBF0F8"
             },
             "line": {
              "color": "white"
             }
            },
            "header": {
             "fill": {
              "color": "#C8D4E3"
             },
             "line": {
              "color": "white"
             }
            },
            "type": "table"
           }
          ]
         },
         "layout": {
          "annotationdefaults": {
           "arrowcolor": "#2a3f5f",
           "arrowhead": 0,
           "arrowwidth": 1
          },
          "autotypenumbers": "strict",
          "coloraxis": {
           "colorbar": {
            "outlinewidth": 0,
            "ticks": ""
           }
          },
          "colorscale": {
           "diverging": [
            [
             0,
             "#8e0152"
            ],
            [
             0.1,
             "#c51b7d"
            ],
            [
             0.2,
             "#de77ae"
            ],
            [
             0.3,
             "#f1b6da"
            ],
            [
             0.4,
             "#fde0ef"
            ],
            [
             0.5,
             "#f7f7f7"
            ],
            [
             0.6,
             "#e6f5d0"
            ],
            [
             0.7,
             "#b8e186"
            ],
            [
             0.8,
             "#7fbc41"
            ],
            [
             0.9,
             "#4d9221"
            ],
            [
             1,
             "#276419"
            ]
           ],
           "sequential": [
            [
             0,
             "#0d0887"
            ],
            [
             0.1111111111111111,
             "#46039f"
            ],
            [
             0.2222222222222222,
             "#7201a8"
            ],
            [
             0.3333333333333333,
             "#9c179e"
            ],
            [
             0.4444444444444444,
             "#bd3786"
            ],
            [
             0.5555555555555556,
             "#d8576b"
            ],
            [
             0.6666666666666666,
             "#ed7953"
            ],
            [
             0.7777777777777778,
             "#fb9f3a"
            ],
            [
             0.8888888888888888,
             "#fdca26"
            ],
            [
             1,
             "#f0f921"
            ]
           ],
           "sequentialminus": [
            [
             0,
             "#0d0887"
            ],
            [
             0.1111111111111111,
             "#46039f"
            ],
            [
             0.2222222222222222,
             "#7201a8"
            ],
            [
             0.3333333333333333,
             "#9c179e"
            ],
            [
             0.4444444444444444,
             "#bd3786"
            ],
            [
             0.5555555555555556,
             "#d8576b"
            ],
            [
             0.6666666666666666,
             "#ed7953"
            ],
            [
             0.7777777777777778,
             "#fb9f3a"
            ],
            [
             0.8888888888888888,
             "#fdca26"
            ],
            [
             1,
             "#f0f921"
            ]
           ]
          },
          "colorway": [
           "#636efa",
           "#EF553B",
           "#00cc96",
           "#ab63fa",
           "#FFA15A",
           "#19d3f3",
           "#FF6692",
           "#B6E880",
           "#FF97FF",
           "#FECB52"
          ],
          "font": {
           "color": "#2a3f5f"
          },
          "geo": {
           "bgcolor": "white",
           "lakecolor": "white",
           "landcolor": "#E5ECF6",
           "showlakes": true,
           "showland": true,
           "subunitcolor": "white"
          },
          "hoverlabel": {
           "align": "left"
          },
          "hovermode": "closest",
          "mapbox": {
           "style": "light"
          },
          "paper_bgcolor": "white",
          "plot_bgcolor": "#E5ECF6",
          "polar": {
           "angularaxis": {
            "gridcolor": "white",
            "linecolor": "white",
            "ticks": ""
           },
           "bgcolor": "#E5ECF6",
           "radialaxis": {
            "gridcolor": "white",
            "linecolor": "white",
            "ticks": ""
           }
          },
          "scene": {
           "xaxis": {
            "backgroundcolor": "#E5ECF6",
            "gridcolor": "white",
            "gridwidth": 2,
            "linecolor": "white",
            "showbackground": true,
            "ticks": "",
            "zerolinecolor": "white"
           },
           "yaxis": {
            "backgroundcolor": "#E5ECF6",
            "gridcolor": "white",
            "gridwidth": 2,
            "linecolor": "white",
            "showbackground": true,
            "ticks": "",
            "zerolinecolor": "white"
           },
           "zaxis": {
            "backgroundcolor": "#E5ECF6",
            "gridcolor": "white",
            "gridwidth": 2,
            "linecolor": "white",
            "showbackground": true,
            "ticks": "",
            "zerolinecolor": "white"
           }
          },
          "shapedefaults": {
           "line": {
            "color": "#2a3f5f"
           }
          },
          "ternary": {
           "aaxis": {
            "gridcolor": "white",
            "linecolor": "white",
            "ticks": ""
           },
           "baxis": {
            "gridcolor": "white",
            "linecolor": "white",
            "ticks": ""
           },
           "bgcolor": "#E5ECF6",
           "caxis": {
            "gridcolor": "white",
            "linecolor": "white",
            "ticks": ""
           }
          },
          "title": {
           "x": 0.05
          },
          "xaxis": {
           "automargin": true,
           "gridcolor": "white",
           "linecolor": "white",
           "ticks": "",
           "title": {
            "standoff": 15
           },
           "zerolinecolor": "white",
           "zerolinewidth": 2
          },
          "yaxis": {
           "automargin": true,
           "gridcolor": "white",
           "linecolor": "white",
           "ticks": "",
           "title": {
            "standoff": 15
           },
           "zerolinecolor": "white",
           "zerolinewidth": 2
          }
         }
        },
        "xaxis": {
         "anchor": "y",
         "domain": [
          0,
          1
         ],
         "title": {
          "text": "Age"
         }
        },
        "yaxis": {
         "anchor": "x",
         "domain": [
          0,
          1
         ],
         "title": {
          "text": "count"
         }
        }
       }
      }
     },
     "metadata": {},
     "output_type": "display_data"
    }
   ],
   "source": [
    "px.histogram(data_frame=age_df, x=\"Age\")"
   ]
  },
  {
   "cell_type": "markdown",
   "metadata": {},
   "source": [
    "### **Gender**\n"
   ]
  },
  {
   "cell_type": "code",
   "execution_count": null,
   "metadata": {},
   "outputs": [],
   "source": [
    "gender_df = question_df(df=df, question_no=2, col_name=\"Gender\")"
   ]
  },
  {
   "cell_type": "code",
   "execution_count": null,
   "metadata": {},
   "outputs": [],
   "source": [
    "gender_df[\"Gender\"] = gender_df[\"Gender\"].str.lower()\n",
    "gender_gr = gender_df[\"Gender\"].value_counts().reset_index()"
   ]
  },
  {
   "cell_type": "code",
   "execution_count": null,
   "metadata": {},
   "outputs": [
    {
     "data": {
      "application/vnd.plotly.v1+json": {
       "config": {
        "plotlyServerURL": "https://plot.ly"
       },
       "data": [
        {
         "alignmentgroup": "True",
         "hovertemplate": "Gender=%{x}<br>count=%{y}<extra></extra>",
         "legendgroup": "",
         "marker": {
          "color": "#636efa",
          "pattern": {
           "shape": ""
          }
         },
         "name": "",
         "offsetgroup": "",
         "orientation": "v",
         "showlegend": false,
         "textposition": "auto",
         "texttemplate": "%{y}",
         "type": "bar",
         "x": [
          "male",
          "female",
          "-1",
          "non-binary",
          "nonbinary",
          "agender",
          "genderqueer",
          "genderfluid",
          "none",
          "non binary",
          "trans woman",
          "queer",
          "female (trans)",
          "fluid",
          "human",
          "enby",
          "trans man",
          "other",
          "male-ish",
          "male (or female, or both)",
          "ostensibly male",
          "\\-",
          "transfeminine",
          "female/gender non-binary.",
          "female-ish",
          "genderqueer/non-binary",
          "genderqueer demigirl",
          "contextual",
          "woman-identified",
          "transgender",
          "nb",
          "demiguy",
          "trans female",
          "trans non-binary/genderfluid",
          "i am a wookie",
          "masculino",
          "43",
          "femmina",
          "agender trans woman",
          "rr",
          "i have a penis",
          "questioning",
          "female-identified",
          "cishet male",
          "masculine",
          "gender non-conforming woman",
          "nonbinary/femme",
          "agender/genderfluid",
          "swm",
          "she/her/they/them",
          "sometimes",
          "male (trans, ftm)",
          "god king of the valajar",
          "male leaning androgynous",
          "female assigned at birth",
          "bigender",
          "ostensibly male, unsure what that really means",
          "p",
          "a little about you",
          "neuter",
          "guy (-ish) ^_^",
          "transitioned, m2f",
          "androgyne",
          "all",
          "nah",
          "queer/she/they",
          "something kinda male?",
          "trans-female",
          "fm",
          "genderfluid (born female)",
          "uhhhhhhhhh fem genderqueer?",
          "male/genderqueer",
          "male/androgynous",
          "transgender woman",
          "afab",
          "female-bodied; no feelings about gender",
          "genderflux demi-girl",
          "unicorn",
          "mtf",
          "other/transfeminine",
          "genderqueer woman",
          "none of your business",
          "nb masculine",
          "male 9:1 female, roughly",
          "androgynous",
          "female or multi-gender femme",
          "non-binary and gender fluid"
         ],
         "xaxis": "x",
         "y": [
          3043,
          1024,
          24,
          9,
          9,
          6,
          5,
          4,
          4,
          3,
          3,
          2,
          2,
          2,
          2,
          2,
          2,
          2,
          2,
          1,
          1,
          1,
          1,
          1,
          1,
          1,
          1,
          1,
          1,
          1,
          1,
          1,
          1,
          1,
          1,
          1,
          1,
          1,
          1,
          1,
          1,
          1,
          1,
          1,
          1,
          1,
          1,
          1,
          1,
          1,
          1,
          1,
          1,
          1,
          1,
          1,
          1,
          1,
          1,
          1,
          1,
          1,
          1,
          1,
          1,
          1,
          1,
          1,
          1,
          1,
          1,
          1,
          1,
          1,
          1,
          1,
          1,
          1,
          1,
          1,
          1,
          1,
          1,
          1,
          1,
          1,
          1
         ],
         "yaxis": "y"
        }
       ],
       "layout": {
        "barmode": "relative",
        "legend": {
         "tracegroupgap": 0
        },
        "template": {
         "data": {
          "bar": [
           {
            "error_x": {
             "color": "#2a3f5f"
            },
            "error_y": {
             "color": "#2a3f5f"
            },
            "marker": {
             "line": {
              "color": "#E5ECF6",
              "width": 0.5
             },
             "pattern": {
              "fillmode": "overlay",
              "size": 10,
              "solidity": 0.2
             }
            },
            "type": "bar"
           }
          ],
          "barpolar": [
           {
            "marker": {
             "line": {
              "color": "#E5ECF6",
              "width": 0.5
             },
             "pattern": {
              "fillmode": "overlay",
              "size": 10,
              "solidity": 0.2
             }
            },
            "type": "barpolar"
           }
          ],
          "carpet": [
           {
            "aaxis": {
             "endlinecolor": "#2a3f5f",
             "gridcolor": "white",
             "linecolor": "white",
             "minorgridcolor": "white",
             "startlinecolor": "#2a3f5f"
            },
            "baxis": {
             "endlinecolor": "#2a3f5f",
             "gridcolor": "white",
             "linecolor": "white",
             "minorgridcolor": "white",
             "startlinecolor": "#2a3f5f"
            },
            "type": "carpet"
           }
          ],
          "choropleth": [
           {
            "colorbar": {
             "outlinewidth": 0,
             "ticks": ""
            },
            "type": "choropleth"
           }
          ],
          "contour": [
           {
            "colorbar": {
             "outlinewidth": 0,
             "ticks": ""
            },
            "colorscale": [
             [
              0,
              "#0d0887"
             ],
             [
              0.1111111111111111,
              "#46039f"
             ],
             [
              0.2222222222222222,
              "#7201a8"
             ],
             [
              0.3333333333333333,
              "#9c179e"
             ],
             [
              0.4444444444444444,
              "#bd3786"
             ],
             [
              0.5555555555555556,
              "#d8576b"
             ],
             [
              0.6666666666666666,
              "#ed7953"
             ],
             [
              0.7777777777777778,
              "#fb9f3a"
             ],
             [
              0.8888888888888888,
              "#fdca26"
             ],
             [
              1,
              "#f0f921"
             ]
            ],
            "type": "contour"
           }
          ],
          "contourcarpet": [
           {
            "colorbar": {
             "outlinewidth": 0,
             "ticks": ""
            },
            "type": "contourcarpet"
           }
          ],
          "heatmap": [
           {
            "colorbar": {
             "outlinewidth": 0,
             "ticks": ""
            },
            "colorscale": [
             [
              0,
              "#0d0887"
             ],
             [
              0.1111111111111111,
              "#46039f"
             ],
             [
              0.2222222222222222,
              "#7201a8"
             ],
             [
              0.3333333333333333,
              "#9c179e"
             ],
             [
              0.4444444444444444,
              "#bd3786"
             ],
             [
              0.5555555555555556,
              "#d8576b"
             ],
             [
              0.6666666666666666,
              "#ed7953"
             ],
             [
              0.7777777777777778,
              "#fb9f3a"
             ],
             [
              0.8888888888888888,
              "#fdca26"
             ],
             [
              1,
              "#f0f921"
             ]
            ],
            "type": "heatmap"
           }
          ],
          "heatmapgl": [
           {
            "colorbar": {
             "outlinewidth": 0,
             "ticks": ""
            },
            "colorscale": [
             [
              0,
              "#0d0887"
             ],
             [
              0.1111111111111111,
              "#46039f"
             ],
             [
              0.2222222222222222,
              "#7201a8"
             ],
             [
              0.3333333333333333,
              "#9c179e"
             ],
             [
              0.4444444444444444,
              "#bd3786"
             ],
             [
              0.5555555555555556,
              "#d8576b"
             ],
             [
              0.6666666666666666,
              "#ed7953"
             ],
             [
              0.7777777777777778,
              "#fb9f3a"
             ],
             [
              0.8888888888888888,
              "#fdca26"
             ],
             [
              1,
              "#f0f921"
             ]
            ],
            "type": "heatmapgl"
           }
          ],
          "histogram": [
           {
            "marker": {
             "pattern": {
              "fillmode": "overlay",
              "size": 10,
              "solidity": 0.2
             }
            },
            "type": "histogram"
           }
          ],
          "histogram2d": [
           {
            "colorbar": {
             "outlinewidth": 0,
             "ticks": ""
            },
            "colorscale": [
             [
              0,
              "#0d0887"
             ],
             [
              0.1111111111111111,
              "#46039f"
             ],
             [
              0.2222222222222222,
              "#7201a8"
             ],
             [
              0.3333333333333333,
              "#9c179e"
             ],
             [
              0.4444444444444444,
              "#bd3786"
             ],
             [
              0.5555555555555556,
              "#d8576b"
             ],
             [
              0.6666666666666666,
              "#ed7953"
             ],
             [
              0.7777777777777778,
              "#fb9f3a"
             ],
             [
              0.8888888888888888,
              "#fdca26"
             ],
             [
              1,
              "#f0f921"
             ]
            ],
            "type": "histogram2d"
           }
          ],
          "histogram2dcontour": [
           {
            "colorbar": {
             "outlinewidth": 0,
             "ticks": ""
            },
            "colorscale": [
             [
              0,
              "#0d0887"
             ],
             [
              0.1111111111111111,
              "#46039f"
             ],
             [
              0.2222222222222222,
              "#7201a8"
             ],
             [
              0.3333333333333333,
              "#9c179e"
             ],
             [
              0.4444444444444444,
              "#bd3786"
             ],
             [
              0.5555555555555556,
              "#d8576b"
             ],
             [
              0.6666666666666666,
              "#ed7953"
             ],
             [
              0.7777777777777778,
              "#fb9f3a"
             ],
             [
              0.8888888888888888,
              "#fdca26"
             ],
             [
              1,
              "#f0f921"
             ]
            ],
            "type": "histogram2dcontour"
           }
          ],
          "mesh3d": [
           {
            "colorbar": {
             "outlinewidth": 0,
             "ticks": ""
            },
            "type": "mesh3d"
           }
          ],
          "parcoords": [
           {
            "line": {
             "colorbar": {
              "outlinewidth": 0,
              "ticks": ""
             }
            },
            "type": "parcoords"
           }
          ],
          "pie": [
           {
            "automargin": true,
            "type": "pie"
           }
          ],
          "scatter": [
           {
            "fillpattern": {
             "fillmode": "overlay",
             "size": 10,
             "solidity": 0.2
            },
            "type": "scatter"
           }
          ],
          "scatter3d": [
           {
            "line": {
             "colorbar": {
              "outlinewidth": 0,
              "ticks": ""
             }
            },
            "marker": {
             "colorbar": {
              "outlinewidth": 0,
              "ticks": ""
             }
            },
            "type": "scatter3d"
           }
          ],
          "scattercarpet": [
           {
            "marker": {
             "colorbar": {
              "outlinewidth": 0,
              "ticks": ""
             }
            },
            "type": "scattercarpet"
           }
          ],
          "scattergeo": [
           {
            "marker": {
             "colorbar": {
              "outlinewidth": 0,
              "ticks": ""
             }
            },
            "type": "scattergeo"
           }
          ],
          "scattergl": [
           {
            "marker": {
             "colorbar": {
              "outlinewidth": 0,
              "ticks": ""
             }
            },
            "type": "scattergl"
           }
          ],
          "scattermapbox": [
           {
            "marker": {
             "colorbar": {
              "outlinewidth": 0,
              "ticks": ""
             }
            },
            "type": "scattermapbox"
           }
          ],
          "scatterpolar": [
           {
            "marker": {
             "colorbar": {
              "outlinewidth": 0,
              "ticks": ""
             }
            },
            "type": "scatterpolar"
           }
          ],
          "scatterpolargl": [
           {
            "marker": {
             "colorbar": {
              "outlinewidth": 0,
              "ticks": ""
             }
            },
            "type": "scatterpolargl"
           }
          ],
          "scatterternary": [
           {
            "marker": {
             "colorbar": {
              "outlinewidth": 0,
              "ticks": ""
             }
            },
            "type": "scatterternary"
           }
          ],
          "surface": [
           {
            "colorbar": {
             "outlinewidth": 0,
             "ticks": ""
            },
            "colorscale": [
             [
              0,
              "#0d0887"
             ],
             [
              0.1111111111111111,
              "#46039f"
             ],
             [
              0.2222222222222222,
              "#7201a8"
             ],
             [
              0.3333333333333333,
              "#9c179e"
             ],
             [
              0.4444444444444444,
              "#bd3786"
             ],
             [
              0.5555555555555556,
              "#d8576b"
             ],
             [
              0.6666666666666666,
              "#ed7953"
             ],
             [
              0.7777777777777778,
              "#fb9f3a"
             ],
             [
              0.8888888888888888,
              "#fdca26"
             ],
             [
              1,
              "#f0f921"
             ]
            ],
            "type": "surface"
           }
          ],
          "table": [
           {
            "cells": {
             "fill": {
              "color": "#EBF0F8"
             },
             "line": {
              "color": "white"
             }
            },
            "header": {
             "fill": {
              "color": "#C8D4E3"
             },
             "line": {
              "color": "white"
             }
            },
            "type": "table"
           }
          ]
         },
         "layout": {
          "annotationdefaults": {
           "arrowcolor": "#2a3f5f",
           "arrowhead": 0,
           "arrowwidth": 1
          },
          "autotypenumbers": "strict",
          "coloraxis": {
           "colorbar": {
            "outlinewidth": 0,
            "ticks": ""
           }
          },
          "colorscale": {
           "diverging": [
            [
             0,
             "#8e0152"
            ],
            [
             0.1,
             "#c51b7d"
            ],
            [
             0.2,
             "#de77ae"
            ],
            [
             0.3,
             "#f1b6da"
            ],
            [
             0.4,
             "#fde0ef"
            ],
            [
             0.5,
             "#f7f7f7"
            ],
            [
             0.6,
             "#e6f5d0"
            ],
            [
             0.7,
             "#b8e186"
            ],
            [
             0.8,
             "#7fbc41"
            ],
            [
             0.9,
             "#4d9221"
            ],
            [
             1,
             "#276419"
            ]
           ],
           "sequential": [
            [
             0,
             "#0d0887"
            ],
            [
             0.1111111111111111,
             "#46039f"
            ],
            [
             0.2222222222222222,
             "#7201a8"
            ],
            [
             0.3333333333333333,
             "#9c179e"
            ],
            [
             0.4444444444444444,
             "#bd3786"
            ],
            [
             0.5555555555555556,
             "#d8576b"
            ],
            [
             0.6666666666666666,
             "#ed7953"
            ],
            [
             0.7777777777777778,
             "#fb9f3a"
            ],
            [
             0.8888888888888888,
             "#fdca26"
            ],
            [
             1,
             "#f0f921"
            ]
           ],
           "sequentialminus": [
            [
             0,
             "#0d0887"
            ],
            [
             0.1111111111111111,
             "#46039f"
            ],
            [
             0.2222222222222222,
             "#7201a8"
            ],
            [
             0.3333333333333333,
             "#9c179e"
            ],
            [
             0.4444444444444444,
             "#bd3786"
            ],
            [
             0.5555555555555556,
             "#d8576b"
            ],
            [
             0.6666666666666666,
             "#ed7953"
            ],
            [
             0.7777777777777778,
             "#fb9f3a"
            ],
            [
             0.8888888888888888,
             "#fdca26"
            ],
            [
             1,
             "#f0f921"
            ]
           ]
          },
          "colorway": [
           "#636efa",
           "#EF553B",
           "#00cc96",
           "#ab63fa",
           "#FFA15A",
           "#19d3f3",
           "#FF6692",
           "#B6E880",
           "#FF97FF",
           "#FECB52"
          ],
          "font": {
           "color": "#2a3f5f"
          },
          "geo": {
           "bgcolor": "white",
           "lakecolor": "white",
           "landcolor": "#E5ECF6",
           "showlakes": true,
           "showland": true,
           "subunitcolor": "white"
          },
          "hoverlabel": {
           "align": "left"
          },
          "hovermode": "closest",
          "mapbox": {
           "style": "light"
          },
          "paper_bgcolor": "white",
          "plot_bgcolor": "#E5ECF6",
          "polar": {
           "angularaxis": {
            "gridcolor": "white",
            "linecolor": "white",
            "ticks": ""
           },
           "bgcolor": "#E5ECF6",
           "radialaxis": {
            "gridcolor": "white",
            "linecolor": "white",
            "ticks": ""
           }
          },
          "scene": {
           "xaxis": {
            "backgroundcolor": "#E5ECF6",
            "gridcolor": "white",
            "gridwidth": 2,
            "linecolor": "white",
            "showbackground": true,
            "ticks": "",
            "zerolinecolor": "white"
           },
           "yaxis": {
            "backgroundcolor": "#E5ECF6",
            "gridcolor": "white",
            "gridwidth": 2,
            "linecolor": "white",
            "showbackground": true,
            "ticks": "",
            "zerolinecolor": "white"
           },
           "zaxis": {
            "backgroundcolor": "#E5ECF6",
            "gridcolor": "white",
            "gridwidth": 2,
            "linecolor": "white",
            "showbackground": true,
            "ticks": "",
            "zerolinecolor": "white"
           }
          },
          "shapedefaults": {
           "line": {
            "color": "#2a3f5f"
           }
          },
          "ternary": {
           "aaxis": {
            "gridcolor": "white",
            "linecolor": "white",
            "ticks": ""
           },
           "baxis": {
            "gridcolor": "white",
            "linecolor": "white",
            "ticks": ""
           },
           "bgcolor": "#E5ECF6",
           "caxis": {
            "gridcolor": "white",
            "linecolor": "white",
            "ticks": ""
           }
          },
          "title": {
           "x": 0.05
          },
          "xaxis": {
           "automargin": true,
           "gridcolor": "white",
           "linecolor": "white",
           "ticks": "",
           "title": {
            "standoff": 15
           },
           "zerolinecolor": "white",
           "zerolinewidth": 2
          },
          "yaxis": {
           "automargin": true,
           "gridcolor": "white",
           "linecolor": "white",
           "ticks": "",
           "title": {
            "standoff": 15
           },
           "zerolinecolor": "white",
           "zerolinewidth": 2
          }
         }
        },
        "title": {
         "text": "Genders"
        },
        "xaxis": {
         "anchor": "y",
         "domain": [
          0,
          1
         ],
         "title": {
          "text": "Gender"
         }
        },
        "yaxis": {
         "anchor": "x",
         "domain": [
          0,
          1
         ],
         "title": {
          "text": "count"
         }
        }
       }
      }
     },
     "metadata": {},
     "output_type": "display_data"
    }
   ],
   "source": [
    "bar_chart(df=gender_gr, xaxis=\"Gender\", yaxis=\"count\", title=\"Genders\")"
   ]
  },
  {
   "cell_type": "markdown",
   "metadata": {},
   "source": [
    "Paliekame tik Male ir Female, kitus eliminuojame.\n"
   ]
  },
  {
   "cell_type": "code",
   "execution_count": null,
   "metadata": {},
   "outputs": [],
   "source": [
    "gender_df = gender_df.loc[gender_df[\"Gender\"].isin([\"male\", \"female\"])]"
   ]
  },
  {
   "cell_type": "markdown",
   "metadata": {},
   "source": [
    "### **Country**\n"
   ]
  },
  {
   "cell_type": "code",
   "execution_count": null,
   "metadata": {},
   "outputs": [],
   "source": [
    "country_df = question_df(df=df, question_no=3, col_name=\"Country\").replace(\n",
    "    \"United States of America\", \"United States\"\n",
    ")"
   ]
  },
  {
   "cell_type": "code",
   "execution_count": null,
   "metadata": {},
   "outputs": [],
   "source": [
    "country_gr = country_df[\"Country\"].value_counts().reset_index()"
   ]
  },
  {
   "cell_type": "code",
   "execution_count": null,
   "metadata": {},
   "outputs": [
    {
     "data": {
      "application/vnd.plotly.v1+json": {
       "config": {
        "plotlyServerURL": "https://plot.ly"
       },
       "data": [
        {
         "alignmentgroup": "True",
         "hovertemplate": "Country=%{x}<br>count=%{y}<extra></extra>",
         "legendgroup": "",
         "marker": {
          "color": "#636efa",
          "pattern": {
           "shape": ""
          }
         },
         "name": "",
         "offsetgroup": "",
         "orientation": "v",
         "showlegend": false,
         "textposition": "auto",
         "texttemplate": "%{y}",
         "type": "bar",
         "x": [
          "United States",
          "United Kingdom",
          "Canada",
          "Germany",
          "Netherlands",
          "Australia",
          "France",
          "Ireland",
          "India",
          "Brazil",
          "Sweden",
          "Switzerland",
          "Spain",
          "New Zealand",
          "Portugal",
          "Poland",
          "Italy",
          "Belgium",
          "Russia",
          "South Africa",
          "Finland",
          "Bulgaria",
          "Norway",
          "Mexico",
          "Austria",
          "Japan",
          "Israel",
          "Denmark",
          "Romania",
          "Greece",
          "Pakistan",
          "Czech Republic",
          "Colombia",
          "Estonia",
          "Singapore",
          "Turkey",
          "Serbia",
          "Hungary",
          "Croatia",
          "Argentina",
          "Bangladesh",
          "Ukraine",
          "Afghanistan",
          "Chile",
          "Bosnia and Herzegovina",
          "Indonesia",
          "Other",
          "Slovakia",
          "-1",
          "Algeria",
          "Lithuania",
          "Iceland",
          "China",
          "Georgia",
          "Hong Kong",
          "Costa Rica",
          "Nigeria",
          "Latvia",
          "Uruguay",
          "Mauritius",
          "Kenya",
          "Ethiopia",
          "Macedonia",
          "Belarus",
          "Jordan",
          "Saudi Arabia",
          "Zimbabwe",
          "Taiwan",
          "Guatemala",
          "Ecuador",
          "Iran",
          "Brunei",
          "Vietnam",
          "Venezuela",
          "Philippines",
          "Moldova",
          "Bahamas, The",
          "Slovenia",
          "Thailand",
          "Ghana"
         ],
         "xaxis": "x",
         "y": [
          2604,
          482,
          199,
          136,
          98,
          73,
          51,
          51,
          50,
          37,
          29,
          28,
          26,
          24,
          23,
          21,
          19,
          17,
          16,
          16,
          13,
          13,
          12,
          12,
          10,
          9,
          9,
          9,
          9,
          7,
          7,
          6,
          6,
          5,
          5,
          5,
          4,
          4,
          4,
          4,
          3,
          3,
          3,
          3,
          3,
          3,
          2,
          2,
          2,
          2,
          2,
          2,
          2,
          2,
          2,
          2,
          2,
          2,
          2,
          1,
          1,
          1,
          1,
          1,
          1,
          1,
          1,
          1,
          1,
          1,
          1,
          1,
          1,
          1,
          1,
          1,
          1,
          1,
          1,
          1
         ],
         "yaxis": "y"
        }
       ],
       "layout": {
        "barmode": "relative",
        "legend": {
         "tracegroupgap": 0
        },
        "template": {
         "data": {
          "bar": [
           {
            "error_x": {
             "color": "#2a3f5f"
            },
            "error_y": {
             "color": "#2a3f5f"
            },
            "marker": {
             "line": {
              "color": "#E5ECF6",
              "width": 0.5
             },
             "pattern": {
              "fillmode": "overlay",
              "size": 10,
              "solidity": 0.2
             }
            },
            "type": "bar"
           }
          ],
          "barpolar": [
           {
            "marker": {
             "line": {
              "color": "#E5ECF6",
              "width": 0.5
             },
             "pattern": {
              "fillmode": "overlay",
              "size": 10,
              "solidity": 0.2
             }
            },
            "type": "barpolar"
           }
          ],
          "carpet": [
           {
            "aaxis": {
             "endlinecolor": "#2a3f5f",
             "gridcolor": "white",
             "linecolor": "white",
             "minorgridcolor": "white",
             "startlinecolor": "#2a3f5f"
            },
            "baxis": {
             "endlinecolor": "#2a3f5f",
             "gridcolor": "white",
             "linecolor": "white",
             "minorgridcolor": "white",
             "startlinecolor": "#2a3f5f"
            },
            "type": "carpet"
           }
          ],
          "choropleth": [
           {
            "colorbar": {
             "outlinewidth": 0,
             "ticks": ""
            },
            "type": "choropleth"
           }
          ],
          "contour": [
           {
            "colorbar": {
             "outlinewidth": 0,
             "ticks": ""
            },
            "colorscale": [
             [
              0,
              "#0d0887"
             ],
             [
              0.1111111111111111,
              "#46039f"
             ],
             [
              0.2222222222222222,
              "#7201a8"
             ],
             [
              0.3333333333333333,
              "#9c179e"
             ],
             [
              0.4444444444444444,
              "#bd3786"
             ],
             [
              0.5555555555555556,
              "#d8576b"
             ],
             [
              0.6666666666666666,
              "#ed7953"
             ],
             [
              0.7777777777777778,
              "#fb9f3a"
             ],
             [
              0.8888888888888888,
              "#fdca26"
             ],
             [
              1,
              "#f0f921"
             ]
            ],
            "type": "contour"
           }
          ],
          "contourcarpet": [
           {
            "colorbar": {
             "outlinewidth": 0,
             "ticks": ""
            },
            "type": "contourcarpet"
           }
          ],
          "heatmap": [
           {
            "colorbar": {
             "outlinewidth": 0,
             "ticks": ""
            },
            "colorscale": [
             [
              0,
              "#0d0887"
             ],
             [
              0.1111111111111111,
              "#46039f"
             ],
             [
              0.2222222222222222,
              "#7201a8"
             ],
             [
              0.3333333333333333,
              "#9c179e"
             ],
             [
              0.4444444444444444,
              "#bd3786"
             ],
             [
              0.5555555555555556,
              "#d8576b"
             ],
             [
              0.6666666666666666,
              "#ed7953"
             ],
             [
              0.7777777777777778,
              "#fb9f3a"
             ],
             [
              0.8888888888888888,
              "#fdca26"
             ],
             [
              1,
              "#f0f921"
             ]
            ],
            "type": "heatmap"
           }
          ],
          "heatmapgl": [
           {
            "colorbar": {
             "outlinewidth": 0,
             "ticks": ""
            },
            "colorscale": [
             [
              0,
              "#0d0887"
             ],
             [
              0.1111111111111111,
              "#46039f"
             ],
             [
              0.2222222222222222,
              "#7201a8"
             ],
             [
              0.3333333333333333,
              "#9c179e"
             ],
             [
              0.4444444444444444,
              "#bd3786"
             ],
             [
              0.5555555555555556,
              "#d8576b"
             ],
             [
              0.6666666666666666,
              "#ed7953"
             ],
             [
              0.7777777777777778,
              "#fb9f3a"
             ],
             [
              0.8888888888888888,
              "#fdca26"
             ],
             [
              1,
              "#f0f921"
             ]
            ],
            "type": "heatmapgl"
           }
          ],
          "histogram": [
           {
            "marker": {
             "pattern": {
              "fillmode": "overlay",
              "size": 10,
              "solidity": 0.2
             }
            },
            "type": "histogram"
           }
          ],
          "histogram2d": [
           {
            "colorbar": {
             "outlinewidth": 0,
             "ticks": ""
            },
            "colorscale": [
             [
              0,
              "#0d0887"
             ],
             [
              0.1111111111111111,
              "#46039f"
             ],
             [
              0.2222222222222222,
              "#7201a8"
             ],
             [
              0.3333333333333333,
              "#9c179e"
             ],
             [
              0.4444444444444444,
              "#bd3786"
             ],
             [
              0.5555555555555556,
              "#d8576b"
             ],
             [
              0.6666666666666666,
              "#ed7953"
             ],
             [
              0.7777777777777778,
              "#fb9f3a"
             ],
             [
              0.8888888888888888,
              "#fdca26"
             ],
             [
              1,
              "#f0f921"
             ]
            ],
            "type": "histogram2d"
           }
          ],
          "histogram2dcontour": [
           {
            "colorbar": {
             "outlinewidth": 0,
             "ticks": ""
            },
            "colorscale": [
             [
              0,
              "#0d0887"
             ],
             [
              0.1111111111111111,
              "#46039f"
             ],
             [
              0.2222222222222222,
              "#7201a8"
             ],
             [
              0.3333333333333333,
              "#9c179e"
             ],
             [
              0.4444444444444444,
              "#bd3786"
             ],
             [
              0.5555555555555556,
              "#d8576b"
             ],
             [
              0.6666666666666666,
              "#ed7953"
             ],
             [
              0.7777777777777778,
              "#fb9f3a"
             ],
             [
              0.8888888888888888,
              "#fdca26"
             ],
             [
              1,
              "#f0f921"
             ]
            ],
            "type": "histogram2dcontour"
           }
          ],
          "mesh3d": [
           {
            "colorbar": {
             "outlinewidth": 0,
             "ticks": ""
            },
            "type": "mesh3d"
           }
          ],
          "parcoords": [
           {
            "line": {
             "colorbar": {
              "outlinewidth": 0,
              "ticks": ""
             }
            },
            "type": "parcoords"
           }
          ],
          "pie": [
           {
            "automargin": true,
            "type": "pie"
           }
          ],
          "scatter": [
           {
            "fillpattern": {
             "fillmode": "overlay",
             "size": 10,
             "solidity": 0.2
            },
            "type": "scatter"
           }
          ],
          "scatter3d": [
           {
            "line": {
             "colorbar": {
              "outlinewidth": 0,
              "ticks": ""
             }
            },
            "marker": {
             "colorbar": {
              "outlinewidth": 0,
              "ticks": ""
             }
            },
            "type": "scatter3d"
           }
          ],
          "scattercarpet": [
           {
            "marker": {
             "colorbar": {
              "outlinewidth": 0,
              "ticks": ""
             }
            },
            "type": "scattercarpet"
           }
          ],
          "scattergeo": [
           {
            "marker": {
             "colorbar": {
              "outlinewidth": 0,
              "ticks": ""
             }
            },
            "type": "scattergeo"
           }
          ],
          "scattergl": [
           {
            "marker": {
             "colorbar": {
              "outlinewidth": 0,
              "ticks": ""
             }
            },
            "type": "scattergl"
           }
          ],
          "scattermapbox": [
           {
            "marker": {
             "colorbar": {
              "outlinewidth": 0,
              "ticks": ""
             }
            },
            "type": "scattermapbox"
           }
          ],
          "scatterpolar": [
           {
            "marker": {
             "colorbar": {
              "outlinewidth": 0,
              "ticks": ""
             }
            },
            "type": "scatterpolar"
           }
          ],
          "scatterpolargl": [
           {
            "marker": {
             "colorbar": {
              "outlinewidth": 0,
              "ticks": ""
             }
            },
            "type": "scatterpolargl"
           }
          ],
          "scatterternary": [
           {
            "marker": {
             "colorbar": {
              "outlinewidth": 0,
              "ticks": ""
             }
            },
            "type": "scatterternary"
           }
          ],
          "surface": [
           {
            "colorbar": {
             "outlinewidth": 0,
             "ticks": ""
            },
            "colorscale": [
             [
              0,
              "#0d0887"
             ],
             [
              0.1111111111111111,
              "#46039f"
             ],
             [
              0.2222222222222222,
              "#7201a8"
             ],
             [
              0.3333333333333333,
              "#9c179e"
             ],
             [
              0.4444444444444444,
              "#bd3786"
             ],
             [
              0.5555555555555556,
              "#d8576b"
             ],
             [
              0.6666666666666666,
              "#ed7953"
             ],
             [
              0.7777777777777778,
              "#fb9f3a"
             ],
             [
              0.8888888888888888,
              "#fdca26"
             ],
             [
              1,
              "#f0f921"
             ]
            ],
            "type": "surface"
           }
          ],
          "table": [
           {
            "cells": {
             "fill": {
              "color": "#EBF0F8"
             },
             "line": {
              "color": "white"
             }
            },
            "header": {
             "fill": {
              "color": "#C8D4E3"
             },
             "line": {
              "color": "white"
             }
            },
            "type": "table"
           }
          ]
         },
         "layout": {
          "annotationdefaults": {
           "arrowcolor": "#2a3f5f",
           "arrowhead": 0,
           "arrowwidth": 1
          },
          "autotypenumbers": "strict",
          "coloraxis": {
           "colorbar": {
            "outlinewidth": 0,
            "ticks": ""
           }
          },
          "colorscale": {
           "diverging": [
            [
             0,
             "#8e0152"
            ],
            [
             0.1,
             "#c51b7d"
            ],
            [
             0.2,
             "#de77ae"
            ],
            [
             0.3,
             "#f1b6da"
            ],
            [
             0.4,
             "#fde0ef"
            ],
            [
             0.5,
             "#f7f7f7"
            ],
            [
             0.6,
             "#e6f5d0"
            ],
            [
             0.7,
             "#b8e186"
            ],
            [
             0.8,
             "#7fbc41"
            ],
            [
             0.9,
             "#4d9221"
            ],
            [
             1,
             "#276419"
            ]
           ],
           "sequential": [
            [
             0,
             "#0d0887"
            ],
            [
             0.1111111111111111,
             "#46039f"
            ],
            [
             0.2222222222222222,
             "#7201a8"
            ],
            [
             0.3333333333333333,
             "#9c179e"
            ],
            [
             0.4444444444444444,
             "#bd3786"
            ],
            [
             0.5555555555555556,
             "#d8576b"
            ],
            [
             0.6666666666666666,
             "#ed7953"
            ],
            [
             0.7777777777777778,
             "#fb9f3a"
            ],
            [
             0.8888888888888888,
             "#fdca26"
            ],
            [
             1,
             "#f0f921"
            ]
           ],
           "sequentialminus": [
            [
             0,
             "#0d0887"
            ],
            [
             0.1111111111111111,
             "#46039f"
            ],
            [
             0.2222222222222222,
             "#7201a8"
            ],
            [
             0.3333333333333333,
             "#9c179e"
            ],
            [
             0.4444444444444444,
             "#bd3786"
            ],
            [
             0.5555555555555556,
             "#d8576b"
            ],
            [
             0.6666666666666666,
             "#ed7953"
            ],
            [
             0.7777777777777778,
             "#fb9f3a"
            ],
            [
             0.8888888888888888,
             "#fdca26"
            ],
            [
             1,
             "#f0f921"
            ]
           ]
          },
          "colorway": [
           "#636efa",
           "#EF553B",
           "#00cc96",
           "#ab63fa",
           "#FFA15A",
           "#19d3f3",
           "#FF6692",
           "#B6E880",
           "#FF97FF",
           "#FECB52"
          ],
          "font": {
           "color": "#2a3f5f"
          },
          "geo": {
           "bgcolor": "white",
           "lakecolor": "white",
           "landcolor": "#E5ECF6",
           "showlakes": true,
           "showland": true,
           "subunitcolor": "white"
          },
          "hoverlabel": {
           "align": "left"
          },
          "hovermode": "closest",
          "mapbox": {
           "style": "light"
          },
          "paper_bgcolor": "white",
          "plot_bgcolor": "#E5ECF6",
          "polar": {
           "angularaxis": {
            "gridcolor": "white",
            "linecolor": "white",
            "ticks": ""
           },
           "bgcolor": "#E5ECF6",
           "radialaxis": {
            "gridcolor": "white",
            "linecolor": "white",
            "ticks": ""
           }
          },
          "scene": {
           "xaxis": {
            "backgroundcolor": "#E5ECF6",
            "gridcolor": "white",
            "gridwidth": 2,
            "linecolor": "white",
            "showbackground": true,
            "ticks": "",
            "zerolinecolor": "white"
           },
           "yaxis": {
            "backgroundcolor": "#E5ECF6",
            "gridcolor": "white",
            "gridwidth": 2,
            "linecolor": "white",
            "showbackground": true,
            "ticks": "",
            "zerolinecolor": "white"
           },
           "zaxis": {
            "backgroundcolor": "#E5ECF6",
            "gridcolor": "white",
            "gridwidth": 2,
            "linecolor": "white",
            "showbackground": true,
            "ticks": "",
            "zerolinecolor": "white"
           }
          },
          "shapedefaults": {
           "line": {
            "color": "#2a3f5f"
           }
          },
          "ternary": {
           "aaxis": {
            "gridcolor": "white",
            "linecolor": "white",
            "ticks": ""
           },
           "baxis": {
            "gridcolor": "white",
            "linecolor": "white",
            "ticks": ""
           },
           "bgcolor": "#E5ECF6",
           "caxis": {
            "gridcolor": "white",
            "linecolor": "white",
            "ticks": ""
           }
          },
          "title": {
           "x": 0.05
          },
          "xaxis": {
           "automargin": true,
           "gridcolor": "white",
           "linecolor": "white",
           "ticks": "",
           "title": {
            "standoff": 15
           },
           "zerolinecolor": "white",
           "zerolinewidth": 2
          },
          "yaxis": {
           "automargin": true,
           "gridcolor": "white",
           "linecolor": "white",
           "ticks": "",
           "title": {
            "standoff": 15
           },
           "zerolinecolor": "white",
           "zerolinewidth": 2
          }
         }
        },
        "title": {
         "text": "Countrys"
        },
        "xaxis": {
         "anchor": "y",
         "domain": [
          0,
          1
         ],
         "title": {
          "text": "Country"
         }
        },
        "yaxis": {
         "anchor": "x",
         "domain": [
          0,
          1
         ],
         "title": {
          "text": "count"
         }
        }
       }
      }
     },
     "metadata": {},
     "output_type": "display_data"
    }
   ],
   "source": [
    "bar_chart(df=country_gr, xaxis=\"Country\", yaxis=\"count\", title=\"Countrys\")"
   ]
  },
  {
   "cell_type": "markdown",
   "metadata": {},
   "source": [
    "Paliekame tik USA, nes cia daugiausia apklaustuju ir atsako i musu klausima\n"
   ]
  },
  {
   "cell_type": "code",
   "execution_count": null,
   "metadata": {},
   "outputs": [],
   "source": [
    "country_df = country_df.loc[country_df[\"Country\"] == \"United States\"]"
   ]
  },
  {
   "cell_type": "markdown",
   "metadata": {},
   "source": [
    "### **Are you self-employed?**\n"
   ]
  },
  {
   "cell_type": "code",
   "execution_count": null,
   "metadata": {},
   "outputs": [],
   "source": []
  },
  {
   "cell_type": "code",
   "execution_count": null,
   "metadata": {},
   "outputs": [],
   "source": []
  },
  {
   "cell_type": "code",
   "execution_count": null,
   "metadata": {},
   "outputs": [],
   "source": []
  },
  {
   "cell_type": "code",
   "execution_count": null,
   "metadata": {},
   "outputs": [],
   "source": []
  },
  {
   "cell_type": "code",
   "execution_count": null,
   "metadata": {},
   "outputs": [],
   "source": []
  },
  {
   "cell_type": "markdown",
   "metadata": {},
   "source": [
    "## **Main DF**\n"
   ]
  },
  {
   "cell_type": "code",
   "execution_count": 22,
   "metadata": {},
   "outputs": [],
   "source": [
    "main_df = df.copy()"
   ]
  },
  {
   "cell_type": "code",
   "execution_count": 23,
   "metadata": {},
   "outputs": [],
   "source": [
    "# Paliekame duomenis nuo 2016 ir veliau\n",
    "main_df = main_df.loc[main_df[\"Year\"] >= 2016]"
   ]
  },
  {
   "cell_type": "code",
   "execution_count": 24,
   "metadata": {},
   "outputs": [],
   "source": [
    "# Amzius nuo 18 iki 67\n",
    "main_df = main_df.loc[main_df[\"QuestionID\"] == 1].rename(columns={\"AnswerText\": \"Age\"})\n",
    "main_df[\"Age\"] = main_df[\"Age\"].astype(\"int\")\n",
    "main_df = main_df.loc[(main_df[\"Age\"] >= 18) & (main_df[\"Age\"] <= 67)]"
   ]
  },
  {
   "cell_type": "code",
   "execution_count": null,
   "metadata": {},
   "outputs": [],
   "source": [
    "main_df[\"Age_group\"] = main_df.apply(age_bucket, axis=1)"
   ]
  },
  {
   "cell_type": "code",
   "execution_count": null,
   "metadata": {},
   "outputs": [],
   "source": [
    "# Add gender\n",
    "main_df = pd.merge(main_df, gender_df[[\"UserID\", \"Gender\"]], how=\"inner\", on=\"UserID\")"
   ]
  },
  {
   "cell_type": "code",
   "execution_count": null,
   "metadata": {},
   "outputs": [],
   "source": [
    "# Countrys\n",
    "main_df = pd.merge(main_df, country_df[[\"UserID\", \"Country\"]], how=\"inner\", on=\"UserID\")"
   ]
  },
  {
   "cell_type": "code",
   "execution_count": null,
   "metadata": {},
   "outputs": [],
   "source": []
  },
  {
   "cell_type": "code",
   "execution_count": null,
   "metadata": {},
   "outputs": [],
   "source": []
  },
  {
   "cell_type": "code",
   "execution_count": null,
   "metadata": {},
   "outputs": [],
   "source": []
  },
  {
   "cell_type": "code",
   "execution_count": 45,
   "metadata": {},
   "outputs": [
    {
     "data": {
      "text/html": [
       "<div>\n",
       "<style scoped>\n",
       "    .dataframe tbody tr th:only-of-type {\n",
       "        vertical-align: middle;\n",
       "    }\n",
       "\n",
       "    .dataframe tbody tr th {\n",
       "        vertical-align: top;\n",
       "    }\n",
       "\n",
       "    .dataframe thead th {\n",
       "        text-align: right;\n",
       "    }\n",
       "</style>\n",
       "<table border=\"1\" class=\"dataframe\">\n",
       "  <thead>\n",
       "    <tr style=\"text-align: right;\">\n",
       "      <th></th>\n",
       "      <th>UserID</th>\n",
       "      <th>Year</th>\n",
       "      <th>QuestionID</th>\n",
       "      <th>questiontext</th>\n",
       "      <th>Age</th>\n",
       "      <th>Age_group</th>\n",
       "      <th>Gender</th>\n",
       "      <th>Country</th>\n",
       "    </tr>\n",
       "  </thead>\n",
       "  <tbody>\n",
       "    <tr>\n",
       "      <th>0</th>\n",
       "      <td>1262</td>\n",
       "      <td>2016</td>\n",
       "      <td>1</td>\n",
       "      <td>What is your age?</td>\n",
       "      <td>29</td>\n",
       "      <td>25-34</td>\n",
       "      <td>male</td>\n",
       "      <td>United States</td>\n",
       "    </tr>\n",
       "    <tr>\n",
       "      <th>1</th>\n",
       "      <td>1265</td>\n",
       "      <td>2016</td>\n",
       "      <td>1</td>\n",
       "      <td>What is your age?</td>\n",
       "      <td>43</td>\n",
       "      <td>35-44</td>\n",
       "      <td>female</td>\n",
       "      <td>United States</td>\n",
       "    </tr>\n",
       "    <tr>\n",
       "      <th>2</th>\n",
       "      <td>1267</td>\n",
       "      <td>2016</td>\n",
       "      <td>1</td>\n",
       "      <td>What is your age?</td>\n",
       "      <td>30</td>\n",
       "      <td>25-34</td>\n",
       "      <td>male</td>\n",
       "      <td>United States</td>\n",
       "    </tr>\n",
       "    <tr>\n",
       "      <th>3</th>\n",
       "      <td>1268</td>\n",
       "      <td>2016</td>\n",
       "      <td>1</td>\n",
       "      <td>What is your age?</td>\n",
       "      <td>37</td>\n",
       "      <td>35-44</td>\n",
       "      <td>female</td>\n",
       "      <td>United States</td>\n",
       "    </tr>\n",
       "    <tr>\n",
       "      <th>4</th>\n",
       "      <td>1269</td>\n",
       "      <td>2016</td>\n",
       "      <td>1</td>\n",
       "      <td>What is your age?</td>\n",
       "      <td>44</td>\n",
       "      <td>35-44</td>\n",
       "      <td>female</td>\n",
       "      <td>United States</td>\n",
       "    </tr>\n",
       "    <tr>\n",
       "      <th>...</th>\n",
       "      <td>...</td>\n",
       "      <td>...</td>\n",
       "      <td>...</td>\n",
       "      <td>...</td>\n",
       "      <td>...</td>\n",
       "      <td>...</td>\n",
       "      <td>...</td>\n",
       "      <td>...</td>\n",
       "    </tr>\n",
       "    <tr>\n",
       "      <th>1770</th>\n",
       "      <td>4210</td>\n",
       "      <td>2019</td>\n",
       "      <td>1</td>\n",
       "      <td>What is your age?</td>\n",
       "      <td>27</td>\n",
       "      <td>25-34</td>\n",
       "      <td>male</td>\n",
       "      <td>United States</td>\n",
       "    </tr>\n",
       "    <tr>\n",
       "      <th>1771</th>\n",
       "      <td>4211</td>\n",
       "      <td>2019</td>\n",
       "      <td>1</td>\n",
       "      <td>What is your age?</td>\n",
       "      <td>42</td>\n",
       "      <td>35-44</td>\n",
       "      <td>female</td>\n",
       "      <td>United States</td>\n",
       "    </tr>\n",
       "    <tr>\n",
       "      <th>1772</th>\n",
       "      <td>4213</td>\n",
       "      <td>2019</td>\n",
       "      <td>1</td>\n",
       "      <td>What is your age?</td>\n",
       "      <td>31</td>\n",
       "      <td>25-34</td>\n",
       "      <td>female</td>\n",
       "      <td>United States</td>\n",
       "    </tr>\n",
       "    <tr>\n",
       "      <th>1773</th>\n",
       "      <td>4215</td>\n",
       "      <td>2019</td>\n",
       "      <td>1</td>\n",
       "      <td>What is your age?</td>\n",
       "      <td>48</td>\n",
       "      <td>45-54</td>\n",
       "      <td>male</td>\n",
       "      <td>United States</td>\n",
       "    </tr>\n",
       "    <tr>\n",
       "      <th>1774</th>\n",
       "      <td>4218</td>\n",
       "      <td>2019</td>\n",
       "      <td>1</td>\n",
       "      <td>What is your age?</td>\n",
       "      <td>24</td>\n",
       "      <td>18-24</td>\n",
       "      <td>female</td>\n",
       "      <td>United States</td>\n",
       "    </tr>\n",
       "  </tbody>\n",
       "</table>\n",
       "<p>1775 rows × 8 columns</p>\n",
       "</div>"
      ],
      "text/plain": [
       "      UserID  Year  QuestionID       questiontext  Age Age_group  Gender  \\\n",
       "0       1262  2016           1  What is your age?   29     25-34    male   \n",
       "1       1265  2016           1  What is your age?   43     35-44  female   \n",
       "2       1267  2016           1  What is your age?   30     25-34    male   \n",
       "3       1268  2016           1  What is your age?   37     35-44  female   \n",
       "4       1269  2016           1  What is your age?   44     35-44  female   \n",
       "...      ...   ...         ...                ...  ...       ...     ...   \n",
       "1770    4210  2019           1  What is your age?   27     25-34    male   \n",
       "1771    4211  2019           1  What is your age?   42     35-44  female   \n",
       "1772    4213  2019           1  What is your age?   31     25-34  female   \n",
       "1773    4215  2019           1  What is your age?   48     45-54    male   \n",
       "1774    4218  2019           1  What is your age?   24     18-24  female   \n",
       "\n",
       "            Country  \n",
       "0     United States  \n",
       "1     United States  \n",
       "2     United States  \n",
       "3     United States  \n",
       "4     United States  \n",
       "...             ...  \n",
       "1770  United States  \n",
       "1771  United States  \n",
       "1772  United States  \n",
       "1773  United States  \n",
       "1774  United States  \n",
       "\n",
       "[1775 rows x 8 columns]"
      ]
     },
     "execution_count": 45,
     "metadata": {},
     "output_type": "execute_result"
    }
   ],
   "source": [
    "main_df"
   ]
  },
  {
   "cell_type": "code",
   "execution_count": null,
   "metadata": {},
   "outputs": [],
   "source": []
  },
  {
   "cell_type": "code",
   "execution_count": null,
   "metadata": {},
   "outputs": [],
   "source": []
  },
  {
   "cell_type": "code",
   "execution_count": null,
   "metadata": {},
   "outputs": [],
   "source": []
  },
  {
   "cell_type": "code",
   "execution_count": null,
   "metadata": {},
   "outputs": [],
   "source": []
  }
 ],
 "metadata": {
  "kernelspec": {
   "display_name": "TC",
   "language": "python",
   "name": "python3"
  },
  "language_info": {
   "codemirror_mode": {
    "name": "ipython",
    "version": 3
   },
   "file_extension": ".py",
   "mimetype": "text/x-python",
   "name": "python",
   "nbconvert_exporter": "python",
   "pygments_lexer": "ipython3",
   "version": "3.12.4"
  }
 },
 "nbformat": 4,
 "nbformat_minor": 2
}
